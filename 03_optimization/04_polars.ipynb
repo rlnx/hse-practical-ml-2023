{
 "cells": [
  {
   "cell_type": "code",
   "execution_count": 5,
   "metadata": {},
   "outputs": [],
   "source": [
    "from functools import wraps\n",
    "import time\n",
    "\n",
    "import numpy as np\n",
    "import polars as pl\n"
   ]
  },
  {
   "cell_type": "code",
   "execution_count": 6,
   "metadata": {},
   "outputs": [
    {
     "data": {
      "text/html": [
       "<div><style>\n",
       ".dataframe > thead > tr > th,\n",
       ".dataframe > tbody > tr > td {\n",
       "  text-align: right;\n",
       "  white-space: pre-wrap;\n",
       "}\n",
       "</style>\n",
       "<small>shape: (172_569, 2)</small><table border=\"1\" class=\"dataframe\"><thead><tr><th>user_id</th><th>item_id</th></tr><tr><td>i32</td><td>i32</td></tr></thead><tbody><tr><td>3391</td><td>2987</td></tr><tr><td>3391</td><td>1248</td></tr><tr><td>3391</td><td>1249</td></tr><tr><td>3391</td><td>719</td></tr><tr><td>3391</td><td>574</td></tr><tr><td>3391</td><td>2050</td></tr><tr><td>3391</td><td>2051</td></tr><tr><td>3391</td><td>3791</td></tr><tr><td>3391</td><td>2052</td></tr><tr><td>3391</td><td>1250</td></tr><tr><td>3391</td><td>2990</td></tr><tr><td>3391</td><td>2053</td></tr><tr><td>&hellip;</td><td>&hellip;</td></tr><tr><td>3025</td><td>1081</td></tr><tr><td>3025</td><td>1083</td></tr><tr><td>3025</td><td>551</td></tr><tr><td>3025</td><td>1088</td></tr><tr><td>3025</td><td>1230</td></tr><tr><td>3025</td><td>2971</td></tr><tr><td>3025</td><td>1234</td></tr><tr><td>3025</td><td>1238</td></tr><tr><td>3025</td><td>3926</td></tr><tr><td>3025</td><td>3928</td></tr><tr><td>3025</td><td>1244</td></tr><tr><td>3025</td><td>1247</td></tr></tbody></table></div>"
      ],
      "text/plain": [
       "shape: (172_569, 2)\n",
       "┌─────────┬─────────┐\n",
       "│ user_id ┆ item_id │\n",
       "│ ---     ┆ ---     │\n",
       "│ i32     ┆ i32     │\n",
       "╞═════════╪═════════╡\n",
       "│ 3391    ┆ 2987    │\n",
       "│ 3391    ┆ 1248    │\n",
       "│ 3391    ┆ 1249    │\n",
       "│ 3391    ┆ 719     │\n",
       "│ …       ┆ …       │\n",
       "│ 3025    ┆ 3926    │\n",
       "│ 3025    ┆ 3928    │\n",
       "│ 3025    ┆ 1244    │\n",
       "│ 3025    ┆ 1247    │\n",
       "└─────────┴─────────┘"
      ]
     },
     "execution_count": 6,
     "metadata": {},
     "output_type": "execute_result"
    }
   ],
   "source": [
    "interactions = pl.read_csv(\"../data/ml-1m/interactions_1k.csv\", schema={\"user_id\": pl.Int32, \"item_id\": pl.Int32})\n",
    "interactions\n"
   ]
  },
  {
   "cell_type": "code",
   "execution_count": 7,
   "metadata": {},
   "outputs": [],
   "source": [
    "def timeit(func):\n",
    "    @wraps(func)\n",
    "    def timeit_wrapper(*args, **kwargs):\n",
    "        start_time = time.perf_counter()\n",
    "        result = func(*args, **kwargs)\n",
    "        end_time = time.perf_counter()\n",
    "        total_time = end_time - start_time\n",
    "        print(f'Function {func.__name__} Took {total_time:.4f} seconds')\n",
    "        return result\n",
    "    return timeit_wrapper\n",
    "\n",
    "@timeit\n",
    "def user_similarity(interactions: pl.DataFrame) -> pl.DataFrame:\n",
    "    interactions_lazy = interactions.lazy()\n",
    "\n",
    "    grouped_by_lazy = (\n",
    "        interactions_lazy\n",
    "        .group_by(\"user_id\")\n",
    "        .agg(pl.col(\"item_id\"))\n",
    "    )\n",
    "\n",
    "    cross_rows = grouped_by_lazy.join(\n",
    "        grouped_by_lazy,\n",
    "        on=\"user_id\",\n",
    "        how=\"cross\",\n",
    "        suffix=\"_candidate\",\n",
    "    )\n",
    "\n",
    "    cross_rows = (\n",
    "        cross_rows\n",
    "        .filter(pl.col(\"user_id\") != pl.col(\"user_id_candidate\"))\n",
    "        .select(\n",
    "            pl.col(\"user_id\"),\n",
    "            pl.col(\"user_id_candidate\").alias(\"similar_user_id\"),\n",
    "            (\n",
    "                pl.col(\"item_id\").list.set_intersection(\"item_id_candidate\").list.lengths() /\n",
    "                (pl.col(\"item_id\").list.lengths() * pl.col(\"item_id_candidate\").list.lengths())\n",
    "            )\n",
    "            .cast(pl.Float32)\n",
    "            .alias(\"similarity\"),\n",
    "        )\n",
    "    )\n",
    "\n",
    "    top_similar_users = (\n",
    "        cross_rows\n",
    "        .group_by(\"user_id\")\n",
    "        .agg(pl.col(\"similar_user_id\", \"similarity\").sort_by(\"similarity\", descending=True).head(10))\n",
    "        .explode(\"similar_user_id\", \"similarity\")\n",
    "    )\n",
    "\n",
    "    return top_similar_users.collect()\n"
   ]
  },
  {
   "cell_type": "code",
   "execution_count": 9,
   "metadata": {},
   "outputs": [
    {
     "name": "stdout",
     "output_type": "stream",
     "text": [
      "Function user_similarity Took 7.3902 seconds\n"
     ]
    },
    {
     "data": {
      "text/html": [
       "<div><style>\n",
       ".dataframe > thead > tr > th,\n",
       ".dataframe > tbody > tr > td {\n",
       "  text-align: right;\n",
       "  white-space: pre-wrap;\n",
       "}\n",
       "</style>\n",
       "<small>shape: (10_000, 3)</small><table border=\"1\" class=\"dataframe\"><thead><tr><th>user_id</th><th>similar_user_id</th><th>similarity</th></tr><tr><td>i32</td><td>i32</td><td>f32</td></tr></thead><tbody><tr><td>13</td><td>1849</td><td>0.006173</td></tr><tr><td>13</td><td>3730</td><td>0.006066</td></tr><tr><td>13</td><td>4320</td><td>0.005258</td></tr><tr><td>13</td><td>3404</td><td>0.004986</td></tr><tr><td>13</td><td>1558</td><td>0.004986</td></tr><tr><td>13</td><td>5931</td><td>0.00481</td></tr><tr><td>13</td><td>3555</td><td>0.004522</td></tr><tr><td>13</td><td>2291</td><td>0.004517</td></tr><tr><td>13</td><td>4668</td><td>0.00434</td></tr><tr><td>13</td><td>1289</td><td>0.004274</td></tr><tr><td>17</td><td>4200</td><td>0.003966</td></tr><tr><td>17</td><td>5778</td><td>0.003878</td></tr><tr><td>&hellip;</td><td>&hellip;</td><td>&hellip;</td></tr><tr><td>6027</td><td>2347</td><td>0.006039</td></tr><tr><td>6027</td><td>2434</td><td>0.005787</td></tr><tr><td>6028</td><td>1578</td><td>0.008922</td></tr><tr><td>6028</td><td>2539</td><td>0.008303</td></tr><tr><td>6028</td><td>6008</td><td>0.007903</td></tr><tr><td>6028</td><td>5879</td><td>0.007737</td></tr><tr><td>6028</td><td>2347</td><td>0.007401</td></tr><tr><td>6028</td><td>3809</td><td>0.00679</td></tr><tr><td>6028</td><td>562</td><td>0.006325</td></tr><tr><td>6028</td><td>394</td><td>0.006159</td></tr><tr><td>6028</td><td>288</td><td>0.006079</td></tr><tr><td>6028</td><td>3047</td><td>0.006079</td></tr></tbody></table></div>"
      ],
      "text/plain": [
       "shape: (10_000, 3)\n",
       "┌─────────┬─────────────────┬────────────┐\n",
       "│ user_id ┆ similar_user_id ┆ similarity │\n",
       "│ ---     ┆ ---             ┆ ---        │\n",
       "│ i32     ┆ i32             ┆ f32        │\n",
       "╞═════════╪═════════════════╪════════════╡\n",
       "│ 13      ┆ 1849            ┆ 0.006173   │\n",
       "│ 13      ┆ 3730            ┆ 0.006066   │\n",
       "│ 13      ┆ 4320            ┆ 0.005258   │\n",
       "│ 13      ┆ 3404            ┆ 0.004986   │\n",
       "│ …       ┆ …               ┆ …          │\n",
       "│ 6028    ┆ 562             ┆ 0.006325   │\n",
       "│ 6028    ┆ 394             ┆ 0.006159   │\n",
       "│ 6028    ┆ 288             ┆ 0.006079   │\n",
       "│ 6028    ┆ 3047            ┆ 0.006079   │\n",
       "└─────────┴─────────────────┴────────────┘"
      ]
     },
     "execution_count": 9,
     "metadata": {},
     "output_type": "execute_result"
    }
   ],
   "source": [
    "user_similarity(interactions).sort(\"user_id\", \"similarity\", descending=(False, True))\n"
   ]
  },
  {
   "cell_type": "code",
   "execution_count": 10,
   "metadata": {},
   "outputs": [],
   "source": [
    "interactions_1k = pl.read_csv(\"../data/ml-1m/interactions_1k.csv\", schema={\"user_id\": pl.Int32, \"item_id\": pl.Int32})\n",
    "interactions_2k = pl.read_csv(\"../data/ml-1m/interactions_2k.csv\", schema={\"user_id\": pl.Int32, \"item_id\": pl.Int32})\n",
    "interactions_5k = pl.read_csv(\"../data/ml-1m/interactions_5k.csv\", schema={\"user_id\": pl.Int32, \"item_id\": pl.Int32})\n"
   ]
  },
  {
   "cell_type": "code",
   "execution_count": 11,
   "metadata": {},
   "outputs": [
    {
     "name": "stdout",
     "output_type": "stream",
     "text": [
      "Function user_similarity Took 6.7308 seconds\n"
     ]
    },
    {
     "data": {
      "text/html": [
       "<div><style>\n",
       ".dataframe > thead > tr > th,\n",
       ".dataframe > tbody > tr > td {\n",
       "  text-align: right;\n",
       "  white-space: pre-wrap;\n",
       "}\n",
       "</style>\n",
       "<small>shape: (10_000, 3)</small><table border=\"1\" class=\"dataframe\"><thead><tr><th>user_id</th><th>similar_user_id</th><th>similarity</th></tr><tr><td>i32</td><td>i32</td><td>f32</td></tr></thead><tbody><tr><td>2856</td><td>2322</td><td>0.191919</td></tr><tr><td>2856</td><td>4172</td><td>0.173077</td></tr><tr><td>2856</td><td>5435</td><td>0.152941</td></tr><tr><td>2856</td><td>96</td><td>0.146552</td></tr><tr><td>2856</td><td>5169</td><td>0.14</td></tr><tr><td>2856</td><td>2937</td><td>0.138686</td></tr><tr><td>2856</td><td>2570</td><td>0.137931</td></tr><tr><td>2856</td><td>5442</td><td>0.137255</td></tr><tr><td>2856</td><td>5820</td><td>0.136364</td></tr><tr><td>2856</td><td>5057</td><td>0.135135</td></tr><tr><td>1304</td><td>5931</td><td>0.298387</td></tr><tr><td>1304</td><td>4862</td><td>0.262411</td></tr><tr><td>&hellip;</td><td>&hellip;</td><td>&hellip;</td></tr><tr><td>719</td><td>66</td><td>0.102041</td></tr><tr><td>719</td><td>2534</td><td>0.1</td></tr><tr><td>4175</td><td>1770</td><td>0.321168</td></tr><tr><td>4175</td><td>1262</td><td>0.243781</td></tr><tr><td>4175</td><td>3432</td><td>0.223529</td></tr><tr><td>4175</td><td>34</td><td>0.185185</td></tr><tr><td>4175</td><td>3846</td><td>0.182482</td></tr><tr><td>4175</td><td>2503</td><td>0.168</td></tr><tr><td>4175</td><td>5327</td><td>0.159091</td></tr><tr><td>4175</td><td>5135</td><td>0.157534</td></tr><tr><td>4175</td><td>4832</td><td>0.149485</td></tr><tr><td>4175</td><td>5239</td><td>0.138973</td></tr></tbody></table></div>"
      ],
      "text/plain": [
       "shape: (10_000, 3)\n",
       "┌─────────┬─────────────────┬────────────┐\n",
       "│ user_id ┆ similar_user_id ┆ similarity │\n",
       "│ ---     ┆ ---             ┆ ---        │\n",
       "│ i32     ┆ i32             ┆ f32        │\n",
       "╞═════════╪═════════════════╪════════════╡\n",
       "│ 2856    ┆ 2322            ┆ 0.191919   │\n",
       "│ 2856    ┆ 4172            ┆ 0.173077   │\n",
       "│ 2856    ┆ 5435            ┆ 0.152941   │\n",
       "│ 2856    ┆ 96              ┆ 0.146552   │\n",
       "│ …       ┆ …               ┆ …          │\n",
       "│ 4175    ┆ 5327            ┆ 0.159091   │\n",
       "│ 4175    ┆ 5135            ┆ 0.157534   │\n",
       "│ 4175    ┆ 4832            ┆ 0.149485   │\n",
       "│ 4175    ┆ 5239            ┆ 0.138973   │\n",
       "└─────────┴─────────────────┴────────────┘"
      ]
     },
     "execution_count": 11,
     "metadata": {},
     "output_type": "execute_result"
    }
   ],
   "source": [
    "user_similarity(interactions_1k)\n"
   ]
  },
  {
   "cell_type": "code",
   "execution_count": 12,
   "metadata": {},
   "outputs": [
    {
     "name": "stdout",
     "output_type": "stream",
     "text": [
      "Function user_similarity Took 51.9429 seconds\n"
     ]
    },
    {
     "data": {
      "text/html": [
       "<div><style>\n",
       ".dataframe > thead > tr > th,\n",
       ".dataframe > tbody > tr > td {\n",
       "  text-align: right;\n",
       "  white-space: pre-wrap;\n",
       "}\n",
       "</style>\n",
       "<small>shape: (20_000, 3)</small><table border=\"1\" class=\"dataframe\"><thead><tr><th>user_id</th><th>similar_user_id</th><th>similarity</th></tr><tr><td>i32</td><td>i32</td><td>f32</td></tr></thead><tbody><tr><td>640</td><td>574</td><td>0.2</td></tr><tr><td>640</td><td>578</td><td>0.195122</td></tr><tr><td>640</td><td>1829</td><td>0.186047</td></tr><tr><td>640</td><td>1909</td><td>0.164179</td></tr><tr><td>640</td><td>3100</td><td>0.151515</td></tr><tr><td>640</td><td>5586</td><td>0.139535</td></tr><tr><td>640</td><td>1773</td><td>0.138889</td></tr><tr><td>640</td><td>5160</td><td>0.136364</td></tr><tr><td>640</td><td>5266</td><td>0.136364</td></tr><tr><td>640</td><td>5814</td><td>0.136364</td></tr><tr><td>344</td><td>3860</td><td>0.331633</td></tr><tr><td>344</td><td>25</td><td>0.232394</td></tr><tr><td>&hellip;</td><td>&hellip;</td><td>&hellip;</td></tr><tr><td>2623</td><td>3907</td><td>0.092784</td></tr><tr><td>2623</td><td>3843</td><td>0.090909</td></tr><tr><td>4047</td><td>3553</td><td>0.194805</td></tr><tr><td>4047</td><td>52</td><td>0.192308</td></tr><tr><td>4047</td><td>185</td><td>0.185185</td></tr><tr><td>4047</td><td>2394</td><td>0.171717</td></tr><tr><td>4047</td><td>95</td><td>0.170732</td></tr><tr><td>4047</td><td>5118</td><td>0.170213</td></tr><tr><td>4047</td><td>1849</td><td>0.169492</td></tr><tr><td>4047</td><td>609</td><td>0.168675</td></tr><tr><td>4047</td><td>1839</td><td>0.168142</td></tr><tr><td>4047</td><td>103</td><td>0.167883</td></tr></tbody></table></div>"
      ],
      "text/plain": [
       "shape: (20_000, 3)\n",
       "┌─────────┬─────────────────┬────────────┐\n",
       "│ user_id ┆ similar_user_id ┆ similarity │\n",
       "│ ---     ┆ ---             ┆ ---        │\n",
       "│ i32     ┆ i32             ┆ f32        │\n",
       "╞═════════╪═════════════════╪════════════╡\n",
       "│ 640     ┆ 574             ┆ 0.2        │\n",
       "│ 640     ┆ 578             ┆ 0.195122   │\n",
       "│ 640     ┆ 1829            ┆ 0.186047   │\n",
       "│ 640     ┆ 1909            ┆ 0.164179   │\n",
       "│ …       ┆ …               ┆ …          │\n",
       "│ 4047    ┆ 1849            ┆ 0.169492   │\n",
       "│ 4047    ┆ 609             ┆ 0.168675   │\n",
       "│ 4047    ┆ 1839            ┆ 0.168142   │\n",
       "│ 4047    ┆ 103             ┆ 0.167883   │\n",
       "└─────────┴─────────────────┴────────────┘"
      ]
     },
     "execution_count": 12,
     "metadata": {},
     "output_type": "execute_result"
    }
   ],
   "source": [
    "user_similarity(interactions_2k)\n"
   ]
  },
  {
   "cell_type": "code",
   "execution_count": 35,
   "metadata": {},
   "outputs": [
    {
     "ename": "",
     "evalue": "",
     "output_type": "error",
     "traceback": [
      "\u001b[1;31mThe Kernel crashed while executing code in the the current cell or a previous cell. Please review the code in the cell(s) to identify a possible cause of the failure. Click <a href='https://aka.ms/vscodeJupyterKernelCrash'>here</a> for more info. View Jupyter <a href='command:jupyter.viewOutput'>log</a> for further details."
     ]
    }
   ],
   "source": [
    "# This crushes!!!\n",
    "user_similarity(interactions_5k)\n"
   ]
  }
 ],
 "metadata": {
  "kernelspec": {
   "display_name": "base",
   "language": "python",
   "name": "python3"
  },
  "language_info": {
   "codemirror_mode": {
    "name": "ipython",
    "version": 3
   },
   "file_extension": ".py",
   "mimetype": "text/x-python",
   "name": "python",
   "nbconvert_exporter": "python",
   "pygments_lexer": "ipython3",
   "version": "3.9.5"
  }
 },
 "nbformat": 4,
 "nbformat_minor": 2
}
