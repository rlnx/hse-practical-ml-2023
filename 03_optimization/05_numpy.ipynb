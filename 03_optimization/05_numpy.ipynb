{
 "cells": [
  {
   "cell_type": "code",
   "execution_count": 20,
   "metadata": {},
   "outputs": [],
   "source": [
    "from functools import wraps\n",
    "import time\n",
    "from typing import Optional, Tuple\n",
    "\n",
    "import numpy as np\n",
    "import polars as pl\n",
    "from scipy.sparse import coo_matrix, csr_matrix\n"
   ]
  },
  {
   "cell_type": "code",
   "execution_count": 22,
   "metadata": {},
   "outputs": [
    {
     "data": {
      "text/html": [
       "<div><style>\n",
       ".dataframe > thead > tr > th,\n",
       ".dataframe > tbody > tr > td {\n",
       "  text-align: right;\n",
       "  white-space: pre-wrap;\n",
       "}\n",
       "</style>\n",
       "<small>shape: (172_569, 2)</small><table border=\"1\" class=\"dataframe\"><thead><tr><th>user_id</th><th>item_id</th></tr><tr><td>i32</td><td>i32</td></tr></thead><tbody><tr><td>3391</td><td>2987</td></tr><tr><td>3391</td><td>1248</td></tr><tr><td>3391</td><td>1249</td></tr><tr><td>3391</td><td>719</td></tr><tr><td>3391</td><td>574</td></tr><tr><td>3391</td><td>2050</td></tr><tr><td>3391</td><td>2051</td></tr><tr><td>3391</td><td>3791</td></tr><tr><td>3391</td><td>2052</td></tr><tr><td>3391</td><td>1250</td></tr><tr><td>3391</td><td>2990</td></tr><tr><td>3391</td><td>2053</td></tr><tr><td>&hellip;</td><td>&hellip;</td></tr><tr><td>3025</td><td>1081</td></tr><tr><td>3025</td><td>1083</td></tr><tr><td>3025</td><td>551</td></tr><tr><td>3025</td><td>1088</td></tr><tr><td>3025</td><td>1230</td></tr><tr><td>3025</td><td>2971</td></tr><tr><td>3025</td><td>1234</td></tr><tr><td>3025</td><td>1238</td></tr><tr><td>3025</td><td>3926</td></tr><tr><td>3025</td><td>3928</td></tr><tr><td>3025</td><td>1244</td></tr><tr><td>3025</td><td>1247</td></tr></tbody></table></div>"
      ],
      "text/plain": [
       "shape: (172_569, 2)\n",
       "┌─────────┬─────────┐\n",
       "│ user_id ┆ item_id │\n",
       "│ ---     ┆ ---     │\n",
       "│ i32     ┆ i32     │\n",
       "╞═════════╪═════════╡\n",
       "│ 3391    ┆ 2987    │\n",
       "│ 3391    ┆ 1248    │\n",
       "│ 3391    ┆ 1249    │\n",
       "│ 3391    ┆ 719     │\n",
       "│ …       ┆ …       │\n",
       "│ 3025    ┆ 3926    │\n",
       "│ 3025    ┆ 3928    │\n",
       "│ 3025    ┆ 1244    │\n",
       "│ 3025    ┆ 1247    │\n",
       "└─────────┴─────────┘"
      ]
     },
     "execution_count": 22,
     "metadata": {},
     "output_type": "execute_result"
    }
   ],
   "source": [
    "interactions = pl.read_csv(\"../data/ml-1m/interactions_1k.csv\", schema={\"user_id\": pl.Int32, \"item_id\": pl.Int32})\n",
    "interactions\n"
   ]
  },
  {
   "cell_type": "code",
   "execution_count": 23,
   "metadata": {},
   "outputs": [],
   "source": [
    "class OrdinalEncoder:\n",
    "    def __init__(self) -> None:\n",
    "        super().__init__()\n",
    "\n",
    "    def fit(self, df: pl.DataFrame, column: str) -> \"OrdinalEncoder\":\n",
    "        self._mapper = (\n",
    "            df[[column]].unique()\n",
    "            .sort(column)\n",
    "            .with_row_count(\"__index__\")\n",
    "            .with_columns(pl.col(\"__index__\").cast(pl.Int32))\n",
    "        )\n",
    "        self._fit_column = column\n",
    "        return self\n",
    "\n",
    "    def transform(self, df: pl.DataFrame, column: str) -> pl.DataFrame:\n",
    "        df = (\n",
    "            df\n",
    "            .rename({column: self._fit_column})\n",
    "            .join(self._mapper, on=self._fit_column, how=\"left\")\n",
    "            .drop(self._fit_column)\n",
    "            .rename({\"__index__\": column})\n",
    "        )\n",
    "        return df\n",
    "\n",
    "    def inverse_transform(self, df: pl.DataFrame, column: str) -> pl.DataFrame:\n",
    "        df = (\n",
    "            df\n",
    "            .rename({column: \"__index__\"})\n",
    "            .join(\n",
    "                self._mapper.rename({self._fit_column: column}),\n",
    "                on=\"__index__\",\n",
    "                how=\"left\",\n",
    "            )\n",
    "            .drop(f\"__index__\")\n",
    "        )\n",
    "        return df\n",
    "\n",
    "    def fit_transform(self, df: pl.DataFrame, source: str, target: Optional[str] = None) -> pl.DataFrame:\n",
    "        return self.fit(df, source).transform(df, target or source)\n",
    "\n",
    "\n",
    "user_id_encoder = OrdinalEncoder()\n",
    "item_id_encoder = OrdinalEncoder()\n",
    "\n",
    "interactions_encoded = user_id_encoder.fit_transform(interactions, \"user_id\")\n",
    "interactions_encoded = item_id_encoder.fit_transform(interactions_encoded, \"item_id\")\n"
   ]
  },
  {
   "cell_type": "code",
   "execution_count": 24,
   "metadata": {},
   "outputs": [
    {
     "data": {
      "text/html": [
       "<div><style>\n",
       ".dataframe > thead > tr > th,\n",
       ".dataframe > tbody > tr > td {\n",
       "  text-align: right;\n",
       "  white-space: pre-wrap;\n",
       "}\n",
       "</style>\n",
       "<small>shape: (172_569, 2)</small><table border=\"1\" class=\"dataframe\"><thead><tr><th>user_id</th><th>item_id</th></tr><tr><td>i32</td><td>i32</td></tr></thead><tbody><tr><td>563</td><td>2591</td></tr><tr><td>563</td><td>1054</td></tr><tr><td>563</td><td>1055</td></tr><tr><td>563</td><td>638</td></tr><tr><td>563</td><td>539</td></tr><tr><td>563</td><td>1726</td></tr><tr><td>563</td><td>1727</td></tr><tr><td>563</td><td>3298</td></tr><tr><td>563</td><td>1728</td></tr><tr><td>563</td><td>1056</td></tr><tr><td>563</td><td>2594</td></tr><tr><td>563</td><td>1729</td></tr><tr><td>&hellip;</td><td>&hellip;</td></tr><tr><td>494</td><td>919</td></tr><tr><td>494</td><td>921</td></tr><tr><td>494</td><td>517</td></tr><tr><td>494</td><td>926</td></tr><tr><td>494</td><td>1037</td></tr><tr><td>494</td><td>2577</td></tr><tr><td>494</td><td>1041</td></tr><tr><td>494</td><td>1045</td></tr><tr><td>494</td><td>3420</td></tr><tr><td>494</td><td>3422</td></tr><tr><td>494</td><td>1050</td></tr><tr><td>494</td><td>1053</td></tr></tbody></table></div>"
      ],
      "text/plain": [
       "shape: (172_569, 2)\n",
       "┌─────────┬─────────┐\n",
       "│ user_id ┆ item_id │\n",
       "│ ---     ┆ ---     │\n",
       "│ i32     ┆ i32     │\n",
       "╞═════════╪═════════╡\n",
       "│ 563     ┆ 2591    │\n",
       "│ 563     ┆ 1054    │\n",
       "│ 563     ┆ 1055    │\n",
       "│ 563     ┆ 638     │\n",
       "│ …       ┆ …       │\n",
       "│ 494     ┆ 3420    │\n",
       "│ 494     ┆ 3422    │\n",
       "│ 494     ┆ 1050    │\n",
       "│ 494     ┆ 1053    │\n",
       "└─────────┴─────────┘"
      ]
     },
     "execution_count": 24,
     "metadata": {},
     "output_type": "execute_result"
    }
   ],
   "source": [
    "interactions_encoded\n"
   ]
  },
  {
   "cell_type": "code",
   "execution_count": 25,
   "metadata": {},
   "outputs": [
    {
     "data": {
      "text/plain": [
       "<1000x3446 sparse matrix of type '<class 'numpy.float32'>'\n",
       "\twith 172569 stored elements in COOrdinate format>"
      ]
     },
     "execution_count": 25,
     "metadata": {},
     "output_type": "execute_result"
    }
   ],
   "source": [
    "user_idx = interactions_encoded[\"user_id\"].to_numpy()\n",
    "item_idx = interactions_encoded[\"item_id\"].to_numpy()\n",
    "\n",
    "n_users = user_idx.max() + 1\n",
    "n_items = item_idx.max() + 1\n",
    "\n",
    "user_item_coo = coo_matrix(\n",
    "    (\n",
    "        np.ones_like(user_idx, dtype=np.float32),\n",
    "        (user_idx, item_idx),\n",
    "    ),\n",
    "    shape=(n_users, n_items),\n",
    "    dtype=np.float32,\n",
    ")\n",
    "\n",
    "# Make sure we have canonical format\n",
    "user_item_coo.sum_duplicates()\n",
    "user_item_coo\n"
   ]
  },
  {
   "cell_type": "code",
   "execution_count": 28,
   "metadata": {},
   "outputs": [
    {
     "data": {
      "text/plain": [
       "<1000x3446 sparse matrix of type '<class 'numpy.float32'>'\n",
       "\twith 172569 stored elements in Compressed Sparse Row format>"
      ]
     },
     "execution_count": 28,
     "metadata": {},
     "output_type": "execute_result"
    }
   ],
   "source": [
    "user_item_csr = user_item_coo.tocsr()\n",
    "user_item_csr\n"
   ]
  },
  {
   "cell_type": "code",
   "execution_count": 29,
   "metadata": {},
   "outputs": [
    {
     "data": {
      "text/plain": [
       "matrix([[1.0000002],\n",
       "        [1.       ],\n",
       "        [1.       ],\n",
       "        [0.9999999],\n",
       "        [1.       ],\n",
       "        [1.0000001],\n",
       "        [0.9999998],\n",
       "        [0.9999999],\n",
       "        [0.9999999],\n",
       "        [1.       ]], dtype=float32)"
      ]
     },
     "execution_count": 29,
     "metadata": {},
     "output_type": "execute_result"
    }
   ],
   "source": [
    "# Normalize each row by non zero element count in the row\n",
    "nnz_per_row = user_item_csr.indptr[1:] - user_item_csr.indptr[:-1]\n",
    "user_item_csr.data /= np.repeat(nnz_per_row, nnz_per_row)\n",
    "\n",
    "# Make sure data is normalize\n",
    "user_item_csr.sum(axis=1)[:10]\n"
   ]
  },
  {
   "cell_type": "code",
   "execution_count": 30,
   "metadata": {},
   "outputs": [
    {
     "data": {
      "text/plain": [
       "<1000x1000 sparse matrix of type '<class 'numpy.float32'>'\n",
       "\twith 958194 stored elements in Compressed Sparse Row format>"
      ]
     },
     "execution_count": 30,
     "metadata": {},
     "output_type": "execute_result"
    }
   ],
   "source": [
    "distances = user_item_csr @ user_item_csr.T\n",
    "distances\n"
   ]
  },
  {
   "cell_type": "code",
   "execution_count": 31,
   "metadata": {},
   "outputs": [
    {
     "data": {
      "text/html": [
       "<div><style>\n",
       ".dataframe > thead > tr > th,\n",
       ".dataframe > tbody > tr > td {\n",
       "  text-align: right;\n",
       "  white-space: pre-wrap;\n",
       "}\n",
       "</style>\n",
       "<small>shape: (10_000, 3)</small><table border=\"1\" class=\"dataframe\"><thead><tr><th>user_id</th><th>similar_user_id</th><th>similarity</th></tr><tr><td>i32</td><td>i32</td><td>f32</td></tr></thead><tbody><tr><td>0</td><td>300</td><td>0.006173</td></tr><tr><td>0</td><td>629</td><td>0.006066</td></tr><tr><td>0</td><td>717</td><td>0.005258</td></tr><tr><td>0</td><td>255</td><td>0.004986</td></tr><tr><td>0</td><td>567</td><td>0.004986</td></tr><tr><td>0</td><td>975</td><td>0.00481</td></tr><tr><td>0</td><td>599</td><td>0.004522</td></tr><tr><td>0</td><td>373</td><td>0.004517</td></tr><tr><td>0</td><td>761</td><td>0.00434</td></tr><tr><td>0</td><td>208</td><td>0.004274</td></tr><tr><td>1</td><td>701</td><td>0.002646</td></tr><tr><td>1</td><td>945</td><td>0.002666</td></tr><tr><td>&hellip;</td><td>&hellip;</td><td>&hellip;</td></tr><tr><td>998</td><td>386</td><td>0.003221</td></tr><tr><td>998</td><td>395</td><td>0.002315</td></tr><tr><td>999</td><td>258</td><td>0.003584</td></tr><tr><td>999</td><td>411</td><td>0.003839</td></tr><tr><td>999</td><td>994</td><td>0.004233</td></tr><tr><td>999</td><td>964</td><td>0.003367</td></tr><tr><td>999</td><td>386</td><td>0.003221</td></tr><tr><td>999</td><td>639</td><td>0.002364</td></tr><tr><td>999</td><td>92</td><td>0.002252</td></tr><tr><td>999</td><td>65</td><td>0.002924</td></tr><tr><td>999</td><td>501</td><td>0.002513</td></tr><tr><td>999</td><td>48</td><td>0.003638</td></tr></tbody></table></div>"
      ],
      "text/plain": [
       "shape: (10_000, 3)\n",
       "┌─────────┬─────────────────┬────────────┐\n",
       "│ user_id ┆ similar_user_id ┆ similarity │\n",
       "│ ---     ┆ ---             ┆ ---        │\n",
       "│ i32     ┆ i32             ┆ f32        │\n",
       "╞═════════╪═════════════════╪════════════╡\n",
       "│ 0       ┆ 300             ┆ 0.006173   │\n",
       "│ 0       ┆ 629             ┆ 0.006066   │\n",
       "│ 0       ┆ 717             ┆ 0.005258   │\n",
       "│ 0       ┆ 255             ┆ 0.004986   │\n",
       "│ …       ┆ …               ┆ …          │\n",
       "│ 999     ┆ 92              ┆ 0.002252   │\n",
       "│ 999     ┆ 65              ┆ 0.002924   │\n",
       "│ 999     ┆ 501             ┆ 0.002513   │\n",
       "│ 999     ┆ 48              ┆ 0.003638   │\n",
       "└─────────┴─────────────────┴────────────┘"
      ]
     },
     "execution_count": 31,
     "metadata": {},
     "output_type": "execute_result"
    }
   ],
   "source": [
    "distances_dense = distances.toarray()\n",
    "top_user_indices = np.argsort(-distances_dense, axis=1)[:, 1 : 1 + 10].astype(np.int32)\n",
    "top_similarity = np.take(distances_dense, top_user_indices)\n",
    "\n",
    "top_similar_users = pl.DataFrame({\n",
    "    \"user_id\": np.arange(0, n_users, dtype=np.int32),\n",
    "    \"similar_user_id\": top_user_indices,\n",
    "    \"similarity\": top_similarity,\n",
    "})\n",
    "top_similar_users = top_similar_users.explode(\"similar_user_id\", \"similarity\")\n",
    "top_similar_users\n"
   ]
  },
  {
   "cell_type": "code",
   "execution_count": 14,
   "metadata": {},
   "outputs": [
    {
     "data": {
      "text/html": [
       "<div><style>\n",
       ".dataframe > thead > tr > th,\n",
       ".dataframe > tbody > tr > td {\n",
       "  text-align: right;\n",
       "  white-space: pre-wrap;\n",
       "}\n",
       "</style>\n",
       "<small>shape: (10_000, 3)</small><table border=\"1\" class=\"dataframe\"><thead><tr><th>similarity</th><th>user_id</th><th>similar_user_id</th></tr><tr><td>f32</td><td>i32</td><td>i32</td></tr></thead><tbody><tr><td>0.006173</td><td>13</td><td>1849</td></tr><tr><td>0.006066</td><td>13</td><td>3730</td></tr><tr><td>0.005258</td><td>13</td><td>4320</td></tr><tr><td>0.004986</td><td>13</td><td>1558</td></tr><tr><td>0.004986</td><td>13</td><td>3404</td></tr><tr><td>0.00481</td><td>13</td><td>5931</td></tr><tr><td>0.004522</td><td>13</td><td>3555</td></tr><tr><td>0.004517</td><td>13</td><td>2291</td></tr><tr><td>0.00434</td><td>13</td><td>4668</td></tr><tr><td>0.004274</td><td>13</td><td>1289</td></tr><tr><td>0.002646</td><td>17</td><td>4200</td></tr><tr><td>0.002666</td><td>17</td><td>5778</td></tr><tr><td>&hellip;</td><td>&hellip;</td><td>&hellip;</td></tr><tr><td>0.003221</td><td>6027</td><td>2347</td></tr><tr><td>0.002315</td><td>6027</td><td>2434</td></tr><tr><td>0.003584</td><td>6028</td><td>1578</td></tr><tr><td>0.003839</td><td>6028</td><td>2539</td></tr><tr><td>0.004233</td><td>6028</td><td>6008</td></tr><tr><td>0.003367</td><td>6028</td><td>5879</td></tr><tr><td>0.003221</td><td>6028</td><td>2347</td></tr><tr><td>0.002364</td><td>6028</td><td>3809</td></tr><tr><td>0.002252</td><td>6028</td><td>562</td></tr><tr><td>0.002924</td><td>6028</td><td>394</td></tr><tr><td>0.002513</td><td>6028</td><td>3047</td></tr><tr><td>0.003638</td><td>6028</td><td>288</td></tr></tbody></table></div>"
      ],
      "text/plain": [
       "shape: (10_000, 3)\n",
       "┌────────────┬─────────┬─────────────────┐\n",
       "│ similarity ┆ user_id ┆ similar_user_id │\n",
       "│ ---        ┆ ---     ┆ ---             │\n",
       "│ f32        ┆ i32     ┆ i32             │\n",
       "╞════════════╪═════════╪═════════════════╡\n",
       "│ 0.006173   ┆ 13      ┆ 1849            │\n",
       "│ 0.006066   ┆ 13      ┆ 3730            │\n",
       "│ 0.005258   ┆ 13      ┆ 4320            │\n",
       "│ 0.004986   ┆ 13      ┆ 1558            │\n",
       "│ …          ┆ …       ┆ …               │\n",
       "│ 0.002252   ┆ 6028    ┆ 562             │\n",
       "│ 0.002924   ┆ 6028    ┆ 394             │\n",
       "│ 0.002513   ┆ 6028    ┆ 3047            │\n",
       "│ 0.003638   ┆ 6028    ┆ 288             │\n",
       "└────────────┴─────────┴─────────────────┘"
      ]
     },
     "execution_count": 14,
     "metadata": {},
     "output_type": "execute_result"
    }
   ],
   "source": [
    "top_similar_users = user_id_encoder.inverse_transform(top_similar_users, \"user_id\")\n",
    "top_similar_users = user_id_encoder.inverse_transform(top_similar_users, \"similar_user_id\")\n",
    "top_similar_users\n"
   ]
  },
  {
   "cell_type": "code",
   "execution_count": 32,
   "metadata": {},
   "outputs": [],
   "source": [
    "def timeit(func):\n",
    "    @wraps(func)\n",
    "    def timeit_wrapper(*args, **kwargs):\n",
    "        start_time = time.perf_counter()\n",
    "        result = func(*args, **kwargs)\n",
    "        end_time = time.perf_counter()\n",
    "        total_time = end_time - start_time\n",
    "        print(f'Function {func.__name__} Took {total_time:.4f} seconds')\n",
    "        return result\n",
    "    return timeit_wrapper\n",
    "\n",
    "\n",
    "def interaction_to_csr(interactions: pl.DataFrame) -> csr_matrix:\n",
    "    user_idx = interactions[\"user_id\"].to_numpy()\n",
    "    item_idx = interactions[\"item_id\"].to_numpy()\n",
    "\n",
    "    n_users = user_idx.max() + 1\n",
    "    n_items = item_idx.max() + 1\n",
    "\n",
    "    user_item_coo = coo_matrix(\n",
    "        (\n",
    "            np.ones_like(user_idx, dtype=np.bool_),\n",
    "            (user_idx, item_idx),\n",
    "        ),\n",
    "        shape=(n_users, n_items),\n",
    "        dtype=np.bool_,\n",
    "    )\n",
    "    user_item_coo.sum_duplicates()\n",
    "\n",
    "    user_item_csr = user_item_coo.astype(np.float32).tocsr()\n",
    "    nnz_per_row = user_item_csr.indptr[1:] - user_item_csr.indptr[:-1]\n",
    "    user_item_csr.data /= np.repeat(nnz_per_row, nnz_per_row).astype(np.float32)\n",
    "\n",
    "    return user_item_csr\n",
    "\n",
    "\n",
    "def top_distances(distances: csr_matrix, k: int) -> Tuple[np.ndarray, np.ndarray]:\n",
    "    distances_dense = distances.toarray()\n",
    "    top_user_indices = np.argsort(-distances_dense, axis=1)[:, 1 : 1 + k].astype(np.int32)\n",
    "    top_similarity = np.take(distances_dense, top_user_indices)\n",
    "    return top_user_indices, top_similarity\n",
    "\n",
    "\n",
    "@timeit\n",
    "def user_similarity(interactions: pl.DataFrame) -> pl.DataFrame:\n",
    "    # Encode IDs to indices\n",
    "    user_id_encoder = OrdinalEncoder()\n",
    "    item_id_encoder = OrdinalEncoder()\n",
    "    interactions_encoded = user_id_encoder.fit_transform(interactions, \"user_id\")\n",
    "    interactions_encoded = item_id_encoder.fit_transform(interactions_encoded, \"item_id\")\n",
    "\n",
    "    # Convert interactions to CSR\n",
    "    interactions_csr = interaction_to_csr(interactions_encoded)\n",
    "\n",
    "    # Compute full distances matrix using matrix multiplication\n",
    "    distances = interactions_csr @ interactions_csr.T\n",
    "\n",
    "    # Get Top-K indices and distances from full-distance matrix\n",
    "    top_user_indices, top_similarity = top_distances(distances, k=10)\n",
    "\n",
    "    # Wrap indices and distances to data frame\n",
    "    top_similar_users = pl.DataFrame({\n",
    "        \"user_id\": np.arange(0, top_user_indices.shape[0], dtype=np.int32),\n",
    "        \"similar_user_id\": top_user_indices,\n",
    "        \"similarity\": top_similarity,\n",
    "    })\n",
    "    top_similar_users = top_similar_users.explode(\"similar_user_id\", \"similarity\")\n",
    "\n",
    "    # Decode indices to IDs\n",
    "    top_similar_users = user_id_encoder.inverse_transform(top_similar_users, \"user_id\")\n",
    "    top_similar_users = user_id_encoder.inverse_transform(top_similar_users, \"similar_user_id\")\n",
    "\n",
    "    return top_similar_users\n"
   ]
  },
  {
   "cell_type": "code",
   "execution_count": 33,
   "metadata": {},
   "outputs": [
    {
     "name": "stdout",
     "output_type": "stream",
     "text": [
      "Function user_similarity Took 0.3064 seconds\n"
     ]
    },
    {
     "data": {
      "text/html": [
       "<div><style>\n",
       ".dataframe > thead > tr > th,\n",
       ".dataframe > tbody > tr > td {\n",
       "  text-align: right;\n",
       "  white-space: pre-wrap;\n",
       "}\n",
       "</style>\n",
       "<small>shape: (10_000, 3)</small><table border=\"1\" class=\"dataframe\"><thead><tr><th>similarity</th><th>user_id</th><th>similar_user_id</th></tr><tr><td>f32</td><td>i32</td><td>i32</td></tr></thead><tbody><tr><td>0.006173</td><td>13</td><td>1849</td></tr><tr><td>0.006066</td><td>13</td><td>3730</td></tr><tr><td>0.005258</td><td>13</td><td>4320</td></tr><tr><td>0.004986</td><td>13</td><td>1558</td></tr><tr><td>0.004986</td><td>13</td><td>3404</td></tr><tr><td>0.00481</td><td>13</td><td>5931</td></tr><tr><td>0.004522</td><td>13</td><td>3555</td></tr><tr><td>0.004517</td><td>13</td><td>2291</td></tr><tr><td>0.00434</td><td>13</td><td>4668</td></tr><tr><td>0.004274</td><td>13</td><td>1289</td></tr><tr><td>0.002646</td><td>17</td><td>4200</td></tr><tr><td>0.002666</td><td>17</td><td>5778</td></tr><tr><td>&hellip;</td><td>&hellip;</td><td>&hellip;</td></tr><tr><td>0.003221</td><td>6027</td><td>2347</td></tr><tr><td>0.002315</td><td>6027</td><td>2434</td></tr><tr><td>0.003584</td><td>6028</td><td>1578</td></tr><tr><td>0.003839</td><td>6028</td><td>2539</td></tr><tr><td>0.004233</td><td>6028</td><td>6008</td></tr><tr><td>0.003367</td><td>6028</td><td>5879</td></tr><tr><td>0.003221</td><td>6028</td><td>2347</td></tr><tr><td>0.002364</td><td>6028</td><td>3809</td></tr><tr><td>0.002252</td><td>6028</td><td>562</td></tr><tr><td>0.002924</td><td>6028</td><td>394</td></tr><tr><td>0.002513</td><td>6028</td><td>3047</td></tr><tr><td>0.003638</td><td>6028</td><td>288</td></tr></tbody></table></div>"
      ],
      "text/plain": [
       "shape: (10_000, 3)\n",
       "┌────────────┬─────────┬─────────────────┐\n",
       "│ similarity ┆ user_id ┆ similar_user_id │\n",
       "│ ---        ┆ ---     ┆ ---             │\n",
       "│ f32        ┆ i32     ┆ i32             │\n",
       "╞════════════╪═════════╪═════════════════╡\n",
       "│ 0.006173   ┆ 13      ┆ 1849            │\n",
       "│ 0.006066   ┆ 13      ┆ 3730            │\n",
       "│ 0.005258   ┆ 13      ┆ 4320            │\n",
       "│ 0.004986   ┆ 13      ┆ 1558            │\n",
       "│ …          ┆ …       ┆ …               │\n",
       "│ 0.002252   ┆ 6028    ┆ 562             │\n",
       "│ 0.002924   ┆ 6028    ┆ 394             │\n",
       "│ 0.002513   ┆ 6028    ┆ 3047            │\n",
       "│ 0.003638   ┆ 6028    ┆ 288             │\n",
       "└────────────┴─────────┴─────────────────┘"
      ]
     },
     "execution_count": 33,
     "metadata": {},
     "output_type": "execute_result"
    }
   ],
   "source": [
    "user_similarity(interactions)\n"
   ]
  },
  {
   "cell_type": "code",
   "execution_count": 34,
   "metadata": {},
   "outputs": [],
   "source": [
    "interactions_1k = pl.read_csv(\"../data/ml-1m/interactions_1k.csv\", schema={\"user_id\": pl.Int32, \"item_id\": pl.Int32})\n",
    "interactions_2k = pl.read_csv(\"../data/ml-1m/interactions_2k.csv\", schema={\"user_id\": pl.Int32, \"item_id\": pl.Int32})\n",
    "interactions_5k = pl.read_csv(\"../data/ml-1m/interactions_5k.csv\", schema={\"user_id\": pl.Int32, \"item_id\": pl.Int32})\n"
   ]
  },
  {
   "cell_type": "code",
   "execution_count": 35,
   "metadata": {},
   "outputs": [
    {
     "name": "stdout",
     "output_type": "stream",
     "text": [
      "Function user_similarity Took 0.2517 seconds\n"
     ]
    },
    {
     "data": {
      "text/html": [
       "<div><style>\n",
       ".dataframe > thead > tr > th,\n",
       ".dataframe > tbody > tr > td {\n",
       "  text-align: right;\n",
       "  white-space: pre-wrap;\n",
       "}\n",
       "</style>\n",
       "<small>shape: (10_000, 3)</small><table border=\"1\" class=\"dataframe\"><thead><tr><th>similarity</th><th>user_id</th><th>similar_user_id</th></tr><tr><td>f32</td><td>i32</td><td>i32</td></tr></thead><tbody><tr><td>0.006173</td><td>13</td><td>1849</td></tr><tr><td>0.006066</td><td>13</td><td>3730</td></tr><tr><td>0.005258</td><td>13</td><td>4320</td></tr><tr><td>0.004986</td><td>13</td><td>1558</td></tr><tr><td>0.004986</td><td>13</td><td>3404</td></tr><tr><td>0.00481</td><td>13</td><td>5931</td></tr><tr><td>0.004522</td><td>13</td><td>3555</td></tr><tr><td>0.004517</td><td>13</td><td>2291</td></tr><tr><td>0.00434</td><td>13</td><td>4668</td></tr><tr><td>0.004274</td><td>13</td><td>1289</td></tr><tr><td>0.002646</td><td>17</td><td>4200</td></tr><tr><td>0.002666</td><td>17</td><td>5778</td></tr><tr><td>&hellip;</td><td>&hellip;</td><td>&hellip;</td></tr><tr><td>0.003221</td><td>6027</td><td>2347</td></tr><tr><td>0.002315</td><td>6027</td><td>2434</td></tr><tr><td>0.003584</td><td>6028</td><td>1578</td></tr><tr><td>0.003839</td><td>6028</td><td>2539</td></tr><tr><td>0.004233</td><td>6028</td><td>6008</td></tr><tr><td>0.003367</td><td>6028</td><td>5879</td></tr><tr><td>0.003221</td><td>6028</td><td>2347</td></tr><tr><td>0.002364</td><td>6028</td><td>3809</td></tr><tr><td>0.002252</td><td>6028</td><td>562</td></tr><tr><td>0.002924</td><td>6028</td><td>394</td></tr><tr><td>0.002513</td><td>6028</td><td>3047</td></tr><tr><td>0.003638</td><td>6028</td><td>288</td></tr></tbody></table></div>"
      ],
      "text/plain": [
       "shape: (10_000, 3)\n",
       "┌────────────┬─────────┬─────────────────┐\n",
       "│ similarity ┆ user_id ┆ similar_user_id │\n",
       "│ ---        ┆ ---     ┆ ---             │\n",
       "│ f32        ┆ i32     ┆ i32             │\n",
       "╞════════════╪═════════╪═════════════════╡\n",
       "│ 0.006173   ┆ 13      ┆ 1849            │\n",
       "│ 0.006066   ┆ 13      ┆ 3730            │\n",
       "│ 0.005258   ┆ 13      ┆ 4320            │\n",
       "│ 0.004986   ┆ 13      ┆ 1558            │\n",
       "│ …          ┆ …       ┆ …               │\n",
       "│ 0.002252   ┆ 6028    ┆ 562             │\n",
       "│ 0.002924   ┆ 6028    ┆ 394             │\n",
       "│ 0.002513   ┆ 6028    ┆ 3047            │\n",
       "│ 0.003638   ┆ 6028    ┆ 288             │\n",
       "└────────────┴─────────┴─────────────────┘"
      ]
     },
     "execution_count": 35,
     "metadata": {},
     "output_type": "execute_result"
    }
   ],
   "source": [
    "user_similarity(interactions_1k)\n"
   ]
  },
  {
   "cell_type": "code",
   "execution_count": 38,
   "metadata": {},
   "outputs": [
    {
     "name": "stdout",
     "output_type": "stream",
     "text": [
      "Function user_similarity Took 0.7450 seconds\n"
     ]
    },
    {
     "data": {
      "text/html": [
       "<div><style>\n",
       ".dataframe > thead > tr > th,\n",
       ".dataframe > tbody > tr > td {\n",
       "  text-align: right;\n",
       "  white-space: pre-wrap;\n",
       "}\n",
       "</style>\n",
       "<small>shape: (20_000, 3)</small><table border=\"1\" class=\"dataframe\"><thead><tr><th>similarity</th><th>user_id</th><th>similar_user_id</th></tr><tr><td>f32</td><td>i32</td><td>i32</td></tr></thead><tbody><tr><td>0.018634</td><td>4</td><td>2347</td></tr><tr><td>0.014778</td><td>4</td><td>3535</td></tr><tr><td>0.014157</td><td>4</td><td>3461</td></tr><tr><td>0.013889</td><td>4</td><td>5388</td></tr><tr><td>0.013889</td><td>4</td><td>1771</td></tr><tr><td>0.013605</td><td>4</td><td>3616</td></tr><tr><td>0.013289</td><td>4</td><td>1349</td></tr><tr><td>0.012897</td><td>4</td><td>4966</td></tr><tr><td>0.012821</td><td>4</td><td>1558</td></tr><tr><td>0.012605</td><td>4</td><td>892</td></tr><tr><td>0.003072</td><td>11</td><td>2658</td></tr><tr><td>0.0</td><td>11</td><td>2530</td></tr><tr><td>&hellip;</td><td>&hellip;</td><td>&hellip;</td></tr><tr><td>0.004329</td><td>6038</td><td>619</td></tr><tr><td>0.002165</td><td>6038</td><td>2582</td></tr><tr><td>0.0</td><td>6039</td><td>4166</td></tr><tr><td>0.001701</td><td>6039</td><td>4955</td></tr><tr><td>0.002165</td><td>6039</td><td>5238</td></tr><tr><td>0.001488</td><td>6039</td><td>1469</td></tr><tr><td>0.001984</td><td>6039</td><td>5119</td></tr><tr><td>0.002026</td><td>6039</td><td>5742</td></tr><tr><td>0.001742</td><td>6039</td><td>5887</td></tr><tr><td>0.001587</td><td>6039</td><td>5993</td></tr><tr><td>0.003401</td><td>6039</td><td>4971</td></tr><tr><td>0.00207</td><td>6039</td><td>5028</td></tr></tbody></table></div>"
      ],
      "text/plain": [
       "shape: (20_000, 3)\n",
       "┌────────────┬─────────┬─────────────────┐\n",
       "│ similarity ┆ user_id ┆ similar_user_id │\n",
       "│ ---        ┆ ---     ┆ ---             │\n",
       "│ f32        ┆ i32     ┆ i32             │\n",
       "╞════════════╪═════════╪═════════════════╡\n",
       "│ 0.018634   ┆ 4       ┆ 2347            │\n",
       "│ 0.014778   ┆ 4       ┆ 3535            │\n",
       "│ 0.014157   ┆ 4       ┆ 3461            │\n",
       "│ 0.013889   ┆ 4       ┆ 5388            │\n",
       "│ …          ┆ …       ┆ …               │\n",
       "│ 0.001742   ┆ 6039    ┆ 5887            │\n",
       "│ 0.001587   ┆ 6039    ┆ 5993            │\n",
       "│ 0.003401   ┆ 6039    ┆ 4971            │\n",
       "│ 0.00207    ┆ 6039    ┆ 5028            │\n",
       "└────────────┴─────────┴─────────────────┘"
      ]
     },
     "execution_count": 38,
     "metadata": {},
     "output_type": "execute_result"
    }
   ],
   "source": [
    "user_similarity(interactions_2k)\n"
   ]
  },
  {
   "cell_type": "code",
   "execution_count": 39,
   "metadata": {},
   "outputs": [
    {
     "name": "stdout",
     "output_type": "stream",
     "text": [
      "Function user_similarity Took 3.8924 seconds\n"
     ]
    },
    {
     "data": {
      "text/html": [
       "<div><style>\n",
       ".dataframe > thead > tr > th,\n",
       ".dataframe > tbody > tr > td {\n",
       "  text-align: right;\n",
       "  white-space: pre-wrap;\n",
       "}\n",
       "</style>\n",
       "<small>shape: (50_000, 3)</small><table border=\"1\" class=\"dataframe\"><thead><tr><th>similarity</th><th>user_id</th><th>similar_user_id</th></tr><tr><td>f32</td><td>i32</td><td>i32</td></tr></thead><tbody><tr><td>0.00891</td><td>1</td><td>5343</td></tr><tr><td>0.007898</td><td>1</td><td>5190</td></tr><tr><td>0.007383</td><td>1</td><td>1283</td></tr><tr><td>0.006951</td><td>1</td><td>681</td></tr><tr><td>0.006604</td><td>1</td><td>5525</td></tr><tr><td>0.006563</td><td>1</td><td>5320</td></tr><tr><td>0.006563</td><td>1</td><td>2799</td></tr><tr><td>0.006289</td><td>1</td><td>317</td></tr><tr><td>0.006003</td><td>1</td><td>417</td></tr><tr><td>0.005896</td><td>1</td><td>80</td></tr><tr><td>0.003281</td><td>2</td><td>2646</td></tr><tr><td>0.001572</td><td>2</td><td>1849</td></tr><tr><td>&hellip;</td><td>&hellip;</td><td>&hellip;</td></tr><tr><td>0.002264</td><td>6037</td><td>1036</td></tr><tr><td>0.002358</td><td>6037</td><td>2080</td></tr><tr><td>0.002573</td><td>6040</td><td>4176</td></tr><tr><td>0.002301</td><td>6040</td><td>4924</td></tr><tr><td>0.003931</td><td>6040</td><td>5690</td></tr><tr><td>0.003019</td><td>6040</td><td>5962</td></tr><tr><td>0.002602</td><td>6040</td><td>1003</td></tr><tr><td>0.003931</td><td>6040</td><td>1991</td></tr><tr><td>0.003221</td><td>6040</td><td>2591</td></tr><tr><td>0.002264</td><td>6040</td><td>1036</td></tr><tr><td>0.00508</td><td>6040</td><td>4564</td></tr><tr><td>0.002322</td><td>6040</td><td>811</td></tr></tbody></table></div>"
      ],
      "text/plain": [
       "shape: (50_000, 3)\n",
       "┌────────────┬─────────┬─────────────────┐\n",
       "│ similarity ┆ user_id ┆ similar_user_id │\n",
       "│ ---        ┆ ---     ┆ ---             │\n",
       "│ f32        ┆ i32     ┆ i32             │\n",
       "╞════════════╪═════════╪═════════════════╡\n",
       "│ 0.00891    ┆ 1       ┆ 5343            │\n",
       "│ 0.007898   ┆ 1       ┆ 5190            │\n",
       "│ 0.007383   ┆ 1       ┆ 1283            │\n",
       "│ 0.006951   ┆ 1       ┆ 681             │\n",
       "│ …          ┆ …       ┆ …               │\n",
       "│ 0.003221   ┆ 6040    ┆ 2591            │\n",
       "│ 0.002264   ┆ 6040    ┆ 1036            │\n",
       "│ 0.00508    ┆ 6040    ┆ 4564            │\n",
       "│ 0.002322   ┆ 6040    ┆ 811             │\n",
       "└────────────┴─────────┴─────────────────┘"
      ]
     },
     "execution_count": 39,
     "metadata": {},
     "output_type": "execute_result"
    }
   ],
   "source": [
    "user_similarity(interactions_5k)\n"
   ]
  }
 ],
 "metadata": {
  "kernelspec": {
   "display_name": "base",
   "language": "python",
   "name": "python3"
  },
  "language_info": {
   "codemirror_mode": {
    "name": "ipython",
    "version": 3
   },
   "file_extension": ".py",
   "mimetype": "text/x-python",
   "name": "python",
   "nbconvert_exporter": "python",
   "pygments_lexer": "ipython3",
   "version": "3.9.5"
  }
 },
 "nbformat": 4,
 "nbformat_minor": 2
}
