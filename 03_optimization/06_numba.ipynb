{
 "cells": [
  {
   "cell_type": "code",
   "execution_count": 1,
   "metadata": {},
   "outputs": [],
   "source": [
    "from functools import wraps\n",
    "import time\n",
    "from typing import Optional, Tuple, List, Set\n",
    "\n",
    "import numpy as np\n",
    "import polars as pl\n",
    "\n",
    "from numba import njit, prange\n"
   ]
  },
  {
   "cell_type": "code",
   "execution_count": 2,
   "metadata": {},
   "outputs": [
    {
     "data": {
      "text/html": [
       "<div><style>\n",
       ".dataframe > thead > tr > th,\n",
       ".dataframe > tbody > tr > td {\n",
       "  text-align: right;\n",
       "  white-space: pre-wrap;\n",
       "}\n",
       "</style>\n",
       "<small>shape: (172_569, 2)</small><table border=\"1\" class=\"dataframe\"><thead><tr><th>user_id</th><th>item_id</th></tr><tr><td>i32</td><td>i32</td></tr></thead><tbody><tr><td>3391</td><td>2987</td></tr><tr><td>3391</td><td>1248</td></tr><tr><td>3391</td><td>1249</td></tr><tr><td>3391</td><td>719</td></tr><tr><td>3391</td><td>574</td></tr><tr><td>3391</td><td>2050</td></tr><tr><td>3391</td><td>2051</td></tr><tr><td>3391</td><td>3791</td></tr><tr><td>3391</td><td>2052</td></tr><tr><td>3391</td><td>1250</td></tr><tr><td>3391</td><td>2990</td></tr><tr><td>3391</td><td>2053</td></tr><tr><td>&hellip;</td><td>&hellip;</td></tr><tr><td>3025</td><td>1081</td></tr><tr><td>3025</td><td>1083</td></tr><tr><td>3025</td><td>551</td></tr><tr><td>3025</td><td>1088</td></tr><tr><td>3025</td><td>1230</td></tr><tr><td>3025</td><td>2971</td></tr><tr><td>3025</td><td>1234</td></tr><tr><td>3025</td><td>1238</td></tr><tr><td>3025</td><td>3926</td></tr><tr><td>3025</td><td>3928</td></tr><tr><td>3025</td><td>1244</td></tr><tr><td>3025</td><td>1247</td></tr></tbody></table></div>"
      ],
      "text/plain": [
       "shape: (172_569, 2)\n",
       "┌─────────┬─────────┐\n",
       "│ user_id ┆ item_id │\n",
       "│ ---     ┆ ---     │\n",
       "│ i32     ┆ i32     │\n",
       "╞═════════╪═════════╡\n",
       "│ 3391    ┆ 2987    │\n",
       "│ 3391    ┆ 1248    │\n",
       "│ 3391    ┆ 1249    │\n",
       "│ 3391    ┆ 719     │\n",
       "│ …       ┆ …       │\n",
       "│ 3025    ┆ 3926    │\n",
       "│ 3025    ┆ 3928    │\n",
       "│ 3025    ┆ 1244    │\n",
       "│ 3025    ┆ 1247    │\n",
       "└─────────┴─────────┘"
      ]
     },
     "execution_count": 2,
     "metadata": {},
     "output_type": "execute_result"
    }
   ],
   "source": [
    "interactions = pl.read_csv(\"../data/ml-1m/interactions_1k.csv\", schema={\"user_id\": pl.Int32, \"item_id\": pl.Int32})\n",
    "interactions\n"
   ]
  },
  {
   "cell_type": "code",
   "execution_count": 3,
   "metadata": {},
   "outputs": [],
   "source": [
    "@njit(parallel=True, fastmath=True)\n",
    "def compute_distances(\n",
    "    user_ids: np.ndarray,\n",
    "    item_ids: np.ndarray,\n",
    "    k: int = 10,\n",
    ") -> Tuple[np.ndarray, np.ndarray, np.ndarray]:\n",
    "    # Compute offsets for each group of item IDs assuming interactions are sorted\n",
    "    unique_user_ids: List[int] = []\n",
    "    item_id_offsets: List[int] = []\n",
    "    prev_user_id: int = -1\n",
    "    for i, user_id in enumerate(user_ids):\n",
    "        if user_id != prev_user_id:\n",
    "            prev_user_id = user_id\n",
    "            item_id_offsets.append(i)\n",
    "            unique_user_ids.append(user_id)\n",
    "    item_id_offsets.append(i + 1)\n",
    "\n",
    "    # Number of offsets is the number of unique users - 1\n",
    "    assert item_id_offsets[0] == 0\n",
    "    assert item_id_offsets[-1] == len(user_ids)\n",
    "    n_users: int = len(item_id_offsets) - 1\n",
    "\n",
    "    # Convert sequence of items to set for each user\n",
    "    item_id_sets: List[Set[int]] = []\n",
    "    for i in range(0, n_users):\n",
    "        item_id_seq = item_ids[item_id_offsets[i] : item_id_offsets[i + 1]]\n",
    "        item_id_sets.append(set(item_id_seq))\n",
    "\n",
    "    # Compute distances\n",
    "    distances = np.zeros((n_users, n_users), dtype=np.float32)\n",
    "    for i in prange(0, n_users):\n",
    "        for j in range(0, i):\n",
    "            x = item_id_sets[i]\n",
    "            y = item_id_sets[j]\n",
    "            distances[i, j] = len(x & y) / (len(x) * len(y))\n",
    "\n",
    "    distances = distances + distances.T\n",
    "\n",
    "    unique_user_ids_np = np.array(unique_user_ids, dtype=np.int32)\n",
    "    top_distances = np.empty((n_users, k), dtype=np.float32)\n",
    "    top_user_ids = np.empty((n_users, k), dtype=np.int32)\n",
    "\n",
    "    for i in range(0, n_users):\n",
    "        top_user_indices = np.argsort(-distances[i])[:k]\n",
    "        top_distances[i, :] = distances[i][top_user_indices]\n",
    "        top_user_ids[i, :] = unique_user_ids_np[top_user_indices]\n",
    "\n",
    "    return unique_user_ids_np, top_user_ids, top_distances\n",
    "\n",
    "\n",
    "def timeit(func):\n",
    "    @wraps(func)\n",
    "    def timeit_wrapper(*args, **kwargs):\n",
    "        start_time = time.perf_counter()\n",
    "        result = func(*args, **kwargs)\n",
    "        end_time = time.perf_counter()\n",
    "        total_time = end_time - start_time\n",
    "        print(f'Function {func.__name__} Took {total_time:.4f} seconds')\n",
    "        return result\n",
    "    return timeit_wrapper\n",
    "\n",
    "@timeit\n",
    "def user_similarity(interactions: pl.DataFrame) -> pl.DataFrame:\n",
    "    interactions_sorted = interactions.sort(\"user_id\")\n",
    "\n",
    "    user_ids, similar_user_ids, similarity = compute_distances(\n",
    "        interactions_sorted[\"user_id\"].to_numpy(),\n",
    "        interactions_sorted[\"item_id\"].to_numpy(),\n",
    "    )\n",
    "\n",
    "    top_similar_users = pl.DataFrame({\n",
    "        \"user_id\": user_ids,\n",
    "        \"similar_user_id\": similar_user_ids,\n",
    "        \"similarity\": similarity\n",
    "    })\n",
    "    top_similar_users = top_similar_users.explode(\"similar_user_id\", \"similarity\")\n",
    "\n",
    "    return top_similar_users\n"
   ]
  },
  {
   "cell_type": "code",
   "execution_count": 4,
   "metadata": {},
   "outputs": [],
   "source": [
    "interactions_1k = pl.read_csv(\"../data/ml-1m/interactions_1k.csv\", schema={\"user_id\": pl.Int32, \"item_id\": pl.Int32})\n",
    "interactions_2k = pl.read_csv(\"../data/ml-1m/interactions_2k.csv\", schema={\"user_id\": pl.Int32, \"item_id\": pl.Int32})\n",
    "interactions_5k = pl.read_csv(\"../data/ml-1m/interactions_5k.csv\", schema={\"user_id\": pl.Int32, \"item_id\": pl.Int32})\n"
   ]
  },
  {
   "cell_type": "code",
   "execution_count": 5,
   "metadata": {},
   "outputs": [
    {
     "name": "stdout",
     "output_type": "stream",
     "text": [
      "Function user_similarity Took 6.8698 seconds\n"
     ]
    }
   ],
   "source": [
    "# Warmup to compile Numba kernels\n",
    "_ = user_similarity(interactions_1k)\n"
   ]
  },
  {
   "cell_type": "code",
   "execution_count": 6,
   "metadata": {},
   "outputs": [
    {
     "name": "stdout",
     "output_type": "stream",
     "text": [
      "Function user_similarity Took 0.5343 seconds\n"
     ]
    },
    {
     "data": {
      "text/html": [
       "<div><style>\n",
       ".dataframe > thead > tr > th,\n",
       ".dataframe > tbody > tr > td {\n",
       "  text-align: right;\n",
       "  white-space: pre-wrap;\n",
       "}\n",
       "</style>\n",
       "<small>shape: (10_000, 3)</small><table border=\"1\" class=\"dataframe\"><thead><tr><th>user_id</th><th>similar_user_id</th><th>similarity</th></tr><tr><td>i32</td><td>i32</td><td>f32</td></tr></thead><tbody><tr><td>13</td><td>1849</td><td>0.006173</td></tr><tr><td>13</td><td>3730</td><td>0.006066</td></tr><tr><td>13</td><td>4320</td><td>0.005258</td></tr><tr><td>13</td><td>3404</td><td>0.004986</td></tr><tr><td>13</td><td>1558</td><td>0.004986</td></tr><tr><td>13</td><td>5931</td><td>0.00481</td></tr><tr><td>13</td><td>3555</td><td>0.004522</td></tr><tr><td>13</td><td>2291</td><td>0.004517</td></tr><tr><td>13</td><td>4668</td><td>0.00434</td></tr><tr><td>13</td><td>1289</td><td>0.004274</td></tr><tr><td>17</td><td>4200</td><td>0.003966</td></tr><tr><td>17</td><td>5778</td><td>0.003878</td></tr><tr><td>&hellip;</td><td>&hellip;</td><td>&hellip;</td></tr><tr><td>6027</td><td>2347</td><td>0.006039</td></tr><tr><td>6027</td><td>5932</td><td>0.005787</td></tr><tr><td>6028</td><td>1578</td><td>0.008922</td></tr><tr><td>6028</td><td>2539</td><td>0.008303</td></tr><tr><td>6028</td><td>6008</td><td>0.007903</td></tr><tr><td>6028</td><td>5879</td><td>0.007737</td></tr><tr><td>6028</td><td>2347</td><td>0.007401</td></tr><tr><td>6028</td><td>3809</td><td>0.00679</td></tr><tr><td>6028</td><td>562</td><td>0.006325</td></tr><tr><td>6028</td><td>394</td><td>0.006159</td></tr><tr><td>6028</td><td>288</td><td>0.006079</td></tr><tr><td>6028</td><td>3047</td><td>0.006079</td></tr></tbody></table></div>"
      ],
      "text/plain": [
       "shape: (10_000, 3)\n",
       "┌─────────┬─────────────────┬────────────┐\n",
       "│ user_id ┆ similar_user_id ┆ similarity │\n",
       "│ ---     ┆ ---             ┆ ---        │\n",
       "│ i32     ┆ i32             ┆ f32        │\n",
       "╞═════════╪═════════════════╪════════════╡\n",
       "│ 13      ┆ 1849            ┆ 0.006173   │\n",
       "│ 13      ┆ 3730            ┆ 0.006066   │\n",
       "│ 13      ┆ 4320            ┆ 0.005258   │\n",
       "│ 13      ┆ 3404            ┆ 0.004986   │\n",
       "│ …       ┆ …               ┆ …          │\n",
       "│ 6028    ┆ 562             ┆ 0.006325   │\n",
       "│ 6028    ┆ 394             ┆ 0.006159   │\n",
       "│ 6028    ┆ 288             ┆ 0.006079   │\n",
       "│ 6028    ┆ 3047            ┆ 0.006079   │\n",
       "└─────────┴─────────────────┴────────────┘"
      ]
     },
     "execution_count": 6,
     "metadata": {},
     "output_type": "execute_result"
    }
   ],
   "source": [
    "user_similarity(interactions_1k)\n"
   ]
  },
  {
   "cell_type": "code",
   "execution_count": 8,
   "metadata": {},
   "outputs": [
    {
     "name": "stdout",
     "output_type": "stream",
     "text": [
      "Function user_similarity Took 1.6901 seconds\n"
     ]
    },
    {
     "data": {
      "text/html": [
       "<div><style>\n",
       ".dataframe > thead > tr > th,\n",
       ".dataframe > tbody > tr > td {\n",
       "  text-align: right;\n",
       "  white-space: pre-wrap;\n",
       "}\n",
       "</style>\n",
       "<small>shape: (20_000, 3)</small><table border=\"1\" class=\"dataframe\"><thead><tr><th>user_id</th><th>similar_user_id</th><th>similarity</th></tr><tr><td>i32</td><td>i32</td><td>f32</td></tr></thead><tbody><tr><td>4</td><td>2347</td><td>0.018634</td></tr><tr><td>4</td><td>3535</td><td>0.014778</td></tr><tr><td>4</td><td>3461</td><td>0.014157</td></tr><tr><td>4</td><td>1771</td><td>0.013889</td></tr><tr><td>4</td><td>5388</td><td>0.013889</td></tr><tr><td>4</td><td>3616</td><td>0.013605</td></tr><tr><td>4</td><td>1349</td><td>0.013289</td></tr><tr><td>4</td><td>4966</td><td>0.012897</td></tr><tr><td>4</td><td>1558</td><td>0.012821</td></tr><tr><td>4</td><td>892</td><td>0.012605</td></tr><tr><td>11</td><td>2658</td><td>0.003296</td></tr><tr><td>11</td><td>2530</td><td>0.003285</td></tr><tr><td>&hellip;</td><td>&hellip;</td><td>&hellip;</td></tr><tr><td>6038</td><td>619</td><td>0.006818</td></tr><tr><td>6038</td><td>2705</td><td>0.006818</td></tr><tr><td>6039</td><td>4166</td><td>0.004404</td></tr><tr><td>6039</td><td>4955</td><td>0.004355</td></tr><tr><td>6039</td><td>5238</td><td>0.004065</td></tr><tr><td>6039</td><td>1469</td><td>0.003557</td></tr><tr><td>6039</td><td>5119</td><td>0.003388</td></tr><tr><td>6039</td><td>5742</td><td>0.003287</td></tr><tr><td>6039</td><td>5887</td><td>0.003272</td></tr><tr><td>6039</td><td>5993</td><td>0.003252</td></tr><tr><td>6039</td><td>4971</td><td>0.003194</td></tr><tr><td>6039</td><td>5028</td><td>0.003181</td></tr></tbody></table></div>"
      ],
      "text/plain": [
       "shape: (20_000, 3)\n",
       "┌─────────┬─────────────────┬────────────┐\n",
       "│ user_id ┆ similar_user_id ┆ similarity │\n",
       "│ ---     ┆ ---             ┆ ---        │\n",
       "│ i32     ┆ i32             ┆ f32        │\n",
       "╞═════════╪═════════════════╪════════════╡\n",
       "│ 4       ┆ 2347            ┆ 0.018634   │\n",
       "│ 4       ┆ 3535            ┆ 0.014778   │\n",
       "│ 4       ┆ 3461            ┆ 0.014157   │\n",
       "│ 4       ┆ 1771            ┆ 0.013889   │\n",
       "│ …       ┆ …               ┆ …          │\n",
       "│ 6039    ┆ 5887            ┆ 0.003272   │\n",
       "│ 6039    ┆ 5993            ┆ 0.003252   │\n",
       "│ 6039    ┆ 4971            ┆ 0.003194   │\n",
       "│ 6039    ┆ 5028            ┆ 0.003181   │\n",
       "└─────────┴─────────────────┴────────────┘"
      ]
     },
     "execution_count": 8,
     "metadata": {},
     "output_type": "execute_result"
    }
   ],
   "source": [
    "user_similarity(interactions_2k)\n"
   ]
  },
  {
   "cell_type": "code",
   "execution_count": 9,
   "metadata": {},
   "outputs": [
    {
     "name": "stdout",
     "output_type": "stream",
     "text": [
      "Function user_similarity Took 9.1017 seconds\n"
     ]
    },
    {
     "data": {
      "text/html": [
       "<div><style>\n",
       ".dataframe > thead > tr > th,\n",
       ".dataframe > tbody > tr > td {\n",
       "  text-align: right;\n",
       "  white-space: pre-wrap;\n",
       "}\n",
       "</style>\n",
       "<small>shape: (50_000, 3)</small><table border=\"1\" class=\"dataframe\"><thead><tr><th>user_id</th><th>similar_user_id</th><th>similarity</th></tr><tr><td>i32</td><td>i32</td><td>f32</td></tr></thead><tbody><tr><td>1</td><td>5343</td><td>0.00891</td></tr><tr><td>1</td><td>5190</td><td>0.007898</td></tr><tr><td>1</td><td>1283</td><td>0.007383</td></tr><tr><td>1</td><td>681</td><td>0.006951</td></tr><tr><td>1</td><td>5525</td><td>0.006604</td></tr><tr><td>1</td><td>2799</td><td>0.006563</td></tr><tr><td>1</td><td>5320</td><td>0.006563</td></tr><tr><td>1</td><td>317</td><td>0.006289</td></tr><tr><td>1</td><td>417</td><td>0.006003</td></tr><tr><td>1</td><td>80</td><td>0.005896</td></tr><tr><td>2</td><td>2646</td><td>0.005056</td></tr><tr><td>2</td><td>1849</td><td>0.004845</td></tr><tr><td>&hellip;</td><td>&hellip;</td><td>&hellip;</td></tr><tr><td>6037</td><td>1036</td><td>0.003267</td></tr><tr><td>6037</td><td>2080</td><td>0.003249</td></tr><tr><td>6040</td><td>4176</td><td>0.002533</td></tr><tr><td>6040</td><td>4924</td><td>0.002503</td></tr><tr><td>6040</td><td>5690</td><td>0.002444</td></tr><tr><td>6040</td><td>5962</td><td>0.002346</td></tr><tr><td>6040</td><td>1003</td><td>0.002326</td></tr><tr><td>6040</td><td>1991</td><td>0.002322</td></tr><tr><td>6040</td><td>2591</td><td>0.002289</td></tr><tr><td>6040</td><td>1036</td><td>0.002287</td></tr><tr><td>6040</td><td>4564</td><td>0.002256</td></tr><tr><td>6040</td><td>811</td><td>0.002256</td></tr></tbody></table></div>"
      ],
      "text/plain": [
       "shape: (50_000, 3)\n",
       "┌─────────┬─────────────────┬────────────┐\n",
       "│ user_id ┆ similar_user_id ┆ similarity │\n",
       "│ ---     ┆ ---             ┆ ---        │\n",
       "│ i32     ┆ i32             ┆ f32        │\n",
       "╞═════════╪═════════════════╪════════════╡\n",
       "│ 1       ┆ 5343            ┆ 0.00891    │\n",
       "│ 1       ┆ 5190            ┆ 0.007898   │\n",
       "│ 1       ┆ 1283            ┆ 0.007383   │\n",
       "│ 1       ┆ 681             ┆ 0.006951   │\n",
       "│ …       ┆ …               ┆ …          │\n",
       "│ 6040    ┆ 2591            ┆ 0.002289   │\n",
       "│ 6040    ┆ 1036            ┆ 0.002287   │\n",
       "│ 6040    ┆ 4564            ┆ 0.002256   │\n",
       "│ 6040    ┆ 811             ┆ 0.002256   │\n",
       "└─────────┴─────────────────┴────────────┘"
      ]
     },
     "execution_count": 9,
     "metadata": {},
     "output_type": "execute_result"
    }
   ],
   "source": [
    "user_similarity(interactions_5k)\n"
   ]
  }
 ],
 "metadata": {
  "kernelspec": {
   "display_name": "base",
   "language": "python",
   "name": "python3"
  },
  "language_info": {
   "codemirror_mode": {
    "name": "ipython",
    "version": 3
   },
   "file_extension": ".py",
   "mimetype": "text/x-python",
   "name": "python",
   "nbconvert_exporter": "python",
   "pygments_lexer": "ipython3",
   "version": "3.9.5"
  }
 },
 "nbformat": 4,
 "nbformat_minor": 2
}
