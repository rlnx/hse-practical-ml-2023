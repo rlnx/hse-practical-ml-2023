{
 "cells": [
  {
   "cell_type": "code",
   "execution_count": 1,
   "metadata": {},
   "outputs": [],
   "source": [
    "import abc\n",
    "from typing import Mapping, Tuple, List\n",
    "\n",
    "import numpy as np\n",
    "import polars as pl\n",
    "import polars.selectors as cs"
   ]
  },
  {
   "cell_type": "code",
   "execution_count": 2,
   "metadata": {},
   "outputs": [
    {
     "data": {
      "text/html": [
       "<div><style>\n",
       ".dataframe > thead > tr > th,\n",
       ".dataframe > tbody > tr > td {\n",
       "  text-align: right;\n",
       "}\n",
       "</style>\n",
       "<small>shape: (9_357, 15)</small><table border=\"1\" class=\"dataframe\"><thead><tr><th>Date</th><th>Time</th><th>CO(GT)</th><th>PT08.S1(CO)</th><th>NMHC(GT)</th><th>C6H6(GT)</th><th>PT08.S2(NMHC)</th><th>NOx(GT)</th><th>PT08.S3(NOx)</th><th>NO2(GT)</th><th>PT08.S4(NO2)</th><th>PT08.S5(O3)</th><th>T</th><th>RH</th><th>AH</th></tr><tr><td>date</td><td>time</td><td>f32</td><td>f32</td><td>f32</td><td>f32</td><td>f32</td><td>f32</td><td>f32</td><td>f32</td><td>f32</td><td>f32</td><td>f32</td><td>f32</td><td>f32</td></tr></thead><tbody><tr><td>2004-03-10</td><td>18:00:00</td><td>2.6</td><td>1360.0</td><td>150.0</td><td>11.9</td><td>1046.0</td><td>166.0</td><td>1056.0</td><td>113.0</td><td>1692.0</td><td>1268.0</td><td>13.6</td><td>48.900002</td><td>0.7578</td></tr><tr><td>2004-03-10</td><td>19:00:00</td><td>2.0</td><td>1292.0</td><td>112.0</td><td>9.4</td><td>955.0</td><td>103.0</td><td>1174.0</td><td>92.0</td><td>1559.0</td><td>972.0</td><td>13.3</td><td>47.700001</td><td>0.7255</td></tr><tr><td>2004-03-10</td><td>20:00:00</td><td>2.2</td><td>1402.0</td><td>88.0</td><td>9.0</td><td>939.0</td><td>131.0</td><td>1140.0</td><td>114.0</td><td>1555.0</td><td>1074.0</td><td>11.9</td><td>54.0</td><td>0.7502</td></tr><tr><td>2004-03-10</td><td>21:00:00</td><td>2.2</td><td>1376.0</td><td>80.0</td><td>9.2</td><td>948.0</td><td>172.0</td><td>1092.0</td><td>122.0</td><td>1584.0</td><td>1203.0</td><td>11.0</td><td>60.0</td><td>0.7867</td></tr><tr><td>2004-03-10</td><td>22:00:00</td><td>1.6</td><td>1272.0</td><td>51.0</td><td>6.5</td><td>836.0</td><td>131.0</td><td>1205.0</td><td>116.0</td><td>1490.0</td><td>1110.0</td><td>11.2</td><td>59.599998</td><td>0.7888</td></tr><tr><td>2004-03-10</td><td>23:00:00</td><td>1.2</td><td>1197.0</td><td>38.0</td><td>4.7</td><td>750.0</td><td>89.0</td><td>1337.0</td><td>96.0</td><td>1393.0</td><td>949.0</td><td>11.2</td><td>59.200001</td><td>0.7848</td></tr><tr><td>2004-03-11</td><td>00:00:00</td><td>1.2</td><td>1185.0</td><td>31.0</td><td>3.6</td><td>690.0</td><td>62.0</td><td>1462.0</td><td>77.0</td><td>1333.0</td><td>733.0</td><td>11.3</td><td>56.799999</td><td>0.7603</td></tr><tr><td>2004-03-11</td><td>01:00:00</td><td>1.0</td><td>1136.0</td><td>31.0</td><td>3.3</td><td>672.0</td><td>62.0</td><td>1453.0</td><td>76.0</td><td>1333.0</td><td>730.0</td><td>10.7</td><td>60.0</td><td>0.7702</td></tr><tr><td>2004-03-11</td><td>02:00:00</td><td>0.9</td><td>1094.0</td><td>24.0</td><td>2.3</td><td>609.0</td><td>45.0</td><td>1579.0</td><td>60.0</td><td>1276.0</td><td>620.0</td><td>10.7</td><td>59.700001</td><td>0.7648</td></tr><tr><td>2004-03-11</td><td>03:00:00</td><td>0.6</td><td>1010.0</td><td>19.0</td><td>1.7</td><td>561.0</td><td>-200.0</td><td>1705.0</td><td>-200.0</td><td>1235.0</td><td>501.0</td><td>10.3</td><td>60.200001</td><td>0.7517</td></tr><tr><td>2004-03-11</td><td>04:00:00</td><td>-200.0</td><td>1011.0</td><td>14.0</td><td>1.3</td><td>527.0</td><td>21.0</td><td>1818.0</td><td>34.0</td><td>1197.0</td><td>445.0</td><td>10.1</td><td>60.5</td><td>0.7465</td></tr><tr><td>2004-03-11</td><td>05:00:00</td><td>0.7</td><td>1066.0</td><td>8.0</td><td>1.1</td><td>512.0</td><td>16.0</td><td>1918.0</td><td>28.0</td><td>1182.0</td><td>422.0</td><td>11.0</td><td>56.200001</td><td>0.7366</td></tr><tr><td>&hellip;</td><td>&hellip;</td><td>&hellip;</td><td>&hellip;</td><td>&hellip;</td><td>&hellip;</td><td>&hellip;</td><td>&hellip;</td><td>&hellip;</td><td>&hellip;</td><td>&hellip;</td><td>&hellip;</td><td>&hellip;</td><td>&hellip;</td><td>&hellip;</td></tr><tr><td>2005-04-04</td><td>03:00:00</td><td>0.4</td><td>887.0</td><td>-200.0</td><td>1.1</td><td>508.0</td><td>62.0</td><td>1047.0</td><td>51.0</td><td>974.0</td><td>549.0</td><td>11.3</td><td>58.900002</td><td>0.7888</td></tr><tr><td>2005-04-04</td><td>04:00:00</td><td>-200.0</td><td>864.0</td><td>-200.0</td><td>0.8</td><td>478.0</td><td>52.0</td><td>1116.0</td><td>43.0</td><td>958.0</td><td>489.0</td><td>11.8</td><td>56.0</td><td>0.7743</td></tr><tr><td>2005-04-04</td><td>05:00:00</td><td>0.5</td><td>888.0</td><td>-200.0</td><td>1.3</td><td>528.0</td><td>77.0</td><td>1077.0</td><td>53.0</td><td>987.0</td><td>578.0</td><td>10.4</td><td>59.900002</td><td>0.755</td></tr><tr><td>2005-04-04</td><td>06:00:00</td><td>1.1</td><td>1031.0</td><td>-200.0</td><td>4.4</td><td>730.0</td><td>182.0</td><td>760.0</td><td>93.0</td><td>1129.0</td><td>905.0</td><td>9.5</td><td>63.099998</td><td>0.7531</td></tr><tr><td>2005-04-04</td><td>07:00:00</td><td>4.0</td><td>1384.0</td><td>-200.0</td><td>17.4</td><td>1221.0</td><td>594.0</td><td>470.0</td><td>155.0</td><td>1600.0</td><td>1457.0</td><td>9.7</td><td>61.900002</td><td>0.7446</td></tr><tr><td>2005-04-04</td><td>08:00:00</td><td>5.0</td><td>1446.0</td><td>-200.0</td><td>22.4</td><td>1362.0</td><td>586.0</td><td>415.0</td><td>174.0</td><td>1777.0</td><td>1705.0</td><td>13.5</td><td>48.900002</td><td>0.7553</td></tr><tr><td>2005-04-04</td><td>09:00:00</td><td>3.9</td><td>1297.0</td><td>-200.0</td><td>13.6</td><td>1102.0</td><td>523.0</td><td>507.0</td><td>187.0</td><td>1375.0</td><td>1583.0</td><td>18.200001</td><td>36.299999</td><td>0.7487</td></tr><tr><td>2005-04-04</td><td>10:00:00</td><td>3.1</td><td>1314.0</td><td>-200.0</td><td>13.5</td><td>1101.0</td><td>472.0</td><td>539.0</td><td>190.0</td><td>1374.0</td><td>1729.0</td><td>21.9</td><td>29.299999</td><td>0.7568</td></tr><tr><td>2005-04-04</td><td>11:00:00</td><td>2.4</td><td>1163.0</td><td>-200.0</td><td>11.4</td><td>1027.0</td><td>353.0</td><td>604.0</td><td>179.0</td><td>1264.0</td><td>1269.0</td><td>24.299999</td><td>23.700001</td><td>0.7119</td></tr><tr><td>2005-04-04</td><td>12:00:00</td><td>2.4</td><td>1142.0</td><td>-200.0</td><td>12.4</td><td>1063.0</td><td>293.0</td><td>603.0</td><td>175.0</td><td>1241.0</td><td>1092.0</td><td>26.9</td><td>18.299999</td><td>0.6406</td></tr><tr><td>2005-04-04</td><td>13:00:00</td><td>2.1</td><td>1003.0</td><td>-200.0</td><td>9.5</td><td>961.0</td><td>235.0</td><td>702.0</td><td>156.0</td><td>1041.0</td><td>770.0</td><td>28.299999</td><td>13.5</td><td>0.5139</td></tr><tr><td>2005-04-04</td><td>14:00:00</td><td>2.2</td><td>1071.0</td><td>-200.0</td><td>11.9</td><td>1047.0</td><td>265.0</td><td>654.0</td><td>168.0</td><td>1129.0</td><td>816.0</td><td>28.5</td><td>13.1</td><td>0.5028</td></tr></tbody></table></div>"
      ],
      "text/plain": [
       "shape: (9_357, 15)\n",
       "┌────────────┬──────────┬────────┬─────────────┬───┬─────────────┬───────────┬───────────┬────────┐\n",
       "│ Date       ┆ Time     ┆ CO(GT) ┆ PT08.S1(CO) ┆ … ┆ PT08.S5(O3) ┆ T         ┆ RH        ┆ AH     │\n",
       "│ ---        ┆ ---      ┆ ---    ┆ ---         ┆   ┆ ---         ┆ ---       ┆ ---       ┆ ---    │\n",
       "│ date       ┆ time     ┆ f32    ┆ f32         ┆   ┆ f32         ┆ f32       ┆ f32       ┆ f32    │\n",
       "╞════════════╪══════════╪════════╪═════════════╪═══╪═════════════╪═══════════╪═══════════╪════════╡\n",
       "│ 2004-03-10 ┆ 18:00:00 ┆ 2.6    ┆ 1360.0      ┆ … ┆ 1268.0      ┆ 13.6      ┆ 48.900002 ┆ 0.7578 │\n",
       "│ 2004-03-10 ┆ 19:00:00 ┆ 2.0    ┆ 1292.0      ┆ … ┆ 972.0       ┆ 13.3      ┆ 47.700001 ┆ 0.7255 │\n",
       "│ 2004-03-10 ┆ 20:00:00 ┆ 2.2    ┆ 1402.0      ┆ … ┆ 1074.0      ┆ 11.9      ┆ 54.0      ┆ 0.7502 │\n",
       "│ 2004-03-10 ┆ 21:00:00 ┆ 2.2    ┆ 1376.0      ┆ … ┆ 1203.0      ┆ 11.0      ┆ 60.0      ┆ 0.7867 │\n",
       "│ …          ┆ …        ┆ …      ┆ …           ┆ … ┆ …           ┆ …         ┆ …         ┆ …      │\n",
       "│ 2005-04-04 ┆ 11:00:00 ┆ 2.4    ┆ 1163.0      ┆ … ┆ 1269.0      ┆ 24.299999 ┆ 23.700001 ┆ 0.7119 │\n",
       "│ 2005-04-04 ┆ 12:00:00 ┆ 2.4    ┆ 1142.0      ┆ … ┆ 1092.0      ┆ 26.9      ┆ 18.299999 ┆ 0.6406 │\n",
       "│ 2005-04-04 ┆ 13:00:00 ┆ 2.1    ┆ 1003.0      ┆ … ┆ 770.0       ┆ 28.299999 ┆ 13.5      ┆ 0.5139 │\n",
       "│ 2005-04-04 ┆ 14:00:00 ┆ 2.2    ┆ 1071.0      ┆ … ┆ 816.0       ┆ 28.5      ┆ 13.1      ┆ 0.5028 │\n",
       "└────────────┴──────────┴────────┴─────────────┴───┴─────────────┴───────────┴───────────┴────────┘"
      ]
     },
     "execution_count": 2,
     "metadata": {},
     "output_type": "execute_result"
    }
   ],
   "source": [
    "air_quality_data = (\n",
    "    pl.read_csv(\"../data/air_quality/air_quality.csv\", separator=\";\")\n",
    "    .drop(cs.last())\n",
    "    .filter(\n",
    "        ~pl.all_horizontal(pl.all().is_null())\n",
    "    )\n",
    "    .with_columns(\n",
    "        pl.col(\"Date\").str.strptime(pl.Date, \"%d/%m/%Y\"),\n",
    "        pl.col(\"Time\").str.strptime(pl.Time, \"%H.%M.%s\"),\n",
    "        pl.col(pl.Utf8).exclude(\"Date\", \"Time\").str.replace(\",\", \".\").cast(pl.Float32),\n",
    "        pl.col(pl.Int64).cast(pl.Float32)\n",
    "    )\n",
    ")\n",
    "\n",
    "air_quality_data"
   ]
  },
  {
   "cell_type": "code",
   "execution_count": 3,
   "metadata": {},
   "outputs": [],
   "source": [
    "class Transformer(abc.ABC):\n",
    "    @abc.abstractmethod\n",
    "    def fit_transform(self, df: pl.DataFrame) -> pl.DataFrame:\n",
    "        pass\n",
    "\n",
    "    @abc.abstractmethod\n",
    "    def transform(self, df: pl.DataFrame) -> pl.DataFrame:\n",
    "        pass\n",
    "\n",
    "\n",
    "class Pipeline(Transformer):\n",
    "    def __init__(self, transformers: List[Transformer]) -> None:\n",
    "        super().__init__()\n",
    "        self._transforms = transformers\n",
    "\n",
    "    def fit_transform(self, df: pl.DataFrame) -> pl.DataFrame:\n",
    "        for t in self._transforms:\n",
    "            print(f\"Run fit-transform of {t.__class__.__name__}\")\n",
    "            df = t.fit_transform(df)\n",
    "        return df\n",
    "    \n",
    "    def transform(self, df: pl.DataFrame) -> pl.DataFrame:\n",
    "        for t in self._transforms:\n",
    "            print(f\"Run transform of {t.__class__.__name__}\")\n",
    "            df = t.transform(df)\n",
    "        return df"
   ]
  },
  {
   "cell_type": "code",
   "execution_count": 5,
   "metadata": {},
   "outputs": [
    {
     "data": {
      "text/html": [
       "<div><style>\n",
       ".dataframe > thead > tr > th,\n",
       ".dataframe > tbody > tr > td {\n",
       "  text-align: right;\n",
       "}\n",
       "</style>\n",
       "<small>shape: (9_357, 18)</small><table border=\"1\" class=\"dataframe\"><thead><tr><th>Date</th><th>Time</th><th>CO(GT)</th><th>PT08.S1(CO)</th><th>NMHC(GT)</th><th>C6H6(GT)</th><th>PT08.S2(NMHC)</th><th>NOx(GT)</th><th>PT08.S3(NOx)</th><th>NO2(GT)</th><th>PT08.S4(NO2)</th><th>PT08.S5(O3)</th><th>T</th><th>RH</th><th>AH</th><th>T_norm</th><th>RH_norm</th><th>AH_norm</th></tr><tr><td>date</td><td>time</td><td>f32</td><td>f32</td><td>f32</td><td>f32</td><td>f32</td><td>f32</td><td>f32</td><td>f32</td><td>f32</td><td>f32</td><td>f32</td><td>f32</td><td>f32</td><td>f32</td><td>f32</td><td>f32</td></tr></thead><tbody><tr><td>2004-03-10</td><td>18:00:00</td><td>2.6</td><td>1360.0</td><td>150.0</td><td>11.9</td><td>1046.0</td><td>166.0</td><td>1056.0</td><td>113.0</td><td>1692.0</td><td>1268.0</td><td>13.6</td><td>48.900002</td><td>0.7578</td><td>0.873262</td><td>0.862141</td><td>0.992715</td></tr><tr><td>2004-03-10</td><td>19:00:00</td><td>2.0</td><td>1292.0</td><td>112.0</td><td>9.4</td><td>955.0</td><td>103.0</td><td>1174.0</td><td>92.0</td><td>1559.0</td><td>972.0</td><td>13.3</td><td>47.700001</td><td>0.7255</td><td>0.872036</td><td>0.857984</td><td>0.992555</td></tr><tr><td>2004-03-10</td><td>20:00:00</td><td>2.2</td><td>1402.0</td><td>88.0</td><td>9.0</td><td>939.0</td><td>131.0</td><td>1140.0</td><td>114.0</td><td>1555.0</td><td>1074.0</td><td>11.9</td><td>54.0</td><td>0.7502</td><td>0.866312</td><td>0.879806</td><td>0.992678</td></tr><tr><td>2004-03-10</td><td>21:00:00</td><td>2.2</td><td>1376.0</td><td>80.0</td><td>9.2</td><td>948.0</td><td>172.0</td><td>1092.0</td><td>122.0</td><td>1584.0</td><td>1203.0</td><td>11.0</td><td>60.0</td><td>0.7867</td><td>0.862633</td><td>0.900589</td><td>0.992858</td></tr><tr><td>2004-03-10</td><td>22:00:00</td><td>1.6</td><td>1272.0</td><td>51.0</td><td>6.5</td><td>836.0</td><td>131.0</td><td>1205.0</td><td>116.0</td><td>1490.0</td><td>1110.0</td><td>11.2</td><td>59.599998</td><td>0.7888</td><td>0.863451</td><td>0.899203</td><td>0.992869</td></tr><tr><td>2004-03-10</td><td>23:00:00</td><td>1.2</td><td>1197.0</td><td>38.0</td><td>4.7</td><td>750.0</td><td>89.0</td><td>1337.0</td><td>96.0</td><td>1393.0</td><td>949.0</td><td>11.2</td><td>59.200001</td><td>0.7848</td><td>0.863451</td><td>0.897818</td><td>0.992849</td></tr><tr><td>2004-03-11</td><td>00:00:00</td><td>1.2</td><td>1185.0</td><td>31.0</td><td>3.6</td><td>690.0</td><td>62.0</td><td>1462.0</td><td>77.0</td><td>1333.0</td><td>733.0</td><td>11.3</td><td>56.799999</td><td>0.7603</td><td>0.863859</td><td>0.889505</td><td>0.992728</td></tr><tr><td>2004-03-11</td><td>01:00:00</td><td>1.0</td><td>1136.0</td><td>31.0</td><td>3.3</td><td>672.0</td><td>62.0</td><td>1453.0</td><td>76.0</td><td>1333.0</td><td>730.0</td><td>10.7</td><td>60.0</td><td>0.7702</td><td>0.861406</td><td>0.900589</td><td>0.992777</td></tr><tr><td>2004-03-11</td><td>02:00:00</td><td>0.9</td><td>1094.0</td><td>24.0</td><td>2.3</td><td>609.0</td><td>45.0</td><td>1579.0</td><td>60.0</td><td>1276.0</td><td>620.0</td><td>10.7</td><td>59.700001</td><td>0.7648</td><td>0.861406</td><td>0.89955</td><td>0.99275</td></tr><tr><td>2004-03-11</td><td>03:00:00</td><td>0.6</td><td>1010.0</td><td>19.0</td><td>1.7</td><td>561.0</td><td>-200.0</td><td>1705.0</td><td>-200.0</td><td>1235.0</td><td>501.0</td><td>10.3</td><td>60.200001</td><td>0.7517</td><td>0.859771</td><td>0.901282</td><td>0.992685</td></tr><tr><td>2004-03-11</td><td>04:00:00</td><td>-200.0</td><td>1011.0</td><td>14.0</td><td>1.3</td><td>527.0</td><td>21.0</td><td>1818.0</td><td>34.0</td><td>1197.0</td><td>445.0</td><td>10.1</td><td>60.5</td><td>0.7465</td><td>0.858953</td><td>0.902321</td><td>0.992659</td></tr><tr><td>2004-03-11</td><td>05:00:00</td><td>0.7</td><td>1066.0</td><td>8.0</td><td>1.1</td><td>512.0</td><td>16.0</td><td>1918.0</td><td>28.0</td><td>1182.0</td><td>422.0</td><td>11.0</td><td>56.200001</td><td>0.7366</td><td>0.862633</td><td>0.887426</td><td>0.99261</td></tr><tr><td>&hellip;</td><td>&hellip;</td><td>&hellip;</td><td>&hellip;</td><td>&hellip;</td><td>&hellip;</td><td>&hellip;</td><td>&hellip;</td><td>&hellip;</td><td>&hellip;</td><td>&hellip;</td><td>&hellip;</td><td>&hellip;</td><td>&hellip;</td><td>&hellip;</td><td>&hellip;</td><td>&hellip;</td><td>&hellip;</td></tr><tr><td>2005-04-04</td><td>03:00:00</td><td>0.4</td><td>887.0</td><td>-200.0</td><td>1.1</td><td>508.0</td><td>62.0</td><td>1047.0</td><td>51.0</td><td>974.0</td><td>549.0</td><td>11.3</td><td>58.900002</td><td>0.7888</td><td>0.863859</td><td>0.896779</td><td>0.992869</td></tr><tr><td>2005-04-04</td><td>04:00:00</td><td>-200.0</td><td>864.0</td><td>-200.0</td><td>0.8</td><td>478.0</td><td>52.0</td><td>1116.0</td><td>43.0</td><td>958.0</td><td>489.0</td><td>11.8</td><td>56.0</td><td>0.7743</td><td>0.865903</td><td>0.886734</td><td>0.992797</td></tr><tr><td>2005-04-04</td><td>05:00:00</td><td>0.5</td><td>888.0</td><td>-200.0</td><td>1.3</td><td>528.0</td><td>77.0</td><td>1077.0</td><td>53.0</td><td>987.0</td><td>578.0</td><td>10.4</td><td>59.900002</td><td>0.755</td><td>0.86018</td><td>0.900242</td><td>0.992701</td></tr><tr><td>2005-04-04</td><td>06:00:00</td><td>1.1</td><td>1031.0</td><td>-200.0</td><td>4.4</td><td>730.0</td><td>182.0</td><td>760.0</td><td>93.0</td><td>1129.0</td><td>905.0</td><td>9.5</td><td>63.099998</td><td>0.7531</td><td>0.8565</td><td>0.911327</td><td>0.992692</td></tr><tr><td>2005-04-04</td><td>07:00:00</td><td>4.0</td><td>1384.0</td><td>-200.0</td><td>17.4</td><td>1221.0</td><td>594.0</td><td>470.0</td><td>155.0</td><td>1600.0</td><td>1457.0</td><td>9.7</td><td>61.900002</td><td>0.7446</td><td>0.857318</td><td>0.90717</td><td>0.99265</td></tr><tr><td>2005-04-04</td><td>08:00:00</td><td>5.0</td><td>1446.0</td><td>-200.0</td><td>22.4</td><td>1362.0</td><td>586.0</td><td>415.0</td><td>174.0</td><td>1777.0</td><td>1705.0</td><td>13.5</td><td>48.900002</td><td>0.7553</td><td>0.872854</td><td>0.862141</td><td>0.992703</td></tr><tr><td>2005-04-04</td><td>09:00:00</td><td>3.9</td><td>1297.0</td><td>-200.0</td><td>13.6</td><td>1102.0</td><td>523.0</td><td>507.0</td><td>187.0</td><td>1375.0</td><td>1583.0</td><td>18.200001</td><td>36.299999</td><td>0.7487</td><td>0.892069</td><td>0.818497</td><td>0.99267</td></tr><tr><td>2005-04-04</td><td>10:00:00</td><td>3.1</td><td>1314.0</td><td>-200.0</td><td>13.5</td><td>1101.0</td><td>472.0</td><td>539.0</td><td>190.0</td><td>1374.0</td><td>1729.0</td><td>21.9</td><td>29.299999</td><td>0.7568</td><td>0.907195</td><td>0.79425</td><td>0.99271</td></tr><tr><td>2005-04-04</td><td>11:00:00</td><td>2.4</td><td>1163.0</td><td>-200.0</td><td>11.4</td><td>1027.0</td><td>353.0</td><td>604.0</td><td>179.0</td><td>1264.0</td><td>1269.0</td><td>24.299999</td><td>23.700001</td><td>0.7119</td><td>0.917007</td><td>0.774853</td><td>0.992488</td></tr><tr><td>2005-04-04</td><td>12:00:00</td><td>2.4</td><td>1142.0</td><td>-200.0</td><td>12.4</td><td>1063.0</td><td>293.0</td><td>603.0</td><td>175.0</td><td>1241.0</td><td>1092.0</td><td>26.9</td><td>18.299999</td><td>0.6406</td><td>0.927637</td><td>0.756148</td><td>0.992136</td></tr><tr><td>2005-04-04</td><td>13:00:00</td><td>2.1</td><td>1003.0</td><td>-200.0</td><td>9.5</td><td>961.0</td><td>235.0</td><td>702.0</td><td>156.0</td><td>1041.0</td><td>770.0</td><td>28.299999</td><td>13.5</td><td>0.5139</td><td>0.933361</td><td>0.739522</td><td>0.991509</td></tr><tr><td>2005-04-04</td><td>14:00:00</td><td>2.2</td><td>1071.0</td><td>-200.0</td><td>11.9</td><td>1047.0</td><td>265.0</td><td>654.0</td><td>168.0</td><td>1129.0</td><td>816.0</td><td>28.5</td><td>13.1</td><td>0.5028</td><td>0.934178</td><td>0.738136</td><td>0.991454</td></tr></tbody></table></div>"
      ],
      "text/plain": [
       "shape: (9_357, 18)\n",
       "┌────────────┬──────────┬────────┬─────────────┬───┬────────┬──────────┬──────────┬──────────┐\n",
       "│ Date       ┆ Time     ┆ CO(GT) ┆ PT08.S1(CO) ┆ … ┆ AH     ┆ T_norm   ┆ RH_norm  ┆ AH_norm  │\n",
       "│ ---        ┆ ---      ┆ ---    ┆ ---         ┆   ┆ ---    ┆ ---      ┆ ---      ┆ ---      │\n",
       "│ date       ┆ time     ┆ f32    ┆ f32         ┆   ┆ f32    ┆ f32      ┆ f32      ┆ f32      │\n",
       "╞════════════╪══════════╪════════╪═════════════╪═══╪════════╪══════════╪══════════╪══════════╡\n",
       "│ 2004-03-10 ┆ 18:00:00 ┆ 2.6    ┆ 1360.0      ┆ … ┆ 0.7578 ┆ 0.873262 ┆ 0.862141 ┆ 0.992715 │\n",
       "│ 2004-03-10 ┆ 19:00:00 ┆ 2.0    ┆ 1292.0      ┆ … ┆ 0.7255 ┆ 0.872036 ┆ 0.857984 ┆ 0.992555 │\n",
       "│ 2004-03-10 ┆ 20:00:00 ┆ 2.2    ┆ 1402.0      ┆ … ┆ 0.7502 ┆ 0.866312 ┆ 0.879806 ┆ 0.992678 │\n",
       "│ 2004-03-10 ┆ 21:00:00 ┆ 2.2    ┆ 1376.0      ┆ … ┆ 0.7867 ┆ 0.862633 ┆ 0.900589 ┆ 0.992858 │\n",
       "│ …          ┆ …        ┆ …      ┆ …           ┆ … ┆ …      ┆ …        ┆ …        ┆ …        │\n",
       "│ 2005-04-04 ┆ 11:00:00 ┆ 2.4    ┆ 1163.0      ┆ … ┆ 0.7119 ┆ 0.917007 ┆ 0.774853 ┆ 0.992488 │\n",
       "│ 2005-04-04 ┆ 12:00:00 ┆ 2.4    ┆ 1142.0      ┆ … ┆ 0.6406 ┆ 0.927637 ┆ 0.756148 ┆ 0.992136 │\n",
       "│ 2005-04-04 ┆ 13:00:00 ┆ 2.1    ┆ 1003.0      ┆ … ┆ 0.5139 ┆ 0.933361 ┆ 0.739522 ┆ 0.991509 │\n",
       "│ 2005-04-04 ┆ 14:00:00 ┆ 2.2    ┆ 1071.0      ┆ … ┆ 0.5028 ┆ 0.934178 ┆ 0.738136 ┆ 0.991454 │\n",
       "└────────────┴──────────┴────────┴─────────────┴───┴────────┴──────────┴──────────┴──────────┘"
      ]
     },
     "execution_count": 5,
     "metadata": {},
     "output_type": "execute_result"
    }
   ],
   "source": [
    "class MinMaxScaler(Transformer):\n",
    "    def __init__(self, columns: List[str], suffix: str = \"_norm\") -> None:\n",
    "        super().__init__()\n",
    "        self._columns = columns\n",
    "        self._suffix = suffix\n",
    "\n",
    "    def fit(self, df: pl.DataFrame) -> \"MinMaxScaler\":\n",
    "        df_min = df.select(pl.col(self._columns).min())\n",
    "        df_max = df.select(pl.col(self._columns).max())\n",
    "        self._min_values = {k: v[0] for k, v in df_min.to_dict().items()}\n",
    "        self._max_values = {k: v[0] for k, v in df_max.to_dict().items()}\n",
    "        return self\n",
    "\n",
    "    def transform(self, df: pl.DataFrame) -> pl.DataFrame:\n",
    "        exprs = []\n",
    "        for c in self._columns:\n",
    "            exprs.append(\n",
    "                (\n",
    "                    (pl.col(c) - self._min_values[c]) / \n",
    "                    (self._max_values[c] - self._min_values[c])\n",
    "                ).alias(c + self._suffix)\n",
    "            )\n",
    "        return df.with_columns(exprs)\n",
    "    \n",
    "    def fit_transform(self, df: pl.DataFrame) -> pl.DataFrame:\n",
    "        return self.fit(df).transform(df)\n",
    "\n",
    "\n",
    "min_max_scaler = MinMaxScaler(\n",
    "    [\n",
    "        \"T\",\n",
    "        \"RH\",\n",
    "        \"AH\",\n",
    "    ],\n",
    "    suffix=\"_norm\",\n",
    ")\n",
    "min_max_scaler.fit_transform(air_quality_data)"
   ]
  },
  {
   "cell_type": "code",
   "execution_count": 6,
   "metadata": {},
   "outputs": [
    {
     "data": {
      "text/html": [
       "<div><style>\n",
       ".dataframe > thead > tr > th,\n",
       ".dataframe > tbody > tr > td {\n",
       "  text-align: right;\n",
       "}\n",
       "</style>\n",
       "<small>shape: (9_357, 18)</small><table border=\"1\" class=\"dataframe\"><thead><tr><th>Date</th><th>Time</th><th>CO(GT)</th><th>PT08.S1(CO)</th><th>NMHC(GT)</th><th>C6H6(GT)</th><th>PT08.S2(NMHC)</th><th>NOx(GT)</th><th>PT08.S3(NOx)</th><th>NO2(GT)</th><th>PT08.S4(NO2)</th><th>PT08.S5(O3)</th><th>T</th><th>RH</th><th>AH</th><th>CO(GT)_binned</th><th>PT08.S1(CO)_binned</th><th>NMHC(GT)_binned</th></tr><tr><td>date</td><td>time</td><td>f32</td><td>f32</td><td>f32</td><td>f32</td><td>f32</td><td>f32</td><td>f32</td><td>f32</td><td>f32</td><td>f32</td><td>f32</td><td>f32</td><td>f32</td><td>i64</td><td>i64</td><td>i64</td></tr></thead><tbody><tr><td>2004-03-10</td><td>18:00:00</td><td>2.6</td><td>1360.0</td><td>150.0</td><td>11.9</td><td>1046.0</td><td>166.0</td><td>1056.0</td><td>113.0</td><td>1692.0</td><td>1268.0</td><td>13.6</td><td>48.900002</td><td>0.7578</td><td>1068</td><td>56</td><td>4</td></tr><tr><td>2004-03-10</td><td>19:00:00</td><td>2.0</td><td>1292.0</td><td>112.0</td><td>9.4</td><td>955.0</td><td>103.0</td><td>1174.0</td><td>92.0</td><td>1559.0</td><td>972.0</td><td>13.3</td><td>47.700001</td><td>0.7255</td><td>1065</td><td>53</td><td>4</td></tr><tr><td>2004-03-10</td><td>20:00:00</td><td>2.2</td><td>1402.0</td><td>88.0</td><td>9.0</td><td>939.0</td><td>131.0</td><td>1140.0</td><td>114.0</td><td>1555.0</td><td>1074.0</td><td>11.9</td><td>54.0</td><td>0.7502</td><td>1066</td><td>57</td><td>4</td></tr><tr><td>2004-03-10</td><td>21:00:00</td><td>2.2</td><td>1376.0</td><td>80.0</td><td>9.2</td><td>948.0</td><td>172.0</td><td>1092.0</td><td>122.0</td><td>1584.0</td><td>1203.0</td><td>11.0</td><td>60.0</td><td>0.7867</td><td>1066</td><td>56</td><td>4</td></tr><tr><td>2004-03-10</td><td>22:00:00</td><td>1.6</td><td>1272.0</td><td>51.0</td><td>6.5</td><td>836.0</td><td>131.0</td><td>1205.0</td><td>116.0</td><td>1490.0</td><td>1110.0</td><td>11.2</td><td>59.599998</td><td>0.7888</td><td>1063</td><td>52</td><td>3</td></tr><tr><td>2004-03-10</td><td>23:00:00</td><td>1.2</td><td>1197.0</td><td>38.0</td><td>4.7</td><td>750.0</td><td>89.0</td><td>1337.0</td><td>96.0</td><td>1393.0</td><td>949.0</td><td>11.2</td><td>59.200001</td><td>0.7848</td><td>1061</td><td>50</td><td>3</td></tr><tr><td>2004-03-11</td><td>00:00:00</td><td>1.2</td><td>1185.0</td><td>31.0</td><td>3.6</td><td>690.0</td><td>62.0</td><td>1462.0</td><td>77.0</td><td>1333.0</td><td>733.0</td><td>11.3</td><td>56.799999</td><td>0.7603</td><td>1061</td><td>49</td><td>3</td></tr><tr><td>2004-03-11</td><td>01:00:00</td><td>1.0</td><td>1136.0</td><td>31.0</td><td>3.3</td><td>672.0</td><td>62.0</td><td>1453.0</td><td>76.0</td><td>1333.0</td><td>730.0</td><td>10.7</td><td>60.0</td><td>0.7702</td><td>1060</td><td>48</td><td>3</td></tr><tr><td>2004-03-11</td><td>02:00:00</td><td>0.9</td><td>1094.0</td><td>24.0</td><td>2.3</td><td>609.0</td><td>45.0</td><td>1579.0</td><td>60.0</td><td>1276.0</td><td>620.0</td><td>10.7</td><td>59.700001</td><td>0.7648</td><td>1060</td><td>46</td><td>3</td></tr><tr><td>2004-03-11</td><td>03:00:00</td><td>0.6</td><td>1010.0</td><td>19.0</td><td>1.7</td><td>561.0</td><td>-200.0</td><td>1705.0</td><td>-200.0</td><td>1235.0</td><td>501.0</td><td>10.3</td><td>60.200001</td><td>0.7517</td><td>1058</td><td>43</td><td>3</td></tr><tr><td>2004-03-11</td><td>04:00:00</td><td>-200.0</td><td>1011.0</td><td>14.0</td><td>1.3</td><td>527.0</td><td>21.0</td><td>1818.0</td><td>34.0</td><td>1197.0</td><td>445.0</td><td>10.1</td><td>60.5</td><td>0.7465</td><td>1</td><td>43</td><td>3</td></tr><tr><td>2004-03-11</td><td>05:00:00</td><td>0.7</td><td>1066.0</td><td>8.0</td><td>1.1</td><td>512.0</td><td>16.0</td><td>1918.0</td><td>28.0</td><td>1182.0</td><td>422.0</td><td>11.0</td><td>56.200001</td><td>0.7366</td><td>1058</td><td>45</td><td>3</td></tr><tr><td>&hellip;</td><td>&hellip;</td><td>&hellip;</td><td>&hellip;</td><td>&hellip;</td><td>&hellip;</td><td>&hellip;</td><td>&hellip;</td><td>&hellip;</td><td>&hellip;</td><td>&hellip;</td><td>&hellip;</td><td>&hellip;</td><td>&hellip;</td><td>&hellip;</td><td>&hellip;</td><td>&hellip;</td><td>&hellip;</td></tr><tr><td>2005-04-04</td><td>03:00:00</td><td>0.4</td><td>887.0</td><td>-200.0</td><td>1.1</td><td>508.0</td><td>62.0</td><td>1047.0</td><td>51.0</td><td>974.0</td><td>549.0</td><td>11.3</td><td>58.900002</td><td>0.7888</td><td>1057</td><td>39</td><td>1</td></tr><tr><td>2005-04-04</td><td>04:00:00</td><td>-200.0</td><td>864.0</td><td>-200.0</td><td>0.8</td><td>478.0</td><td>52.0</td><td>1116.0</td><td>43.0</td><td>958.0</td><td>489.0</td><td>11.8</td><td>56.0</td><td>0.7743</td><td>1</td><td>38</td><td>1</td></tr><tr><td>2005-04-04</td><td>05:00:00</td><td>0.5</td><td>888.0</td><td>-200.0</td><td>1.3</td><td>528.0</td><td>77.0</td><td>1077.0</td><td>53.0</td><td>987.0</td><td>578.0</td><td>10.4</td><td>59.900002</td><td>0.755</td><td>1057</td><td>39</td><td>1</td></tr><tr><td>2005-04-04</td><td>06:00:00</td><td>1.1</td><td>1031.0</td><td>-200.0</td><td>4.4</td><td>730.0</td><td>182.0</td><td>760.0</td><td>93.0</td><td>1129.0</td><td>905.0</td><td>9.5</td><td>63.099998</td><td>0.7531</td><td>1061</td><td>44</td><td>1</td></tr><tr><td>2005-04-04</td><td>07:00:00</td><td>4.0</td><td>1384.0</td><td>-200.0</td><td>17.4</td><td>1221.0</td><td>594.0</td><td>470.0</td><td>155.0</td><td>1600.0</td><td>1457.0</td><td>9.7</td><td>61.900002</td><td>0.7446</td><td>1076</td><td>56</td><td>1</td></tr><tr><td>2005-04-04</td><td>08:00:00</td><td>5.0</td><td>1446.0</td><td>-200.0</td><td>22.4</td><td>1362.0</td><td>586.0</td><td>415.0</td><td>174.0</td><td>1777.0</td><td>1705.0</td><td>13.5</td><td>48.900002</td><td>0.7553</td><td>1081</td><td>59</td><td>1</td></tr><tr><td>2005-04-04</td><td>09:00:00</td><td>3.9</td><td>1297.0</td><td>-200.0</td><td>13.6</td><td>1102.0</td><td>523.0</td><td>507.0</td><td>187.0</td><td>1375.0</td><td>1583.0</td><td>18.200001</td><td>36.299999</td><td>0.7487</td><td>1075</td><td>53</td><td>1</td></tr><tr><td>2005-04-04</td><td>10:00:00</td><td>3.1</td><td>1314.0</td><td>-200.0</td><td>13.5</td><td>1101.0</td><td>472.0</td><td>539.0</td><td>190.0</td><td>1374.0</td><td>1729.0</td><td>21.9</td><td>29.299999</td><td>0.7568</td><td>1071</td><td>54</td><td>1</td></tr><tr><td>2005-04-04</td><td>11:00:00</td><td>2.4</td><td>1163.0</td><td>-200.0</td><td>11.4</td><td>1027.0</td><td>353.0</td><td>604.0</td><td>179.0</td><td>1264.0</td><td>1269.0</td><td>24.299999</td><td>23.700001</td><td>0.7119</td><td>1067</td><td>49</td><td>1</td></tr><tr><td>2005-04-04</td><td>12:00:00</td><td>2.4</td><td>1142.0</td><td>-200.0</td><td>12.4</td><td>1063.0</td><td>293.0</td><td>603.0</td><td>175.0</td><td>1241.0</td><td>1092.0</td><td>26.9</td><td>18.299999</td><td>0.6406</td><td>1067</td><td>48</td><td>1</td></tr><tr><td>2005-04-04</td><td>13:00:00</td><td>2.1</td><td>1003.0</td><td>-200.0</td><td>9.5</td><td>961.0</td><td>235.0</td><td>702.0</td><td>156.0</td><td>1041.0</td><td>770.0</td><td>28.299999</td><td>13.5</td><td>0.5139</td><td>1066</td><td>43</td><td>1</td></tr><tr><td>2005-04-04</td><td>14:00:00</td><td>2.2</td><td>1071.0</td><td>-200.0</td><td>11.9</td><td>1047.0</td><td>265.0</td><td>654.0</td><td>168.0</td><td>1129.0</td><td>816.0</td><td>28.5</td><td>13.1</td><td>0.5028</td><td>1066</td><td>45</td><td>1</td></tr></tbody></table></div>"
      ],
      "text/plain": [
       "shape: (9_357, 18)\n",
       "┌────────────┬──────────┬────────┬─────────────┬───┬────────┬────────────┬────────────┬────────────┐\n",
       "│ Date       ┆ Time     ┆ CO(GT) ┆ PT08.S1(CO) ┆ … ┆ AH     ┆ CO(GT)_bin ┆ PT08.S1(CO ┆ NMHC(GT)_b │\n",
       "│ ---        ┆ ---      ┆ ---    ┆ ---         ┆   ┆ ---    ┆ ned        ┆ )_binned   ┆ inned      │\n",
       "│ date       ┆ time     ┆ f32    ┆ f32         ┆   ┆ f32    ┆ ---        ┆ ---        ┆ ---        │\n",
       "│            ┆          ┆        ┆             ┆   ┆        ┆ i64        ┆ i64        ┆ i64        │\n",
       "╞════════════╪══════════╪════════╪═════════════╪═══╪════════╪════════════╪════════════╪════════════╡\n",
       "│ 2004-03-10 ┆ 18:00:00 ┆ 2.6    ┆ 1360.0      ┆ … ┆ 0.7578 ┆ 1068       ┆ 56         ┆ 4          │\n",
       "│ 2004-03-10 ┆ 19:00:00 ┆ 2.0    ┆ 1292.0      ┆ … ┆ 0.7255 ┆ 1065       ┆ 53         ┆ 4          │\n",
       "│ 2004-03-10 ┆ 20:00:00 ┆ 2.2    ┆ 1402.0      ┆ … ┆ 0.7502 ┆ 1066       ┆ 57         ┆ 4          │\n",
       "│ 2004-03-10 ┆ 21:00:00 ┆ 2.2    ┆ 1376.0      ┆ … ┆ 0.7867 ┆ 1066       ┆ 56         ┆ 4          │\n",
       "│ …          ┆ …        ┆ …      ┆ …           ┆ … ┆ …      ┆ …          ┆ …          ┆ …          │\n",
       "│ 2005-04-04 ┆ 11:00:00 ┆ 2.4    ┆ 1163.0      ┆ … ┆ 0.7119 ┆ 1067       ┆ 49         ┆ 1          │\n",
       "│ 2005-04-04 ┆ 12:00:00 ┆ 2.4    ┆ 1142.0      ┆ … ┆ 0.6406 ┆ 1067       ┆ 48         ┆ 1          │\n",
       "│ 2005-04-04 ┆ 13:00:00 ┆ 2.1    ┆ 1003.0      ┆ … ┆ 0.5139 ┆ 1066       ┆ 43         ┆ 1          │\n",
       "│ 2005-04-04 ┆ 14:00:00 ┆ 2.2    ┆ 1071.0      ┆ … ┆ 0.5028 ┆ 1066       ┆ 45         ┆ 1          │\n",
       "└────────────┴──────────┴────────┴─────────────┴───┴────────┴────────────┴────────────┴────────────┘"
      ]
     },
     "execution_count": 6,
     "metadata": {},
     "output_type": "execute_result"
    }
   ],
   "source": [
    "class UniformBinning(Transformer):\n",
    "    def __init__(self, columns: List[str], suffix: str = \"_binned\") -> None:\n",
    "        super().__init__()\n",
    "        self._columns = columns\n",
    "        self._suffix = suffix\n",
    "\n",
    "    @property\n",
    "    def n_bins(self) -> Mapping[str, int]:\n",
    "        return { c: len(self._bins[c]) for c in self._columns }\n",
    "\n",
    "    @property\n",
    "    def bins(self) -> Mapping[str, np.ndarray]:\n",
    "        return self._bins\n",
    "\n",
    "    def fit(self, df: pl.DataFrame) -> \"UniformBinning\":\n",
    "        bins = {}\n",
    "        for c in self._columns:\n",
    "            bins[c] = self._bin_feature(df[c].to_numpy())\n",
    "        self._bins = bins\n",
    "        return self\n",
    "\n",
    "    def transform(self, df: pl.DataFrame) -> pl.DataFrame:\n",
    "        binned_values = {}\n",
    "        for c in self._columns:\n",
    "            binned_values[c] = np.digitize(df[c].to_numpy(), self._bins[c])\n",
    "\n",
    "        return df.with_columns([\n",
    "            pl.lit(binned_values[c]).alias(c + self._suffix) \n",
    "            for c in self._columns\n",
    "        ])\n",
    "\n",
    "    def fit_transform(self, df: pl.DataFrame) -> pl.DataFrame:\n",
    "        return self.fit(df).transform(df)\n",
    "    \n",
    "    def _bin_feature(self, feature_values: np.ndarray) -> np.ndarray:\n",
    "        return np.histogram_bin_edges(feature_values, bins=\"auto\")\n",
    "    \n",
    "\n",
    "uniform_binning = UniformBinning(\n",
    "    [\n",
    "        \"CO(GT)\",\n",
    "        \"PT08.S1(CO)\",\n",
    "        \"NMHC(GT)\",\n",
    "    ],\n",
    "    suffix=\"_binned\",\n",
    ")\n",
    "uniform_binning.fit_transform(air_quality_data)"
   ]
  },
  {
   "cell_type": "code",
   "execution_count": 7,
   "metadata": {},
   "outputs": [
    {
     "name": "stdout",
     "output_type": "stream",
     "text": [
      "{'CO(GT)': 1118, 'PT08.S1(CO)': 80, 'NMHC(GT)': 16}\n"
     ]
    }
   ],
   "source": [
    "print(uniform_binning.n_bins)"
   ]
  },
  {
   "cell_type": "code",
   "execution_count": 8,
   "metadata": {},
   "outputs": [
    {
     "data": {
      "text/html": [
       "<div><style>\n",
       ".dataframe > thead > tr > th,\n",
       ".dataframe > tbody > tr > td {\n",
       "  text-align: right;\n",
       "}\n",
       "</style>\n",
       "<small>shape: (9_357, 18)</small><table border=\"1\" class=\"dataframe\"><thead><tr><th>Date</th><th>Time</th><th>CO(GT)</th><th>PT08.S1(CO)</th><th>NMHC(GT)</th><th>C6H6(GT)</th><th>PT08.S2(NMHC)</th><th>NOx(GT)</th><th>PT08.S3(NOx)</th><th>NO2(GT)</th><th>PT08.S4(NO2)</th><th>PT08.S5(O3)</th><th>T</th><th>RH</th><th>AH</th><th>CO(GT)_winsorized</th><th>PT08.S1(CO)_winsorized</th><th>NMHC(GT)_winsorized</th></tr><tr><td>date</td><td>time</td><td>f32</td><td>f32</td><td>f32</td><td>f32</td><td>f32</td><td>f32</td><td>f32</td><td>f32</td><td>f32</td><td>f32</td><td>f32</td><td>f32</td><td>f32</td><td>f32</td><td>f32</td><td>f32</td></tr></thead><tbody><tr><td>2004-03-10</td><td>18:00:00</td><td>2.6</td><td>1360.0</td><td>150.0</td><td>11.9</td><td>1046.0</td><td>166.0</td><td>1056.0</td><td>113.0</td><td>1692.0</td><td>1268.0</td><td>13.6</td><td>48.900002</td><td>0.7578</td><td>2.6</td><td>1360.0</td><td>144.0</td></tr><tr><td>2004-03-10</td><td>19:00:00</td><td>2.0</td><td>1292.0</td><td>112.0</td><td>9.4</td><td>955.0</td><td>103.0</td><td>1174.0</td><td>92.0</td><td>1559.0</td><td>972.0</td><td>13.3</td><td>47.700001</td><td>0.7255</td><td>2.0</td><td>1292.0</td><td>112.0</td></tr><tr><td>2004-03-10</td><td>20:00:00</td><td>2.2</td><td>1402.0</td><td>88.0</td><td>9.0</td><td>939.0</td><td>131.0</td><td>1140.0</td><td>114.0</td><td>1555.0</td><td>1074.0</td><td>11.9</td><td>54.0</td><td>0.7502</td><td>2.2</td><td>1402.0</td><td>88.0</td></tr><tr><td>2004-03-10</td><td>21:00:00</td><td>2.2</td><td>1376.0</td><td>80.0</td><td>9.2</td><td>948.0</td><td>172.0</td><td>1092.0</td><td>122.0</td><td>1584.0</td><td>1203.0</td><td>11.0</td><td>60.0</td><td>0.7867</td><td>2.2</td><td>1376.0</td><td>80.0</td></tr><tr><td>2004-03-10</td><td>22:00:00</td><td>1.6</td><td>1272.0</td><td>51.0</td><td>6.5</td><td>836.0</td><td>131.0</td><td>1205.0</td><td>116.0</td><td>1490.0</td><td>1110.0</td><td>11.2</td><td>59.599998</td><td>0.7888</td><td>1.6</td><td>1272.0</td><td>51.0</td></tr><tr><td>2004-03-10</td><td>23:00:00</td><td>1.2</td><td>1197.0</td><td>38.0</td><td>4.7</td><td>750.0</td><td>89.0</td><td>1337.0</td><td>96.0</td><td>1393.0</td><td>949.0</td><td>11.2</td><td>59.200001</td><td>0.7848</td><td>1.2</td><td>1197.0</td><td>38.0</td></tr><tr><td>2004-03-11</td><td>00:00:00</td><td>1.2</td><td>1185.0</td><td>31.0</td><td>3.6</td><td>690.0</td><td>62.0</td><td>1462.0</td><td>77.0</td><td>1333.0</td><td>733.0</td><td>11.3</td><td>56.799999</td><td>0.7603</td><td>1.2</td><td>1185.0</td><td>31.0</td></tr><tr><td>2004-03-11</td><td>01:00:00</td><td>1.0</td><td>1136.0</td><td>31.0</td><td>3.3</td><td>672.0</td><td>62.0</td><td>1453.0</td><td>76.0</td><td>1333.0</td><td>730.0</td><td>10.7</td><td>60.0</td><td>0.7702</td><td>1.0</td><td>1136.0</td><td>31.0</td></tr><tr><td>2004-03-11</td><td>02:00:00</td><td>0.9</td><td>1094.0</td><td>24.0</td><td>2.3</td><td>609.0</td><td>45.0</td><td>1579.0</td><td>60.0</td><td>1276.0</td><td>620.0</td><td>10.7</td><td>59.700001</td><td>0.7648</td><td>0.9</td><td>1094.0</td><td>24.0</td></tr><tr><td>2004-03-11</td><td>03:00:00</td><td>0.6</td><td>1010.0</td><td>19.0</td><td>1.7</td><td>561.0</td><td>-200.0</td><td>1705.0</td><td>-200.0</td><td>1235.0</td><td>501.0</td><td>10.3</td><td>60.200001</td><td>0.7517</td><td>0.6</td><td>1010.0</td><td>19.0</td></tr><tr><td>2004-03-11</td><td>04:00:00</td><td>-200.0</td><td>1011.0</td><td>14.0</td><td>1.3</td><td>527.0</td><td>21.0</td><td>1818.0</td><td>34.0</td><td>1197.0</td><td>445.0</td><td>10.1</td><td>60.5</td><td>0.7465</td><td>0.1</td><td>1011.0</td><td>14.0</td></tr><tr><td>2004-03-11</td><td>05:00:00</td><td>0.7</td><td>1066.0</td><td>8.0</td><td>1.1</td><td>512.0</td><td>16.0</td><td>1918.0</td><td>28.0</td><td>1182.0</td><td>422.0</td><td>11.0</td><td>56.200001</td><td>0.7366</td><td>0.7</td><td>1066.0</td><td>8.0</td></tr><tr><td>&hellip;</td><td>&hellip;</td><td>&hellip;</td><td>&hellip;</td><td>&hellip;</td><td>&hellip;</td><td>&hellip;</td><td>&hellip;</td><td>&hellip;</td><td>&hellip;</td><td>&hellip;</td><td>&hellip;</td><td>&hellip;</td><td>&hellip;</td><td>&hellip;</td><td>&hellip;</td><td>&hellip;</td><td>&hellip;</td></tr><tr><td>2005-04-04</td><td>03:00:00</td><td>0.4</td><td>887.0</td><td>-200.0</td><td>1.1</td><td>508.0</td><td>62.0</td><td>1047.0</td><td>51.0</td><td>974.0</td><td>549.0</td><td>11.3</td><td>58.900002</td><td>0.7888</td><td>0.4</td><td>887.0</td><td>7.0</td></tr><tr><td>2005-04-04</td><td>04:00:00</td><td>-200.0</td><td>864.0</td><td>-200.0</td><td>0.8</td><td>478.0</td><td>52.0</td><td>1116.0</td><td>43.0</td><td>958.0</td><td>489.0</td><td>11.8</td><td>56.0</td><td>0.7743</td><td>0.1</td><td>864.0</td><td>7.0</td></tr><tr><td>2005-04-04</td><td>05:00:00</td><td>0.5</td><td>888.0</td><td>-200.0</td><td>1.3</td><td>528.0</td><td>77.0</td><td>1077.0</td><td>53.0</td><td>987.0</td><td>578.0</td><td>10.4</td><td>59.900002</td><td>0.755</td><td>0.5</td><td>888.0</td><td>7.0</td></tr><tr><td>2005-04-04</td><td>06:00:00</td><td>1.1</td><td>1031.0</td><td>-200.0</td><td>4.4</td><td>730.0</td><td>182.0</td><td>760.0</td><td>93.0</td><td>1129.0</td><td>905.0</td><td>9.5</td><td>63.099998</td><td>0.7531</td><td>1.1</td><td>1031.0</td><td>7.0</td></tr><tr><td>2005-04-04</td><td>07:00:00</td><td>4.0</td><td>1384.0</td><td>-200.0</td><td>17.4</td><td>1221.0</td><td>594.0</td><td>470.0</td><td>155.0</td><td>1600.0</td><td>1457.0</td><td>9.7</td><td>61.900002</td><td>0.7446</td><td>4.0</td><td>1384.0</td><td>7.0</td></tr><tr><td>2005-04-04</td><td>08:00:00</td><td>5.0</td><td>1446.0</td><td>-200.0</td><td>22.4</td><td>1362.0</td><td>586.0</td><td>415.0</td><td>174.0</td><td>1777.0</td><td>1705.0</td><td>13.5</td><td>48.900002</td><td>0.7553</td><td>4.6</td><td>1446.0</td><td>7.0</td></tr><tr><td>2005-04-04</td><td>09:00:00</td><td>3.9</td><td>1297.0</td><td>-200.0</td><td>13.6</td><td>1102.0</td><td>523.0</td><td>507.0</td><td>187.0</td><td>1375.0</td><td>1583.0</td><td>18.200001</td><td>36.299999</td><td>0.7487</td><td>3.9</td><td>1297.0</td><td>7.0</td></tr><tr><td>2005-04-04</td><td>10:00:00</td><td>3.1</td><td>1314.0</td><td>-200.0</td><td>13.5</td><td>1101.0</td><td>472.0</td><td>539.0</td><td>190.0</td><td>1374.0</td><td>1729.0</td><td>21.9</td><td>29.299999</td><td>0.7568</td><td>3.1</td><td>1314.0</td><td>7.0</td></tr><tr><td>2005-04-04</td><td>11:00:00</td><td>2.4</td><td>1163.0</td><td>-200.0</td><td>11.4</td><td>1027.0</td><td>353.0</td><td>604.0</td><td>179.0</td><td>1264.0</td><td>1269.0</td><td>24.299999</td><td>23.700001</td><td>0.7119</td><td>2.4</td><td>1163.0</td><td>7.0</td></tr><tr><td>2005-04-04</td><td>12:00:00</td><td>2.4</td><td>1142.0</td><td>-200.0</td><td>12.4</td><td>1063.0</td><td>293.0</td><td>603.0</td><td>175.0</td><td>1241.0</td><td>1092.0</td><td>26.9</td><td>18.299999</td><td>0.6406</td><td>2.4</td><td>1142.0</td><td>7.0</td></tr><tr><td>2005-04-04</td><td>13:00:00</td><td>2.1</td><td>1003.0</td><td>-200.0</td><td>9.5</td><td>961.0</td><td>235.0</td><td>702.0</td><td>156.0</td><td>1041.0</td><td>770.0</td><td>28.299999</td><td>13.5</td><td>0.5139</td><td>2.1</td><td>1003.0</td><td>7.0</td></tr><tr><td>2005-04-04</td><td>14:00:00</td><td>2.2</td><td>1071.0</td><td>-200.0</td><td>11.9</td><td>1047.0</td><td>265.0</td><td>654.0</td><td>168.0</td><td>1129.0</td><td>816.0</td><td>28.5</td><td>13.1</td><td>0.5028</td><td>2.2</td><td>1071.0</td><td>7.0</td></tr></tbody></table></div>"
      ],
      "text/plain": [
       "shape: (9_357, 18)\n",
       "┌────────────┬──────────┬────────┬─────────────┬───┬────────┬────────────┬────────────┬────────────┐\n",
       "│ Date       ┆ Time     ┆ CO(GT) ┆ PT08.S1(CO) ┆ … ┆ AH     ┆ CO(GT)_win ┆ PT08.S1(CO ┆ NMHC(GT)_w │\n",
       "│ ---        ┆ ---      ┆ ---    ┆ ---         ┆   ┆ ---    ┆ sorized    ┆ )_winsoriz ┆ insorized  │\n",
       "│ date       ┆ time     ┆ f32    ┆ f32         ┆   ┆ f32    ┆ ---        ┆ ed         ┆ ---        │\n",
       "│            ┆          ┆        ┆             ┆   ┆        ┆ f32        ┆ ---        ┆ f32        │\n",
       "│            ┆          ┆        ┆             ┆   ┆        ┆            ┆ f32        ┆            │\n",
       "╞════════════╪══════════╪════════╪═════════════╪═══╪════════╪════════════╪════════════╪════════════╡\n",
       "│ 2004-03-10 ┆ 18:00:00 ┆ 2.6    ┆ 1360.0      ┆ … ┆ 0.7578 ┆ 2.6        ┆ 1360.0     ┆ 144.0      │\n",
       "│ 2004-03-10 ┆ 19:00:00 ┆ 2.0    ┆ 1292.0      ┆ … ┆ 0.7255 ┆ 2.0        ┆ 1292.0     ┆ 112.0      │\n",
       "│ 2004-03-10 ┆ 20:00:00 ┆ 2.2    ┆ 1402.0      ┆ … ┆ 0.7502 ┆ 2.2        ┆ 1402.0     ┆ 88.0       │\n",
       "│ 2004-03-10 ┆ 21:00:00 ┆ 2.2    ┆ 1376.0      ┆ … ┆ 0.7867 ┆ 2.2        ┆ 1376.0     ┆ 80.0       │\n",
       "│ …          ┆ …        ┆ …      ┆ …           ┆ … ┆ …      ┆ …          ┆ …          ┆ …          │\n",
       "│ 2005-04-04 ┆ 11:00:00 ┆ 2.4    ┆ 1163.0      ┆ … ┆ 0.7119 ┆ 2.4        ┆ 1163.0     ┆ 7.0        │\n",
       "│ 2005-04-04 ┆ 12:00:00 ┆ 2.4    ┆ 1142.0      ┆ … ┆ 0.6406 ┆ 2.4        ┆ 1142.0     ┆ 7.0        │\n",
       "│ 2005-04-04 ┆ 13:00:00 ┆ 2.1    ┆ 1003.0      ┆ … ┆ 0.5139 ┆ 2.1        ┆ 1003.0     ┆ 7.0        │\n",
       "│ 2005-04-04 ┆ 14:00:00 ┆ 2.2    ┆ 1071.0      ┆ … ┆ 0.5028 ┆ 2.2        ┆ 1071.0     ┆ 7.0        │\n",
       "└────────────┴──────────┴────────┴─────────────┴───┴────────┴────────────┴────────────┴────────────┘"
      ]
     },
     "execution_count": 8,
     "metadata": {},
     "output_type": "execute_result"
    }
   ],
   "source": [
    "class WinsorizingTransform(Transformer):\n",
    "    def __init__(\n",
    "        self, \n",
    "        columns: List[str], \n",
    "        suffix: str = \"_binned\", \n",
    "        limits: List[float] = [0.05, 0.05],\n",
    "    ) -> None:\n",
    "        super().__init__()\n",
    "        self._columns = columns\n",
    "        self._suffix = suffix\n",
    "        self._limits = limits\n",
    "\n",
    "    def fit(self, df: pl.DataFrame) -> \"UniformBinning\":\n",
    "        borders = {}\n",
    "        for c in self._columns:\n",
    "            borders[c] = self._feature_borders(df[c].to_numpy())\n",
    "        self._borders = borders\n",
    "        return self\n",
    "\n",
    "    def transform(self, df: pl.DataFrame) -> pl.DataFrame:\n",
    "        transformed_values = {}\n",
    "        for c in self._columns:\n",
    "            transformed_values[c] = self._winsorize(df[c].to_numpy(), c)\n",
    "\n",
    "        return df.with_columns([\n",
    "            pl.lit(transformed_values[c]).alias(c + self._suffix) \n",
    "            for c in self._columns\n",
    "        ])\n",
    "\n",
    "    def fit_transform(self, df: pl.DataFrame) -> pl.DataFrame:\n",
    "        return self.fit(df).transform(df)\n",
    "    \n",
    "    def _feature_borders(self, feature_values: np.ndarray) -> Tuple[Tuple[float, float], Tuple[float, float]]:\n",
    "        left = np.quantile(feature_values, q=self._limits[0])\n",
    "        right = np.quantile(feature_values, q=(1.0 - self._limits[1]))\n",
    "        left_fill = np.min(feature_values[feature_values > left])\n",
    "        right_fill = np.max(feature_values[feature_values < right])\n",
    "        return (left, left_fill), (right, right_fill)\n",
    "    \n",
    "    def _winsorize(self, x: np.ndarray, name: str) -> np.ndarray:\n",
    "        (left, left_fill), (right, right_fill) = self._borders[name]\n",
    "        x = np.where(x > left, x, left_fill)\n",
    "        x = np.where(x < right, x, right_fill)\n",
    "        return x\n",
    "    \n",
    "\n",
    "winsorizing_transform = WinsorizingTransform(\n",
    "    [\n",
    "        \"CO(GT)\",\n",
    "        \"PT08.S1(CO)\",\n",
    "        \"NMHC(GT)\",\n",
    "    ],\n",
    "    suffix=\"_winsorized\",\n",
    ")\n",
    "winsorizing_transform.fit_transform(air_quality_data)"
   ]
  }
 ],
 "metadata": {
  "kernelspec": {
   "display_name": "base",
   "language": "python",
   "name": "python3"
  },
  "language_info": {
   "codemirror_mode": {
    "name": "ipython",
    "version": 3
   },
   "file_extension": ".py",
   "mimetype": "text/x-python",
   "name": "python",
   "nbconvert_exporter": "python",
   "pygments_lexer": "ipython3",
   "version": "3.9.5"
  },
  "orig_nbformat": 4
 },
 "nbformat": 4,
 "nbformat_minor": 2
}
