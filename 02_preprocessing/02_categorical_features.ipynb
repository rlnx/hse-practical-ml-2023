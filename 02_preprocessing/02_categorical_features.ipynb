{
 "cells": [
  {
   "cell_type": "code",
   "execution_count": 1,
   "metadata": {},
   "outputs": [],
   "source": [
    "import abc\n",
    "from typing import Mapping, Tuple, List\n",
    "\n",
    "import numpy as np\n",
    "import polars as pl\n",
    "import polars.selectors as cs"
   ]
  },
  {
   "cell_type": "markdown",
   "metadata": {},
   "source": [
    "### Загружаем данные"
   ]
  },
  {
   "cell_type": "code",
   "execution_count": 2,
   "metadata": {},
   "outputs": [
    {
     "data": {
      "text/html": [
       "<div><style>\n",
       ".dataframe > thead > tr > th,\n",
       ".dataframe > tbody > tr > td {\n",
       "  text-align: right;\n",
       "}\n",
       "</style>\n",
       "<small>shape: (13_580, 21)</small><table border=\"1\" class=\"dataframe\"><thead><tr><th>Suburb</th><th>Address</th><th>Rooms</th><th>Type</th><th>Price</th><th>Method</th><th>SellerG</th><th>Date</th><th>Distance</th><th>Postcode</th><th>Bedroom2</th><th>Bathroom</th><th>Car</th><th>Landsize</th><th>BuildingArea</th><th>YearBuilt</th><th>CouncilArea</th><th>Lattitude</th><th>Longtitude</th><th>Regionname</th><th>Propertycount</th></tr><tr><td>str</td><td>str</td><td>i64</td><td>str</td><td>f64</td><td>str</td><td>str</td><td>str</td><td>f64</td><td>f64</td><td>f64</td><td>f64</td><td>f64</td><td>f64</td><td>f64</td><td>f64</td><td>str</td><td>f64</td><td>f64</td><td>str</td><td>f64</td></tr></thead><tbody><tr><td>&quot;Abbotsford&quot;</td><td>&quot;85 Turner St&quot;</td><td>2</td><td>&quot;h&quot;</td><td>1.48e6</td><td>&quot;S&quot;</td><td>&quot;Biggin&quot;</td><td>&quot;3/12/2016&quot;</td><td>2.5</td><td>3067.0</td><td>2.0</td><td>1.0</td><td>1.0</td><td>202.0</td><td>null</td><td>null</td><td>&quot;Yarra&quot;</td><td>-37.7996</td><td>144.9984</td><td>&quot;Northern Metro…</td><td>4019.0</td></tr><tr><td>&quot;Abbotsford&quot;</td><td>&quot;25 Bloomburg S…</td><td>2</td><td>&quot;h&quot;</td><td>1.035e6</td><td>&quot;S&quot;</td><td>&quot;Biggin&quot;</td><td>&quot;4/02/2016&quot;</td><td>2.5</td><td>3067.0</td><td>2.0</td><td>1.0</td><td>0.0</td><td>156.0</td><td>79.0</td><td>1900.0</td><td>&quot;Yarra&quot;</td><td>-37.8079</td><td>144.9934</td><td>&quot;Northern Metro…</td><td>4019.0</td></tr><tr><td>&quot;Abbotsford&quot;</td><td>&quot;5 Charles St&quot;</td><td>3</td><td>&quot;h&quot;</td><td>1.465e6</td><td>&quot;SP&quot;</td><td>&quot;Biggin&quot;</td><td>&quot;4/03/2017&quot;</td><td>2.5</td><td>3067.0</td><td>3.0</td><td>2.0</td><td>0.0</td><td>134.0</td><td>150.0</td><td>1900.0</td><td>&quot;Yarra&quot;</td><td>-37.8093</td><td>144.9944</td><td>&quot;Northern Metro…</td><td>4019.0</td></tr><tr><td>&quot;Abbotsford&quot;</td><td>&quot;40 Federation …</td><td>3</td><td>&quot;h&quot;</td><td>850000.0</td><td>&quot;PI&quot;</td><td>&quot;Biggin&quot;</td><td>&quot;4/03/2017&quot;</td><td>2.5</td><td>3067.0</td><td>3.0</td><td>2.0</td><td>1.0</td><td>94.0</td><td>null</td><td>null</td><td>&quot;Yarra&quot;</td><td>-37.7969</td><td>144.9969</td><td>&quot;Northern Metro…</td><td>4019.0</td></tr><tr><td>&quot;Abbotsford&quot;</td><td>&quot;55a Park St&quot;</td><td>4</td><td>&quot;h&quot;</td><td>1.6e6</td><td>&quot;VB&quot;</td><td>&quot;Nelson&quot;</td><td>&quot;4/06/2016&quot;</td><td>2.5</td><td>3067.0</td><td>3.0</td><td>1.0</td><td>2.0</td><td>120.0</td><td>142.0</td><td>2014.0</td><td>&quot;Yarra&quot;</td><td>-37.8072</td><td>144.9941</td><td>&quot;Northern Metro…</td><td>4019.0</td></tr><tr><td>&quot;Abbotsford&quot;</td><td>&quot;129 Charles St…</td><td>2</td><td>&quot;h&quot;</td><td>941000.0</td><td>&quot;S&quot;</td><td>&quot;Jellis&quot;</td><td>&quot;7/05/2016&quot;</td><td>2.5</td><td>3067.0</td><td>2.0</td><td>1.0</td><td>0.0</td><td>181.0</td><td>null</td><td>null</td><td>&quot;Yarra&quot;</td><td>-37.8041</td><td>144.9953</td><td>&quot;Northern Metro…</td><td>4019.0</td></tr><tr><td>&quot;Abbotsford&quot;</td><td>&quot;124 Yarra St&quot;</td><td>3</td><td>&quot;h&quot;</td><td>1.876e6</td><td>&quot;S&quot;</td><td>&quot;Nelson&quot;</td><td>&quot;7/05/2016&quot;</td><td>2.5</td><td>3067.0</td><td>4.0</td><td>2.0</td><td>0.0</td><td>245.0</td><td>210.0</td><td>1910.0</td><td>&quot;Yarra&quot;</td><td>-37.8024</td><td>144.9993</td><td>&quot;Northern Metro…</td><td>4019.0</td></tr><tr><td>&quot;Abbotsford&quot;</td><td>&quot;98 Charles St&quot;</td><td>2</td><td>&quot;h&quot;</td><td>1.636e6</td><td>&quot;S&quot;</td><td>&quot;Nelson&quot;</td><td>&quot;8/10/2016&quot;</td><td>2.5</td><td>3067.0</td><td>2.0</td><td>1.0</td><td>2.0</td><td>256.0</td><td>107.0</td><td>1890.0</td><td>&quot;Yarra&quot;</td><td>-37.806</td><td>144.9954</td><td>&quot;Northern Metro…</td><td>4019.0</td></tr><tr><td>&quot;Abbotsford&quot;</td><td>&quot;6/241 Nicholso…</td><td>1</td><td>&quot;u&quot;</td><td>300000.0</td><td>&quot;S&quot;</td><td>&quot;Biggin&quot;</td><td>&quot;8/10/2016&quot;</td><td>2.5</td><td>3067.0</td><td>1.0</td><td>1.0</td><td>1.0</td><td>0.0</td><td>null</td><td>null</td><td>&quot;Yarra&quot;</td><td>-37.8008</td><td>144.9973</td><td>&quot;Northern Metro…</td><td>4019.0</td></tr><tr><td>&quot;Abbotsford&quot;</td><td>&quot;10 Valiant St&quot;</td><td>2</td><td>&quot;h&quot;</td><td>1.097e6</td><td>&quot;S&quot;</td><td>&quot;Biggin&quot;</td><td>&quot;8/10/2016&quot;</td><td>2.5</td><td>3067.0</td><td>3.0</td><td>1.0</td><td>2.0</td><td>220.0</td><td>75.0</td><td>1900.0</td><td>&quot;Yarra&quot;</td><td>-37.801</td><td>144.9989</td><td>&quot;Northern Metro…</td><td>4019.0</td></tr><tr><td>&quot;Abbotsford&quot;</td><td>&quot;411/8 Grosveno…</td><td>2</td><td>&quot;u&quot;</td><td>700000.0</td><td>&quot;VB&quot;</td><td>&quot;Jellis&quot;</td><td>&quot;12/11/2016&quot;</td><td>2.5</td><td>3067.0</td><td>2.0</td><td>2.0</td><td>1.0</td><td>0.0</td><td>null</td><td>null</td><td>&quot;Yarra&quot;</td><td>-37.811</td><td>145.0067</td><td>&quot;Northern Metro…</td><td>4019.0</td></tr><tr><td>&quot;Abbotsford&quot;</td><td>&quot;40 Nicholson S…</td><td>3</td><td>&quot;h&quot;</td><td>1.35e6</td><td>&quot;VB&quot;</td><td>&quot;Nelson&quot;</td><td>&quot;12/11/2016&quot;</td><td>2.5</td><td>3067.0</td><td>3.0</td><td>2.0</td><td>2.0</td><td>214.0</td><td>190.0</td><td>2005.0</td><td>&quot;Yarra&quot;</td><td>-37.8085</td><td>144.9964</td><td>&quot;Northern Metro…</td><td>4019.0</td></tr><tr><td>&hellip;</td><td>&hellip;</td><td>&hellip;</td><td>&hellip;</td><td>&hellip;</td><td>&hellip;</td><td>&hellip;</td><td>&hellip;</td><td>&hellip;</td><td>&hellip;</td><td>&hellip;</td><td>&hellip;</td><td>&hellip;</td><td>&hellip;</td><td>&hellip;</td><td>&hellip;</td><td>&hellip;</td><td>&hellip;</td><td>&hellip;</td><td>&hellip;</td><td>&hellip;</td></tr><tr><td>&quot;Wantirna&quot;</td><td>&quot;16 chesterfiel…</td><td>4</td><td>&quot;h&quot;</td><td>951000.0</td><td>&quot;S&quot;</td><td>&quot;Ray&quot;</td><td>&quot;26/08/2017&quot;</td><td>14.7</td><td>3152.0</td><td>4.0</td><td>2.0</td><td>2.0</td><td>704.0</td><td>200.0</td><td>1981.0</td><td>null</td><td>-37.85639</td><td>145.23536</td><td>&quot;Eastern Metrop…</td><td>5424.0</td></tr><tr><td>&quot;Wantirna South…</td><td>&quot;12 Armagh Cr&quot;</td><td>4</td><td>&quot;h&quot;</td><td>1.323e6</td><td>&quot;S&quot;</td><td>&quot;Barry&quot;</td><td>&quot;26/08/2017&quot;</td><td>14.7</td><td>3152.0</td><td>4.0</td><td>2.0</td><td>2.0</td><td>551.0</td><td>null</td><td>null</td><td>null</td><td>-37.87608</td><td>145.2239</td><td>&quot;Eastern Metrop…</td><td>7082.0</td></tr><tr><td>&quot;Wantirna South…</td><td>&quot;34 Fewster Dr&quot;</td><td>3</td><td>&quot;h&quot;</td><td>970000.0</td><td>&quot;S&quot;</td><td>&quot;Barry&quot;</td><td>&quot;26/08/2017&quot;</td><td>14.7</td><td>3152.0</td><td>3.0</td><td>2.0</td><td>2.0</td><td>674.0</td><td>null</td><td>null</td><td>null</td><td>-37.8836</td><td>145.22805</td><td>&quot;Eastern Metrop…</td><td>7082.0</td></tr><tr><td>&quot;Wantirna South…</td><td>&quot;15 Mara Cl&quot;</td><td>4</td><td>&quot;h&quot;</td><td>1.33e6</td><td>&quot;S&quot;</td><td>&quot;Barry&quot;</td><td>&quot;26/08/2017&quot;</td><td>14.7</td><td>3152.0</td><td>4.0</td><td>2.0</td><td>2.0</td><td>717.0</td><td>191.0</td><td>1980.0</td><td>null</td><td>-37.86887</td><td>145.22116</td><td>&quot;Eastern Metrop…</td><td>7082.0</td></tr><tr><td>&quot;Watsonia&quot;</td><td>&quot;76 Kenmare St&quot;</td><td>2</td><td>&quot;h&quot;</td><td>650000.0</td><td>&quot;PI&quot;</td><td>&quot;Morrison&quot;</td><td>&quot;26/08/2017&quot;</td><td>14.5</td><td>3087.0</td><td>2.0</td><td>1.0</td><td>1.0</td><td>210.0</td><td>79.0</td><td>2006.0</td><td>null</td><td>-37.70657</td><td>145.07878</td><td>&quot;Northern Metro…</td><td>2329.0</td></tr><tr><td>&quot;Werribee&quot;</td><td>&quot;5 Nuragi Ct&quot;</td><td>4</td><td>&quot;h&quot;</td><td>635000.0</td><td>&quot;S&quot;</td><td>&quot;hockingstuart&quot;</td><td>&quot;26/08/2017&quot;</td><td>14.7</td><td>3030.0</td><td>4.0</td><td>2.0</td><td>1.0</td><td>662.0</td><td>172.0</td><td>1980.0</td><td>null</td><td>-37.89327</td><td>144.64789</td><td>&quot;Western Metrop…</td><td>16166.0</td></tr><tr><td>&quot;Westmeadows&quot;</td><td>&quot;9 Black St&quot;</td><td>3</td><td>&quot;h&quot;</td><td>582000.0</td><td>&quot;S&quot;</td><td>&quot;Red&quot;</td><td>&quot;26/08/2017&quot;</td><td>16.5</td><td>3049.0</td><td>3.0</td><td>2.0</td><td>2.0</td><td>256.0</td><td>null</td><td>null</td><td>null</td><td>-37.67917</td><td>144.8939</td><td>&quot;Northern Metro…</td><td>2474.0</td></tr><tr><td>&quot;Wheelers Hill&quot;</td><td>&quot;12 Strada Cr&quot;</td><td>4</td><td>&quot;h&quot;</td><td>1.245e6</td><td>&quot;S&quot;</td><td>&quot;Barry&quot;</td><td>&quot;26/08/2017&quot;</td><td>16.7</td><td>3150.0</td><td>4.0</td><td>2.0</td><td>2.0</td><td>652.0</td><td>null</td><td>1981.0</td><td>null</td><td>-37.90562</td><td>145.16761</td><td>&quot;South-Eastern …</td><td>7392.0</td></tr><tr><td>&quot;Williamstown&quot;</td><td>&quot;77 Merrett Dr&quot;</td><td>3</td><td>&quot;h&quot;</td><td>1.031e6</td><td>&quot;SP&quot;</td><td>&quot;Williams&quot;</td><td>&quot;26/08/2017&quot;</td><td>6.8</td><td>3016.0</td><td>3.0</td><td>2.0</td><td>2.0</td><td>333.0</td><td>133.0</td><td>1995.0</td><td>null</td><td>-37.85927</td><td>144.87904</td><td>&quot;Western Metrop…</td><td>6380.0</td></tr><tr><td>&quot;Williamstown&quot;</td><td>&quot;83 Power St&quot;</td><td>3</td><td>&quot;h&quot;</td><td>1.17e6</td><td>&quot;S&quot;</td><td>&quot;Raine&quot;</td><td>&quot;26/08/2017&quot;</td><td>6.8</td><td>3016.0</td><td>3.0</td><td>2.0</td><td>4.0</td><td>436.0</td><td>null</td><td>1997.0</td><td>null</td><td>-37.85274</td><td>144.88738</td><td>&quot;Western Metrop…</td><td>6380.0</td></tr><tr><td>&quot;Williamstown&quot;</td><td>&quot;96 Verdon St&quot;</td><td>4</td><td>&quot;h&quot;</td><td>2.5e6</td><td>&quot;PI&quot;</td><td>&quot;Sweeney&quot;</td><td>&quot;26/08/2017&quot;</td><td>6.8</td><td>3016.0</td><td>4.0</td><td>1.0</td><td>5.0</td><td>866.0</td><td>157.0</td><td>1920.0</td><td>null</td><td>-37.85908</td><td>144.89299</td><td>&quot;Western Metrop…</td><td>6380.0</td></tr><tr><td>&quot;Yarraville&quot;</td><td>&quot;6 Agnes St&quot;</td><td>4</td><td>&quot;h&quot;</td><td>1.285e6</td><td>&quot;SP&quot;</td><td>&quot;Village&quot;</td><td>&quot;26/08/2017&quot;</td><td>6.3</td><td>3013.0</td><td>4.0</td><td>1.0</td><td>1.0</td><td>362.0</td><td>112.0</td><td>1920.0</td><td>null</td><td>-37.81188</td><td>144.88449</td><td>&quot;Western Metrop…</td><td>6543.0</td></tr></tbody></table></div>"
      ],
      "text/plain": [
       "shape: (13_580, 21)\n",
       "┌─────────────┬─────────────┬───────┬──────┬───┬───────────┬────────────┬─────────────┬────────────┐\n",
       "│ Suburb      ┆ Address     ┆ Rooms ┆ Type ┆ … ┆ Lattitude ┆ Longtitude ┆ Regionname  ┆ Propertyco │\n",
       "│ ---         ┆ ---         ┆ ---   ┆ ---  ┆   ┆ ---       ┆ ---        ┆ ---         ┆ unt        │\n",
       "│ str         ┆ str         ┆ i64   ┆ str  ┆   ┆ f64       ┆ f64        ┆ str         ┆ ---        │\n",
       "│             ┆             ┆       ┆      ┆   ┆           ┆            ┆             ┆ f64        │\n",
       "╞═════════════╪═════════════╪═══════╪══════╪═══╪═══════════╪════════════╪═════════════╪════════════╡\n",
       "│ Abbotsford  ┆ 85 Turner   ┆ 2     ┆ h    ┆ … ┆ -37.7996  ┆ 144.9984   ┆ Northern    ┆ 4019.0     │\n",
       "│             ┆ St          ┆       ┆      ┆   ┆           ┆            ┆ Metropolita ┆            │\n",
       "│             ┆             ┆       ┆      ┆   ┆           ┆            ┆ n           ┆            │\n",
       "│ Abbotsford  ┆ 25          ┆ 2     ┆ h    ┆ … ┆ -37.8079  ┆ 144.9934   ┆ Northern    ┆ 4019.0     │\n",
       "│             ┆ Bloomburg   ┆       ┆      ┆   ┆           ┆            ┆ Metropolita ┆            │\n",
       "│             ┆ St          ┆       ┆      ┆   ┆           ┆            ┆ n           ┆            │\n",
       "│ Abbotsford  ┆ 5 Charles   ┆ 3     ┆ h    ┆ … ┆ -37.8093  ┆ 144.9944   ┆ Northern    ┆ 4019.0     │\n",
       "│             ┆ St          ┆       ┆      ┆   ┆           ┆            ┆ Metropolita ┆            │\n",
       "│             ┆             ┆       ┆      ┆   ┆           ┆            ┆ n           ┆            │\n",
       "│ Abbotsford  ┆ 40          ┆ 3     ┆ h    ┆ … ┆ -37.7969  ┆ 144.9969   ┆ Northern    ┆ 4019.0     │\n",
       "│             ┆ Federation  ┆       ┆      ┆   ┆           ┆            ┆ Metropolita ┆            │\n",
       "│             ┆ La          ┆       ┆      ┆   ┆           ┆            ┆ n           ┆            │\n",
       "│ …           ┆ …           ┆ …     ┆ …    ┆ … ┆ …         ┆ …          ┆ …           ┆ …          │\n",
       "│ Williamstow ┆ 77 Merrett  ┆ 3     ┆ h    ┆ … ┆ -37.85927 ┆ 144.87904  ┆ Western Met ┆ 6380.0     │\n",
       "│ n           ┆ Dr          ┆       ┆      ┆   ┆           ┆            ┆ ropolitan   ┆            │\n",
       "│ Williamstow ┆ 83 Power St ┆ 3     ┆ h    ┆ … ┆ -37.85274 ┆ 144.88738  ┆ Western Met ┆ 6380.0     │\n",
       "│ n           ┆             ┆       ┆      ┆   ┆           ┆            ┆ ropolitan   ┆            │\n",
       "│ Williamstow ┆ 96 Verdon   ┆ 4     ┆ h    ┆ … ┆ -37.85908 ┆ 144.89299  ┆ Western Met ┆ 6380.0     │\n",
       "│ n           ┆ St          ┆       ┆      ┆   ┆           ┆            ┆ ropolitan   ┆            │\n",
       "│ Yarraville  ┆ 6 Agnes St  ┆ 4     ┆ h    ┆ … ┆ -37.81188 ┆ 144.88449  ┆ Western Met ┆ 6543.0     │\n",
       "│             ┆             ┆       ┆      ┆   ┆           ┆            ┆ ropolitan   ┆            │\n",
       "└─────────────┴─────────────┴───────┴──────┴───┴───────────┴────────────┴─────────────┴────────────┘"
      ]
     },
     "execution_count": 2,
     "metadata": {},
     "output_type": "execute_result"
    }
   ],
   "source": [
    "melb_housing_data = pl.read_csv(\"../data/melburn_housing/melb_data.csv\")\n",
    "melb_housing_data"
   ]
  },
  {
   "cell_type": "code",
   "execution_count": 4,
   "metadata": {},
   "outputs": [],
   "source": [
    "class Transformer(abc.ABC):\n",
    "    @abc.abstractmethod\n",
    "    def fit_transform(self, df: pl.DataFrame) -> pl.DataFrame:\n",
    "        pass\n",
    "\n",
    "    @abc.abstractmethod\n",
    "    def transform(self, df: pl.DataFrame) -> pl.DataFrame:\n",
    "        pass\n",
    "\n",
    "    def inverse_transform(self, df: pl.DataFrame) -> pl.DataFrame:\n",
    "        raise NotImplementedError()\n",
    "\n",
    "\n",
    "class Pipeline(Transformer):\n",
    "    def __init__(self, transformers: List[Transformer]) -> None:\n",
    "        super().__init__()\n",
    "        self._transforms = transformers\n",
    "\n",
    "    def fit_transform(self, df: pl.DataFrame) -> pl.DataFrame:\n",
    "        for t in self._transforms:\n",
    "            print(f\"Run fit-transform of {t.__class__.__name__}\")\n",
    "            df = t.fit_transform(df)\n",
    "        return df\n",
    "    \n",
    "    def transform(self, df: pl.DataFrame) -> pl.DataFrame:\n",
    "        for t in self._transforms:\n",
    "            print(f\"Run transform of {t.__class__.__name__}\")\n",
    "            df = t.transform(df)\n",
    "        return df\n",
    "\n",
    "    def transform(self, df: pl.DataFrame) -> pl.DataFrame:\n",
    "        for t in self._transforms:\n",
    "            print(f\"Run inverse-transform of {t.__class__.__name__}\")\n",
    "            df = t.inverse_transform(df)\n",
    "        return df"
   ]
  },
  {
   "cell_type": "markdown",
   "metadata": {},
   "source": [
    "### Ordinal encoding"
   ]
  },
  {
   "cell_type": "code",
   "execution_count": 6,
   "metadata": {},
   "outputs": [
    {
     "data": {
      "text/html": [
       "<div><style>\n",
       ".dataframe > thead > tr > th,\n",
       ".dataframe > tbody > tr > td {\n",
       "  text-align: right;\n",
       "}\n",
       "</style>\n",
       "<small>shape: (13_580, 3)</small><table border=\"1\" class=\"dataframe\"><thead><tr><th>Type</th><th>Method</th><th>Regionname</th></tr><tr><td>str</td><td>str</td><td>str</td></tr></thead><tbody><tr><td>&quot;h&quot;</td><td>&quot;S&quot;</td><td>&quot;Northern Metro…</td></tr><tr><td>&quot;h&quot;</td><td>&quot;S&quot;</td><td>&quot;Northern Metro…</td></tr><tr><td>&quot;h&quot;</td><td>&quot;SP&quot;</td><td>&quot;Northern Metro…</td></tr><tr><td>&quot;h&quot;</td><td>&quot;PI&quot;</td><td>&quot;Northern Metro…</td></tr><tr><td>&quot;h&quot;</td><td>&quot;VB&quot;</td><td>&quot;Northern Metro…</td></tr><tr><td>&quot;h&quot;</td><td>&quot;S&quot;</td><td>&quot;Northern Metro…</td></tr><tr><td>&quot;h&quot;</td><td>&quot;S&quot;</td><td>&quot;Northern Metro…</td></tr><tr><td>&quot;h&quot;</td><td>&quot;S&quot;</td><td>&quot;Northern Metro…</td></tr><tr><td>&quot;u&quot;</td><td>&quot;S&quot;</td><td>&quot;Northern Metro…</td></tr><tr><td>&quot;h&quot;</td><td>&quot;S&quot;</td><td>&quot;Northern Metro…</td></tr><tr><td>&quot;u&quot;</td><td>&quot;VB&quot;</td><td>&quot;Northern Metro…</td></tr><tr><td>&quot;h&quot;</td><td>&quot;VB&quot;</td><td>&quot;Northern Metro…</td></tr><tr><td>&hellip;</td><td>&hellip;</td><td>&hellip;</td></tr><tr><td>&quot;h&quot;</td><td>&quot;S&quot;</td><td>&quot;Eastern Metrop…</td></tr><tr><td>&quot;h&quot;</td><td>&quot;S&quot;</td><td>&quot;Eastern Metrop…</td></tr><tr><td>&quot;h&quot;</td><td>&quot;S&quot;</td><td>&quot;Eastern Metrop…</td></tr><tr><td>&quot;h&quot;</td><td>&quot;S&quot;</td><td>&quot;Eastern Metrop…</td></tr><tr><td>&quot;h&quot;</td><td>&quot;PI&quot;</td><td>&quot;Northern Metro…</td></tr><tr><td>&quot;h&quot;</td><td>&quot;S&quot;</td><td>&quot;Western Metrop…</td></tr><tr><td>&quot;h&quot;</td><td>&quot;S&quot;</td><td>&quot;Northern Metro…</td></tr><tr><td>&quot;h&quot;</td><td>&quot;S&quot;</td><td>&quot;South-Eastern …</td></tr><tr><td>&quot;h&quot;</td><td>&quot;SP&quot;</td><td>&quot;Western Metrop…</td></tr><tr><td>&quot;h&quot;</td><td>&quot;S&quot;</td><td>&quot;Western Metrop…</td></tr><tr><td>&quot;h&quot;</td><td>&quot;PI&quot;</td><td>&quot;Western Metrop…</td></tr><tr><td>&quot;h&quot;</td><td>&quot;SP&quot;</td><td>&quot;Western Metrop…</td></tr></tbody></table></div>"
      ],
      "text/plain": [
       "shape: (13_580, 3)\n",
       "┌──────┬────────┬───────────────────────┐\n",
       "│ Type ┆ Method ┆ Regionname            │\n",
       "│ ---  ┆ ---    ┆ ---                   │\n",
       "│ str  ┆ str    ┆ str                   │\n",
       "╞══════╪════════╪═══════════════════════╡\n",
       "│ h    ┆ S      ┆ Northern Metropolitan │\n",
       "│ h    ┆ S      ┆ Northern Metropolitan │\n",
       "│ h    ┆ SP     ┆ Northern Metropolitan │\n",
       "│ h    ┆ PI     ┆ Northern Metropolitan │\n",
       "│ …    ┆ …      ┆ …                     │\n",
       "│ h    ┆ SP     ┆ Western Metropolitan  │\n",
       "│ h    ┆ S      ┆ Western Metropolitan  │\n",
       "│ h    ┆ PI     ┆ Western Metropolitan  │\n",
       "│ h    ┆ SP     ┆ Western Metropolitan  │\n",
       "└──────┴────────┴───────────────────────┘"
      ]
     },
     "execution_count": 6,
     "metadata": {},
     "output_type": "execute_result"
    }
   ],
   "source": [
    "melb_housing_data[[\"Type\", \"Method\", \"Regionname\"]]"
   ]
  },
  {
   "cell_type": "code",
   "execution_count": 5,
   "metadata": {},
   "outputs": [
    {
     "data": {
      "text/html": [
       "<div><style>\n",
       ".dataframe > thead > tr > th,\n",
       ".dataframe > tbody > tr > td {\n",
       "  text-align: right;\n",
       "}\n",
       "</style>\n",
       "<small>shape: (13_580, 3)</small><table border=\"1\" class=\"dataframe\"><thead><tr><th>Type</th><th>Method</th><th>Regionname</th></tr><tr><td>i32</td><td>i32</td><td>i32</td></tr></thead><tbody><tr><td>0</td><td>1</td><td>2</td></tr><tr><td>0</td><td>1</td><td>2</td></tr><tr><td>0</td><td>3</td><td>2</td></tr><tr><td>0</td><td>0</td><td>2</td></tr><tr><td>0</td><td>4</td><td>2</td></tr><tr><td>0</td><td>1</td><td>2</td></tr><tr><td>0</td><td>1</td><td>2</td></tr><tr><td>0</td><td>1</td><td>2</td></tr><tr><td>2</td><td>1</td><td>2</td></tr><tr><td>0</td><td>1</td><td>2</td></tr><tr><td>2</td><td>4</td><td>2</td></tr><tr><td>0</td><td>4</td><td>2</td></tr><tr><td>&hellip;</td><td>&hellip;</td><td>&hellip;</td></tr><tr><td>0</td><td>1</td><td>0</td></tr><tr><td>0</td><td>1</td><td>0</td></tr><tr><td>0</td><td>1</td><td>0</td></tr><tr><td>0</td><td>1</td><td>0</td></tr><tr><td>0</td><td>0</td><td>2</td></tr><tr><td>0</td><td>1</td><td>6</td></tr><tr><td>0</td><td>1</td><td>2</td></tr><tr><td>0</td><td>1</td><td>4</td></tr><tr><td>0</td><td>3</td><td>6</td></tr><tr><td>0</td><td>1</td><td>6</td></tr><tr><td>0</td><td>0</td><td>6</td></tr><tr><td>0</td><td>3</td><td>6</td></tr></tbody></table></div>"
      ],
      "text/plain": [
       "shape: (13_580, 3)\n",
       "┌──────┬────────┬────────────┐\n",
       "│ Type ┆ Method ┆ Regionname │\n",
       "│ ---  ┆ ---    ┆ ---        │\n",
       "│ i32  ┆ i32    ┆ i32        │\n",
       "╞══════╪════════╪════════════╡\n",
       "│ 0    ┆ 1      ┆ 2          │\n",
       "│ 0    ┆ 1      ┆ 2          │\n",
       "│ 0    ┆ 3      ┆ 2          │\n",
       "│ 0    ┆ 0      ┆ 2          │\n",
       "│ …    ┆ …      ┆ …          │\n",
       "│ 0    ┆ 3      ┆ 6          │\n",
       "│ 0    ┆ 1      ┆ 6          │\n",
       "│ 0    ┆ 0      ┆ 6          │\n",
       "│ 0    ┆ 3      ┆ 6          │\n",
       "└──────┴────────┴────────────┘"
      ]
     },
     "execution_count": 5,
     "metadata": {},
     "output_type": "execute_result"
    }
   ],
   "source": [
    "class OrdinalEncoder(Transformer):\n",
    "    def __init__(self, columns: List[str]) -> None:\n",
    "        super().__init__()\n",
    "        self._columns = columns\n",
    "\n",
    "    @property\n",
    "    def mapping(self) -> Mapping[str, pl.DataFrame]:\n",
    "        return self._mappers\n",
    "\n",
    "    def fit(self, df: pl.DataFrame) -> \"OrdinalEncoder\":\n",
    "        mappers = {}\n",
    "        for c in self._columns:\n",
    "            mappers[c] = (\n",
    "                df[[c]].unique()\n",
    "                .sort(c)\n",
    "                .with_row_count(f\"{c}_index\")\n",
    "                .with_columns(pl.col(f\"{c}_index\").cast(pl.Int32))\n",
    "            )\n",
    "        self._mappers = mappers\n",
    "        return self\n",
    "\n",
    "    def transform(self, df: pl.DataFrame) -> pl.DataFrame:\n",
    "        for c in self._columns:\n",
    "            df = (\n",
    "                df\n",
    "                .join(self._mappers[c], on=c, how=\"left\")\n",
    "                .drop(c)\n",
    "                .rename({f\"{c}_index\": c})\n",
    "            )\n",
    "        return df\n",
    "    \n",
    "    def inverse_transform(self, df: pl.DataFrame) -> pl.DataFrame:\n",
    "        for c in self._columns:\n",
    "            df = (\n",
    "                df\n",
    "                .rename({c: f\"{c}_index\"})\n",
    "                .join(self._mappers[c], on=f\"{c}_index\", how=\"left\")\n",
    "                .drop(f\"{c}_index\")\n",
    "            )\n",
    "        return df\n",
    "\n",
    "    def fit_transform(self, df: pl.DataFrame) -> pl.DataFrame:\n",
    "        return self.fit(df).transform(df)\n",
    "\n",
    "\n",
    "ordinal_encoder = OrdinalEncoder(\n",
    "    [\n",
    "        \"Type\",\n",
    "        \"Method\",\n",
    "        \"Regionname\",\n",
    "    ],\n",
    ")\n",
    "ordinal_encoder.fit_transform(melb_housing_data[[\"Type\", \"Method\", \"Regionname\"]])"
   ]
  },
  {
   "cell_type": "markdown",
   "metadata": {},
   "source": [
    "Проверяем, что последовательность transform -> inverse_transform выдаёт исходный датафрейм"
   ]
  },
  {
   "cell_type": "code",
   "execution_count": 7,
   "metadata": {},
   "outputs": [
    {
     "data": {
      "text/plain": [
       "True"
      ]
     },
     "execution_count": 7,
     "metadata": {},
     "output_type": "execute_result"
    }
   ],
   "source": [
    "melb_housing_data_recovered = ordinal_encoder.inverse_transform(ordinal_encoder.transform(melb_housing_data))\n",
    "\n",
    "melb_housing_data_recovered.select([\"Type\", \"Method\", \"Regionname\"]).frame_equal(\n",
    "    melb_housing_data.select([\"Type\", \"Method\", \"Regionname\"])\n",
    ")"
   ]
  },
  {
   "cell_type": "code",
   "execution_count": 8,
   "metadata": {},
   "outputs": [
    {
     "data": {
      "text/plain": [
       "{'Type': shape: (3, 2)\n",
       " ┌────────────┬──────┐\n",
       " │ Type_index ┆ Type │\n",
       " │ ---        ┆ ---  │\n",
       " │ i32        ┆ str  │\n",
       " ╞════════════╪══════╡\n",
       " │ 0          ┆ h    │\n",
       " │ 1          ┆ t    │\n",
       " │ 2          ┆ u    │\n",
       " └────────────┴──────┘,\n",
       " 'Method': shape: (5, 2)\n",
       " ┌──────────────┬────────┐\n",
       " │ Method_index ┆ Method │\n",
       " │ ---          ┆ ---    │\n",
       " │ i32          ┆ str    │\n",
       " ╞══════════════╪════════╡\n",
       " │ 0            ┆ PI     │\n",
       " │ 1            ┆ S      │\n",
       " │ 2            ┆ SA     │\n",
       " │ 3            ┆ SP     │\n",
       " │ 4            ┆ VB     │\n",
       " └──────────────┴────────┘,\n",
       " 'Regionname': shape: (8, 2)\n",
       " ┌──────────────────┬────────────────────────────┐\n",
       " │ Regionname_index ┆ Regionname                 │\n",
       " │ ---              ┆ ---                        │\n",
       " │ i32              ┆ str                        │\n",
       " ╞══════════════════╪════════════════════════════╡\n",
       " │ 0                ┆ Eastern Metropolitan       │\n",
       " │ 1                ┆ Eastern Victoria           │\n",
       " │ 2                ┆ Northern Metropolitan      │\n",
       " │ 3                ┆ Northern Victoria          │\n",
       " │ 4                ┆ South-Eastern Metropolitan │\n",
       " │ 5                ┆ Southern Metropolitan      │\n",
       " │ 6                ┆ Western Metropolitan       │\n",
       " │ 7                ┆ Western Victoria           │\n",
       " └──────────────────┴────────────────────────────┘}"
      ]
     },
     "execution_count": 8,
     "metadata": {},
     "output_type": "execute_result"
    }
   ],
   "source": [
    "ordinal_encoder.mapping"
   ]
  },
  {
   "cell_type": "markdown",
   "metadata": {},
   "source": [
    "### One-hot encoding"
   ]
  },
  {
   "cell_type": "code",
   "execution_count": 41,
   "metadata": {},
   "outputs": [
    {
     "data": {
      "text/html": [
       "<div><style>\n",
       ".dataframe > thead > tr > th,\n",
       ".dataframe > tbody > tr > td {\n",
       "  text-align: right;\n",
       "}\n",
       "</style>\n",
       "<small>shape: (13_580, 19)</small><table border=\"1\" class=\"dataframe\"><thead><tr><th>Type</th><th>Method</th><th>Regionname</th><th>Type_0</th><th>Type_1</th><th>Type_2</th><th>Method_0</th><th>Method_1</th><th>Method_2</th><th>Method_3</th><th>Method_4</th><th>Regionname_0</th><th>Regionname_1</th><th>Regionname_2</th><th>Regionname_3</th><th>Regionname_4</th><th>Regionname_5</th><th>Regionname_6</th><th>Regionname_7</th></tr><tr><td>str</td><td>str</td><td>str</td><td>u8</td><td>u8</td><td>u8</td><td>u8</td><td>u8</td><td>u8</td><td>u8</td><td>u8</td><td>u8</td><td>u8</td><td>u8</td><td>u8</td><td>u8</td><td>u8</td><td>u8</td><td>u8</td></tr></thead><tbody><tr><td>&quot;h&quot;</td><td>&quot;S&quot;</td><td>&quot;Northern Metro…</td><td>1</td><td>0</td><td>0</td><td>0</td><td>1</td><td>0</td><td>0</td><td>0</td><td>0</td><td>0</td><td>1</td><td>0</td><td>0</td><td>0</td><td>0</td><td>0</td></tr><tr><td>&quot;h&quot;</td><td>&quot;S&quot;</td><td>&quot;Northern Metro…</td><td>1</td><td>0</td><td>0</td><td>0</td><td>1</td><td>0</td><td>0</td><td>0</td><td>0</td><td>0</td><td>1</td><td>0</td><td>0</td><td>0</td><td>0</td><td>0</td></tr><tr><td>&quot;h&quot;</td><td>&quot;SP&quot;</td><td>&quot;Northern Metro…</td><td>1</td><td>0</td><td>0</td><td>0</td><td>0</td><td>0</td><td>1</td><td>0</td><td>0</td><td>0</td><td>1</td><td>0</td><td>0</td><td>0</td><td>0</td><td>0</td></tr><tr><td>&quot;h&quot;</td><td>&quot;PI&quot;</td><td>&quot;Northern Metro…</td><td>1</td><td>0</td><td>0</td><td>1</td><td>0</td><td>0</td><td>0</td><td>0</td><td>0</td><td>0</td><td>1</td><td>0</td><td>0</td><td>0</td><td>0</td><td>0</td></tr><tr><td>&quot;h&quot;</td><td>&quot;VB&quot;</td><td>&quot;Northern Metro…</td><td>1</td><td>0</td><td>0</td><td>0</td><td>0</td><td>0</td><td>0</td><td>1</td><td>0</td><td>0</td><td>1</td><td>0</td><td>0</td><td>0</td><td>0</td><td>0</td></tr><tr><td>&quot;h&quot;</td><td>&quot;S&quot;</td><td>&quot;Northern Metro…</td><td>1</td><td>0</td><td>0</td><td>0</td><td>1</td><td>0</td><td>0</td><td>0</td><td>0</td><td>0</td><td>1</td><td>0</td><td>0</td><td>0</td><td>0</td><td>0</td></tr><tr><td>&quot;h&quot;</td><td>&quot;S&quot;</td><td>&quot;Northern Metro…</td><td>1</td><td>0</td><td>0</td><td>0</td><td>1</td><td>0</td><td>0</td><td>0</td><td>0</td><td>0</td><td>1</td><td>0</td><td>0</td><td>0</td><td>0</td><td>0</td></tr><tr><td>&quot;h&quot;</td><td>&quot;S&quot;</td><td>&quot;Northern Metro…</td><td>1</td><td>0</td><td>0</td><td>0</td><td>1</td><td>0</td><td>0</td><td>0</td><td>0</td><td>0</td><td>1</td><td>0</td><td>0</td><td>0</td><td>0</td><td>0</td></tr><tr><td>&quot;u&quot;</td><td>&quot;S&quot;</td><td>&quot;Northern Metro…</td><td>0</td><td>0</td><td>1</td><td>0</td><td>1</td><td>0</td><td>0</td><td>0</td><td>0</td><td>0</td><td>1</td><td>0</td><td>0</td><td>0</td><td>0</td><td>0</td></tr><tr><td>&quot;h&quot;</td><td>&quot;S&quot;</td><td>&quot;Northern Metro…</td><td>1</td><td>0</td><td>0</td><td>0</td><td>1</td><td>0</td><td>0</td><td>0</td><td>0</td><td>0</td><td>1</td><td>0</td><td>0</td><td>0</td><td>0</td><td>0</td></tr><tr><td>&quot;u&quot;</td><td>&quot;VB&quot;</td><td>&quot;Northern Metro…</td><td>0</td><td>0</td><td>1</td><td>0</td><td>0</td><td>0</td><td>0</td><td>1</td><td>0</td><td>0</td><td>1</td><td>0</td><td>0</td><td>0</td><td>0</td><td>0</td></tr><tr><td>&quot;h&quot;</td><td>&quot;VB&quot;</td><td>&quot;Northern Metro…</td><td>1</td><td>0</td><td>0</td><td>0</td><td>0</td><td>0</td><td>0</td><td>1</td><td>0</td><td>0</td><td>1</td><td>0</td><td>0</td><td>0</td><td>0</td><td>0</td></tr><tr><td>&hellip;</td><td>&hellip;</td><td>&hellip;</td><td>&hellip;</td><td>&hellip;</td><td>&hellip;</td><td>&hellip;</td><td>&hellip;</td><td>&hellip;</td><td>&hellip;</td><td>&hellip;</td><td>&hellip;</td><td>&hellip;</td><td>&hellip;</td><td>&hellip;</td><td>&hellip;</td><td>&hellip;</td><td>&hellip;</td><td>&hellip;</td></tr><tr><td>&quot;h&quot;</td><td>&quot;S&quot;</td><td>&quot;Eastern Metrop…</td><td>1</td><td>0</td><td>0</td><td>0</td><td>1</td><td>0</td><td>0</td><td>0</td><td>1</td><td>0</td><td>0</td><td>0</td><td>0</td><td>0</td><td>0</td><td>0</td></tr><tr><td>&quot;h&quot;</td><td>&quot;S&quot;</td><td>&quot;Eastern Metrop…</td><td>1</td><td>0</td><td>0</td><td>0</td><td>1</td><td>0</td><td>0</td><td>0</td><td>1</td><td>0</td><td>0</td><td>0</td><td>0</td><td>0</td><td>0</td><td>0</td></tr><tr><td>&quot;h&quot;</td><td>&quot;S&quot;</td><td>&quot;Eastern Metrop…</td><td>1</td><td>0</td><td>0</td><td>0</td><td>1</td><td>0</td><td>0</td><td>0</td><td>1</td><td>0</td><td>0</td><td>0</td><td>0</td><td>0</td><td>0</td><td>0</td></tr><tr><td>&quot;h&quot;</td><td>&quot;S&quot;</td><td>&quot;Eastern Metrop…</td><td>1</td><td>0</td><td>0</td><td>0</td><td>1</td><td>0</td><td>0</td><td>0</td><td>1</td><td>0</td><td>0</td><td>0</td><td>0</td><td>0</td><td>0</td><td>0</td></tr><tr><td>&quot;h&quot;</td><td>&quot;PI&quot;</td><td>&quot;Northern Metro…</td><td>1</td><td>0</td><td>0</td><td>1</td><td>0</td><td>0</td><td>0</td><td>0</td><td>0</td><td>0</td><td>1</td><td>0</td><td>0</td><td>0</td><td>0</td><td>0</td></tr><tr><td>&quot;h&quot;</td><td>&quot;S&quot;</td><td>&quot;Western Metrop…</td><td>1</td><td>0</td><td>0</td><td>0</td><td>1</td><td>0</td><td>0</td><td>0</td><td>0</td><td>0</td><td>0</td><td>0</td><td>0</td><td>0</td><td>1</td><td>0</td></tr><tr><td>&quot;h&quot;</td><td>&quot;S&quot;</td><td>&quot;Northern Metro…</td><td>1</td><td>0</td><td>0</td><td>0</td><td>1</td><td>0</td><td>0</td><td>0</td><td>0</td><td>0</td><td>1</td><td>0</td><td>0</td><td>0</td><td>0</td><td>0</td></tr><tr><td>&quot;h&quot;</td><td>&quot;S&quot;</td><td>&quot;South-Eastern …</td><td>1</td><td>0</td><td>0</td><td>0</td><td>1</td><td>0</td><td>0</td><td>0</td><td>0</td><td>0</td><td>0</td><td>0</td><td>1</td><td>0</td><td>0</td><td>0</td></tr><tr><td>&quot;h&quot;</td><td>&quot;SP&quot;</td><td>&quot;Western Metrop…</td><td>1</td><td>0</td><td>0</td><td>0</td><td>0</td><td>0</td><td>1</td><td>0</td><td>0</td><td>0</td><td>0</td><td>0</td><td>0</td><td>0</td><td>1</td><td>0</td></tr><tr><td>&quot;h&quot;</td><td>&quot;S&quot;</td><td>&quot;Western Metrop…</td><td>1</td><td>0</td><td>0</td><td>0</td><td>1</td><td>0</td><td>0</td><td>0</td><td>0</td><td>0</td><td>0</td><td>0</td><td>0</td><td>0</td><td>1</td><td>0</td></tr><tr><td>&quot;h&quot;</td><td>&quot;PI&quot;</td><td>&quot;Western Metrop…</td><td>1</td><td>0</td><td>0</td><td>1</td><td>0</td><td>0</td><td>0</td><td>0</td><td>0</td><td>0</td><td>0</td><td>0</td><td>0</td><td>0</td><td>1</td><td>0</td></tr><tr><td>&quot;h&quot;</td><td>&quot;SP&quot;</td><td>&quot;Western Metrop…</td><td>1</td><td>0</td><td>0</td><td>0</td><td>0</td><td>0</td><td>1</td><td>0</td><td>0</td><td>0</td><td>0</td><td>0</td><td>0</td><td>0</td><td>1</td><td>0</td></tr></tbody></table></div>"
      ],
      "text/plain": [
       "shape: (13_580, 19)\n",
       "┌──────┬────────┬─────────────┬────────┬───┬─────────────┬─────────────┬─────────────┬─────────────┐\n",
       "│ Type ┆ Method ┆ Regionname  ┆ Type_0 ┆ … ┆ Regionname_ ┆ Regionname_ ┆ Regionname_ ┆ Regionname_ │\n",
       "│ ---  ┆ ---    ┆ ---         ┆ ---    ┆   ┆ 4           ┆ 5           ┆ 6           ┆ 7           │\n",
       "│ str  ┆ str    ┆ str         ┆ u8     ┆   ┆ ---         ┆ ---         ┆ ---         ┆ ---         │\n",
       "│      ┆        ┆             ┆        ┆   ┆ u8          ┆ u8          ┆ u8          ┆ u8          │\n",
       "╞══════╪════════╪═════════════╪════════╪═══╪═════════════╪═════════════╪═════════════╪═════════════╡\n",
       "│ h    ┆ S      ┆ Northern    ┆ 1      ┆ … ┆ 0           ┆ 0           ┆ 0           ┆ 0           │\n",
       "│      ┆        ┆ Metropolita ┆        ┆   ┆             ┆             ┆             ┆             │\n",
       "│      ┆        ┆ n           ┆        ┆   ┆             ┆             ┆             ┆             │\n",
       "│ h    ┆ S      ┆ Northern    ┆ 1      ┆ … ┆ 0           ┆ 0           ┆ 0           ┆ 0           │\n",
       "│      ┆        ┆ Metropolita ┆        ┆   ┆             ┆             ┆             ┆             │\n",
       "│      ┆        ┆ n           ┆        ┆   ┆             ┆             ┆             ┆             │\n",
       "│ h    ┆ SP     ┆ Northern    ┆ 1      ┆ … ┆ 0           ┆ 0           ┆ 0           ┆ 0           │\n",
       "│      ┆        ┆ Metropolita ┆        ┆   ┆             ┆             ┆             ┆             │\n",
       "│      ┆        ┆ n           ┆        ┆   ┆             ┆             ┆             ┆             │\n",
       "│ h    ┆ PI     ┆ Northern    ┆ 1      ┆ … ┆ 0           ┆ 0           ┆ 0           ┆ 0           │\n",
       "│      ┆        ┆ Metropolita ┆        ┆   ┆             ┆             ┆             ┆             │\n",
       "│      ┆        ┆ n           ┆        ┆   ┆             ┆             ┆             ┆             │\n",
       "│ …    ┆ …      ┆ …           ┆ …      ┆ … ┆ …           ┆ …           ┆ …           ┆ …           │\n",
       "│ h    ┆ SP     ┆ Western Met ┆ 1      ┆ … ┆ 0           ┆ 0           ┆ 1           ┆ 0           │\n",
       "│      ┆        ┆ ropolitan   ┆        ┆   ┆             ┆             ┆             ┆             │\n",
       "│ h    ┆ S      ┆ Western Met ┆ 1      ┆ … ┆ 0           ┆ 0           ┆ 1           ┆ 0           │\n",
       "│      ┆        ┆ ropolitan   ┆        ┆   ┆             ┆             ┆             ┆             │\n",
       "│ h    ┆ PI     ┆ Western Met ┆ 1      ┆ … ┆ 0           ┆ 0           ┆ 1           ┆ 0           │\n",
       "│      ┆        ┆ ropolitan   ┆        ┆   ┆             ┆             ┆             ┆             │\n",
       "│ h    ┆ SP     ┆ Western Met ┆ 1      ┆ … ┆ 0           ┆ 0           ┆ 1           ┆ 0           │\n",
       "│      ┆        ┆ ropolitan   ┆        ┆   ┆             ┆             ┆             ┆             │\n",
       "└──────┴────────┴─────────────┴────────┴───┴─────────────┴─────────────┴─────────────┴─────────────┘"
      ]
     },
     "execution_count": 41,
     "metadata": {},
     "output_type": "execute_result"
    }
   ],
   "source": [
    "class OneHotEncoder(Transformer):\n",
    "    def __init__(self, columns: List[str]) -> None:\n",
    "        super().__init__()\n",
    "        self._columns = columns\n",
    "        self._ordinal = OrdinalEncoder(columns)\n",
    "\n",
    "    def fit(self, df: pl.DataFrame) -> \"OneHotEncoder\":\n",
    "        self._ordinal.fit(df[self._columns])\n",
    "        return self\n",
    "    \n",
    "    def transform(self, df: pl.DataFrame) -> pl.DataFrame:\n",
    "        ordinal_encoded_df = self._ordinal.transform(df[self._columns])\n",
    "        one_hot_encoded_df = ordinal_encoded_df.to_dummies()\n",
    "        return pl.concat([df, one_hot_encoded_df], how=\"horizontal\")\n",
    "    \n",
    "    def fit_transform(self, df: pl.DataFrame) -> pl.DataFrame:\n",
    "        return self.fit(df).transform(df)\n",
    "    \n",
    "one_hot_encoder = OneHotEncoder([\n",
    "    \"Type\",\n",
    "    \"Method\",\n",
    "    \"Regionname\",\n",
    "])\n",
    "one_hot_encoder.fit_transform(melb_housing_data[[\"Type\", \"Method\", \"Regionname\"]])"
   ]
  },
  {
   "cell_type": "markdown",
   "metadata": {},
   "source": [
    "### Binary Encoding"
   ]
  },
  {
   "cell_type": "code",
   "execution_count": 9,
   "metadata": {},
   "outputs": [
    {
     "data": {
      "text/html": [
       "<div><style>\n",
       ".dataframe > thead > tr > th,\n",
       ".dataframe > tbody > tr > td {\n",
       "  text-align: right;\n",
       "}\n",
       "</style>\n",
       "<small>shape: (13_580, 3)</small><table border=\"1\" class=\"dataframe\"><thead><tr><th>Regionname_0</th><th>Regionname_1</th><th>Regionname_2</th></tr><tr><td>u8</td><td>u8</td><td>u8</td></tr></thead><tbody><tr><td>0</td><td>1</td><td>0</td></tr><tr><td>0</td><td>1</td><td>0</td></tr><tr><td>0</td><td>1</td><td>0</td></tr><tr><td>0</td><td>1</td><td>0</td></tr><tr><td>0</td><td>1</td><td>0</td></tr><tr><td>0</td><td>1</td><td>0</td></tr><tr><td>0</td><td>1</td><td>0</td></tr><tr><td>0</td><td>1</td><td>0</td></tr><tr><td>0</td><td>1</td><td>0</td></tr><tr><td>0</td><td>1</td><td>0</td></tr><tr><td>0</td><td>1</td><td>0</td></tr><tr><td>0</td><td>1</td><td>0</td></tr><tr><td>&hellip;</td><td>&hellip;</td><td>&hellip;</td></tr><tr><td>0</td><td>0</td><td>0</td></tr><tr><td>0</td><td>0</td><td>0</td></tr><tr><td>0</td><td>0</td><td>0</td></tr><tr><td>0</td><td>0</td><td>0</td></tr><tr><td>0</td><td>1</td><td>0</td></tr><tr><td>1</td><td>1</td><td>0</td></tr><tr><td>0</td><td>1</td><td>0</td></tr><tr><td>1</td><td>0</td><td>0</td></tr><tr><td>1</td><td>1</td><td>0</td></tr><tr><td>1</td><td>1</td><td>0</td></tr><tr><td>1</td><td>1</td><td>0</td></tr><tr><td>1</td><td>1</td><td>0</td></tr></tbody></table></div>"
      ],
      "text/plain": [
       "shape: (13_580, 3)\n",
       "┌──────────────┬──────────────┬──────────────┐\n",
       "│ Regionname_0 ┆ Regionname_1 ┆ Regionname_2 │\n",
       "│ ---          ┆ ---          ┆ ---          │\n",
       "│ u8           ┆ u8           ┆ u8           │\n",
       "╞══════════════╪══════════════╪══════════════╡\n",
       "│ 0            ┆ 1            ┆ 0            │\n",
       "│ 0            ┆ 1            ┆ 0            │\n",
       "│ 0            ┆ 1            ┆ 0            │\n",
       "│ 0            ┆ 1            ┆ 0            │\n",
       "│ …            ┆ …            ┆ …            │\n",
       "│ 1            ┆ 1            ┆ 0            │\n",
       "│ 1            ┆ 1            ┆ 0            │\n",
       "│ 1            ┆ 1            ┆ 0            │\n",
       "│ 1            ┆ 1            ┆ 0            │\n",
       "└──────────────┴──────────────┴──────────────┘"
      ]
     },
     "execution_count": 9,
     "metadata": {},
     "output_type": "execute_result"
    }
   ],
   "source": [
    "class BinaryEncoder(Transformer):\n",
    "    def __init__(self, columns: List[str]) -> None:\n",
    "        super().__init__()\n",
    "        self._columns = columns\n",
    "        self._ordinal = OrdinalEncoder(columns)\n",
    "\n",
    "    def fit(self, df: pl.DataFrame) -> \"OneHotEncoder\":\n",
    "        self._ordinal.fit(df[self._columns])\n",
    "\n",
    "        def encode_binary(x: int, width: int) -> List[int]:\n",
    "            return [int(char) for char in np.binary_repr(x, width)]\n",
    "\n",
    "        mappers = {} \n",
    "        for c in self._columns:\n",
    "            width = int(np.round(np.log2(len(self._ordinal.mapping[c]))))\n",
    "            mappers[c] = (\n",
    "                self._ordinal.mapping[c]\n",
    "                .with_columns(\n",
    "                    pl.col(f\"{c}_index\")\n",
    "                    .apply(lambda x: encode_binary(x, width))\n",
    "                    .cast(pl.List(pl.UInt8))\n",
    "                    .list.to_struct(fields=[f\"{c}_{i}\" for i in range(width)])\n",
    "                )\n",
    "                .unnest(f\"{c}_index\")\n",
    "            )\n",
    "        self._mappers = mappers\n",
    "        return self\n",
    "    \n",
    "    def transform(self, df: pl.DataFrame) -> pl.DataFrame:\n",
    "        for c in self._columns:\n",
    "            df = (\n",
    "                df\n",
    "                .join(self._mappers[c], on=c, how=\"left\")\n",
    "                .drop(c)\n",
    "            )\n",
    "        return df\n",
    "    \n",
    "    def fit_transform(self, df: pl.DataFrame) -> pl.DataFrame:\n",
    "        return self.fit(df).transform(df)\n",
    "    \n",
    "binary_encoder = BinaryEncoder([\"Regionname\"])\n",
    "binary_encoder.fit_transform(melb_housing_data[[\"Regionname\"]])"
   ]
  }
 ],
 "metadata": {
  "kernelspec": {
   "display_name": "base",
   "language": "python",
   "name": "python3"
  },
  "language_info": {
   "codemirror_mode": {
    "name": "ipython",
    "version": 3
   },
   "file_extension": ".py",
   "mimetype": "text/x-python",
   "name": "python",
   "nbconvert_exporter": "python",
   "pygments_lexer": "ipython3",
   "version": "3.9.5"
  },
  "orig_nbformat": 4
 },
 "nbformat": 4,
 "nbformat_minor": 2
}
