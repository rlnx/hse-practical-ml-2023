{
 "cells": [
  {
   "cell_type": "code",
   "execution_count": 2,
   "metadata": {},
   "outputs": [
    {
     "name": "stdout",
     "output_type": "stream",
     "text": [
      "Requirement already satisfied: pip in /home/user/conda/envs/mllib-dev/lib/python3.9/site-packages (23.2.1)\n",
      "\u001b[33mWARNING: Running pip as the 'root' user can result in broken permissions and conflicting behaviour with the system package manager. It is recommended to use a virtual environment instead: https://pip.pypa.io/warnings/venv\u001b[0m\u001b[33m\n",
      "\u001b[0mNote: you may need to restart the kernel to use updated packages.\n",
      "Requirement already satisfied: polars in /home/user/conda/envs/mllib-dev/lib/python3.9/site-packages (0.19.3)\n",
      "\u001b[33mWARNING: Running pip as the 'root' user can result in broken permissions and conflicting behaviour with the system package manager. It is recommended to use a virtual environment instead: https://pip.pypa.io/warnings/venv\u001b[0m\u001b[33m\n",
      "\u001b[0mNote: you may need to restart the kernel to use updated packages.\n",
      "Requirement already satisfied: pandas in /home/user/conda/envs/mllib-dev/lib/python3.9/site-packages (1.4.1)\n",
      "Requirement already satisfied: python-dateutil>=2.8.1 in /home/user/conda/envs/mllib-dev/lib/python3.9/site-packages (from pandas) (2.8.2)\n",
      "Requirement already satisfied: pytz>=2020.1 in /home/user/conda/envs/mllib-dev/lib/python3.9/site-packages (from pandas) (2022.7.1)\n",
      "Requirement already satisfied: numpy>=1.18.5 in /home/user/conda/envs/mllib-dev/lib/python3.9/site-packages (from pandas) (1.24.1)\n",
      "Requirement already satisfied: six>=1.5 in /home/user/conda/envs/mllib-dev/lib/python3.9/site-packages (from python-dateutil>=2.8.1->pandas) (1.16.0)\n",
      "\u001b[33mWARNING: Running pip as the 'root' user can result in broken permissions and conflicting behaviour with the system package manager. It is recommended to use a virtual environment instead: https://pip.pypa.io/warnings/venv\u001b[0m\u001b[33m\n",
      "\u001b[0mNote: you may need to restart the kernel to use updated packages.\n"
     ]
    }
   ],
   "source": [
    "%pip install --upgrade pip\n",
    "%pip install polars\n",
    "%pip install pandas\n",
    "\n",
    "from time import time\n",
    "import pandas as pd\n",
    "import polars as pl"
   ]
  },
  {
   "cell_type": "markdown",
   "metadata": {},
   "source": [
    "#### Функция для отрисовки"
   ]
  },
  {
   "cell_type": "code",
   "execution_count": 3,
   "metadata": {},
   "outputs": [],
   "source": [
    "import matplotlib.pyplot as plt\n",
    "def plot_time_bar(time_pl: float, time_pd: float):\n",
    "\n",
    "    print(f'Pandas: {time_pd}; Polars: {time_pl}')\n",
    "    fig, ax = plt.subplots()\n",
    "\n",
    "    x_axis = ['Pandas', 'Polars']\n",
    "    counts = [time_pd, time_pl]\n",
    "    bar_labels = ['Pandas', 'Polars']\n",
    "    bar_colors = ['tab:red', 'tab:green']\n",
    "\n",
    "    ax.bar(x_axis, counts, label=bar_labels, color=bar_colors)\n",
    "\n",
    "    ax.set_ylabel('Time')\n",
    "    ax.set_title('Pandas vs Polars time comparison')\n",
    "    ax.legend(title='Libraries')\n",
    "\n",
    "    plt.show()\n"
   ]
  },
  {
   "cell_type": "markdown",
   "metadata": {},
   "source": [
    "### Movielens-20m dataset"
   ]
  },
  {
   "cell_type": "markdown",
   "metadata": {},
   "source": [
    "Link: https://grouplens.org/datasets/movielens/20m/"
   ]
  },
  {
   "cell_type": "markdown",
   "metadata": {},
   "source": [
    "#### Скачивание датасета"
   ]
  },
  {
   "cell_type": "code",
   "execution_count": 4,
   "metadata": {},
   "outputs": [
    {
     "name": "stdout",
     "output_type": "stream",
     "text": [
      "cd245b17a1ae2cc31bb14903e1204af3  ml-20m.zip\n",
      "MD5 (ml-20m.zip) = cd245b17a1ae2cc31bb14903e1204af3\n"
     ]
    }
   ],
   "source": [
    "# ! wget https://files.grouplens.org/datasets/movielens/ml-20m.zip\n",
    "# ! apt-get install unzip && unzip ml-20m.zip\n",
    "# ! wget https://files.grouplens.org/datasets/movielens/ml-20m.zip.md5\n",
    "! md5sum ml-20m.zip; cat ml-20m.zip.md5"
   ]
  },
  {
   "cell_type": "markdown",
   "metadata": {},
   "source": [
    "#### Описание данных\n",
    "\n",
    " - `ratings.csv` - информация об интеракциях пользователя (проставленные рейтинги для фильмов)  \n",
    "    `[userId, movieId, rating, timestamp]`\n",
    " - `movies.csv` - метаинформация о фильмах (название, жанры)  \n",
    "    `[movieId, title, genres]`\n",
    " - `tags.csv` - тэги пользователей о фильмах  \n",
    "    `[userId, movieId, tag]`"
   ]
  },
  {
   "cell_type": "markdown",
   "metadata": {},
   "source": [
    "### Чтение данных"
   ]
  },
  {
   "cell_type": "code",
   "execution_count": 5,
   "metadata": {},
   "outputs": [
    {
     "name": "stdout",
     "output_type": "stream",
     "text": [
      "Pandas: 5.108203887939453; Polars: 0.32105255126953125\n"
     ]
    },
    {
     "data": {
      "image/png": "[encoded data removed]",
      "text/plain": [
       "<Figure size 640x480 with 1 Axes>"
      ]
     },
     "metadata": {},
     "output_type": "display_data"
    }
   ],
   "source": [
    "start = time()\n",
    "interactions_pd = pd.read_csv(\n",
    "    'ml-20m/ratings.csv', \n",
    "    delimiter=',',\n",
    "    header = 0\n",
    ")\n",
    "\n",
    "item_features_pd = pd.read_csv(\n",
    "    'ml-20m/movies.csv', \n",
    "    delimiter=',',\n",
    "    header = 0\n",
    ")\n",
    "\n",
    "tags_pd = pd.read_csv(\n",
    "    'ml-20m/tags.csv', \n",
    "    delimiter=',',\n",
    "    header = 0\n",
    ")\n",
    "\n",
    "time_pd = time() - start\n",
    "\n",
    "# Read data using polars\n",
    "start = time()\n",
    "interactions_pl = pl.read_csv(\n",
    "    'ml-20m/ratings.csv', \n",
    "    separator=',', \n",
    "    has_header=True, \n",
    ")\n",
    "\n",
    "item_features_pl = pl.read_csv(\n",
    "    'ml-20m/movies.csv', \n",
    "    separator=',',\n",
    "    has_header=True\n",
    ")\n",
    "\n",
    "tags_pl = pl.read_csv(\n",
    "    'ml-20m/tags.csv', \n",
    "    separator=',',\n",
    "    has_header=True\n",
    ")\n",
    "\n",
    "time_pl = time() - start\n",
    "plot_time_bar(time_pl, time_pd)"
   ]
  },
  {
   "cell_type": "markdown",
   "metadata": {},
   "source": [
    "#### Описание данных"
   ]
  },
  {
   "cell_type": "code",
   "execution_count": 6,
   "metadata": {},
   "outputs": [
    {
     "name": "stdout",
     "output_type": "stream",
     "text": [
      "shape: (20_000_263, 4)\n",
      "┌────────┬─────────┬────────┬────────────┐\n",
      "│ userId ┆ movieId ┆ rating ┆ timestamp  │\n",
      "│ ---    ┆ ---     ┆ ---    ┆ ---        │\n",
      "│ i64    ┆ i64     ┆ f64    ┆ i64        │\n",
      "╞════════╪═════════╪════════╪════════════╡\n",
      "│ 1      ┆ 2       ┆ 3.5    ┆ 1112486027 │\n",
      "│ 1      ┆ 29      ┆ 3.5    ┆ 1112484676 │\n",
      "│ 1      ┆ 32      ┆ 3.5    ┆ 1112484819 │\n",
      "│ 1      ┆ 47      ┆ 3.5    ┆ 1112484727 │\n",
      "│ …      ┆ …       ┆ …      ┆ …          │\n",
      "│ 138493 ┆ 69526   ┆ 4.5    ┆ 1259865108 │\n",
      "│ 138493 ┆ 69644   ┆ 3.0    ┆ 1260209457 │\n",
      "│ 138493 ┆ 70286   ┆ 5.0    ┆ 1258126944 │\n",
      "│ 138493 ┆ 71619   ┆ 2.5    ┆ 1255811136 │\n",
      "└────────┴─────────┴────────┴────────────┘\n",
      "          userId  movieId  rating   timestamp\n",
      "0              1        2     3.5  1112486027\n",
      "1              1       29     3.5  1112484676\n",
      "2              1       32     3.5  1112484819\n",
      "3              1       47     3.5  1112484727\n",
      "4              1       50     3.5  1112484580\n",
      "...          ...      ...     ...         ...\n",
      "20000258  138493    68954     4.5  1258126920\n",
      "20000259  138493    69526     4.5  1259865108\n",
      "20000260  138493    69644     3.0  1260209457\n",
      "20000261  138493    70286     5.0  1258126944\n",
      "20000262  138493    71619     2.5  1255811136\n",
      "\n",
      "[20000263 rows x 4 columns]\n",
      "userId         int64\n",
      "movieId        int64\n",
      "rating       float64\n",
      "timestamp      int64\n",
      "dtype: object\n"
     ]
    }
   ],
   "source": [
    "print(interactions_pl)\n",
    "print(interactions_pd)\n",
    "print(interactions_pd.dtypes)"
   ]
  },
  {
   "cell_type": "code",
   "execution_count": 7,
   "metadata": {},
   "outputs": [
    {
     "name": "stdout",
     "output_type": "stream",
     "text": [
      "shape: (20_000_263, 4)\n",
      "┌────────┬─────────┬────────┬────────────┐\n",
      "│ userId ┆ movieId ┆ rating ┆ timestamp  │\n",
      "│ ---    ┆ ---     ┆ ---    ┆ ---        │\n",
      "│ i64    ┆ i64     ┆ f64    ┆ i64        │\n",
      "╞════════╪═════════╪════════╪════════════╡\n",
      "│ 1      ┆ 2       ┆ 3.5    ┆ 1112486027 │\n",
      "│ 1      ┆ 29      ┆ 3.5    ┆ 1112484676 │\n",
      "│ 1      ┆ 32      ┆ 3.5    ┆ 1112484819 │\n",
      "│ 1      ┆ 47      ┆ 3.5    ┆ 1112484727 │\n",
      "│ …      ┆ …       ┆ …      ┆ …          │\n",
      "│ 138493 ┆ 69526   ┆ 4.5    ┆ 1259865108 │\n",
      "│ 138493 ┆ 69644   ┆ 3.0    ┆ 1260209457 │\n",
      "│ 138493 ┆ 70286   ┆ 5.0    ┆ 1258126944 │\n",
      "│ 138493 ┆ 71619   ┆ 2.5    ┆ 1255811136 │\n",
      "└────────┴─────────┴────────┴────────────┘\n",
      "shape: (27_278, 3)\n",
      "┌─────────┬───────────────────────────────┬───────────────────────────────────┐\n",
      "│ movieId ┆ title                         ┆ genres                            │\n",
      "│ ---     ┆ ---                           ┆ ---                               │\n",
      "│ i64     ┆ str                           ┆ str                               │\n",
      "╞═════════╪═══════════════════════════════╪═══════════════════════════════════╡\n",
      "│ 1       ┆ Toy Story (1995)              ┆ Adventure|Animation|Children|Com… │\n",
      "│ 2       ┆ Jumanji (1995)                ┆ Adventure|Children|Fantasy        │\n",
      "│ 3       ┆ Grumpier Old Men (1995)       ┆ Comedy|Romance                    │\n",
      "│ 4       ┆ Waiting to Exhale (1995)      ┆ Comedy|Drama|Romance              │\n",
      "│ …       ┆ …                             ┆ …                                 │\n",
      "│ 131256  ┆ Feuer, Eis & Dosenbier (2002) ┆ Comedy                            │\n",
      "│ 131258  ┆ The Pirates (2014)            ┆ Adventure                         │\n",
      "│ 131260  ┆ Rentun Ruusu (2001)           ┆ (no genres listed)                │\n",
      "│ 131262  ┆ Innocence (2014)              ┆ Adventure|Fantasy|Horror          │\n",
      "└─────────┴───────────────────────────────┴───────────────────────────────────┘\n",
      "shape: (465_564, 4)\n",
      "┌────────┬─────────┬───────────────┬────────────┐\n",
      "│ userId ┆ movieId ┆ tag           ┆ timestamp  │\n",
      "│ ---    ┆ ---     ┆ ---           ┆ ---        │\n",
      "│ i64    ┆ i64     ┆ str           ┆ i64        │\n",
      "╞════════╪═════════╪═══════════════╪════════════╡\n",
      "│ 18     ┆ 4141    ┆ Mark Waters   ┆ 1240597180 │\n",
      "│ 65     ┆ 208     ┆ dark hero     ┆ 1368150078 │\n",
      "│ 65     ┆ 353     ┆ dark hero     ┆ 1368150079 │\n",
      "│ 65     ┆ 521     ┆ noir thriller ┆ 1368149983 │\n",
      "│ …      ┆ …       ┆ …             ┆ …          │\n",
      "│ 138446 ┆ 55999   ┆ Jason Bateman ┆ 1358983778 │\n",
      "│ 138446 ┆ 55999   ┆ quirky        ┆ 1358983778 │\n",
      "│ 138446 ┆ 55999   ┆ sad           ┆ 1358983772 │\n",
      "│ 138472 ┆ 923     ┆ rise to power ┆ 1194037967 │\n",
      "└────────┴─────────┴───────────────┴────────────┘\n"
     ]
    }
   ],
   "source": [
    "print(interactions_pl)\n",
    "print(item_features_pl)\n",
    "print(tags_pl)"
   ]
  },
  {
   "cell_type": "code",
   "execution_count": 10,
   "metadata": {},
   "outputs": [
    {
     "name": "stdout",
     "output_type": "stream",
     "text": [
      "interactions_pl\n",
      "shape: (9, 5)\n",
      "┌────────────┬──────────────┬──────────────┬─────────────┬──────────────┐\n",
      "│ describe   ┆ userId       ┆ movieId      ┆ rating      ┆ timestamp    │\n",
      "│ ---        ┆ ---          ┆ ---          ┆ ---         ┆ ---          │\n",
      "│ str        ┆ f64          ┆ f64          ┆ f64         ┆ f64          │\n",
      "╞════════════╪══════════════╪══════════════╪═════════════╪══════════════╡\n",
      "│ count      ┆ 2.0000263e7  ┆ 2.0000263e7  ┆ 2.0000263e7 ┆ 2.0000263e7  │\n",
      "│ null_count ┆ 0.0          ┆ 0.0          ┆ 0.0         ┆ 0.0          │\n",
      "│ mean       ┆ 69045.872583 ┆ 9041.56733   ┆ 3.525529    ┆ 1.1009e9     │\n",
      "│ std        ┆ 40038.626653 ┆ 19789.477445 ┆ 1.051989    ┆ 1.6217e8     │\n",
      "│ min        ┆ 1.0          ┆ 1.0          ┆ 0.5         ┆ 7.89652004e8 │\n",
      "│ 25%        ┆ 34395.0      ┆ 902.0        ┆ 3.0         ┆ 9.66797706e8 │\n",
      "│ 50%        ┆ 69141.0      ┆ 2167.0       ┆ 3.5         ┆ 1.1036e9     │\n",
      "│ 75%        ┆ 103637.0     ┆ 4770.0       ┆ 4.0         ┆ 1.2256e9     │\n",
      "│ max        ┆ 138493.0     ┆ 131262.0     ┆ 5.0         ┆ 1.4278e9     │\n",
      "└────────────┴──────────────┴──────────────┴─────────────┴──────────────┘\n",
      "item_features_pl\n",
      "shape: (9, 4)\n",
      "┌────────────┬──────────────┬──────────────────────────────────┬────────────────────┐\n",
      "│ describe   ┆ movieId      ┆ title                            ┆ genres             │\n",
      "│ ---        ┆ ---          ┆ ---                              ┆ ---                │\n",
      "│ str        ┆ f64          ┆ str                              ┆ str                │\n",
      "╞════════════╪══════════════╪══════════════════════════════════╪════════════════════╡\n",
      "│ count      ┆ 27278.0      ┆ 27278                            ┆ 27278              │\n",
      "│ null_count ┆ 0.0          ┆ 0                                ┆ 0                  │\n",
      "│ mean       ┆ 59855.48057  ┆ null                             ┆ null               │\n",
      "│ std        ┆ 44429.314697 ┆ null                             ┆ null               │\n",
      "│ min        ┆ 1.0          ┆ \"Great Performances\" Cats (1998) ┆ (no genres listed) │\n",
      "│ 25%        ┆ 6931.0       ┆ null                             ┆ null               │\n",
      "│ 50%        ┆ 68069.0      ┆ null                             ┆ null               │\n",
      "│ 75%        ┆ 100294.0     ┆ null                             ┆ null               │\n",
      "│ max        ┆ 131262.0     ┆ 貞子3D (2012)                    ┆ Western            │\n",
      "└────────────┴──────────────┴──────────────────────────────────┴────────────────────┘\n",
      "tags_pl\n",
      "shape: (9, 5)\n",
      "┌────────────┬──────────────┬──────────────┬─────────────────────────┬───────────┐\n",
      "│ describe   ┆ userId       ┆ movieId      ┆ tag                     ┆ timestamp │\n",
      "│ ---        ┆ ---          ┆ ---          ┆ ---                     ┆ ---       │\n",
      "│ str        ┆ f64          ┆ f64          ┆ str                     ┆ f64       │\n",
      "╞════════════╪══════════════╪══════════════╪═════════════════════════╪═══════════╡\n",
      "│ count      ┆ 465564.0     ┆ 465564.0     ┆ 465564                  ┆ 465564.0  │\n",
      "│ null_count ┆ 0.0          ┆ 0.0          ┆ 0                       ┆ 0.0       │\n",
      "│ mean       ┆ 68712.354263 ┆ 32627.76292  ┆ null                    ┆ 1.2987e9  │\n",
      "│ std        ┆ 41877.674053 ┆ 36080.241157 ┆ null                    ┆ 7.9209e7  │\n",
      "│ min        ┆ 18.0         ┆ 1.0          ┆ !950's Superman TV show ┆ 1.1354e9  │\n",
      "│ 25%        ┆ 28780.0      ┆ 2571.0       ┆ null                    ┆ 1.2450e9  │\n",
      "│ 50%        ┆ 70201.0      ┆ 7373.0       ┆ null                    ┆ 1.3023e9  │\n",
      "│ 75%        ┆ 107322.0     ┆ 62235.0      ┆ null                    ┆ 1.3662e9  │\n",
      "│ max        ┆ 138472.0     ┆ 131258.0     ┆ é˜®ä¸€é¸£               ┆ 1.4278e9  │\n",
      "└────────────┴──────────────┴──────────────┴─────────────────────────┴───────────┘\n"
     ]
    }
   ],
   "source": [
    "print('interactions_pl')\n",
    "print(interactions_pl.describe())\n",
    "print('item_features_pl')\n",
    "print(item_features_pl.describe())\n",
    "print('tags_pl')\n",
    "print(tags_pl.describe())\n",
    "\n",
    "# print('interactions_pd')\n",
    "# print(interactions_pd.describe())\n",
    "# print('item_features_pd')\n",
    "# print(item_features_pd.describe())\n",
    "# print('tags_pd')\n",
    "# print(tags_pd.describe())"
   ]
  },
  {
   "cell_type": "markdown",
   "metadata": {},
   "source": [
    "### Простые операции"
   ]
  },
  {
   "cell_type": "markdown",
   "metadata": {},
   "source": [
    "#### Переименование колонок"
   ]
  },
  {
   "cell_type": "code",
   "execution_count": 11,
   "metadata": {},
   "outputs": [
    {
     "name": "stdout",
     "output_type": "stream",
     "text": [
      "Pandas: 0.19500994682312012; Polars: 0.0006330013275146484\n"
     ]
    },
    {
     "data": {
      "image/png": "[encoded data removed]",
      "text/plain": [
       "<Figure size 640x480 with 1 Axes>"
      ]
     },
     "metadata": {},
     "output_type": "display_data"
    }
   ],
   "source": [
    "# переименование колонок \n",
    "interations_mapping = {\n",
    "    'movieId' : 'item_id',\n",
    "    'userId' : 'user_id',\n",
    "}\n",
    "item_features_mapping = {\n",
    "    'movieId' : 'item_id',\n",
    "}\n",
    "\n",
    "start = time()\n",
    "interactions_pl = interactions_pl.rename(interations_mapping)\n",
    "item_features_pl = item_features_pl.rename(item_features_mapping)\n",
    "tags_pl = tags_pl.rename(interations_mapping)\n",
    "time_pl = time() - start\n",
    "\n",
    "start = time()\n",
    "interactions_pd = interactions_pd.rename(columns=interations_mapping)\n",
    "item_features_pd = item_features_pd.rename(columns=item_features_mapping)\n",
    "tags_pd = tags_pd.rename(columns=interations_mapping)\n",
    "time_pd = time() - start\n",
    "\n",
    "time_pd = time() - start\n",
    "plot_time_bar(time_pl, time_pd)\n",
    "\n"
   ]
  },
  {
   "cell_type": "code",
   "execution_count": 12,
   "metadata": {},
   "outputs": [
    {
     "name": "stdout",
     "output_type": "stream",
     "text": [
      "shape: (20_000_263, 4)\n",
      "┌─────────┬─────────┬────────┬────────────┐\n",
      "│ user_id ┆ item_id ┆ rating ┆ timestamp  │\n",
      "│ ---     ┆ ---     ┆ ---    ┆ ---        │\n",
      "│ i64     ┆ i64     ┆ f64    ┆ i64        │\n",
      "╞═════════╪═════════╪════════╪════════════╡\n",
      "│ 1       ┆ 2       ┆ 3.5    ┆ 1112486027 │\n",
      "│ 1       ┆ 29      ┆ 3.5    ┆ 1112484676 │\n",
      "│ 1       ┆ 32      ┆ 3.5    ┆ 1112484819 │\n",
      "│ 1       ┆ 47      ┆ 3.5    ┆ 1112484727 │\n",
      "│ …       ┆ …       ┆ …      ┆ …          │\n",
      "│ 138493  ┆ 69526   ┆ 4.5    ┆ 1259865108 │\n",
      "│ 138493  ┆ 69644   ┆ 3.0    ┆ 1260209457 │\n",
      "│ 138493  ┆ 70286   ┆ 5.0    ┆ 1258126944 │\n",
      "│ 138493  ┆ 71619   ┆ 2.5    ┆ 1255811136 │\n",
      "└─────────┴─────────┴────────┴────────────┘\n",
      "          user_id  item_id  rating   timestamp\n",
      "0               1        2     3.5  1112486027\n",
      "1               1       29     3.5  1112484676\n",
      "2               1       32     3.5  1112484819\n",
      "3               1       47     3.5  1112484727\n",
      "4               1       50     3.5  1112484580\n",
      "...           ...      ...     ...         ...\n",
      "20000258   138493    68954     4.5  1258126920\n",
      "20000259   138493    69526     4.5  1259865108\n",
      "20000260   138493    69644     3.0  1260209457\n",
      "20000261   138493    70286     5.0  1258126944\n",
      "20000262   138493    71619     2.5  1255811136\n",
      "\n",
      "[20000263 rows x 4 columns]\n"
     ]
    }
   ],
   "source": [
    "print(interactions_pl)\n",
    "print(interactions_pd)"
   ]
  },
  {
   "cell_type": "markdown",
   "metadata": {},
   "source": [
    "#### Арифметические операции"
   ]
  },
  {
   "cell_type": "code",
   "execution_count": 13,
   "metadata": {},
   "outputs": [
    {
     "name": "stdout",
     "output_type": "stream",
     "text": [
      "Pandas: 0.0885779857635498; Polars: 0.0653223991394043\n"
     ]
    },
    {
     "data": {
      "image/png": "[encoded data removed]",
      "text/plain": [
       "<Figure size 640x480 with 1 Axes>"
      ]
     },
     "metadata": {},
     "output_type": "display_data"
    }
   ],
   "source": [
    "# нормировка рейтинга\n",
    "start = time()\n",
    "interactions_pl = interactions_pl.with_columns(\n",
    "    (pl.col('rating')/5.).alias('rating_normalized')\n",
    ")\n",
    "time_pl = time() - start\n",
    "\n",
    "start = time()\n",
    "interactions_pd[\"rating_normalized\"] = interactions_pd['rating']/5.\n",
    "time_pd = time() - start\n",
    "\n",
    "plot_time_bar(time_pl, time_pd)\n"
   ]
  },
  {
   "cell_type": "code",
   "execution_count": 14,
   "metadata": {},
   "outputs": [
    {
     "name": "stdout",
     "output_type": "stream",
     "text": [
      "shape: (20_000_263, 5)\n",
      "┌─────────┬─────────┬────────┬────────────┬───────────────────┐\n",
      "│ user_id ┆ item_id ┆ rating ┆ timestamp  ┆ rating_normalized │\n",
      "│ ---     ┆ ---     ┆ ---    ┆ ---        ┆ ---               │\n",
      "│ i64     ┆ i64     ┆ f64    ┆ i64        ┆ f64               │\n",
      "╞═════════╪═════════╪════════╪════════════╪═══════════════════╡\n",
      "│ 1       ┆ 2       ┆ 3.5    ┆ 1112486027 ┆ 0.7               │\n",
      "│ 1       ┆ 29      ┆ 3.5    ┆ 1112484676 ┆ 0.7               │\n",
      "│ 1       ┆ 32      ┆ 3.5    ┆ 1112484819 ┆ 0.7               │\n",
      "│ 1       ┆ 47      ┆ 3.5    ┆ 1112484727 ┆ 0.7               │\n",
      "│ …       ┆ …       ┆ …      ┆ …          ┆ …                 │\n",
      "│ 138493  ┆ 69526   ┆ 4.5    ┆ 1259865108 ┆ 0.9               │\n",
      "│ 138493  ┆ 69644   ┆ 3.0    ┆ 1260209457 ┆ 0.6               │\n",
      "│ 138493  ┆ 70286   ┆ 5.0    ┆ 1258126944 ┆ 1.0               │\n",
      "│ 138493  ┆ 71619   ┆ 2.5    ┆ 1255811136 ┆ 0.5               │\n",
      "└─────────┴─────────┴────────┴────────────┴───────────────────┘\n",
      "          user_id  item_id  rating   timestamp  rating_normalized\n",
      "0               1        2     3.5  1112486027                0.7\n",
      "1               1       29     3.5  1112484676                0.7\n",
      "2               1       32     3.5  1112484819                0.7\n",
      "3               1       47     3.5  1112484727                0.7\n",
      "4               1       50     3.5  1112484580                0.7\n",
      "...           ...      ...     ...         ...                ...\n",
      "20000258   138493    68954     4.5  1258126920                0.9\n",
      "20000259   138493    69526     4.5  1259865108                0.9\n",
      "20000260   138493    69644     3.0  1260209457                0.6\n",
      "20000261   138493    70286     5.0  1258126944                1.0\n",
      "20000262   138493    71619     2.5  1255811136                0.5\n",
      "\n",
      "[20000263 rows x 5 columns]\n"
     ]
    }
   ],
   "source": [
    "print(interactions_pl)\n",
    "print(interactions_pd)"
   ]
  },
  {
   "cell_type": "markdown",
   "metadata": {},
   "source": [
    "#### Преобразование типов"
   ]
  },
  {
   "cell_type": "code",
   "execution_count": 15,
   "metadata": {},
   "outputs": [
    {
     "name": "stdout",
     "output_type": "stream",
     "text": [
      "Pandas: 0.30188822746276855; Polars: 0.1640918254852295\n"
     ]
    },
    {
     "data": {
      "image/png": "[encoded data removed]",
      "text/plain": [
       "<Figure size 640x480 with 1 Axes>"
      ]
     },
     "metadata": {},
     "output_type": "display_data"
    }
   ],
   "source": [
    "start = time()\n",
    "interactions_pl = interactions_pl.with_columns(\n",
    "    pl.col('user_id').cast(pl.Int32),\n",
    "    pl.col('item_id').cast(pl.Int32),\n",
    "    pl.col('rating').cast(pl.Float32),\n",
    ")\n",
    "item_features_pl = item_features_pl.with_columns(\n",
    "    pl.col('item_id').cast(pl.Int32)\n",
    ")\n",
    "tags_pl = tags_pl.with_columns(\n",
    "    pl.col('user_id').cast(pl.Int32),\n",
    "    pl.col('item_id').cast(pl.Int32),\n",
    ")\n",
    "\n",
    "time_pl = time() - start\n",
    "\n",
    "start = time()\n",
    "interactions_pd['user_id'] = interactions_pd['user_id'].astype('int32')\n",
    "interactions_pd['item_id'] = interactions_pd['item_id'].astype('int32')\n",
    "interactions_pd['rating'] = interactions_pd['rating'].astype('float32')\n",
    "\n",
    "item_features_pd['item_id'] = item_features_pd['item_id'].astype('int32')\n",
    "\n",
    "tags_pd['user_id'] = tags_pd['user_id'].astype('int32')\n",
    "tags_pd['item_id'] = tags_pd['item_id'].astype('int32')\n",
    "\n",
    "time_pd = time() - start\n",
    "\n",
    "plot_time_bar(time_pl, time_pd)"
   ]
  },
  {
   "cell_type": "code",
   "execution_count": 16,
   "metadata": {},
   "outputs": [
    {
     "name": "stdout",
     "output_type": "stream",
     "text": [
      "Polars dtypes: [Int32, Int32, Float32, Int64, Float64]\n",
      "Pandas dtypes:\n",
      " user_id                int32\n",
      "item_id                int32\n",
      "rating               float32\n",
      "timestamp              int64\n",
      "rating_normalized    float64\n",
      "dtype: object\n"
     ]
    }
   ],
   "source": [
    "print('Polars dtypes:', interactions_pl.dtypes)\n",
    "print('Pandas dtypes:\\n', interactions_pd.dtypes)\n"
   ]
  },
  {
   "cell_type": "code",
   "execution_count": 17,
   "metadata": {},
   "outputs": [
    {
     "name": "stdout",
     "output_type": "stream",
     "text": [
      "shape: (20_000_263, 5)\n",
      "┌─────────┬─────────┬────────┬────────────┬───────────────────┐\n",
      "│ user_id ┆ item_id ┆ rating ┆ timestamp  ┆ rating_normalized │\n",
      "│ ---     ┆ ---     ┆ ---    ┆ ---        ┆ ---               │\n",
      "│ i32     ┆ i32     ┆ f32    ┆ i64        ┆ f64               │\n",
      "╞═════════╪═════════╪════════╪════════════╪═══════════════════╡\n",
      "│ 1       ┆ 2       ┆ 3.5    ┆ 1112486027 ┆ 0.7               │\n",
      "│ 1       ┆ 29      ┆ 3.5    ┆ 1112484676 ┆ 0.7               │\n",
      "│ 1       ┆ 32      ┆ 3.5    ┆ 1112484819 ┆ 0.7               │\n",
      "│ 1       ┆ 47      ┆ 3.5    ┆ 1112484727 ┆ 0.7               │\n",
      "│ …       ┆ …       ┆ …      ┆ …          ┆ …                 │\n",
      "│ 138493  ┆ 69526   ┆ 4.5    ┆ 1259865108 ┆ 0.9               │\n",
      "│ 138493  ┆ 69644   ┆ 3.0    ┆ 1260209457 ┆ 0.6               │\n",
      "│ 138493  ┆ 70286   ┆ 5.0    ┆ 1258126944 ┆ 1.0               │\n",
      "│ 138493  ┆ 71619   ┆ 2.5    ┆ 1255811136 ┆ 0.5               │\n",
      "└─────────┴─────────┴────────┴────────────┴───────────────────┘\n"
     ]
    }
   ],
   "source": [
    "print(interactions_pl)"
   ]
  },
  {
   "cell_type": "markdown",
   "metadata": {},
   "source": [
    "#### Агрегация"
   ]
  },
  {
   "cell_type": "code",
   "execution_count": 18,
   "metadata": {},
   "outputs": [
    {
     "name": "stdout",
     "output_type": "stream",
     "text": [
      "Pandas: 0.18973374366760254; Polars: 0.16078805923461914\n"
     ]
    },
    {
     "data": {
      "image/png": "[encoded data removed]",
      "text/plain": [
       "<Figure size 640x480 with 1 Axes>"
      ]
     },
     "metadata": {},
     "output_type": "display_data"
    }
   ],
   "source": [
    "start = time()\n",
    "interactions_pl.select(pl.col('rating')).std()\n",
    "interactions_pl.select(pl.col('rating')).mean()\n",
    "interactions_pl.select(pl.col('rating')).max()\n",
    "interactions_pl.select(pl.col('rating')).min()\n",
    "time_pl = time() - start\n",
    "\n",
    "start = time()\n",
    "interactions_pd['rating'].std()\n",
    "interactions_pd['rating'].mean()\n",
    "interactions_pd['rating'].max()\n",
    "interactions_pd['rating'].min()\n",
    "time_pd = time() - start\n",
    "\n",
    "plot_time_bar(time_pl, time_pd)\n"
   ]
  },
  {
   "cell_type": "markdown",
   "metadata": {},
   "source": [
    "#### Выбор и модификация "
   ]
  },
  {
   "cell_type": "markdown",
   "metadata": {},
   "source": [
    "##### top k"
   ]
  },
  {
   "cell_type": "code",
   "execution_count": 20,
   "metadata": {},
   "outputs": [
    {
     "name": "stdout",
     "output_type": "stream",
     "text": [
      "shape: (100, 5)\n",
      "┌─────────┬─────────┬────────┬────────────┬───────────────────┐\n",
      "│ user_id ┆ item_id ┆ rating ┆ timestamp  ┆ rating_normalized │\n",
      "│ ---     ┆ ---     ┆ ---    ┆ ---        ┆ ---               │\n",
      "│ i32     ┆ i32     ┆ f32    ┆ i64        ┆ f64               │\n",
      "╞═════════╪═════════╪════════╪════════════╪═══════════════════╡\n",
      "│ 87586   ┆ 7151    ┆ 3.5    ┆ 1427784002 ┆ 0.7               │\n",
      "│ 89081   ┆ 52458   ┆ 4.0    ┆ 1427782288 ┆ 0.8               │\n",
      "│ 89081   ┆ 55232   ┆ 3.5    ┆ 1427782286 ┆ 0.7               │\n",
      "│ 16978   ┆ 2093    ┆ 3.5    ┆ 1427781797 ┆ 0.7               │\n",
      "│ …       ┆ …       ┆ …      ┆ …          ┆ …                 │\n",
      "│ 41267   ┆ 85992   ┆ 2.0    ┆ 1427773451 ┆ 0.4               │\n",
      "│ 41267   ┆ 115664  ┆ 3.0    ┆ 1427773211 ┆ 0.6               │\n",
      "│ 79366   ┆ 45183   ┆ 3.5    ┆ 1427773181 ┆ 0.7               │\n",
      "│ 41267   ┆ 25840   ┆ 2.5    ┆ 1427772807 ┆ 0.5               │\n",
      "└─────────┴─────────┴────────┴────────────┴───────────────────┘\n",
      "          user_id  item_id  rating   timestamp  rating_normalized\n",
      "12675921    87586     7151     3.5  1427784002                0.7\n",
      "12898527    89081    52458     4.0  1427782288                0.8\n",
      "12898546    89081    55232     3.5  1427782286                0.7\n",
      "2508834     16978     2093     3.5  1427781797                0.7\n",
      "7819902     53930   118706     3.5  1427781651                0.7\n",
      "...           ...      ...     ...         ...                ...\n",
      "17565955   121535     6443     4.0  1427773520                0.8\n",
      "5991952     41267    85992     2.0  1427773451                0.4\n",
      "5992363     41267   115664     3.0  1427773211                0.6\n",
      "11495468    79366    45183     3.5  1427773181                0.7\n",
      "5991202     41267    25840     2.5  1427772807                0.5\n",
      "\n",
      "[100 rows x 5 columns]\n",
      "Pandas: 0.6030318737030029; Polars: 0.904914379119873\n"
     ]
    },
    {
     "data": {
      "image/png": "[encoded data removed]",
      "text/plain": [
       "<Figure size 640x480 with 1 Axes>"
      ]
     },
     "metadata": {},
     "output_type": "display_data"
    }
   ],
   "source": [
    "# выбираем 100 последних событий\n",
    "\n",
    "start = time()\n",
    "print(interactions_pl.top_k(100, by='timestamp'))\n",
    "time_pl = time() - start\n",
    "\n",
    "start = time()\n",
    "print(interactions_pd.nlargest(100, 'timestamp'))\n",
    "time_pd = time() - start\n",
    "\n",
    "plot_time_bar(time_pl, time_pd)"
   ]
  },
  {
   "cell_type": "markdown",
   "metadata": {},
   "source": [
    "##### sort"
   ]
  },
  {
   "cell_type": "code",
   "execution_count": 22,
   "metadata": {},
   "outputs": [
    {
     "name": "stdout",
     "output_type": "stream",
     "text": [
      "Pandas: 2.7024083137512207; Polars: 0.5922155380249023\n"
     ]
    },
    {
     "data": {
      "image/png": "[encoded data removed]",
      "text/plain": [
       "<Figure size 640x480 with 1 Axes>"
      ]
     },
     "metadata": {},
     "output_type": "display_data"
    }
   ],
   "source": [
    "start = time()\n",
    "interactions_pl.sort(pl.col('timestamp'))\n",
    "time_pl = time() - start\n",
    "\n",
    "start = time()\n",
    "interactions_pd.sort_values('timestamp')\n",
    "time_pd = time() - start\n",
    "\n",
    "plot_time_bar(time_pl, time_pd)"
   ]
  },
  {
   "cell_type": "markdown",
   "metadata": {},
   "source": [
    "#### Операция со строками"
   ]
  },
  {
   "cell_type": "code",
   "execution_count": 23,
   "metadata": {},
   "outputs": [
    {
     "data": {
      "text/html": [
       "<div><style>\n",
       ".dataframe > thead > tr > th,\n",
       ".dataframe > tbody > tr > td {\n",
       "  text-align: right;\n",
       "  white-space: pre-wrap;\n",
       "}\n",
       "</style>\n",
       "<small>shape: (27_278, 3)</small><table border=\"1\" class=\"dataframe\"><thead><tr><th>item_id</th><th>title</th><th>genres</th></tr><tr><td>i32</td><td>str</td><td>str</td></tr></thead><tbody><tr><td>1</td><td>&quot;Toy Story (199…</td><td>&quot;Adventure|Anim…</td></tr><tr><td>2</td><td>&quot;Jumanji (1995)…</td><td>&quot;Adventure|Chil…</td></tr><tr><td>3</td><td>&quot;Grumpier Old M…</td><td>&quot;Comedy|Romance…</td></tr><tr><td>4</td><td>&quot;Waiting to Exh…</td><td>&quot;Comedy|Drama|R…</td></tr><tr><td>5</td><td>&quot;Father of the …</td><td>&quot;Comedy&quot;</td></tr><tr><td>6</td><td>&quot;Heat (1995)&quot;</td><td>&quot;Action|Crime|T…</td></tr><tr><td>7</td><td>&quot;Sabrina (1995)…</td><td>&quot;Comedy|Romance…</td></tr><tr><td>8</td><td>&quot;Tom and Huck (…</td><td>&quot;Adventure|Chil…</td></tr><tr><td>9</td><td>&quot;Sudden Death (…</td><td>&quot;Action&quot;</td></tr><tr><td>10</td><td>&quot;GoldenEye (199…</td><td>&quot;Action|Adventu…</td></tr><tr><td>11</td><td>&quot;American Presi…</td><td>&quot;Comedy|Drama|R…</td></tr><tr><td>12</td><td>&quot;Dracula: Dead …</td><td>&quot;Comedy|Horror&quot;</td></tr><tr><td>&hellip;</td><td>&hellip;</td><td>&hellip;</td></tr><tr><td>131237</td><td>&quot;What Men Talk …</td><td>&quot;Comedy&quot;</td></tr><tr><td>131239</td><td>&quot;Three Quarter …</td><td>&quot;Comedy|Drama&quot;</td></tr><tr><td>131241</td><td>&quot;Ants in the Pa…</td><td>&quot;Comedy|Romance…</td></tr><tr><td>131243</td><td>&quot;Werner - Gekot…</td><td>&quot;Animation|Come…</td></tr><tr><td>131248</td><td>&quot;Brother Bear 2…</td><td>&quot;Adventure|Anim…</td></tr><tr><td>131250</td><td>&quot;No More School…</td><td>&quot;Comedy&quot;</td></tr><tr><td>131252</td><td>&quot;Forklift Drive…</td><td>&quot;Comedy|Horror&quot;</td></tr><tr><td>131254</td><td>&quot;Kein Bund für&#x27;…</td><td>&quot;Comedy&quot;</td></tr><tr><td>131256</td><td>&quot;Feuer, Eis &amp; D…</td><td>&quot;Comedy&quot;</td></tr><tr><td>131258</td><td>&quot;The Pirates (2…</td><td>&quot;Adventure&quot;</td></tr><tr><td>131260</td><td>&quot;Rentun Ruusu (…</td><td>&quot;(no genres lis…</td></tr><tr><td>131262</td><td>&quot;Innocence (201…</td><td>&quot;Adventure|Fant…</td></tr></tbody></table></div>"
      ],
      "text/plain": [
       "shape: (27_278, 3)\n",
       "┌─────────┬───────────────────────────────┬───────────────────────────────────┐\n",
       "│ item_id ┆ title                         ┆ genres                            │\n",
       "│ ---     ┆ ---                           ┆ ---                               │\n",
       "│ i32     ┆ str                           ┆ str                               │\n",
       "╞═════════╪═══════════════════════════════╪═══════════════════════════════════╡\n",
       "│ 1       ┆ Toy Story (1995)              ┆ Adventure|Animation|Children|Com… │\n",
       "│ 2       ┆ Jumanji (1995)                ┆ Adventure|Children|Fantasy        │\n",
       "│ 3       ┆ Grumpier Old Men (1995)       ┆ Comedy|Romance                    │\n",
       "│ 4       ┆ Waiting to Exhale (1995)      ┆ Comedy|Drama|Romance              │\n",
       "│ …       ┆ …                             ┆ …                                 │\n",
       "│ 131256  ┆ Feuer, Eis & Dosenbier (2002) ┆ Comedy                            │\n",
       "│ 131258  ┆ The Pirates (2014)            ┆ Adventure                         │\n",
       "│ 131260  ┆ Rentun Ruusu (2001)           ┆ (no genres listed)                │\n",
       "│ 131262  ┆ Innocence (2014)              ┆ Adventure|Fantasy|Horror          │\n",
       "└─────────┴───────────────────────────────┴───────────────────────────────────┘"
      ]
     },
     "execution_count": 23,
     "metadata": {},
     "output_type": "execute_result"
    }
   ],
   "source": [
    "item_features_pl"
   ]
  },
  {
   "cell_type": "code",
   "execution_count": 24,
   "metadata": {},
   "outputs": [
    {
     "name": "stdout",
     "output_type": "stream",
     "text": [
      "Pandas: 0.10779380798339844; Polars: 0.005751371383666992\n"
     ]
    },
    {
     "data": {
      "image/png": "[encoded data removed]",
      "text/plain": [
       "<Figure size 640x480 with 1 Axes>"
      ]
     },
     "metadata": {},
     "output_type": "display_data"
    }
   ],
   "source": [
    "start = time()\n",
    "\n",
    "item_features_pl = item_features_pl.with_columns(\n",
    "    pl.col(\"genres\").str.to_lowercase().str.split('|'),\n",
    ")\n",
    "time_pl = time() - start\n",
    "\n",
    "start = time()\n",
    "item_features_pd[\"genres\"] = item_features_pd[\"genres\"].str.lower().str.split('|')\n",
    "time_pd = time() - start\n",
    "\n",
    "plot_time_bar(time_pl, time_pd)\n"
   ]
  },
  {
   "cell_type": "code",
   "execution_count": 28,
   "metadata": {},
   "outputs": [
    {
     "data": {
      "text/html": [
       "<div><style>\n",
       ".dataframe > thead > tr > th,\n",
       ".dataframe > tbody > tr > td {\n",
       "  text-align: right;\n",
       "  white-space: pre-wrap;\n",
       "}\n",
       "</style>\n",
       "<small>shape: (27_278, 3)</small><table border=\"1\" class=\"dataframe\"><thead><tr><th>item_id</th><th>title</th><th>genres</th></tr><tr><td>i32</td><td>str</td><td>list[str]</td></tr></thead><tbody><tr><td>1</td><td>&quot;Toy Story (199…</td><td>[&quot;adventure&quot;, &quot;animation&quot;, … &quot;fantasy&quot;]</td></tr><tr><td>2</td><td>&quot;Jumanji (1995)…</td><td>[&quot;adventure&quot;, &quot;children&quot;, &quot;fantasy&quot;]</td></tr><tr><td>3</td><td>&quot;Grumpier Old M…</td><td>[&quot;comedy&quot;, &quot;romance&quot;]</td></tr><tr><td>4</td><td>&quot;Waiting to Exh…</td><td>[&quot;comedy&quot;, &quot;drama&quot;, &quot;romance&quot;]</td></tr><tr><td>5</td><td>&quot;Father of the …</td><td>[&quot;comedy&quot;]</td></tr><tr><td>6</td><td>&quot;Heat (1995)&quot;</td><td>[&quot;action&quot;, &quot;crime&quot;, &quot;thriller&quot;]</td></tr><tr><td>7</td><td>&quot;Sabrina (1995)…</td><td>[&quot;comedy&quot;, &quot;romance&quot;]</td></tr><tr><td>8</td><td>&quot;Tom and Huck (…</td><td>[&quot;adventure&quot;, &quot;children&quot;]</td></tr><tr><td>9</td><td>&quot;Sudden Death (…</td><td>[&quot;action&quot;]</td></tr><tr><td>10</td><td>&quot;GoldenEye (199…</td><td>[&quot;action&quot;, &quot;adventure&quot;, &quot;thriller&quot;]</td></tr><tr><td>11</td><td>&quot;American Presi…</td><td>[&quot;comedy&quot;, &quot;drama&quot;, &quot;romance&quot;]</td></tr><tr><td>12</td><td>&quot;Dracula: Dead …</td><td>[&quot;comedy&quot;, &quot;horror&quot;]</td></tr><tr><td>&hellip;</td><td>&hellip;</td><td>&hellip;</td></tr><tr><td>131237</td><td>&quot;What Men Talk …</td><td>[&quot;comedy&quot;]</td></tr><tr><td>131239</td><td>&quot;Three Quarter …</td><td>[&quot;comedy&quot;, &quot;drama&quot;]</td></tr><tr><td>131241</td><td>&quot;Ants in the Pa…</td><td>[&quot;comedy&quot;, &quot;romance&quot;]</td></tr><tr><td>131243</td><td>&quot;Werner - Gekot…</td><td>[&quot;animation&quot;, &quot;comedy&quot;]</td></tr><tr><td>131248</td><td>&quot;Brother Bear 2…</td><td>[&quot;adventure&quot;, &quot;animation&quot;, … &quot;fantasy&quot;]</td></tr><tr><td>131250</td><td>&quot;No More School…</td><td>[&quot;comedy&quot;]</td></tr><tr><td>131252</td><td>&quot;Forklift Drive…</td><td>[&quot;comedy&quot;, &quot;horror&quot;]</td></tr><tr><td>131254</td><td>&quot;Kein Bund für&#x27;…</td><td>[&quot;comedy&quot;]</td></tr><tr><td>131256</td><td>&quot;Feuer, Eis &amp; D…</td><td>[&quot;comedy&quot;]</td></tr><tr><td>131258</td><td>&quot;The Pirates (2…</td><td>[&quot;adventure&quot;]</td></tr><tr><td>131260</td><td>&quot;Rentun Ruusu (…</td><td>[&quot;(no genres listed)&quot;]</td></tr><tr><td>131262</td><td>&quot;Innocence (201…</td><td>[&quot;adventure&quot;, &quot;fantasy&quot;, &quot;horror&quot;]</td></tr></tbody></table></div>"
      ],
      "text/plain": [
       "shape: (27_278, 3)\n",
       "┌─────────┬───────────────────────────────┬───────────────────────────────────┐\n",
       "│ item_id ┆ title                         ┆ genres                            │\n",
       "│ ---     ┆ ---                           ┆ ---                               │\n",
       "│ i32     ┆ str                           ┆ list[str]                         │\n",
       "╞═════════╪═══════════════════════════════╪═══════════════════════════════════╡\n",
       "│ 1       ┆ Toy Story (1995)              ┆ [\"adventure\", \"animation\", … \"fa… │\n",
       "│ 2       ┆ Jumanji (1995)                ┆ [\"adventure\", \"children\", \"fanta… │\n",
       "│ 3       ┆ Grumpier Old Men (1995)       ┆ [\"comedy\", \"romance\"]             │\n",
       "│ 4       ┆ Waiting to Exhale (1995)      ┆ [\"comedy\", \"drama\", \"romance\"]    │\n",
       "│ …       ┆ …                             ┆ …                                 │\n",
       "│ 131256  ┆ Feuer, Eis & Dosenbier (2002) ┆ [\"comedy\"]                        │\n",
       "│ 131258  ┆ The Pirates (2014)            ┆ [\"adventure\"]                     │\n",
       "│ 131260  ┆ Rentun Ruusu (2001)           ┆ [\"(no genres listed)\"]            │\n",
       "│ 131262  ┆ Innocence (2014)              ┆ [\"adventure\", \"fantasy\", \"horror… │\n",
       "└─────────┴───────────────────────────────┴───────────────────────────────────┘"
      ]
     },
     "execution_count": 28,
     "metadata": {},
     "output_type": "execute_result"
    }
   ],
   "source": [
    "item_features_pl"
   ]
  },
  {
   "cell_type": "markdown",
   "metadata": {},
   "source": [
    "#### Операции со списками"
   ]
  },
  {
   "cell_type": "code",
   "execution_count": 29,
   "metadata": {},
   "outputs": [
    {
     "data": {
      "text/html": [
       "<div><style>\n",
       ".dataframe > thead > tr > th,\n",
       ".dataframe > tbody > tr > td {\n",
       "  text-align: right;\n",
       "  white-space: pre-wrap;\n",
       "}\n",
       "</style>\n",
       "<small>shape: (27_278, 4)</small><table border=\"1\" class=\"dataframe\"><thead><tr><th>item_id</th><th>title</th><th>genres</th><th>count_genres</th></tr><tr><td>i32</td><td>str</td><td>list[str]</td><td>u32</td></tr></thead><tbody><tr><td>1</td><td>&quot;Toy Story (199…</td><td>[&quot;adventure&quot;, &quot;animation&quot;, … &quot;fantasy&quot;]</td><td>5</td></tr><tr><td>2</td><td>&quot;Jumanji (1995)…</td><td>[&quot;adventure&quot;, &quot;children&quot;, &quot;fantasy&quot;]</td><td>3</td></tr><tr><td>3</td><td>&quot;Grumpier Old M…</td><td>[&quot;comedy&quot;, &quot;romance&quot;]</td><td>2</td></tr><tr><td>4</td><td>&quot;Waiting to Exh…</td><td>[&quot;comedy&quot;, &quot;drama&quot;, &quot;romance&quot;]</td><td>3</td></tr><tr><td>5</td><td>&quot;Father of the …</td><td>[&quot;comedy&quot;]</td><td>1</td></tr><tr><td>6</td><td>&quot;Heat (1995)&quot;</td><td>[&quot;action&quot;, &quot;crime&quot;, &quot;thriller&quot;]</td><td>3</td></tr><tr><td>7</td><td>&quot;Sabrina (1995)…</td><td>[&quot;comedy&quot;, &quot;romance&quot;]</td><td>2</td></tr><tr><td>8</td><td>&quot;Tom and Huck (…</td><td>[&quot;adventure&quot;, &quot;children&quot;]</td><td>2</td></tr><tr><td>9</td><td>&quot;Sudden Death (…</td><td>[&quot;action&quot;]</td><td>1</td></tr><tr><td>10</td><td>&quot;GoldenEye (199…</td><td>[&quot;action&quot;, &quot;adventure&quot;, &quot;thriller&quot;]</td><td>3</td></tr><tr><td>11</td><td>&quot;American Presi…</td><td>[&quot;comedy&quot;, &quot;drama&quot;, &quot;romance&quot;]</td><td>3</td></tr><tr><td>12</td><td>&quot;Dracula: Dead …</td><td>[&quot;comedy&quot;, &quot;horror&quot;]</td><td>2</td></tr><tr><td>&hellip;</td><td>&hellip;</td><td>&hellip;</td><td>&hellip;</td></tr><tr><td>131237</td><td>&quot;What Men Talk …</td><td>[&quot;comedy&quot;]</td><td>1</td></tr><tr><td>131239</td><td>&quot;Three Quarter …</td><td>[&quot;comedy&quot;, &quot;drama&quot;]</td><td>2</td></tr><tr><td>131241</td><td>&quot;Ants in the Pa…</td><td>[&quot;comedy&quot;, &quot;romance&quot;]</td><td>2</td></tr><tr><td>131243</td><td>&quot;Werner - Gekot…</td><td>[&quot;animation&quot;, &quot;comedy&quot;]</td><td>2</td></tr><tr><td>131248</td><td>&quot;Brother Bear 2…</td><td>[&quot;adventure&quot;, &quot;animation&quot;, … &quot;fantasy&quot;]</td><td>5</td></tr><tr><td>131250</td><td>&quot;No More School…</td><td>[&quot;comedy&quot;]</td><td>1</td></tr><tr><td>131252</td><td>&quot;Forklift Drive…</td><td>[&quot;comedy&quot;, &quot;horror&quot;]</td><td>2</td></tr><tr><td>131254</td><td>&quot;Kein Bund für&#x27;…</td><td>[&quot;comedy&quot;]</td><td>1</td></tr><tr><td>131256</td><td>&quot;Feuer, Eis &amp; D…</td><td>[&quot;comedy&quot;]</td><td>1</td></tr><tr><td>131258</td><td>&quot;The Pirates (2…</td><td>[&quot;adventure&quot;]</td><td>1</td></tr><tr><td>131260</td><td>&quot;Rentun Ruusu (…</td><td>[&quot;(no genres listed)&quot;]</td><td>1</td></tr><tr><td>131262</td><td>&quot;Innocence (201…</td><td>[&quot;adventure&quot;, &quot;fantasy&quot;, &quot;horror&quot;]</td><td>3</td></tr></tbody></table></div>"
      ],
      "text/plain": [
       "shape: (27_278, 4)\n",
       "┌─────────┬───────────────────────────────┬───────────────────────────────────┬──────────────┐\n",
       "│ item_id ┆ title                         ┆ genres                            ┆ count_genres │\n",
       "│ ---     ┆ ---                           ┆ ---                               ┆ ---          │\n",
       "│ i32     ┆ str                           ┆ list[str]                         ┆ u32          │\n",
       "╞═════════╪═══════════════════════════════╪═══════════════════════════════════╪══════════════╡\n",
       "│ 1       ┆ Toy Story (1995)              ┆ [\"adventure\", \"animation\", … \"fa… ┆ 5            │\n",
       "│ 2       ┆ Jumanji (1995)                ┆ [\"adventure\", \"children\", \"fanta… ┆ 3            │\n",
       "│ 3       ┆ Grumpier Old Men (1995)       ┆ [\"comedy\", \"romance\"]             ┆ 2            │\n",
       "│ 4       ┆ Waiting to Exhale (1995)      ┆ [\"comedy\", \"drama\", \"romance\"]    ┆ 3            │\n",
       "│ …       ┆ …                             ┆ …                                 ┆ …            │\n",
       "│ 131256  ┆ Feuer, Eis & Dosenbier (2002) ┆ [\"comedy\"]                        ┆ 1            │\n",
       "│ 131258  ┆ The Pirates (2014)            ┆ [\"adventure\"]                     ┆ 1            │\n",
       "│ 131260  ┆ Rentun Ruusu (2001)           ┆ [\"(no genres listed)\"]            ┆ 1            │\n",
       "│ 131262  ┆ Innocence (2014)              ┆ [\"adventure\", \"fantasy\", \"horror… ┆ 3            │\n",
       "└─────────┴───────────────────────────────┴───────────────────────────────────┴──────────────┘"
      ]
     },
     "execution_count": 29,
     "metadata": {},
     "output_type": "execute_result"
    }
   ],
   "source": [
    "# Добавление количества жанров для каждого фильма\n",
    "item_features_pl.with_columns(pl.col(\"genres\").list.lengths().alias('count_genres'))"
   ]
  },
  {
   "cell_type": "code",
   "execution_count": 30,
   "metadata": {},
   "outputs": [
    {
     "data": {
      "text/html": [
       "<div><style>\n",
       ".dataframe > thead > tr > th,\n",
       ".dataframe > tbody > tr > td {\n",
       "  text-align: right;\n",
       "  white-space: pre-wrap;\n",
       "}\n",
       "</style>\n",
       "<small>shape: (27_278, 4)</small><table border=\"1\" class=\"dataframe\"><thead><tr><th>item_id</th><th>title</th><th>genres</th><th>for_child</th></tr><tr><td>i32</td><td>str</td><td>list[str]</td><td>bool</td></tr></thead><tbody><tr><td>1</td><td>&quot;Toy Story (199…</td><td>[&quot;adventure&quot;, &quot;animation&quot;, … &quot;fantasy&quot;]</td><td>true</td></tr><tr><td>2</td><td>&quot;Jumanji (1995)…</td><td>[&quot;adventure&quot;, &quot;children&quot;, &quot;fantasy&quot;]</td><td>true</td></tr><tr><td>3</td><td>&quot;Grumpier Old M…</td><td>[&quot;comedy&quot;, &quot;romance&quot;]</td><td>false</td></tr><tr><td>4</td><td>&quot;Waiting to Exh…</td><td>[&quot;comedy&quot;, &quot;drama&quot;, &quot;romance&quot;]</td><td>false</td></tr><tr><td>5</td><td>&quot;Father of the …</td><td>[&quot;comedy&quot;]</td><td>false</td></tr><tr><td>6</td><td>&quot;Heat (1995)&quot;</td><td>[&quot;action&quot;, &quot;crime&quot;, &quot;thriller&quot;]</td><td>false</td></tr><tr><td>7</td><td>&quot;Sabrina (1995)…</td><td>[&quot;comedy&quot;, &quot;romance&quot;]</td><td>false</td></tr><tr><td>8</td><td>&quot;Tom and Huck (…</td><td>[&quot;adventure&quot;, &quot;children&quot;]</td><td>true</td></tr><tr><td>9</td><td>&quot;Sudden Death (…</td><td>[&quot;action&quot;]</td><td>false</td></tr><tr><td>10</td><td>&quot;GoldenEye (199…</td><td>[&quot;action&quot;, &quot;adventure&quot;, &quot;thriller&quot;]</td><td>false</td></tr><tr><td>11</td><td>&quot;American Presi…</td><td>[&quot;comedy&quot;, &quot;drama&quot;, &quot;romance&quot;]</td><td>false</td></tr><tr><td>12</td><td>&quot;Dracula: Dead …</td><td>[&quot;comedy&quot;, &quot;horror&quot;]</td><td>false</td></tr><tr><td>&hellip;</td><td>&hellip;</td><td>&hellip;</td><td>&hellip;</td></tr><tr><td>131237</td><td>&quot;What Men Talk …</td><td>[&quot;comedy&quot;]</td><td>false</td></tr><tr><td>131239</td><td>&quot;Three Quarter …</td><td>[&quot;comedy&quot;, &quot;drama&quot;]</td><td>false</td></tr><tr><td>131241</td><td>&quot;Ants in the Pa…</td><td>[&quot;comedy&quot;, &quot;romance&quot;]</td><td>false</td></tr><tr><td>131243</td><td>&quot;Werner - Gekot…</td><td>[&quot;animation&quot;, &quot;comedy&quot;]</td><td>false</td></tr><tr><td>131248</td><td>&quot;Brother Bear 2…</td><td>[&quot;adventure&quot;, &quot;animation&quot;, … &quot;fantasy&quot;]</td><td>true</td></tr><tr><td>131250</td><td>&quot;No More School…</td><td>[&quot;comedy&quot;]</td><td>false</td></tr><tr><td>131252</td><td>&quot;Forklift Drive…</td><td>[&quot;comedy&quot;, &quot;horror&quot;]</td><td>false</td></tr><tr><td>131254</td><td>&quot;Kein Bund für&#x27;…</td><td>[&quot;comedy&quot;]</td><td>false</td></tr><tr><td>131256</td><td>&quot;Feuer, Eis &amp; D…</td><td>[&quot;comedy&quot;]</td><td>false</td></tr><tr><td>131258</td><td>&quot;The Pirates (2…</td><td>[&quot;adventure&quot;]</td><td>false</td></tr><tr><td>131260</td><td>&quot;Rentun Ruusu (…</td><td>[&quot;(no genres listed)&quot;]</td><td>false</td></tr><tr><td>131262</td><td>&quot;Innocence (201…</td><td>[&quot;adventure&quot;, &quot;fantasy&quot;, &quot;horror&quot;]</td><td>false</td></tr></tbody></table></div>"
      ],
      "text/plain": [
       "shape: (27_278, 4)\n",
       "┌─────────┬───────────────────────────────┬───────────────────────────────────┬───────────┐\n",
       "│ item_id ┆ title                         ┆ genres                            ┆ for_child │\n",
       "│ ---     ┆ ---                           ┆ ---                               ┆ ---       │\n",
       "│ i32     ┆ str                           ┆ list[str]                         ┆ bool      │\n",
       "╞═════════╪═══════════════════════════════╪═══════════════════════════════════╪═══════════╡\n",
       "│ 1       ┆ Toy Story (1995)              ┆ [\"adventure\", \"animation\", … \"fa… ┆ true      │\n",
       "│ 2       ┆ Jumanji (1995)                ┆ [\"adventure\", \"children\", \"fanta… ┆ true      │\n",
       "│ 3       ┆ Grumpier Old Men (1995)       ┆ [\"comedy\", \"romance\"]             ┆ false     │\n",
       "│ 4       ┆ Waiting to Exhale (1995)      ┆ [\"comedy\", \"drama\", \"romance\"]    ┆ false     │\n",
       "│ …       ┆ …                             ┆ …                                 ┆ …         │\n",
       "│ 131256  ┆ Feuer, Eis & Dosenbier (2002) ┆ [\"comedy\"]                        ┆ false     │\n",
       "│ 131258  ┆ The Pirates (2014)            ┆ [\"adventure\"]                     ┆ false     │\n",
       "│ 131260  ┆ Rentun Ruusu (2001)           ┆ [\"(no genres listed)\"]            ┆ false     │\n",
       "│ 131262  ┆ Innocence (2014)              ┆ [\"adventure\", \"fantasy\", \"horror… ┆ false     │\n",
       "└─────────┴───────────────────────────────┴───────────────────────────────────┴───────────┘"
      ]
     },
     "execution_count": 30,
     "metadata": {},
     "output_type": "execute_result"
    }
   ],
   "source": [
    "# Добавление маски - доступно для детей\n",
    "item_features_pl.with_columns(pl.col('genres').list.contains('children').alias('for_child'))"
   ]
  },
  {
   "cell_type": "markdown",
   "metadata": {},
   "source": [
    "#### Работа с датами"
   ]
  },
  {
   "cell_type": "code",
   "execution_count": 31,
   "metadata": {},
   "outputs": [
    {
     "data": {
      "text/html": [
       "<div><style>\n",
       ".dataframe > thead > tr > th,\n",
       ".dataframe > tbody > tr > td {\n",
       "  text-align: right;\n",
       "  white-space: pre-wrap;\n",
       "}\n",
       "</style>\n",
       "<small>shape: (20_000_263, 5)</small><table border=\"1\" class=\"dataframe\"><thead><tr><th>user_id</th><th>item_id</th><th>rating</th><th>timestamp</th><th>rating_normalized</th></tr><tr><td>i32</td><td>i32</td><td>f32</td><td>i64</td><td>f64</td></tr></thead><tbody><tr><td>1</td><td>2</td><td>3.5</td><td>1112486027</td><td>0.7</td></tr><tr><td>1</td><td>29</td><td>3.5</td><td>1112484676</td><td>0.7</td></tr><tr><td>1</td><td>32</td><td>3.5</td><td>1112484819</td><td>0.7</td></tr><tr><td>1</td><td>47</td><td>3.5</td><td>1112484727</td><td>0.7</td></tr><tr><td>1</td><td>50</td><td>3.5</td><td>1112484580</td><td>0.7</td></tr><tr><td>1</td><td>112</td><td>3.5</td><td>1094785740</td><td>0.7</td></tr><tr><td>1</td><td>151</td><td>4.0</td><td>1094785734</td><td>0.8</td></tr><tr><td>1</td><td>223</td><td>4.0</td><td>1112485573</td><td>0.8</td></tr><tr><td>1</td><td>253</td><td>4.0</td><td>1112484940</td><td>0.8</td></tr><tr><td>1</td><td>260</td><td>4.0</td><td>1112484826</td><td>0.8</td></tr><tr><td>1</td><td>293</td><td>4.0</td><td>1112484703</td><td>0.8</td></tr><tr><td>1</td><td>296</td><td>4.0</td><td>1112484767</td><td>0.8</td></tr><tr><td>&hellip;</td><td>&hellip;</td><td>&hellip;</td><td>&hellip;</td><td>&hellip;</td></tr><tr><td>138493</td><td>59784</td><td>5.0</td><td>1255816901</td><td>1.0</td></tr><tr><td>138493</td><td>60069</td><td>4.0</td><td>1258134687</td><td>0.8</td></tr><tr><td>138493</td><td>60816</td><td>4.5</td><td>1259865163</td><td>0.9</td></tr><tr><td>138493</td><td>61160</td><td>4.0</td><td>1258390537</td><td>0.8</td></tr><tr><td>138493</td><td>65682</td><td>4.5</td><td>1255816373</td><td>0.9</td></tr><tr><td>138493</td><td>66762</td><td>4.5</td><td>1255805408</td><td>0.9</td></tr><tr><td>138493</td><td>68319</td><td>4.5</td><td>1260209720</td><td>0.9</td></tr><tr><td>138493</td><td>68954</td><td>4.5</td><td>1258126920</td><td>0.9</td></tr><tr><td>138493</td><td>69526</td><td>4.5</td><td>1259865108</td><td>0.9</td></tr><tr><td>138493</td><td>69644</td><td>3.0</td><td>1260209457</td><td>0.6</td></tr><tr><td>138493</td><td>70286</td><td>5.0</td><td>1258126944</td><td>1.0</td></tr><tr><td>138493</td><td>71619</td><td>2.5</td><td>1255811136</td><td>0.5</td></tr></tbody></table></div>"
      ],
      "text/plain": [
       "shape: (20_000_263, 5)\n",
       "┌─────────┬─────────┬────────┬────────────┬───────────────────┐\n",
       "│ user_id ┆ item_id ┆ rating ┆ timestamp  ┆ rating_normalized │\n",
       "│ ---     ┆ ---     ┆ ---    ┆ ---        ┆ ---               │\n",
       "│ i32     ┆ i32     ┆ f32    ┆ i64        ┆ f64               │\n",
       "╞═════════╪═════════╪════════╪════════════╪═══════════════════╡\n",
       "│ 1       ┆ 2       ┆ 3.5    ┆ 1112486027 ┆ 0.7               │\n",
       "│ 1       ┆ 29      ┆ 3.5    ┆ 1112484676 ┆ 0.7               │\n",
       "│ 1       ┆ 32      ┆ 3.5    ┆ 1112484819 ┆ 0.7               │\n",
       "│ 1       ┆ 47      ┆ 3.5    ┆ 1112484727 ┆ 0.7               │\n",
       "│ …       ┆ …       ┆ …      ┆ …          ┆ …                 │\n",
       "│ 138493  ┆ 69526   ┆ 4.5    ┆ 1259865108 ┆ 0.9               │\n",
       "│ 138493  ┆ 69644   ┆ 3.0    ┆ 1260209457 ┆ 0.6               │\n",
       "│ 138493  ┆ 70286   ┆ 5.0    ┆ 1258126944 ┆ 1.0               │\n",
       "│ 138493  ┆ 71619   ┆ 2.5    ┆ 1255811136 ┆ 0.5               │\n",
       "└─────────┴─────────┴────────┴────────────┴───────────────────┘"
      ]
     },
     "execution_count": 31,
     "metadata": {},
     "output_type": "execute_result"
    }
   ],
   "source": [
    "interactions_pl"
   ]
  },
  {
   "cell_type": "code",
   "execution_count": 32,
   "metadata": {},
   "outputs": [
    {
     "name": "stdout",
     "output_type": "stream",
     "text": [
      "Pandas: 6.4322350025177; Polars: 0.0690617561340332\n"
     ]
    },
    {
     "data": {
      "image/png": "[encoded data removed]",
      "text/plain": [
       "<Figure size 640x480 with 1 Axes>"
      ]
     },
     "metadata": {},
     "output_type": "display_data"
    }
   ],
   "source": [
    "start = time()\n",
    "interactions_pl = interactions_pl.with_columns(pl.from_epoch(\"timestamp\", time_unit=\"s\").alias('datetime'))\n",
    "time_pl = time() - start\n",
    "\n",
    "start = time()\n",
    "interactions_pd[\"datetime\"] = pd.to_datetime(interactions_pd['timestamp'], unit='s')\n",
    "time_pd = time() - start\n",
    "\n",
    "plot_time_bar(time_pl, time_pd)"
   ]
  },
  {
   "cell_type": "code",
   "execution_count": 33,
   "metadata": {},
   "outputs": [
    {
     "name": "stdout",
     "output_type": "stream",
     "text": [
      "shape: (20_000_263, 6)\n",
      "┌─────────┬─────────┬────────┬────────────┬───────────────────┬─────────────────────┐\n",
      "│ user_id ┆ item_id ┆ rating ┆ timestamp  ┆ rating_normalized ┆ datetime            │\n",
      "│ ---     ┆ ---     ┆ ---    ┆ ---        ┆ ---               ┆ ---                 │\n",
      "│ i32     ┆ i32     ┆ f32    ┆ i64        ┆ f64               ┆ datetime[μs]        │\n",
      "╞═════════╪═════════╪════════╪════════════╪═══════════════════╪═════════════════════╡\n",
      "│ 1       ┆ 2       ┆ 3.5    ┆ 1112486027 ┆ 0.7               ┆ 2005-04-02 23:53:47 │\n",
      "│ 1       ┆ 29      ┆ 3.5    ┆ 1112484676 ┆ 0.7               ┆ 2005-04-02 23:31:16 │\n",
      "│ 1       ┆ 32      ┆ 3.5    ┆ 1112484819 ┆ 0.7               ┆ 2005-04-02 23:33:39 │\n",
      "│ 1       ┆ 47      ┆ 3.5    ┆ 1112484727 ┆ 0.7               ┆ 2005-04-02 23:32:07 │\n",
      "│ …       ┆ …       ┆ …      ┆ …          ┆ …                 ┆ …                   │\n",
      "│ 138493  ┆ 69526   ┆ 4.5    ┆ 1259865108 ┆ 0.9               ┆ 2009-12-03 18:31:48 │\n",
      "│ 138493  ┆ 69644   ┆ 3.0    ┆ 1260209457 ┆ 0.6               ┆ 2009-12-07 18:10:57 │\n",
      "│ 138493  ┆ 70286   ┆ 5.0    ┆ 1258126944 ┆ 1.0               ┆ 2009-11-13 15:42:24 │\n",
      "│ 138493  ┆ 71619   ┆ 2.5    ┆ 1255811136 ┆ 0.5               ┆ 2009-10-17 20:25:36 │\n",
      "└─────────┴─────────┴────────┴────────────┴───────────────────┴─────────────────────┘\n",
      "          user_id  item_id  rating   timestamp  rating_normalized  \\\n",
      "0               1        2     3.5  1112486027                0.7   \n",
      "1               1       29     3.5  1112484676                0.7   \n",
      "2               1       32     3.5  1112484819                0.7   \n",
      "3               1       47     3.5  1112484727                0.7   \n",
      "4               1       50     3.5  1112484580                0.7   \n",
      "...           ...      ...     ...         ...                ...   \n",
      "20000258   138493    68954     4.5  1258126920                0.9   \n",
      "20000259   138493    69526     4.5  1259865108                0.9   \n",
      "20000260   138493    69644     3.0  1260209457                0.6   \n",
      "20000261   138493    70286     5.0  1258126944                1.0   \n",
      "20000262   138493    71619     2.5  1255811136                0.5   \n",
      "\n",
      "                    datetime  \n",
      "0        2005-04-02 23:53:47  \n",
      "1        2005-04-02 23:31:16  \n",
      "2        2005-04-02 23:33:39  \n",
      "3        2005-04-02 23:32:07  \n",
      "4        2005-04-02 23:29:40  \n",
      "...                      ...  \n",
      "20000258 2009-11-13 15:42:00  \n",
      "20000259 2009-12-03 18:31:48  \n",
      "20000260 2009-12-07 18:10:57  \n",
      "20000261 2009-11-13 15:42:24  \n",
      "20000262 2009-10-17 20:25:36  \n",
      "\n",
      "[20000263 rows x 6 columns]\n"
     ]
    }
   ],
   "source": [
    "print(interactions_pl)\n",
    "print(interactions_pd)"
   ]
  },
  {
   "cell_type": "markdown",
   "metadata": {},
   "source": [
    "##### Добавление дня недели"
   ]
  },
  {
   "cell_type": "code",
   "execution_count": 34,
   "metadata": {},
   "outputs": [
    {
     "name": "stdout",
     "output_type": "stream",
     "text": [
      "Pandas: 0.8358595371246338; Polars: 0.2704300880432129\n"
     ]
    },
    {
     "data": {
      "image/png": "[encoded data removed]",
      "text/plain": [
       "<Figure size 640x480 with 1 Axes>"
      ]
     },
     "metadata": {},
     "output_type": "display_data"
    }
   ],
   "source": [
    "start = time()\n",
    "interactions_pl = interactions_pl.with_columns(pl.col('datetime').dt.weekday().alias('weekday'))\n",
    "\n",
    "time_pl = time() - start\n",
    "\n",
    "start = time()\n",
    "interactions_pd['weekday'] = interactions_pd['datetime'].dt.weekday\n",
    "time_pd = time() - start\n",
    "\n",
    "plot_time_bar(time_pl, time_pd)"
   ]
  },
  {
   "cell_type": "code",
   "execution_count": 35,
   "metadata": {},
   "outputs": [
    {
     "name": "stdout",
     "output_type": "stream",
     "text": [
      "shape: (20_000_263, 7)\n",
      "┌─────────┬─────────┬────────┬────────────┬───────────────────┬─────────────────────┬─────────┐\n",
      "│ user_id ┆ item_id ┆ rating ┆ timestamp  ┆ rating_normalized ┆ datetime            ┆ weekday │\n",
      "│ ---     ┆ ---     ┆ ---    ┆ ---        ┆ ---               ┆ ---                 ┆ ---     │\n",
      "│ i32     ┆ i32     ┆ f32    ┆ i64        ┆ f64               ┆ datetime[μs]        ┆ u32     │\n",
      "╞═════════╪═════════╪════════╪════════════╪═══════════════════╪═════════════════════╪═════════╡\n",
      "│ 1       ┆ 2       ┆ 3.5    ┆ 1112486027 ┆ 0.7               ┆ 2005-04-02 23:53:47 ┆ 6       │\n",
      "│ 1       ┆ 29      ┆ 3.5    ┆ 1112484676 ┆ 0.7               ┆ 2005-04-02 23:31:16 ┆ 6       │\n",
      "│ 1       ┆ 32      ┆ 3.5    ┆ 1112484819 ┆ 0.7               ┆ 2005-04-02 23:33:39 ┆ 6       │\n",
      "│ 1       ┆ 47      ┆ 3.5    ┆ 1112484727 ┆ 0.7               ┆ 2005-04-02 23:32:07 ┆ 6       │\n",
      "│ …       ┆ …       ┆ …      ┆ …          ┆ …                 ┆ …                   ┆ …       │\n",
      "│ 138493  ┆ 69526   ┆ 4.5    ┆ 1259865108 ┆ 0.9               ┆ 2009-12-03 18:31:48 ┆ 4       │\n",
      "│ 138493  ┆ 69644   ┆ 3.0    ┆ 1260209457 ┆ 0.6               ┆ 2009-12-07 18:10:57 ┆ 1       │\n",
      "│ 138493  ┆ 70286   ┆ 5.0    ┆ 1258126944 ┆ 1.0               ┆ 2009-11-13 15:42:24 ┆ 5       │\n",
      "│ 138493  ┆ 71619   ┆ 2.5    ┆ 1255811136 ┆ 0.5               ┆ 2009-10-17 20:25:36 ┆ 6       │\n",
      "└─────────┴─────────┴────────┴────────────┴───────────────────┴─────────────────────┴─────────┘\n",
      "          user_id  item_id  rating   timestamp  rating_normalized  \\\n",
      "0               1        2     3.5  1112486027                0.7   \n",
      "1               1       29     3.5  1112484676                0.7   \n",
      "2               1       32     3.5  1112484819                0.7   \n",
      "3               1       47     3.5  1112484727                0.7   \n",
      "4               1       50     3.5  1112484580                0.7   \n",
      "...           ...      ...     ...         ...                ...   \n",
      "20000258   138493    68954     4.5  1258126920                0.9   \n",
      "20000259   138493    69526     4.5  1259865108                0.9   \n",
      "20000260   138493    69644     3.0  1260209457                0.6   \n",
      "20000261   138493    70286     5.0  1258126944                1.0   \n",
      "20000262   138493    71619     2.5  1255811136                0.5   \n",
      "\n",
      "                    datetime  weekday  \n",
      "0        2005-04-02 23:53:47        5  \n",
      "1        2005-04-02 23:31:16        5  \n",
      "2        2005-04-02 23:33:39        5  \n",
      "3        2005-04-02 23:32:07        5  \n",
      "4        2005-04-02 23:29:40        5  \n",
      "...                      ...      ...  \n",
      "20000258 2009-11-13 15:42:00        4  \n",
      "20000259 2009-12-03 18:31:48        3  \n",
      "20000260 2009-12-07 18:10:57        0  \n",
      "20000261 2009-11-13 15:42:24        4  \n",
      "20000262 2009-10-17 20:25:36        5  \n",
      "\n",
      "[20000263 rows x 7 columns]\n"
     ]
    }
   ],
   "source": [
    "print(interactions_pl)\n",
    "print(interactions_pd)"
   ]
  },
  {
   "cell_type": "markdown",
   "metadata": {},
   "source": [
    "#### Фильтрация"
   ]
  },
  {
   "cell_type": "code",
   "execution_count": 36,
   "metadata": {},
   "outputs": [
    {
     "name": "stdout",
     "output_type": "stream",
     "text": [
      "Pandas: 0.4970204830169678; Polars: 0.22370433807373047\n"
     ]
    },
    {
     "data": {
      "image/png": "[encoded data removed]",
      "text/plain": [
       "<Figure size 640x480 with 1 Axes>"
      ]
     },
     "metadata": {},
     "output_type": "display_data"
    }
   ],
   "source": [
    "# лучшие фильмы выходного дня\n",
    "start = time()\n",
    "interactions_pl.filter((pl.col('rating') >= 4) & (pl.col('weekday') >= 6))\n",
    "time_pl = time() - start\n",
    "\n",
    "start = time()\n",
    "interactions_pd.query('rating >= 4 & weekday >= 6')\n",
    "time_pd = time() - start\n",
    "\n",
    "plot_time_bar(time_pl, time_pd)"
   ]
  },
  {
   "cell_type": "markdown",
   "metadata": {},
   "source": [
    "#### Join"
   ]
  },
  {
   "cell_type": "code",
   "execution_count": 37,
   "metadata": {},
   "outputs": [
    {
     "data": {
      "text/html": [
       "<div><style>\n",
       ".dataframe > thead > tr > th,\n",
       ".dataframe > tbody > tr > td {\n",
       "  text-align: right;\n",
       "  white-space: pre-wrap;\n",
       "}\n",
       "</style>\n",
       "<small>shape: (27_278, 3)</small><table border=\"1\" class=\"dataframe\"><thead><tr><th>item_id</th><th>title</th><th>genres</th></tr><tr><td>i32</td><td>str</td><td>list[str]</td></tr></thead><tbody><tr><td>1</td><td>&quot;Toy Story (199…</td><td>[&quot;adventure&quot;, &quot;animation&quot;, … &quot;fantasy&quot;]</td></tr><tr><td>2</td><td>&quot;Jumanji (1995)…</td><td>[&quot;adventure&quot;, &quot;children&quot;, &quot;fantasy&quot;]</td></tr><tr><td>3</td><td>&quot;Grumpier Old M…</td><td>[&quot;comedy&quot;, &quot;romance&quot;]</td></tr><tr><td>4</td><td>&quot;Waiting to Exh…</td><td>[&quot;comedy&quot;, &quot;drama&quot;, &quot;romance&quot;]</td></tr><tr><td>5</td><td>&quot;Father of the …</td><td>[&quot;comedy&quot;]</td></tr><tr><td>6</td><td>&quot;Heat (1995)&quot;</td><td>[&quot;action&quot;, &quot;crime&quot;, &quot;thriller&quot;]</td></tr><tr><td>7</td><td>&quot;Sabrina (1995)…</td><td>[&quot;comedy&quot;, &quot;romance&quot;]</td></tr><tr><td>8</td><td>&quot;Tom and Huck (…</td><td>[&quot;adventure&quot;, &quot;children&quot;]</td></tr><tr><td>9</td><td>&quot;Sudden Death (…</td><td>[&quot;action&quot;]</td></tr><tr><td>10</td><td>&quot;GoldenEye (199…</td><td>[&quot;action&quot;, &quot;adventure&quot;, &quot;thriller&quot;]</td></tr><tr><td>11</td><td>&quot;American Presi…</td><td>[&quot;comedy&quot;, &quot;drama&quot;, &quot;romance&quot;]</td></tr><tr><td>12</td><td>&quot;Dracula: Dead …</td><td>[&quot;comedy&quot;, &quot;horror&quot;]</td></tr><tr><td>&hellip;</td><td>&hellip;</td><td>&hellip;</td></tr><tr><td>131237</td><td>&quot;What Men Talk …</td><td>[&quot;comedy&quot;]</td></tr><tr><td>131239</td><td>&quot;Three Quarter …</td><td>[&quot;comedy&quot;, &quot;drama&quot;]</td></tr><tr><td>131241</td><td>&quot;Ants in the Pa…</td><td>[&quot;comedy&quot;, &quot;romance&quot;]</td></tr><tr><td>131243</td><td>&quot;Werner - Gekot…</td><td>[&quot;animation&quot;, &quot;comedy&quot;]</td></tr><tr><td>131248</td><td>&quot;Brother Bear 2…</td><td>[&quot;adventure&quot;, &quot;animation&quot;, … &quot;fantasy&quot;]</td></tr><tr><td>131250</td><td>&quot;No More School…</td><td>[&quot;comedy&quot;]</td></tr><tr><td>131252</td><td>&quot;Forklift Drive…</td><td>[&quot;comedy&quot;, &quot;horror&quot;]</td></tr><tr><td>131254</td><td>&quot;Kein Bund für&#x27;…</td><td>[&quot;comedy&quot;]</td></tr><tr><td>131256</td><td>&quot;Feuer, Eis &amp; D…</td><td>[&quot;comedy&quot;]</td></tr><tr><td>131258</td><td>&quot;The Pirates (2…</td><td>[&quot;adventure&quot;]</td></tr><tr><td>131260</td><td>&quot;Rentun Ruusu (…</td><td>[&quot;(no genres listed)&quot;]</td></tr><tr><td>131262</td><td>&quot;Innocence (201…</td><td>[&quot;adventure&quot;, &quot;fantasy&quot;, &quot;horror&quot;]</td></tr></tbody></table></div>"
      ],
      "text/plain": [
       "shape: (27_278, 3)\n",
       "┌─────────┬───────────────────────────────┬───────────────────────────────────┐\n",
       "│ item_id ┆ title                         ┆ genres                            │\n",
       "│ ---     ┆ ---                           ┆ ---                               │\n",
       "│ i32     ┆ str                           ┆ list[str]                         │\n",
       "╞═════════╪═══════════════════════════════╪═══════════════════════════════════╡\n",
       "│ 1       ┆ Toy Story (1995)              ┆ [\"adventure\", \"animation\", … \"fa… │\n",
       "│ 2       ┆ Jumanji (1995)                ┆ [\"adventure\", \"children\", \"fanta… │\n",
       "│ 3       ┆ Grumpier Old Men (1995)       ┆ [\"comedy\", \"romance\"]             │\n",
       "│ 4       ┆ Waiting to Exhale (1995)      ┆ [\"comedy\", \"drama\", \"romance\"]    │\n",
       "│ …       ┆ …                             ┆ …                                 │\n",
       "│ 131256  ┆ Feuer, Eis & Dosenbier (2002) ┆ [\"comedy\"]                        │\n",
       "│ 131258  ┆ The Pirates (2014)            ┆ [\"adventure\"]                     │\n",
       "│ 131260  ┆ Rentun Ruusu (2001)           ┆ [\"(no genres listed)\"]            │\n",
       "│ 131262  ┆ Innocence (2014)              ┆ [\"adventure\", \"fantasy\", \"horror… │\n",
       "└─────────┴───────────────────────────────┴───────────────────────────────────┘"
      ]
     },
     "execution_count": 37,
     "metadata": {},
     "output_type": "execute_result"
    }
   ],
   "source": [
    "item_features_pl"
   ]
  },
  {
   "cell_type": "code",
   "execution_count": 38,
   "metadata": {},
   "outputs": [
    {
     "name": "stdout",
     "output_type": "stream",
     "text": [
      "Pandas: 2.7718045711517334; Polars: 1.7993168830871582\n"
     ]
    },
    {
     "data": {
      "image/png": "[encoded data removed]",
      "text/plain": [
       "<Figure size 640x480 with 1 Axes>"
      ]
     },
     "metadata": {},
     "output_type": "display_data"
    }
   ],
   "source": [
    "start = time()\n",
    "interaction_with_item_info_pl = interactions_pl.join(item_features_pl, on='item_id', how='inner')\n",
    "time_pl = time() - start\n",
    "\n",
    "start = time()\n",
    "interaction_with_item_info_pd = interactions_pd.merge(item_features_pd, on='item_id', how='inner')\n",
    "time_pd = time() - start\n",
    "\n",
    "plot_time_bar(time_pl, time_pd)"
   ]
  },
  {
   "cell_type": "code",
   "execution_count": 39,
   "metadata": {},
   "outputs": [
    {
     "data": {
      "text/html": [
       "<div><style>\n",
       ".dataframe > thead > tr > th,\n",
       ".dataframe > tbody > tr > td {\n",
       "  text-align: right;\n",
       "  white-space: pre-wrap;\n",
       "}\n",
       "</style>\n",
       "<small>shape: (20_000_263, 9)</small><table border=\"1\" class=\"dataframe\"><thead><tr><th>user_id</th><th>item_id</th><th>rating</th><th>timestamp</th><th>rating_normalized</th><th>datetime</th><th>weekday</th><th>title</th><th>genres</th></tr><tr><td>i32</td><td>i32</td><td>f32</td><td>i64</td><td>f64</td><td>datetime[μs]</td><td>u32</td><td>str</td><td>list[str]</td></tr></thead><tbody><tr><td>1</td><td>2</td><td>3.5</td><td>1112486027</td><td>0.7</td><td>2005-04-02 23:53:47</td><td>6</td><td>&quot;Jumanji (1995)…</td><td>[&quot;adventure&quot;, &quot;children&quot;, &quot;fantasy&quot;]</td></tr><tr><td>1</td><td>29</td><td>3.5</td><td>1112484676</td><td>0.7</td><td>2005-04-02 23:31:16</td><td>6</td><td>&quot;City of Lost C…</td><td>[&quot;adventure&quot;, &quot;drama&quot;, … &quot;sci-fi&quot;]</td></tr><tr><td>1</td><td>32</td><td>3.5</td><td>1112484819</td><td>0.7</td><td>2005-04-02 23:33:39</td><td>6</td><td>&quot;Twelve Monkeys…</td><td>[&quot;mystery&quot;, &quot;sci-fi&quot;, &quot;thriller&quot;]</td></tr><tr><td>1</td><td>47</td><td>3.5</td><td>1112484727</td><td>0.7</td><td>2005-04-02 23:32:07</td><td>6</td><td>&quot;Seven (a.k.a. …</td><td>[&quot;mystery&quot;, &quot;thriller&quot;]</td></tr><tr><td>1</td><td>50</td><td>3.5</td><td>1112484580</td><td>0.7</td><td>2005-04-02 23:29:40</td><td>6</td><td>&quot;Usual Suspects…</td><td>[&quot;crime&quot;, &quot;mystery&quot;, &quot;thriller&quot;]</td></tr><tr><td>1</td><td>112</td><td>3.5</td><td>1094785740</td><td>0.7</td><td>2004-09-10 03:09:00</td><td>5</td><td>&quot;Rumble in the …</td><td>[&quot;action&quot;, &quot;adventure&quot;, … &quot;crime&quot;]</td></tr><tr><td>1</td><td>151</td><td>4.0</td><td>1094785734</td><td>0.8</td><td>2004-09-10 03:08:54</td><td>5</td><td>&quot;Rob Roy (1995)…</td><td>[&quot;action&quot;, &quot;drama&quot;, … &quot;war&quot;]</td></tr><tr><td>1</td><td>223</td><td>4.0</td><td>1112485573</td><td>0.8</td><td>2005-04-02 23:46:13</td><td>6</td><td>&quot;Clerks (1994)&quot;</td><td>[&quot;comedy&quot;]</td></tr><tr><td>1</td><td>253</td><td>4.0</td><td>1112484940</td><td>0.8</td><td>2005-04-02 23:35:40</td><td>6</td><td>&quot;Interview with…</td><td>[&quot;drama&quot;, &quot;horror&quot;]</td></tr><tr><td>1</td><td>260</td><td>4.0</td><td>1112484826</td><td>0.8</td><td>2005-04-02 23:33:46</td><td>6</td><td>&quot;Star Wars: Epi…</td><td>[&quot;action&quot;, &quot;adventure&quot;, &quot;sci-fi&quot;]</td></tr><tr><td>1</td><td>293</td><td>4.0</td><td>1112484703</td><td>0.8</td><td>2005-04-02 23:31:43</td><td>6</td><td>&quot;Léon: The Prof…</td><td>[&quot;action&quot;, &quot;crime&quot;, … &quot;thriller&quot;]</td></tr><tr><td>1</td><td>296</td><td>4.0</td><td>1112484767</td><td>0.8</td><td>2005-04-02 23:32:47</td><td>6</td><td>&quot;Pulp Fiction (…</td><td>[&quot;comedy&quot;, &quot;crime&quot;, … &quot;thriller&quot;]</td></tr><tr><td>&hellip;</td><td>&hellip;</td><td>&hellip;</td><td>&hellip;</td><td>&hellip;</td><td>&hellip;</td><td>&hellip;</td><td>&hellip;</td><td>&hellip;</td></tr><tr><td>138493</td><td>59784</td><td>5.0</td><td>1255816901</td><td>1.0</td><td>2009-10-17 22:01:41</td><td>6</td><td>&quot;Kung Fu Panda …</td><td>[&quot;action&quot;, &quot;animation&quot;, … &quot;imax&quot;]</td></tr><tr><td>138493</td><td>60069</td><td>4.0</td><td>1258134687</td><td>0.8</td><td>2009-11-13 17:51:27</td><td>5</td><td>&quot;WALL·E (2008)&quot;</td><td>[&quot;adventure&quot;, &quot;animation&quot;, … &quot;sci-fi&quot;]</td></tr><tr><td>138493</td><td>60816</td><td>4.5</td><td>1259865163</td><td>0.9</td><td>2009-12-03 18:32:43</td><td>4</td><td>&quot;Colour of Magi…</td><td>[&quot;adventure&quot;, &quot;comedy&quot;, &quot;fantasy&quot;]</td></tr><tr><td>138493</td><td>61160</td><td>4.0</td><td>1258390537</td><td>0.8</td><td>2009-11-16 16:55:37</td><td>1</td><td>&quot;Star Wars: The…</td><td>[&quot;action&quot;, &quot;adventure&quot;, … &quot;sci-fi&quot;]</td></tr><tr><td>138493</td><td>65682</td><td>4.5</td><td>1255816373</td><td>0.9</td><td>2009-10-17 21:52:53</td><td>6</td><td>&quot;Underworld: Ri…</td><td>[&quot;action&quot;, &quot;fantasy&quot;, … &quot;thriller&quot;]</td></tr><tr><td>138493</td><td>66762</td><td>4.5</td><td>1255805408</td><td>0.9</td><td>2009-10-17 18:50:08</td><td>6</td><td>&quot;Paris (2008)&quot;</td><td>[&quot;comedy&quot;, &quot;drama&quot;, &quot;romance&quot;]</td></tr><tr><td>138493</td><td>68319</td><td>4.5</td><td>1260209720</td><td>0.9</td><td>2009-12-07 18:15:20</td><td>1</td><td>&quot;X-Men Origins:…</td><td>[&quot;action&quot;, &quot;sci-fi&quot;, &quot;thriller&quot;]</td></tr><tr><td>138493</td><td>68954</td><td>4.5</td><td>1258126920</td><td>0.9</td><td>2009-11-13 15:42:00</td><td>5</td><td>&quot;Up (2009)&quot;</td><td>[&quot;adventure&quot;, &quot;animation&quot;, … &quot;drama&quot;]</td></tr><tr><td>138493</td><td>69526</td><td>4.5</td><td>1259865108</td><td>0.9</td><td>2009-12-03 18:31:48</td><td>4</td><td>&quot;Transformers: …</td><td>[&quot;action&quot;, &quot;adventure&quot;, … &quot;imax&quot;]</td></tr><tr><td>138493</td><td>69644</td><td>3.0</td><td>1260209457</td><td>0.6</td><td>2009-12-07 18:10:57</td><td>1</td><td>&quot;Ice Age: Dawn …</td><td>[&quot;action&quot;, &quot;adventure&quot;, … &quot;romance&quot;]</td></tr><tr><td>138493</td><td>70286</td><td>5.0</td><td>1258126944</td><td>1.0</td><td>2009-11-13 15:42:24</td><td>5</td><td>&quot;District 9 (20…</td><td>[&quot;mystery&quot;, &quot;sci-fi&quot;, &quot;thriller&quot;]</td></tr><tr><td>138493</td><td>71619</td><td>2.5</td><td>1255811136</td><td>0.5</td><td>2009-10-17 20:25:36</td><td>6</td><td>&quot;Coco Before Ch…</td><td>[&quot;drama&quot;]</td></tr></tbody></table></div>"
      ],
      "text/plain": [
       "shape: (20_000_263, 9)\n",
       "┌─────────┬─────────┬────────┬────────────┬───┬──────────────┬─────────┬─────────────┬─────────────┐\n",
       "│ user_id ┆ item_id ┆ rating ┆ timestamp  ┆ … ┆ datetime     ┆ weekday ┆ title       ┆ genres      │\n",
       "│ ---     ┆ ---     ┆ ---    ┆ ---        ┆   ┆ ---          ┆ ---     ┆ ---         ┆ ---         │\n",
       "│ i32     ┆ i32     ┆ f32    ┆ i64        ┆   ┆ datetime[μs] ┆ u32     ┆ str         ┆ list[str]   │\n",
       "╞═════════╪═════════╪════════╪════════════╪═══╪══════════════╪═════════╪═════════════╪═════════════╡\n",
       "│ 1       ┆ 2       ┆ 3.5    ┆ 1112486027 ┆ … ┆ 2005-04-02   ┆ 6       ┆ Jumanji     ┆ [\"adventure │\n",
       "│         ┆         ┆        ┆            ┆   ┆ 23:53:47     ┆         ┆ (1995)      ┆ \",          │\n",
       "│         ┆         ┆        ┆            ┆   ┆              ┆         ┆             ┆ \"children\", │\n",
       "│         ┆         ┆        ┆            ┆   ┆              ┆         ┆             ┆ \"fanta…     │\n",
       "│ 1       ┆ 29      ┆ 3.5    ┆ 1112484676 ┆ … ┆ 2005-04-02   ┆ 6       ┆ City of     ┆ [\"adventure │\n",
       "│         ┆         ┆        ┆            ┆   ┆ 23:31:16     ┆         ┆ Lost        ┆ \", \"drama\", │\n",
       "│         ┆         ┆        ┆            ┆   ┆              ┆         ┆ Children,   ┆ … \"sci-fi…  │\n",
       "│         ┆         ┆        ┆            ┆   ┆              ┆         ┆ The (Cité…  ┆             │\n",
       "│ 1       ┆ 32      ┆ 3.5    ┆ 1112484819 ┆ … ┆ 2005-04-02   ┆ 6       ┆ Twelve      ┆ [\"mystery\", │\n",
       "│         ┆         ┆        ┆            ┆   ┆ 23:33:39     ┆         ┆ Monkeys     ┆ \"sci-fi\",   │\n",
       "│         ┆         ┆        ┆            ┆   ┆              ┆         ┆ (a.k.a. 12  ┆ \"thriller\"… │\n",
       "│         ┆         ┆        ┆            ┆   ┆              ┆         ┆ Monkey…     ┆             │\n",
       "│ 1       ┆ 47      ┆ 3.5    ┆ 1112484727 ┆ … ┆ 2005-04-02   ┆ 6       ┆ Seven       ┆ [\"mystery\", │\n",
       "│         ┆         ┆        ┆            ┆   ┆ 23:32:07     ┆         ┆ (a.k.a.     ┆ \"thriller\"] │\n",
       "│         ┆         ┆        ┆            ┆   ┆              ┆         ┆ Se7en)      ┆             │\n",
       "│         ┆         ┆        ┆            ┆   ┆              ┆         ┆ (1995)      ┆             │\n",
       "│ …       ┆ …       ┆ …      ┆ …          ┆ … ┆ …            ┆ …       ┆ …           ┆ …           │\n",
       "│ 138493  ┆ 69526   ┆ 4.5    ┆ 1259865108 ┆ … ┆ 2009-12-03   ┆ 4       ┆ Transformer ┆ [\"action\",  │\n",
       "│         ┆         ┆        ┆            ┆   ┆ 18:31:48     ┆         ┆ s: Revenge  ┆ \"adventure\" │\n",
       "│         ┆         ┆        ┆            ┆   ┆              ┆         ┆ of the Fal… ┆ , … \"imax\"… │\n",
       "│ 138493  ┆ 69644   ┆ 3.0    ┆ 1260209457 ┆ … ┆ 2009-12-07   ┆ 1       ┆ Ice Age:    ┆ [\"action\",  │\n",
       "│         ┆         ┆        ┆            ┆   ┆ 18:10:57     ┆         ┆ Dawn of the ┆ \"adventure\" │\n",
       "│         ┆         ┆        ┆            ┆   ┆              ┆         ┆ Dinosaurs   ┆ , … \"roman… │\n",
       "│         ┆         ┆        ┆            ┆   ┆              ┆         ┆ (…          ┆             │\n",
       "│ 138493  ┆ 70286   ┆ 5.0    ┆ 1258126944 ┆ … ┆ 2009-11-13   ┆ 5       ┆ District 9  ┆ [\"mystery\", │\n",
       "│         ┆         ┆        ┆            ┆   ┆ 15:42:24     ┆         ┆ (2009)      ┆ \"sci-fi\",   │\n",
       "│         ┆         ┆        ┆            ┆   ┆              ┆         ┆             ┆ \"thriller\"… │\n",
       "│ 138493  ┆ 71619   ┆ 2.5    ┆ 1255811136 ┆ … ┆ 2009-10-17   ┆ 6       ┆ Coco Before ┆ [\"drama\"]   │\n",
       "│         ┆         ┆        ┆            ┆   ┆ 20:25:36     ┆         ┆ Chanel      ┆             │\n",
       "│         ┆         ┆        ┆            ┆   ┆              ┆         ┆ (Coco avant ┆             │\n",
       "│         ┆         ┆        ┆            ┆   ┆              ┆         ┆ C…          ┆             │\n",
       "└─────────┴─────────┴────────┴────────────┴───┴──────────────┴─────────┴─────────────┴─────────────┘"
      ]
     },
     "execution_count": 39,
     "metadata": {},
     "output_type": "execute_result"
    }
   ],
   "source": [
    "interaction_with_item_info_pl"
   ]
  },
  {
   "cell_type": "code",
   "execution_count": 40,
   "metadata": {},
   "outputs": [
    {
     "data": {
      "text/html": [
       "<div><style>\n",
       ".dataframe > thead > tr > th,\n",
       ".dataframe > tbody > tr > td {\n",
       "  text-align: right;\n",
       "  white-space: pre-wrap;\n",
       "}\n",
       "</style>\n",
       "<small>shape: (465_564, 4)</small><table border=\"1\" class=\"dataframe\"><thead><tr><th>user_id</th><th>item_id</th><th>tag</th><th>timestamp</th></tr><tr><td>i32</td><td>i32</td><td>str</td><td>i64</td></tr></thead><tbody><tr><td>18</td><td>4141</td><td>&quot;Mark Waters&quot;</td><td>1240597180</td></tr><tr><td>65</td><td>208</td><td>&quot;dark hero&quot;</td><td>1368150078</td></tr><tr><td>65</td><td>353</td><td>&quot;dark hero&quot;</td><td>1368150079</td></tr><tr><td>65</td><td>521</td><td>&quot;noir thriller&quot;</td><td>1368149983</td></tr><tr><td>65</td><td>592</td><td>&quot;dark hero&quot;</td><td>1368150078</td></tr><tr><td>65</td><td>668</td><td>&quot;bollywood&quot;</td><td>1368149876</td></tr><tr><td>65</td><td>898</td><td>&quot;screwball come…</td><td>1368150160</td></tr><tr><td>65</td><td>1248</td><td>&quot;noir thriller&quot;</td><td>1368149983</td></tr><tr><td>65</td><td>1391</td><td>&quot;mars&quot;</td><td>1368150055</td></tr><tr><td>65</td><td>1617</td><td>&quot;neo-noir&quot;</td><td>1368150217</td></tr><tr><td>65</td><td>1694</td><td>&quot;jesus&quot;</td><td>1368149925</td></tr><tr><td>65</td><td>1783</td><td>&quot;noir thriller&quot;</td><td>1368149983</td></tr><tr><td>&hellip;</td><td>&hellip;</td><td>&hellip;</td><td>&hellip;</td></tr><tr><td>138446</td><td>3489</td><td>&quot;Peter Pan&quot;</td><td>1358983822</td></tr><tr><td>138446</td><td>3489</td><td>&quot;soundtrack&quot;</td><td>1358983822</td></tr><tr><td>138446</td><td>3489</td><td>&quot;visually appea…</td><td>1358983822</td></tr><tr><td>138446</td><td>7045</td><td>&quot;family friendl…</td><td>1358983660</td></tr><tr><td>138446</td><td>7045</td><td>&quot;Scary Movies T…</td><td>1358983660</td></tr><tr><td>138446</td><td>7164</td><td>&quot;Peter Pan&quot;</td><td>1358983855</td></tr><tr><td>138446</td><td>7164</td><td>&quot;visually appea…</td><td>1358983855</td></tr><tr><td>138446</td><td>55999</td><td>&quot;dragged&quot;</td><td>1358983772</td></tr><tr><td>138446</td><td>55999</td><td>&quot;Jason Bateman&quot;</td><td>1358983778</td></tr><tr><td>138446</td><td>55999</td><td>&quot;quirky&quot;</td><td>1358983778</td></tr><tr><td>138446</td><td>55999</td><td>&quot;sad&quot;</td><td>1358983772</td></tr><tr><td>138472</td><td>923</td><td>&quot;rise to power&quot;</td><td>1194037967</td></tr></tbody></table></div>"
      ],
      "text/plain": [
       "shape: (465_564, 4)\n",
       "┌─────────┬─────────┬───────────────┬────────────┐\n",
       "│ user_id ┆ item_id ┆ tag           ┆ timestamp  │\n",
       "│ ---     ┆ ---     ┆ ---           ┆ ---        │\n",
       "│ i32     ┆ i32     ┆ str           ┆ i64        │\n",
       "╞═════════╪═════════╪═══════════════╪════════════╡\n",
       "│ 18      ┆ 4141    ┆ Mark Waters   ┆ 1240597180 │\n",
       "│ 65      ┆ 208     ┆ dark hero     ┆ 1368150078 │\n",
       "│ 65      ┆ 353     ┆ dark hero     ┆ 1368150079 │\n",
       "│ 65      ┆ 521     ┆ noir thriller ┆ 1368149983 │\n",
       "│ …       ┆ …       ┆ …             ┆ …          │\n",
       "│ 138446  ┆ 55999   ┆ Jason Bateman ┆ 1358983778 │\n",
       "│ 138446  ┆ 55999   ┆ quirky        ┆ 1358983778 │\n",
       "│ 138446  ┆ 55999   ┆ sad           ┆ 1358983772 │\n",
       "│ 138472  ┆ 923     ┆ rise to power ┆ 1194037967 │\n",
       "└─────────┴─────────┴───────────────┴────────────┘"
      ]
     },
     "execution_count": 40,
     "metadata": {},
     "output_type": "execute_result"
    }
   ],
   "source": [
    "tags_pl"
   ]
  },
  {
   "cell_type": "code",
   "execution_count": 41,
   "metadata": {},
   "outputs": [
    {
     "name": "stdout",
     "output_type": "stream",
     "text": [
      "Pandas: 5.957738399505615; Polars: 0.32895922660827637\n"
     ]
    },
    {
     "data": {
      "image/png": "[encoded data removed]",
      "text/plain": [
       "<Figure size 640x480 with 1 Axes>"
      ]
     },
     "metadata": {},
     "output_type": "display_data"
    }
   ],
   "source": [
    "start = time()\n",
    "interactions_with_tags_pl = interactions_pl.join(tags_pl, on=['user_id', 'item_id'], how='left')\n",
    "time_pl = time() - start\n",
    "\n",
    "start = time()\n",
    "interactions_with_tags_pd = interactions_pd.merge(tags_pd, on=['user_id', 'item_id'], how='left')\n",
    "time_pd = time() - start\n",
    "\n",
    "plot_time_bar(time_pl, time_pd)"
   ]
  },
  {
   "cell_type": "code",
   "execution_count": 52,
   "metadata": {},
   "outputs": [
    {
     "ename": "KeyError",
     "evalue": "\"['timestamp_y'] not found in axis\"",
     "output_type": "error",
     "traceback": [
      "\u001b[0;31m---------------------------------------------------------------------------\u001b[0m",
      "\u001b[0;31mKeyError\u001b[0m                                  Traceback (most recent call last)",
      "Cell \u001b[0;32mIn[52], line 2\u001b[0m\n\u001b[1;32m      1\u001b[0m interactions_with_tags_pl \u001b[38;5;241m=\u001b[39m interactions_with_tags_pl\u001b[38;5;241m.\u001b[39mdrop(\u001b[38;5;124m\"\u001b[39m\u001b[38;5;124mtimestamp_right\u001b[39m\u001b[38;5;124m\"\u001b[39m)\n\u001b[0;32m----> 2\u001b[0m interactions_with_tags_pd \u001b[38;5;241m=\u001b[39m \u001b[43minteractions_with_tags_pd\u001b[49m\u001b[38;5;241;43m.\u001b[39;49m\u001b[43mdrop\u001b[49m\u001b[43m(\u001b[49m\u001b[38;5;124;43m\"\u001b[39;49m\u001b[38;5;124;43mtimestamp_y\u001b[39;49m\u001b[38;5;124;43m\"\u001b[39;49m\u001b[43m)\u001b[49m\n",
      "File \u001b[0;32m/home/user/conda/envs/mllib-dev/lib/python3.9/site-packages/pandas/util/_decorators.py:311\u001b[0m, in \u001b[0;36mdeprecate_nonkeyword_arguments.<locals>.decorate.<locals>.wrapper\u001b[0;34m(*args, **kwargs)\u001b[0m\n\u001b[1;32m    <a href='file:///home/user/conda/envs/mllib-dev/lib/python3.9/site-packages/pandas/util/_decorators.py?line=304'>305</a>\u001b[0m \u001b[39mif\u001b[39;00m \u001b[39mlen\u001b[39m(args) \u001b[39m>\u001b[39m num_allow_args:\n\u001b[1;32m    <a href='file:///home/user/conda/envs/mllib-dev/lib/python3.9/site-packages/pandas/util/_decorators.py?line=305'>306</a>\u001b[0m     warnings\u001b[39m.\u001b[39mwarn(\n\u001b[1;32m    <a href='file:///home/user/conda/envs/mllib-dev/lib/python3.9/site-packages/pandas/util/_decorators.py?line=306'>307</a>\u001b[0m         msg\u001b[39m.\u001b[39mformat(arguments\u001b[39m=\u001b[39marguments),\n\u001b[1;32m    <a href='file:///home/user/conda/envs/mllib-dev/lib/python3.9/site-packages/pandas/util/_decorators.py?line=307'>308</a>\u001b[0m         \u001b[39mFutureWarning\u001b[39;00m,\n\u001b[1;32m    <a href='file:///home/user/conda/envs/mllib-dev/lib/python3.9/site-packages/pandas/util/_decorators.py?line=308'>309</a>\u001b[0m         stacklevel\u001b[39m=\u001b[39mstacklevel,\n\u001b[1;32m    <a href='file:///home/user/conda/envs/mllib-dev/lib/python3.9/site-packages/pandas/util/_decorators.py?line=309'>310</a>\u001b[0m     )\n\u001b[0;32m--> <a href='file:///home/user/conda/envs/mllib-dev/lib/python3.9/site-packages/pandas/util/_decorators.py?line=310'>311</a>\u001b[0m \u001b[39mreturn\u001b[39;00m func(\u001b[39m*\u001b[39;49margs, \u001b[39m*\u001b[39;49m\u001b[39m*\u001b[39;49mkwargs)\n",
      "File \u001b[0;32m/home/user/conda/envs/mllib-dev/lib/python3.9/site-packages/pandas/core/frame.py:4948\u001b[0m, in \u001b[0;36mDataFrame.drop\u001b[0;34m(self, labels, axis, index, columns, level, inplace, errors)\u001b[0m\n\u001b[1;32m   <a href='file:///home/user/conda/envs/mllib-dev/lib/python3.9/site-packages/pandas/core/frame.py?line=4799'>4800</a>\u001b[0m \u001b[39m@deprecate_nonkeyword_arguments\u001b[39m(version\u001b[39m=\u001b[39m\u001b[39mNone\u001b[39;00m, allowed_args\u001b[39m=\u001b[39m[\u001b[39m\"\u001b[39m\u001b[39mself\u001b[39m\u001b[39m\"\u001b[39m, \u001b[39m\"\u001b[39m\u001b[39mlabels\u001b[39m\u001b[39m\"\u001b[39m])\n\u001b[1;32m   <a href='file:///home/user/conda/envs/mllib-dev/lib/python3.9/site-packages/pandas/core/frame.py?line=4800'>4801</a>\u001b[0m \u001b[39mdef\u001b[39;00m \u001b[39mdrop\u001b[39m(\n\u001b[1;32m   <a href='file:///home/user/conda/envs/mllib-dev/lib/python3.9/site-packages/pandas/core/frame.py?line=4801'>4802</a>\u001b[0m     \u001b[39mself\u001b[39m,\n\u001b[0;32m   (...)\u001b[0m\n\u001b[1;32m   <a href='file:///home/user/conda/envs/mllib-dev/lib/python3.9/site-packages/pandas/core/frame.py?line=4808'>4809</a>\u001b[0m     errors: \u001b[39mstr\u001b[39m \u001b[39m=\u001b[39m \u001b[39m\"\u001b[39m\u001b[39mraise\u001b[39m\u001b[39m\"\u001b[39m,\n\u001b[1;32m   <a href='file:///home/user/conda/envs/mllib-dev/lib/python3.9/site-packages/pandas/core/frame.py?line=4809'>4810</a>\u001b[0m ):\n\u001b[1;32m   <a href='file:///home/user/conda/envs/mllib-dev/lib/python3.9/site-packages/pandas/core/frame.py?line=4810'>4811</a>\u001b[0m \u001b[39m    \u001b[39m\u001b[39m\"\"\"\u001b[39;00m\n\u001b[1;32m   <a href='file:///home/user/conda/envs/mllib-dev/lib/python3.9/site-packages/pandas/core/frame.py?line=4811'>4812</a>\u001b[0m \u001b[39m    Drop specified labels from rows or columns.\u001b[39;00m\n\u001b[1;32m   <a href='file:///home/user/conda/envs/mllib-dev/lib/python3.9/site-packages/pandas/core/frame.py?line=4812'>4813</a>\u001b[0m \n\u001b[0;32m   (...)\u001b[0m\n\u001b[1;32m   <a href='file:///home/user/conda/envs/mllib-dev/lib/python3.9/site-packages/pandas/core/frame.py?line=4945'>4946</a>\u001b[0m \u001b[39m            weight  1.0     0.8\u001b[39;00m\n\u001b[1;32m   <a href='file:///home/user/conda/envs/mllib-dev/lib/python3.9/site-packages/pandas/core/frame.py?line=4946'>4947</a>\u001b[0m \u001b[39m    \"\"\"\u001b[39;00m\n\u001b[0;32m-> <a href='file:///home/user/conda/envs/mllib-dev/lib/python3.9/site-packages/pandas/core/frame.py?line=4947'>4948</a>\u001b[0m     \u001b[39mreturn\u001b[39;00m \u001b[39msuper\u001b[39;49m()\u001b[39m.\u001b[39;49mdrop(\n\u001b[1;32m   <a href='file:///home/user/conda/envs/mllib-dev/lib/python3.9/site-packages/pandas/core/frame.py?line=4948'>4949</a>\u001b[0m         labels\u001b[39m=\u001b[39;49mlabels,\n\u001b[1;32m   <a href='file:///home/user/conda/envs/mllib-dev/lib/python3.9/site-packages/pandas/core/frame.py?line=4949'>4950</a>\u001b[0m         axis\u001b[39m=\u001b[39;49maxis,\n\u001b[1;32m   <a href='file:///home/user/conda/envs/mllib-dev/lib/python3.9/site-packages/pandas/core/frame.py?line=4950'>4951</a>\u001b[0m         index\u001b[39m=\u001b[39;49mindex,\n\u001b[1;32m   <a href='file:///home/user/conda/envs/mllib-dev/lib/python3.9/site-packages/pandas/core/frame.py?line=4951'>4952</a>\u001b[0m         columns\u001b[39m=\u001b[39;49mcolumns,\n\u001b[1;32m   <a href='file:///home/user/conda/envs/mllib-dev/lib/python3.9/site-packages/pandas/core/frame.py?line=4952'>4953</a>\u001b[0m         level\u001b[39m=\u001b[39;49mlevel,\n\u001b[1;32m   <a href='file:///home/user/conda/envs/mllib-dev/lib/python3.9/site-packages/pandas/core/frame.py?line=4953'>4954</a>\u001b[0m         inplace\u001b[39m=\u001b[39;49minplace,\n\u001b[1;32m   <a href='file:///home/user/conda/envs/mllib-dev/lib/python3.9/site-packages/pandas/core/frame.py?line=4954'>4955</a>\u001b[0m         errors\u001b[39m=\u001b[39;49merrors,\n\u001b[1;32m   <a href='file:///home/user/conda/envs/mllib-dev/lib/python3.9/site-packages/pandas/core/frame.py?line=4955'>4956</a>\u001b[0m     )\n",
      "File \u001b[0;32m/home/user/conda/envs/mllib-dev/lib/python3.9/site-packages/pandas/core/generic.py:4279\u001b[0m, in \u001b[0;36mNDFrame.drop\u001b[0;34m(self, labels, axis, index, columns, level, inplace, errors)\u001b[0m\n\u001b[1;32m   <a href='file:///home/user/conda/envs/mllib-dev/lib/python3.9/site-packages/pandas/core/generic.py?line=4276'>4277</a>\u001b[0m \u001b[39mfor\u001b[39;00m axis, labels \u001b[39min\u001b[39;00m axes\u001b[39m.\u001b[39mitems():\n\u001b[1;32m   <a href='file:///home/user/conda/envs/mllib-dev/lib/python3.9/site-packages/pandas/core/generic.py?line=4277'>4278</a>\u001b[0m     \u001b[39mif\u001b[39;00m labels \u001b[39mis\u001b[39;00m \u001b[39mnot\u001b[39;00m \u001b[39mNone\u001b[39;00m:\n\u001b[0;32m-> <a href='file:///home/user/conda/envs/mllib-dev/lib/python3.9/site-packages/pandas/core/generic.py?line=4278'>4279</a>\u001b[0m         obj \u001b[39m=\u001b[39m obj\u001b[39m.\u001b[39;49m_drop_axis(labels, axis, level\u001b[39m=\u001b[39;49mlevel, errors\u001b[39m=\u001b[39;49merrors)\n\u001b[1;32m   <a href='file:///home/user/conda/envs/mllib-dev/lib/python3.9/site-packages/pandas/core/generic.py?line=4280'>4281</a>\u001b[0m \u001b[39mif\u001b[39;00m inplace:\n\u001b[1;32m   <a href='file:///home/user/conda/envs/mllib-dev/lib/python3.9/site-packages/pandas/core/generic.py?line=4281'>4282</a>\u001b[0m     \u001b[39mself\u001b[39m\u001b[39m.\u001b[39m_update_inplace(obj)\n",
      "File \u001b[0;32m/home/user/conda/envs/mllib-dev/lib/python3.9/site-packages/pandas/core/generic.py:4323\u001b[0m, in \u001b[0;36mNDFrame._drop_axis\u001b[0;34m(self, labels, axis, level, errors, consolidate, only_slice)\u001b[0m\n\u001b[1;32m   <a href='file:///home/user/conda/envs/mllib-dev/lib/python3.9/site-packages/pandas/core/generic.py?line=4320'>4321</a>\u001b[0m         new_axis \u001b[39m=\u001b[39m axis\u001b[39m.\u001b[39mdrop(labels, level\u001b[39m=\u001b[39mlevel, errors\u001b[39m=\u001b[39merrors)\n\u001b[1;32m   <a href='file:///home/user/conda/envs/mllib-dev/lib/python3.9/site-packages/pandas/core/generic.py?line=4321'>4322</a>\u001b[0m     \u001b[39melse\u001b[39;00m:\n\u001b[0;32m-> <a href='file:///home/user/conda/envs/mllib-dev/lib/python3.9/site-packages/pandas/core/generic.py?line=4322'>4323</a>\u001b[0m         new_axis \u001b[39m=\u001b[39m axis\u001b[39m.\u001b[39;49mdrop(labels, errors\u001b[39m=\u001b[39;49merrors)\n\u001b[1;32m   <a href='file:///home/user/conda/envs/mllib-dev/lib/python3.9/site-packages/pandas/core/generic.py?line=4323'>4324</a>\u001b[0m     indexer \u001b[39m=\u001b[39m axis\u001b[39m.\u001b[39mget_indexer(new_axis)\n\u001b[1;32m   <a href='file:///home/user/conda/envs/mllib-dev/lib/python3.9/site-packages/pandas/core/generic.py?line=4325'>4326</a>\u001b[0m \u001b[39m# Case for non-unique axis\u001b[39;00m\n\u001b[1;32m   <a href='file:///home/user/conda/envs/mllib-dev/lib/python3.9/site-packages/pandas/core/generic.py?line=4326'>4327</a>\u001b[0m \u001b[39melse\u001b[39;00m:\n",
      "File \u001b[0;32m/home/user/conda/envs/mllib-dev/lib/python3.9/site-packages/pandas/core/indexes/base.py:6644\u001b[0m, in \u001b[0;36mIndex.drop\u001b[0;34m(self, labels, errors)\u001b[0m\n\u001b[1;32m   <a href='file:///home/user/conda/envs/mllib-dev/lib/python3.9/site-packages/pandas/core/indexes/base.py?line=6641'>6642</a>\u001b[0m \u001b[39mif\u001b[39;00m mask\u001b[39m.\u001b[39many():\n\u001b[1;32m   <a href='file:///home/user/conda/envs/mllib-dev/lib/python3.9/site-packages/pandas/core/indexes/base.py?line=6642'>6643</a>\u001b[0m     \u001b[39mif\u001b[39;00m errors \u001b[39m!=\u001b[39m \u001b[39m\"\u001b[39m\u001b[39mignore\u001b[39m\u001b[39m\"\u001b[39m:\n\u001b[0;32m-> <a href='file:///home/user/conda/envs/mllib-dev/lib/python3.9/site-packages/pandas/core/indexes/base.py?line=6643'>6644</a>\u001b[0m         \u001b[39mraise\u001b[39;00m \u001b[39mKeyError\u001b[39;00m(\u001b[39mf\u001b[39m\u001b[39m\"\u001b[39m\u001b[39m{\u001b[39;00m\u001b[39mlist\u001b[39m(labels[mask])\u001b[39m}\u001b[39;00m\u001b[39m not found in axis\u001b[39m\u001b[39m\"\u001b[39m)\n\u001b[1;32m   <a href='file:///home/user/conda/envs/mllib-dev/lib/python3.9/site-packages/pandas/core/indexes/base.py?line=6644'>6645</a>\u001b[0m     indexer \u001b[39m=\u001b[39m indexer[\u001b[39m~\u001b[39mmask]\n\u001b[1;32m   <a href='file:///home/user/conda/envs/mllib-dev/lib/python3.9/site-packages/pandas/core/indexes/base.py?line=6645'>6646</a>\u001b[0m \u001b[39mreturn\u001b[39;00m \u001b[39mself\u001b[39m\u001b[39m.\u001b[39mdelete(indexer)\n",
      "\u001b[0;31mKeyError\u001b[0m: \"['timestamp_y'] not found in axis\""
     ]
    }
   ],
   "source": [
    "interactions_with_tags_pl = interactions_with_tags_pl.drop(\"timestamp_right\")\n",
    "interactions_with_tags_pd = interactions_with_tags_pd.drop(\"timestamp_y\")"
   ]
  },
  {
   "cell_type": "code",
   "execution_count": 54,
   "metadata": {},
   "outputs": [
    {
     "data": {
      "text/html": [
       "<div>\n",
       "<style scoped>\n",
       "    .dataframe tbody tr th:only-of-type {\n",
       "        vertical-align: middle;\n",
       "    }\n",
       "\n",
       "    .dataframe tbody tr th {\n",
       "        vertical-align: top;\n",
       "    }\n",
       "\n",
       "    .dataframe thead th {\n",
       "        text-align: right;\n",
       "    }\n",
       "</style>\n",
       "<table border=\"1\" class=\"dataframe\">\n",
       "  <thead>\n",
       "    <tr style=\"text-align: right;\">\n",
       "      <th></th>\n",
       "      <th>user_id</th>\n",
       "      <th>item_id</th>\n",
       "      <th>rating</th>\n",
       "      <th>timestamp_x</th>\n",
       "      <th>rating_normalized</th>\n",
       "      <th>datetime</th>\n",
       "      <th>weekday</th>\n",
       "      <th>tag</th>\n",
       "      <th>timestamp_y</th>\n",
       "    </tr>\n",
       "  </thead>\n",
       "  <tbody>\n",
       "    <tr>\n",
       "      <th>0</th>\n",
       "      <td>1</td>\n",
       "      <td>2</td>\n",
       "      <td>3.5</td>\n",
       "      <td>1112486027</td>\n",
       "      <td>0.7</td>\n",
       "      <td>2005-04-02 23:53:47</td>\n",
       "      <td>5</td>\n",
       "      <td>NaN</td>\n",
       "      <td>NaN</td>\n",
       "    </tr>\n",
       "    <tr>\n",
       "      <th>1</th>\n",
       "      <td>1</td>\n",
       "      <td>29</td>\n",
       "      <td>3.5</td>\n",
       "      <td>1112484676</td>\n",
       "      <td>0.7</td>\n",
       "      <td>2005-04-02 23:31:16</td>\n",
       "      <td>5</td>\n",
       "      <td>NaN</td>\n",
       "      <td>NaN</td>\n",
       "    </tr>\n",
       "    <tr>\n",
       "      <th>2</th>\n",
       "      <td>1</td>\n",
       "      <td>32</td>\n",
       "      <td>3.5</td>\n",
       "      <td>1112484819</td>\n",
       "      <td>0.7</td>\n",
       "      <td>2005-04-02 23:33:39</td>\n",
       "      <td>5</td>\n",
       "      <td>NaN</td>\n",
       "      <td>NaN</td>\n",
       "    </tr>\n",
       "    <tr>\n",
       "      <th>3</th>\n",
       "      <td>1</td>\n",
       "      <td>47</td>\n",
       "      <td>3.5</td>\n",
       "      <td>1112484727</td>\n",
       "      <td>0.7</td>\n",
       "      <td>2005-04-02 23:32:07</td>\n",
       "      <td>5</td>\n",
       "      <td>NaN</td>\n",
       "      <td>NaN</td>\n",
       "    </tr>\n",
       "    <tr>\n",
       "      <th>4</th>\n",
       "      <td>1</td>\n",
       "      <td>50</td>\n",
       "      <td>3.5</td>\n",
       "      <td>1112484580</td>\n",
       "      <td>0.7</td>\n",
       "      <td>2005-04-02 23:29:40</td>\n",
       "      <td>5</td>\n",
       "      <td>NaN</td>\n",
       "      <td>NaN</td>\n",
       "    </tr>\n",
       "    <tr>\n",
       "      <th>...</th>\n",
       "      <td>...</td>\n",
       "      <td>...</td>\n",
       "      <td>...</td>\n",
       "      <td>...</td>\n",
       "      <td>...</td>\n",
       "      <td>...</td>\n",
       "      <td>...</td>\n",
       "      <td>...</td>\n",
       "      <td>...</td>\n",
       "    </tr>\n",
       "    <tr>\n",
       "      <th>20265620</th>\n",
       "      <td>138493</td>\n",
       "      <td>68954</td>\n",
       "      <td>4.5</td>\n",
       "      <td>1258126920</td>\n",
       "      <td>0.9</td>\n",
       "      <td>2009-11-13 15:42:00</td>\n",
       "      <td>4</td>\n",
       "      <td>NaN</td>\n",
       "      <td>NaN</td>\n",
       "    </tr>\n",
       "    <tr>\n",
       "      <th>20265621</th>\n",
       "      <td>138493</td>\n",
       "      <td>69526</td>\n",
       "      <td>4.5</td>\n",
       "      <td>1259865108</td>\n",
       "      <td>0.9</td>\n",
       "      <td>2009-12-03 18:31:48</td>\n",
       "      <td>3</td>\n",
       "      <td>NaN</td>\n",
       "      <td>NaN</td>\n",
       "    </tr>\n",
       "    <tr>\n",
       "      <th>20265622</th>\n",
       "      <td>138493</td>\n",
       "      <td>69644</td>\n",
       "      <td>3.0</td>\n",
       "      <td>1260209457</td>\n",
       "      <td>0.6</td>\n",
       "      <td>2009-12-07 18:10:57</td>\n",
       "      <td>0</td>\n",
       "      <td>NaN</td>\n",
       "      <td>NaN</td>\n",
       "    </tr>\n",
       "    <tr>\n",
       "      <th>20265623</th>\n",
       "      <td>138493</td>\n",
       "      <td>70286</td>\n",
       "      <td>5.0</td>\n",
       "      <td>1258126944</td>\n",
       "      <td>1.0</td>\n",
       "      <td>2009-11-13 15:42:24</td>\n",
       "      <td>4</td>\n",
       "      <td>NaN</td>\n",
       "      <td>NaN</td>\n",
       "    </tr>\n",
       "    <tr>\n",
       "      <th>20265624</th>\n",
       "      <td>138493</td>\n",
       "      <td>71619</td>\n",
       "      <td>2.5</td>\n",
       "      <td>1255811136</td>\n",
       "      <td>0.5</td>\n",
       "      <td>2009-10-17 20:25:36</td>\n",
       "      <td>5</td>\n",
       "      <td>NaN</td>\n",
       "      <td>NaN</td>\n",
       "    </tr>\n",
       "  </tbody>\n",
       "</table>\n",
       "<p>20265625 rows × 9 columns</p>\n",
       "</div>"
      ],
      "text/plain": [
       "          user_id  item_id  rating  timestamp_x  rating_normalized  \\\n",
       "0               1        2     3.5   1112486027                0.7   \n",
       "1               1       29     3.5   1112484676                0.7   \n",
       "2               1       32     3.5   1112484819                0.7   \n",
       "3               1       47     3.5   1112484727                0.7   \n",
       "4               1       50     3.5   1112484580                0.7   \n",
       "...           ...      ...     ...          ...                ...   \n",
       "20265620   138493    68954     4.5   1258126920                0.9   \n",
       "20265621   138493    69526     4.5   1259865108                0.9   \n",
       "20265622   138493    69644     3.0   1260209457                0.6   \n",
       "20265623   138493    70286     5.0   1258126944                1.0   \n",
       "20265624   138493    71619     2.5   1255811136                0.5   \n",
       "\n",
       "                    datetime  weekday  tag  timestamp_y  \n",
       "0        2005-04-02 23:53:47        5  NaN          NaN  \n",
       "1        2005-04-02 23:31:16        5  NaN          NaN  \n",
       "2        2005-04-02 23:33:39        5  NaN          NaN  \n",
       "3        2005-04-02 23:32:07        5  NaN          NaN  \n",
       "4        2005-04-02 23:29:40        5  NaN          NaN  \n",
       "...                      ...      ...  ...          ...  \n",
       "20265620 2009-11-13 15:42:00        4  NaN          NaN  \n",
       "20265621 2009-12-03 18:31:48        3  NaN          NaN  \n",
       "20265622 2009-12-07 18:10:57        0  NaN          NaN  \n",
       "20265623 2009-11-13 15:42:24        4  NaN          NaN  \n",
       "20265624 2009-10-17 20:25:36        5  NaN          NaN  \n",
       "\n",
       "[20265625 rows x 9 columns]"
      ]
     },
     "execution_count": 54,
     "metadata": {},
     "output_type": "execute_result"
    }
   ],
   "source": [
    "interactions_with_tags_pd"
   ]
  },
  {
   "cell_type": "code",
   "execution_count": 48,
   "metadata": {},
   "outputs": [
    {
     "data": {
      "text/html": [
       "<div>\n",
       "<style scoped>\n",
       "    .dataframe tbody tr th:only-of-type {\n",
       "        vertical-align: middle;\n",
       "    }\n",
       "\n",
       "    .dataframe tbody tr th {\n",
       "        vertical-align: top;\n",
       "    }\n",
       "\n",
       "    .dataframe thead th {\n",
       "        text-align: right;\n",
       "    }\n",
       "</style>\n",
       "<table border=\"1\" class=\"dataframe\">\n",
       "  <thead>\n",
       "    <tr style=\"text-align: right;\">\n",
       "      <th></th>\n",
       "      <th>user_id</th>\n",
       "      <th>item_id</th>\n",
       "      <th>rating</th>\n",
       "      <th>timestamp_x</th>\n",
       "      <th>rating_normalized</th>\n",
       "      <th>datetime</th>\n",
       "      <th>weekday</th>\n",
       "      <th>tag</th>\n",
       "      <th>timestamp_y</th>\n",
       "    </tr>\n",
       "  </thead>\n",
       "  <tbody>\n",
       "    <tr>\n",
       "      <th>0</th>\n",
       "      <td>1</td>\n",
       "      <td>2</td>\n",
       "      <td>3.5</td>\n",
       "      <td>1112486027</td>\n",
       "      <td>0.7</td>\n",
       "      <td>2005-04-02 23:53:47</td>\n",
       "      <td>5</td>\n",
       "      <td>NaN</td>\n",
       "      <td>NaN</td>\n",
       "    </tr>\n",
       "    <tr>\n",
       "      <th>1</th>\n",
       "      <td>1</td>\n",
       "      <td>29</td>\n",
       "      <td>3.5</td>\n",
       "      <td>1112484676</td>\n",
       "      <td>0.7</td>\n",
       "      <td>2005-04-02 23:31:16</td>\n",
       "      <td>5</td>\n",
       "      <td>NaN</td>\n",
       "      <td>NaN</td>\n",
       "    </tr>\n",
       "    <tr>\n",
       "      <th>2</th>\n",
       "      <td>1</td>\n",
       "      <td>32</td>\n",
       "      <td>3.5</td>\n",
       "      <td>1112484819</td>\n",
       "      <td>0.7</td>\n",
       "      <td>2005-04-02 23:33:39</td>\n",
       "      <td>5</td>\n",
       "      <td>NaN</td>\n",
       "      <td>NaN</td>\n",
       "    </tr>\n",
       "    <tr>\n",
       "      <th>3</th>\n",
       "      <td>1</td>\n",
       "      <td>47</td>\n",
       "      <td>3.5</td>\n",
       "      <td>1112484727</td>\n",
       "      <td>0.7</td>\n",
       "      <td>2005-04-02 23:32:07</td>\n",
       "      <td>5</td>\n",
       "      <td>NaN</td>\n",
       "      <td>NaN</td>\n",
       "    </tr>\n",
       "    <tr>\n",
       "      <th>4</th>\n",
       "      <td>1</td>\n",
       "      <td>50</td>\n",
       "      <td>3.5</td>\n",
       "      <td>1112484580</td>\n",
       "      <td>0.7</td>\n",
       "      <td>2005-04-02 23:29:40</td>\n",
       "      <td>5</td>\n",
       "      <td>NaN</td>\n",
       "      <td>NaN</td>\n",
       "    </tr>\n",
       "    <tr>\n",
       "      <th>...</th>\n",
       "      <td>...</td>\n",
       "      <td>...</td>\n",
       "      <td>...</td>\n",
       "      <td>...</td>\n",
       "      <td>...</td>\n",
       "      <td>...</td>\n",
       "      <td>...</td>\n",
       "      <td>...</td>\n",
       "      <td>...</td>\n",
       "    </tr>\n",
       "    <tr>\n",
       "      <th>20265620</th>\n",
       "      <td>138493</td>\n",
       "      <td>68954</td>\n",
       "      <td>4.5</td>\n",
       "      <td>1258126920</td>\n",
       "      <td>0.9</td>\n",
       "      <td>2009-11-13 15:42:00</td>\n",
       "      <td>4</td>\n",
       "      <td>NaN</td>\n",
       "      <td>NaN</td>\n",
       "    </tr>\n",
       "    <tr>\n",
       "      <th>20265621</th>\n",
       "      <td>138493</td>\n",
       "      <td>69526</td>\n",
       "      <td>4.5</td>\n",
       "      <td>1259865108</td>\n",
       "      <td>0.9</td>\n",
       "      <td>2009-12-03 18:31:48</td>\n",
       "      <td>3</td>\n",
       "      <td>NaN</td>\n",
       "      <td>NaN</td>\n",
       "    </tr>\n",
       "    <tr>\n",
       "      <th>20265622</th>\n",
       "      <td>138493</td>\n",
       "      <td>69644</td>\n",
       "      <td>3.0</td>\n",
       "      <td>1260209457</td>\n",
       "      <td>0.6</td>\n",
       "      <td>2009-12-07 18:10:57</td>\n",
       "      <td>0</td>\n",
       "      <td>NaN</td>\n",
       "      <td>NaN</td>\n",
       "    </tr>\n",
       "    <tr>\n",
       "      <th>20265623</th>\n",
       "      <td>138493</td>\n",
       "      <td>70286</td>\n",
       "      <td>5.0</td>\n",
       "      <td>1258126944</td>\n",
       "      <td>1.0</td>\n",
       "      <td>2009-11-13 15:42:24</td>\n",
       "      <td>4</td>\n",
       "      <td>NaN</td>\n",
       "      <td>NaN</td>\n",
       "    </tr>\n",
       "    <tr>\n",
       "      <th>20265624</th>\n",
       "      <td>138493</td>\n",
       "      <td>71619</td>\n",
       "      <td>2.5</td>\n",
       "      <td>1255811136</td>\n",
       "      <td>0.5</td>\n",
       "      <td>2009-10-17 20:25:36</td>\n",
       "      <td>5</td>\n",
       "      <td>NaN</td>\n",
       "      <td>NaN</td>\n",
       "    </tr>\n",
       "  </tbody>\n",
       "</table>\n",
       "<p>20265625 rows × 9 columns</p>\n",
       "</div>"
      ],
      "text/plain": [
       "          user_id  item_id  rating  timestamp_x  rating_normalized  \\\n",
       "0               1        2     3.5   1112486027                0.7   \n",
       "1               1       29     3.5   1112484676                0.7   \n",
       "2               1       32     3.5   1112484819                0.7   \n",
       "3               1       47     3.5   1112484727                0.7   \n",
       "4               1       50     3.5   1112484580                0.7   \n",
       "...           ...      ...     ...          ...                ...   \n",
       "20265620   138493    68954     4.5   1258126920                0.9   \n",
       "20265621   138493    69526     4.5   1259865108                0.9   \n",
       "20265622   138493    69644     3.0   1260209457                0.6   \n",
       "20265623   138493    70286     5.0   1258126944                1.0   \n",
       "20265624   138493    71619     2.5   1255811136                0.5   \n",
       "\n",
       "                    datetime  weekday  tag  timestamp_y  \n",
       "0        2005-04-02 23:53:47        5  NaN          NaN  \n",
       "1        2005-04-02 23:31:16        5  NaN          NaN  \n",
       "2        2005-04-02 23:33:39        5  NaN          NaN  \n",
       "3        2005-04-02 23:32:07        5  NaN          NaN  \n",
       "4        2005-04-02 23:29:40        5  NaN          NaN  \n",
       "...                      ...      ...  ...          ...  \n",
       "20265620 2009-11-13 15:42:00        4  NaN          NaN  \n",
       "20265621 2009-12-03 18:31:48        3  NaN          NaN  \n",
       "20265622 2009-12-07 18:10:57        0  NaN          NaN  \n",
       "20265623 2009-11-13 15:42:24        4  NaN          NaN  \n",
       "20265624 2009-10-17 20:25:36        5  NaN          NaN  \n",
       "\n",
       "[20265625 rows x 9 columns]"
      ]
     },
     "execution_count": 48,
     "metadata": {},
     "output_type": "execute_result"
    }
   ],
   "source": [
    "interactions_with_tags_pd"
   ]
  },
  {
   "cell_type": "code",
   "execution_count": 55,
   "metadata": {},
   "outputs": [
    {
     "name": "stdout",
     "output_type": "stream",
     "text": [
      "Pandas: 1.0063905715942383; Polars: 0.6006157398223877\n"
     ]
    },
    {
     "data": {
      "image/png": "[encoded data removed]",
      "text/plain": [
       "<Figure size 640x480 with 1 Axes>"
      ]
     },
     "metadata": {},
     "output_type": "display_data"
    }
   ],
   "source": [
    "start = time()\n",
    "interactions_with_tags_pl = interactions_with_tags_pl.with_columns(pl.col('tag').fill_null('unknown'))\n",
    "time_pl = time() - start\n",
    "\n",
    "start = time()\n",
    "interactions_with_tags_pd['tag'] = interactions_with_tags_pd['tag'].fillna('unknown')\n",
    "time_pd = time() - start\n",
    "\n",
    "plot_time_bar(time_pl, time_pd)"
   ]
  },
  {
   "cell_type": "code",
   "execution_count": 57,
   "metadata": {},
   "outputs": [
    {
     "data": {
      "text/html": [
       "<div>\n",
       "<style scoped>\n",
       "    .dataframe tbody tr th:only-of-type {\n",
       "        vertical-align: middle;\n",
       "    }\n",
       "\n",
       "    .dataframe tbody tr th {\n",
       "        vertical-align: top;\n",
       "    }\n",
       "\n",
       "    .dataframe thead th {\n",
       "        text-align: right;\n",
       "    }\n",
       "</style>\n",
       "<table border=\"1\" class=\"dataframe\">\n",
       "  <thead>\n",
       "    <tr style=\"text-align: right;\">\n",
       "      <th></th>\n",
       "      <th>user_id</th>\n",
       "      <th>item_id</th>\n",
       "      <th>rating</th>\n",
       "      <th>timestamp_x</th>\n",
       "      <th>rating_normalized</th>\n",
       "      <th>datetime</th>\n",
       "      <th>weekday</th>\n",
       "      <th>tag</th>\n",
       "      <th>timestamp_y</th>\n",
       "    </tr>\n",
       "  </thead>\n",
       "  <tbody>\n",
       "    <tr>\n",
       "      <th>0</th>\n",
       "      <td>1</td>\n",
       "      <td>2</td>\n",
       "      <td>3.5</td>\n",
       "      <td>1112486027</td>\n",
       "      <td>0.7</td>\n",
       "      <td>2005-04-02 23:53:47</td>\n",
       "      <td>5</td>\n",
       "      <td>unknown</td>\n",
       "      <td>NaN</td>\n",
       "    </tr>\n",
       "    <tr>\n",
       "      <th>1</th>\n",
       "      <td>1</td>\n",
       "      <td>29</td>\n",
       "      <td>3.5</td>\n",
       "      <td>1112484676</td>\n",
       "      <td>0.7</td>\n",
       "      <td>2005-04-02 23:31:16</td>\n",
       "      <td>5</td>\n",
       "      <td>unknown</td>\n",
       "      <td>NaN</td>\n",
       "    </tr>\n",
       "    <tr>\n",
       "      <th>2</th>\n",
       "      <td>1</td>\n",
       "      <td>32</td>\n",
       "      <td>3.5</td>\n",
       "      <td>1112484819</td>\n",
       "      <td>0.7</td>\n",
       "      <td>2005-04-02 23:33:39</td>\n",
       "      <td>5</td>\n",
       "      <td>unknown</td>\n",
       "      <td>NaN</td>\n",
       "    </tr>\n",
       "    <tr>\n",
       "      <th>3</th>\n",
       "      <td>1</td>\n",
       "      <td>47</td>\n",
       "      <td>3.5</td>\n",
       "      <td>1112484727</td>\n",
       "      <td>0.7</td>\n",
       "      <td>2005-04-02 23:32:07</td>\n",
       "      <td>5</td>\n",
       "      <td>unknown</td>\n",
       "      <td>NaN</td>\n",
       "    </tr>\n",
       "    <tr>\n",
       "      <th>4</th>\n",
       "      <td>1</td>\n",
       "      <td>50</td>\n",
       "      <td>3.5</td>\n",
       "      <td>1112484580</td>\n",
       "      <td>0.7</td>\n",
       "      <td>2005-04-02 23:29:40</td>\n",
       "      <td>5</td>\n",
       "      <td>unknown</td>\n",
       "      <td>NaN</td>\n",
       "    </tr>\n",
       "    <tr>\n",
       "      <th>...</th>\n",
       "      <td>...</td>\n",
       "      <td>...</td>\n",
       "      <td>...</td>\n",
       "      <td>...</td>\n",
       "      <td>...</td>\n",
       "      <td>...</td>\n",
       "      <td>...</td>\n",
       "      <td>...</td>\n",
       "      <td>...</td>\n",
       "    </tr>\n",
       "    <tr>\n",
       "      <th>20265620</th>\n",
       "      <td>138493</td>\n",
       "      <td>68954</td>\n",
       "      <td>4.5</td>\n",
       "      <td>1258126920</td>\n",
       "      <td>0.9</td>\n",
       "      <td>2009-11-13 15:42:00</td>\n",
       "      <td>4</td>\n",
       "      <td>unknown</td>\n",
       "      <td>NaN</td>\n",
       "    </tr>\n",
       "    <tr>\n",
       "      <th>20265621</th>\n",
       "      <td>138493</td>\n",
       "      <td>69526</td>\n",
       "      <td>4.5</td>\n",
       "      <td>1259865108</td>\n",
       "      <td>0.9</td>\n",
       "      <td>2009-12-03 18:31:48</td>\n",
       "      <td>3</td>\n",
       "      <td>unknown</td>\n",
       "      <td>NaN</td>\n",
       "    </tr>\n",
       "    <tr>\n",
       "      <th>20265622</th>\n",
       "      <td>138493</td>\n",
       "      <td>69644</td>\n",
       "      <td>3.0</td>\n",
       "      <td>1260209457</td>\n",
       "      <td>0.6</td>\n",
       "      <td>2009-12-07 18:10:57</td>\n",
       "      <td>0</td>\n",
       "      <td>unknown</td>\n",
       "      <td>NaN</td>\n",
       "    </tr>\n",
       "    <tr>\n",
       "      <th>20265623</th>\n",
       "      <td>138493</td>\n",
       "      <td>70286</td>\n",
       "      <td>5.0</td>\n",
       "      <td>1258126944</td>\n",
       "      <td>1.0</td>\n",
       "      <td>2009-11-13 15:42:24</td>\n",
       "      <td>4</td>\n",
       "      <td>unknown</td>\n",
       "      <td>NaN</td>\n",
       "    </tr>\n",
       "    <tr>\n",
       "      <th>20265624</th>\n",
       "      <td>138493</td>\n",
       "      <td>71619</td>\n",
       "      <td>2.5</td>\n",
       "      <td>1255811136</td>\n",
       "      <td>0.5</td>\n",
       "      <td>2009-10-17 20:25:36</td>\n",
       "      <td>5</td>\n",
       "      <td>unknown</td>\n",
       "      <td>NaN</td>\n",
       "    </tr>\n",
       "  </tbody>\n",
       "</table>\n",
       "<p>20265625 rows × 9 columns</p>\n",
       "</div>"
      ],
      "text/plain": [
       "          user_id  item_id  rating  timestamp_x  rating_normalized  \\\n",
       "0               1        2     3.5   1112486027                0.7   \n",
       "1               1       29     3.5   1112484676                0.7   \n",
       "2               1       32     3.5   1112484819                0.7   \n",
       "3               1       47     3.5   1112484727                0.7   \n",
       "4               1       50     3.5   1112484580                0.7   \n",
       "...           ...      ...     ...          ...                ...   \n",
       "20265620   138493    68954     4.5   1258126920                0.9   \n",
       "20265621   138493    69526     4.5   1259865108                0.9   \n",
       "20265622   138493    69644     3.0   1260209457                0.6   \n",
       "20265623   138493    70286     5.0   1258126944                1.0   \n",
       "20265624   138493    71619     2.5   1255811136                0.5   \n",
       "\n",
       "                    datetime  weekday      tag  timestamp_y  \n",
       "0        2005-04-02 23:53:47        5  unknown          NaN  \n",
       "1        2005-04-02 23:31:16        5  unknown          NaN  \n",
       "2        2005-04-02 23:33:39        5  unknown          NaN  \n",
       "3        2005-04-02 23:32:07        5  unknown          NaN  \n",
       "4        2005-04-02 23:29:40        5  unknown          NaN  \n",
       "...                      ...      ...      ...          ...  \n",
       "20265620 2009-11-13 15:42:00        4  unknown          NaN  \n",
       "20265621 2009-12-03 18:31:48        3  unknown          NaN  \n",
       "20265622 2009-12-07 18:10:57        0  unknown          NaN  \n",
       "20265623 2009-11-13 15:42:24        4  unknown          NaN  \n",
       "20265624 2009-10-17 20:25:36        5  unknown          NaN  \n",
       "\n",
       "[20265625 rows x 9 columns]"
      ]
     },
     "execution_count": 57,
     "metadata": {},
     "output_type": "execute_result"
    }
   ],
   "source": [
    "interactions_with_tags_pd"
   ]
  },
  {
   "cell_type": "markdown",
   "metadata": {},
   "source": [
    "#### Оконные функции"
   ]
  },
  {
   "cell_type": "code",
   "execution_count": 58,
   "metadata": {},
   "outputs": [
    {
     "data": {
      "text/html": [
       "<div><style>\n",
       ".dataframe > thead > tr > th,\n",
       ".dataframe > tbody > tr > td {\n",
       "  text-align: right;\n",
       "  white-space: pre-wrap;\n",
       "}\n",
       "</style>\n",
       "<small>shape: (20_000_263, 7)</small><table border=\"1\" class=\"dataframe\"><thead><tr><th>user_id</th><th>item_id</th><th>rating</th><th>timestamp</th><th>rating_normalized</th><th>datetime</th><th>weekday</th></tr><tr><td>i32</td><td>i32</td><td>f32</td><td>i64</td><td>f64</td><td>datetime[μs]</td><td>u32</td></tr></thead><tbody><tr><td>1</td><td>2</td><td>3.5</td><td>1112486027</td><td>0.7</td><td>2005-04-02 23:53:47</td><td>6</td></tr><tr><td>1</td><td>29</td><td>3.5</td><td>1112484676</td><td>0.7</td><td>2005-04-02 23:31:16</td><td>6</td></tr><tr><td>1</td><td>32</td><td>3.5</td><td>1112484819</td><td>0.7</td><td>2005-04-02 23:33:39</td><td>6</td></tr><tr><td>1</td><td>47</td><td>3.5</td><td>1112484727</td><td>0.7</td><td>2005-04-02 23:32:07</td><td>6</td></tr><tr><td>1</td><td>50</td><td>3.5</td><td>1112484580</td><td>0.7</td><td>2005-04-02 23:29:40</td><td>6</td></tr><tr><td>1</td><td>112</td><td>3.5</td><td>1094785740</td><td>0.7</td><td>2004-09-10 03:09:00</td><td>5</td></tr><tr><td>1</td><td>151</td><td>4.0</td><td>1094785734</td><td>0.8</td><td>2004-09-10 03:08:54</td><td>5</td></tr><tr><td>1</td><td>223</td><td>4.0</td><td>1112485573</td><td>0.8</td><td>2005-04-02 23:46:13</td><td>6</td></tr><tr><td>1</td><td>253</td><td>4.0</td><td>1112484940</td><td>0.8</td><td>2005-04-02 23:35:40</td><td>6</td></tr><tr><td>1</td><td>260</td><td>4.0</td><td>1112484826</td><td>0.8</td><td>2005-04-02 23:33:46</td><td>6</td></tr><tr><td>1</td><td>293</td><td>4.0</td><td>1112484703</td><td>0.8</td><td>2005-04-02 23:31:43</td><td>6</td></tr><tr><td>1</td><td>296</td><td>4.0</td><td>1112484767</td><td>0.8</td><td>2005-04-02 23:32:47</td><td>6</td></tr><tr><td>&hellip;</td><td>&hellip;</td><td>&hellip;</td><td>&hellip;</td><td>&hellip;</td><td>&hellip;</td><td>&hellip;</td></tr><tr><td>138493</td><td>59784</td><td>5.0</td><td>1255816901</td><td>1.0</td><td>2009-10-17 22:01:41</td><td>6</td></tr><tr><td>138493</td><td>60069</td><td>4.0</td><td>1258134687</td><td>0.8</td><td>2009-11-13 17:51:27</td><td>5</td></tr><tr><td>138493</td><td>60816</td><td>4.5</td><td>1259865163</td><td>0.9</td><td>2009-12-03 18:32:43</td><td>4</td></tr><tr><td>138493</td><td>61160</td><td>4.0</td><td>1258390537</td><td>0.8</td><td>2009-11-16 16:55:37</td><td>1</td></tr><tr><td>138493</td><td>65682</td><td>4.5</td><td>1255816373</td><td>0.9</td><td>2009-10-17 21:52:53</td><td>6</td></tr><tr><td>138493</td><td>66762</td><td>4.5</td><td>1255805408</td><td>0.9</td><td>2009-10-17 18:50:08</td><td>6</td></tr><tr><td>138493</td><td>68319</td><td>4.5</td><td>1260209720</td><td>0.9</td><td>2009-12-07 18:15:20</td><td>1</td></tr><tr><td>138493</td><td>68954</td><td>4.5</td><td>1258126920</td><td>0.9</td><td>2009-11-13 15:42:00</td><td>5</td></tr><tr><td>138493</td><td>69526</td><td>4.5</td><td>1259865108</td><td>0.9</td><td>2009-12-03 18:31:48</td><td>4</td></tr><tr><td>138493</td><td>69644</td><td>3.0</td><td>1260209457</td><td>0.6</td><td>2009-12-07 18:10:57</td><td>1</td></tr><tr><td>138493</td><td>70286</td><td>5.0</td><td>1258126944</td><td>1.0</td><td>2009-11-13 15:42:24</td><td>5</td></tr><tr><td>138493</td><td>71619</td><td>2.5</td><td>1255811136</td><td>0.5</td><td>2009-10-17 20:25:36</td><td>6</td></tr></tbody></table></div>"
      ],
      "text/plain": [
       "shape: (20_000_263, 7)\n",
       "┌─────────┬─────────┬────────┬────────────┬───────────────────┬─────────────────────┬─────────┐\n",
       "│ user_id ┆ item_id ┆ rating ┆ timestamp  ┆ rating_normalized ┆ datetime            ┆ weekday │\n",
       "│ ---     ┆ ---     ┆ ---    ┆ ---        ┆ ---               ┆ ---                 ┆ ---     │\n",
       "│ i32     ┆ i32     ┆ f32    ┆ i64        ┆ f64               ┆ datetime[μs]        ┆ u32     │\n",
       "╞═════════╪═════════╪════════╪════════════╪═══════════════════╪═════════════════════╪═════════╡\n",
       "│ 1       ┆ 2       ┆ 3.5    ┆ 1112486027 ┆ 0.7               ┆ 2005-04-02 23:53:47 ┆ 6       │\n",
       "│ 1       ┆ 29      ┆ 3.5    ┆ 1112484676 ┆ 0.7               ┆ 2005-04-02 23:31:16 ┆ 6       │\n",
       "│ 1       ┆ 32      ┆ 3.5    ┆ 1112484819 ┆ 0.7               ┆ 2005-04-02 23:33:39 ┆ 6       │\n",
       "│ 1       ┆ 47      ┆ 3.5    ┆ 1112484727 ┆ 0.7               ┆ 2005-04-02 23:32:07 ┆ 6       │\n",
       "│ …       ┆ …       ┆ …      ┆ …          ┆ …                 ┆ …                   ┆ …       │\n",
       "│ 138493  ┆ 69526   ┆ 4.5    ┆ 1259865108 ┆ 0.9               ┆ 2009-12-03 18:31:48 ┆ 4       │\n",
       "│ 138493  ┆ 69644   ┆ 3.0    ┆ 1260209457 ┆ 0.6               ┆ 2009-12-07 18:10:57 ┆ 1       │\n",
       "│ 138493  ┆ 70286   ┆ 5.0    ┆ 1258126944 ┆ 1.0               ┆ 2009-11-13 15:42:24 ┆ 5       │\n",
       "│ 138493  ┆ 71619   ┆ 2.5    ┆ 1255811136 ┆ 0.5               ┆ 2009-10-17 20:25:36 ┆ 6       │\n",
       "└─────────┴─────────┴────────┴────────────┴───────────────────┴─────────────────────┴─────────┘"
      ]
     },
     "execution_count": 58,
     "metadata": {},
     "output_type": "execute_result"
    }
   ],
   "source": [
    "interactions_pl"
   ]
  },
  {
   "cell_type": "code",
   "execution_count": 59,
   "metadata": {},
   "outputs": [
    {
     "data": {
      "text/html": [
       "<div><style>\n",
       ".dataframe > thead > tr > th,\n",
       ".dataframe > tbody > tr > td {\n",
       "  text-align: right;\n",
       "  white-space: pre-wrap;\n",
       "}\n",
       "</style>\n",
       "<small>shape: (20_000_263, 8)</small><table border=\"1\" class=\"dataframe\"><thead><tr><th>user_id</th><th>item_id</th><th>rating</th><th>timestamp</th><th>rating_normalized</th><th>datetime</th><th>weekday</th><th>normalized_rating_by_user</th></tr><tr><td>i32</td><td>i32</td><td>f32</td><td>i64</td><td>f64</td><td>datetime[μs]</td><td>u32</td><td>f32</td></tr></thead><tbody><tr><td>1</td><td>2</td><td>3.5</td><td>1112486027</td><td>0.7</td><td>2005-04-02 23:53:47</td><td>6</td><td>0.935115</td></tr><tr><td>1</td><td>29</td><td>3.5</td><td>1112484676</td><td>0.7</td><td>2005-04-02 23:31:16</td><td>6</td><td>0.935115</td></tr><tr><td>1</td><td>32</td><td>3.5</td><td>1112484819</td><td>0.7</td><td>2005-04-02 23:33:39</td><td>6</td><td>0.935115</td></tr><tr><td>1</td><td>47</td><td>3.5</td><td>1112484727</td><td>0.7</td><td>2005-04-02 23:32:07</td><td>6</td><td>0.935115</td></tr><tr><td>1</td><td>50</td><td>3.5</td><td>1112484580</td><td>0.7</td><td>2005-04-02 23:29:40</td><td>6</td><td>0.935115</td></tr><tr><td>1</td><td>112</td><td>3.5</td><td>1094785740</td><td>0.7</td><td>2004-09-10 03:09:00</td><td>5</td><td>0.935115</td></tr><tr><td>1</td><td>151</td><td>4.0</td><td>1094785734</td><td>0.8</td><td>2004-09-10 03:08:54</td><td>5</td><td>1.068702</td></tr><tr><td>1</td><td>223</td><td>4.0</td><td>1112485573</td><td>0.8</td><td>2005-04-02 23:46:13</td><td>6</td><td>1.068702</td></tr><tr><td>1</td><td>253</td><td>4.0</td><td>1112484940</td><td>0.8</td><td>2005-04-02 23:35:40</td><td>6</td><td>1.068702</td></tr><tr><td>1</td><td>260</td><td>4.0</td><td>1112484826</td><td>0.8</td><td>2005-04-02 23:33:46</td><td>6</td><td>1.068702</td></tr><tr><td>1</td><td>293</td><td>4.0</td><td>1112484703</td><td>0.8</td><td>2005-04-02 23:31:43</td><td>6</td><td>1.068702</td></tr><tr><td>1</td><td>296</td><td>4.0</td><td>1112484767</td><td>0.8</td><td>2005-04-02 23:32:47</td><td>6</td><td>1.068702</td></tr><tr><td>&hellip;</td><td>&hellip;</td><td>&hellip;</td><td>&hellip;</td><td>&hellip;</td><td>&hellip;</td><td>&hellip;</td><td>&hellip;</td></tr><tr><td>138493</td><td>59784</td><td>5.0</td><td>1255816901</td><td>1.0</td><td>2009-10-17 22:01:41</td><td>6</td><td>1.198201</td></tr><tr><td>138493</td><td>60069</td><td>4.0</td><td>1258134687</td><td>0.8</td><td>2009-11-13 17:51:27</td><td>5</td><td>0.958561</td></tr><tr><td>138493</td><td>60816</td><td>4.5</td><td>1259865163</td><td>0.9</td><td>2009-12-03 18:32:43</td><td>4</td><td>1.078381</td></tr><tr><td>138493</td><td>61160</td><td>4.0</td><td>1258390537</td><td>0.8</td><td>2009-11-16 16:55:37</td><td>1</td><td>0.958561</td></tr><tr><td>138493</td><td>65682</td><td>4.5</td><td>1255816373</td><td>0.9</td><td>2009-10-17 21:52:53</td><td>6</td><td>1.078381</td></tr><tr><td>138493</td><td>66762</td><td>4.5</td><td>1255805408</td><td>0.9</td><td>2009-10-17 18:50:08</td><td>6</td><td>1.078381</td></tr><tr><td>138493</td><td>68319</td><td>4.5</td><td>1260209720</td><td>0.9</td><td>2009-12-07 18:15:20</td><td>1</td><td>1.078381</td></tr><tr><td>138493</td><td>68954</td><td>4.5</td><td>1258126920</td><td>0.9</td><td>2009-11-13 15:42:00</td><td>5</td><td>1.078381</td></tr><tr><td>138493</td><td>69526</td><td>4.5</td><td>1259865108</td><td>0.9</td><td>2009-12-03 18:31:48</td><td>4</td><td>1.078381</td></tr><tr><td>138493</td><td>69644</td><td>3.0</td><td>1260209457</td><td>0.6</td><td>2009-12-07 18:10:57</td><td>1</td><td>0.718921</td></tr><tr><td>138493</td><td>70286</td><td>5.0</td><td>1258126944</td><td>1.0</td><td>2009-11-13 15:42:24</td><td>5</td><td>1.198201</td></tr><tr><td>138493</td><td>71619</td><td>2.5</td><td>1255811136</td><td>0.5</td><td>2009-10-17 20:25:36</td><td>6</td><td>0.599101</td></tr></tbody></table></div>"
      ],
      "text/plain": [
       "shape: (20_000_263, 8)\n",
       "┌─────────┬─────────┬────────┬────────────┬───────────────┬───────────────┬─────────┬──────────────┐\n",
       "│ user_id ┆ item_id ┆ rating ┆ timestamp  ┆ rating_normal ┆ datetime      ┆ weekday ┆ normalized_r │\n",
       "│ ---     ┆ ---     ┆ ---    ┆ ---        ┆ ized          ┆ ---           ┆ ---     ┆ ating_by_use │\n",
       "│ i32     ┆ i32     ┆ f32    ┆ i64        ┆ ---           ┆ datetime[μs]  ┆ u32     ┆ r            │\n",
       "│         ┆         ┆        ┆            ┆ f64           ┆               ┆         ┆ ---          │\n",
       "│         ┆         ┆        ┆            ┆               ┆               ┆         ┆ f32          │\n",
       "╞═════════╪═════════╪════════╪════════════╪═══════════════╪═══════════════╪═════════╪══════════════╡\n",
       "│ 1       ┆ 2       ┆ 3.5    ┆ 1112486027 ┆ 0.7           ┆ 2005-04-02    ┆ 6       ┆ 0.935115     │\n",
       "│         ┆         ┆        ┆            ┆               ┆ 23:53:47      ┆         ┆              │\n",
       "│ 1       ┆ 29      ┆ 3.5    ┆ 1112484676 ┆ 0.7           ┆ 2005-04-02    ┆ 6       ┆ 0.935115     │\n",
       "│         ┆         ┆        ┆            ┆               ┆ 23:31:16      ┆         ┆              │\n",
       "│ 1       ┆ 32      ┆ 3.5    ┆ 1112484819 ┆ 0.7           ┆ 2005-04-02    ┆ 6       ┆ 0.935115     │\n",
       "│         ┆         ┆        ┆            ┆               ┆ 23:33:39      ┆         ┆              │\n",
       "│ 1       ┆ 47      ┆ 3.5    ┆ 1112484727 ┆ 0.7           ┆ 2005-04-02    ┆ 6       ┆ 0.935115     │\n",
       "│         ┆         ┆        ┆            ┆               ┆ 23:32:07      ┆         ┆              │\n",
       "│ …       ┆ …       ┆ …      ┆ …          ┆ …             ┆ …             ┆ …       ┆ …            │\n",
       "│ 138493  ┆ 69526   ┆ 4.5    ┆ 1259865108 ┆ 0.9           ┆ 2009-12-03    ┆ 4       ┆ 1.078381     │\n",
       "│         ┆         ┆        ┆            ┆               ┆ 18:31:48      ┆         ┆              │\n",
       "│ 138493  ┆ 69644   ┆ 3.0    ┆ 1260209457 ┆ 0.6           ┆ 2009-12-07    ┆ 1       ┆ 0.718921     │\n",
       "│         ┆         ┆        ┆            ┆               ┆ 18:10:57      ┆         ┆              │\n",
       "│ 138493  ┆ 70286   ┆ 5.0    ┆ 1258126944 ┆ 1.0           ┆ 2009-11-13    ┆ 5       ┆ 1.198201     │\n",
       "│         ┆         ┆        ┆            ┆               ┆ 15:42:24      ┆         ┆              │\n",
       "│ 138493  ┆ 71619   ┆ 2.5    ┆ 1255811136 ┆ 0.5           ┆ 2009-10-17    ┆ 6       ┆ 0.599101     │\n",
       "│         ┆         ┆        ┆            ┆               ┆ 20:25:36      ┆         ┆              │\n",
       "└─────────┴─────────┴────────┴────────────┴───────────────┴───────────────┴─────────┴──────────────┘"
      ]
     },
     "execution_count": 59,
     "metadata": {},
     "output_type": "execute_result"
    }
   ],
   "source": [
    "# нормальзованный по пользователям рейтинг\n",
    "interactions_pl.with_columns(\n",
    "    (pl.col('rating') / pl.col('rating').mean().over('user_id')).alias('normalized_rating_by_user')\n",
    ")"
   ]
  },
  {
   "cell_type": "code",
   "execution_count": 61,
   "metadata": {},
   "outputs": [
    {
     "data": {
      "text/html": [
       "<div><style>\n",
       ".dataframe > thead > tr > th,\n",
       ".dataframe > tbody > tr > td {\n",
       "  text-align: right;\n",
       "  white-space: pre-wrap;\n",
       "}\n",
       "</style>\n",
       "<small>shape: (20_000_263, 7)</small><table border=\"1\" class=\"dataframe\"><thead><tr><th>user_id</th><th>item_id</th><th>rating</th><th>timestamp</th><th>rating_normalized</th><th>datetime</th><th>weekday</th></tr><tr><td>i32</td><td>i32</td><td>f32</td><td>i64</td><td>f64</td><td>datetime[μs]</td><td>u32</td></tr></thead><tbody><tr><td>1</td><td>2</td><td>3.5</td><td>1112486027</td><td>0.7</td><td>2005-04-02 23:53:47</td><td>6</td></tr><tr><td>1</td><td>29</td><td>3.5</td><td>1112484676</td><td>0.7</td><td>2005-04-02 23:31:16</td><td>6</td></tr><tr><td>1</td><td>32</td><td>3.5</td><td>1112484819</td><td>0.7</td><td>2005-04-02 23:33:39</td><td>6</td></tr><tr><td>1</td><td>47</td><td>3.5</td><td>1112484727</td><td>0.7</td><td>2005-04-02 23:32:07</td><td>6</td></tr><tr><td>1</td><td>50</td><td>3.5</td><td>1112484580</td><td>0.7</td><td>2005-04-02 23:29:40</td><td>6</td></tr><tr><td>1</td><td>112</td><td>3.5</td><td>1094785740</td><td>0.7</td><td>2004-09-10 03:09:00</td><td>5</td></tr><tr><td>1</td><td>151</td><td>4.0</td><td>1094785734</td><td>0.8</td><td>2004-09-10 03:08:54</td><td>5</td></tr><tr><td>1</td><td>223</td><td>4.0</td><td>1112485573</td><td>0.8</td><td>2005-04-02 23:46:13</td><td>6</td></tr><tr><td>1</td><td>253</td><td>4.0</td><td>1112484940</td><td>0.8</td><td>2005-04-02 23:35:40</td><td>6</td></tr><tr><td>1</td><td>260</td><td>4.0</td><td>1112484826</td><td>0.8</td><td>2005-04-02 23:33:46</td><td>6</td></tr><tr><td>1</td><td>293</td><td>4.0</td><td>1112484703</td><td>0.8</td><td>2005-04-02 23:31:43</td><td>6</td></tr><tr><td>1</td><td>296</td><td>4.0</td><td>1112484767</td><td>0.8</td><td>2005-04-02 23:32:47</td><td>6</td></tr><tr><td>&hellip;</td><td>&hellip;</td><td>&hellip;</td><td>&hellip;</td><td>&hellip;</td><td>&hellip;</td><td>&hellip;</td></tr><tr><td>138493</td><td>59784</td><td>5.0</td><td>1255816901</td><td>1.0</td><td>2009-10-17 22:01:41</td><td>6</td></tr><tr><td>138493</td><td>60069</td><td>4.0</td><td>1258134687</td><td>0.8</td><td>2009-11-13 17:51:27</td><td>5</td></tr><tr><td>138493</td><td>60816</td><td>4.5</td><td>1259865163</td><td>0.9</td><td>2009-12-03 18:32:43</td><td>4</td></tr><tr><td>138493</td><td>61160</td><td>4.0</td><td>1258390537</td><td>0.8</td><td>2009-11-16 16:55:37</td><td>1</td></tr><tr><td>138493</td><td>65682</td><td>4.5</td><td>1255816373</td><td>0.9</td><td>2009-10-17 21:52:53</td><td>6</td></tr><tr><td>138493</td><td>66762</td><td>4.5</td><td>1255805408</td><td>0.9</td><td>2009-10-17 18:50:08</td><td>6</td></tr><tr><td>138493</td><td>68319</td><td>4.5</td><td>1260209720</td><td>0.9</td><td>2009-12-07 18:15:20</td><td>1</td></tr><tr><td>138493</td><td>68954</td><td>4.5</td><td>1258126920</td><td>0.9</td><td>2009-11-13 15:42:00</td><td>5</td></tr><tr><td>138493</td><td>69526</td><td>4.5</td><td>1259865108</td><td>0.9</td><td>2009-12-03 18:31:48</td><td>4</td></tr><tr><td>138493</td><td>69644</td><td>3.0</td><td>1260209457</td><td>0.6</td><td>2009-12-07 18:10:57</td><td>1</td></tr><tr><td>138493</td><td>70286</td><td>5.0</td><td>1258126944</td><td>1.0</td><td>2009-11-13 15:42:24</td><td>5</td></tr><tr><td>138493</td><td>71619</td><td>2.5</td><td>1255811136</td><td>0.5</td><td>2009-10-17 20:25:36</td><td>6</td></tr></tbody></table></div>"
      ],
      "text/plain": [
       "shape: (20_000_263, 7)\n",
       "┌─────────┬─────────┬────────┬────────────┬───────────────────┬─────────────────────┬─────────┐\n",
       "│ user_id ┆ item_id ┆ rating ┆ timestamp  ┆ rating_normalized ┆ datetime            ┆ weekday │\n",
       "│ ---     ┆ ---     ┆ ---    ┆ ---        ┆ ---               ┆ ---                 ┆ ---     │\n",
       "│ i32     ┆ i32     ┆ f32    ┆ i64        ┆ f64               ┆ datetime[μs]        ┆ u32     │\n",
       "╞═════════╪═════════╪════════╪════════════╪═══════════════════╪═════════════════════╪═════════╡\n",
       "│ 1       ┆ 2       ┆ 3.5    ┆ 1112486027 ┆ 0.7               ┆ 2005-04-02 23:53:47 ┆ 6       │\n",
       "│ 1       ┆ 29      ┆ 3.5    ┆ 1112484676 ┆ 0.7               ┆ 2005-04-02 23:31:16 ┆ 6       │\n",
       "│ 1       ┆ 32      ┆ 3.5    ┆ 1112484819 ┆ 0.7               ┆ 2005-04-02 23:33:39 ┆ 6       │\n",
       "│ 1       ┆ 47      ┆ 3.5    ┆ 1112484727 ┆ 0.7               ┆ 2005-04-02 23:32:07 ┆ 6       │\n",
       "│ …       ┆ …       ┆ …      ┆ …          ┆ …                 ┆ …                   ┆ …       │\n",
       "│ 138493  ┆ 69526   ┆ 4.5    ┆ 1259865108 ┆ 0.9               ┆ 2009-12-03 18:31:48 ┆ 4       │\n",
       "│ 138493  ┆ 69644   ┆ 3.0    ┆ 1260209457 ┆ 0.6               ┆ 2009-12-07 18:10:57 ┆ 1       │\n",
       "│ 138493  ┆ 70286   ┆ 5.0    ┆ 1258126944 ┆ 1.0               ┆ 2009-11-13 15:42:24 ┆ 5       │\n",
       "│ 138493  ┆ 71619   ┆ 2.5    ┆ 1255811136 ┆ 0.5               ┆ 2009-10-17 20:25:36 ┆ 6       │\n",
       "└─────────┴─────────┴────────┴────────────┴───────────────────┴─────────────────────┴─────────┘"
      ]
     },
     "execution_count": 61,
     "metadata": {},
     "output_type": "execute_result"
    }
   ],
   "source": [
    "interactions_pl"
   ]
  },
  {
   "cell_type": "markdown",
   "metadata": {},
   "source": [
    "### Реальные примеры"
   ]
  },
  {
   "cell_type": "markdown",
   "metadata": {},
   "source": [
    "#### Обогащение информации о фильмах"
   ]
  },
  {
   "cell_type": "code",
   "execution_count": 62,
   "metadata": {},
   "outputs": [],
   "source": [
    "# средний рейтинг айтема\n",
    "item_avg_rating = interactions_pl.group_by('item_id').agg(pl.col('rating').mean().alias('avg_rating'))\n",
    "item_features_pl = item_features_pl.join(\n",
    "    item_avg_rating,\n",
    "    on='item_id'\n",
    ")\n",
    "\n",
    "# количество уникальных юзеров, проивзаимодействовавших с айтемом\n",
    "item_popularity = interactions_pl.group_by('item_id').agg(pl.col('user_id').unique().count().alias('popularity'))\n",
    "item_features_pl = item_features_pl.join(\n",
    "    item_popularity,\n",
    "    on='item_id'\n",
    ")"
   ]
  },
  {
   "cell_type": "code",
   "execution_count": 63,
   "metadata": {},
   "outputs": [
    {
     "data": {
      "text/html": [
       "<div><style>\n",
       ".dataframe > thead > tr > th,\n",
       ".dataframe > tbody > tr > td {\n",
       "  text-align: right;\n",
       "  white-space: pre-wrap;\n",
       "}\n",
       "</style>\n",
       "<small>shape: (26_744, 5)</small><table border=\"1\" class=\"dataframe\"><thead><tr><th>item_id</th><th>title</th><th>genres</th><th>avg_rating</th><th>popularity</th></tr><tr><td>i32</td><td>str</td><td>list[str]</td><td>f32</td><td>u32</td></tr></thead><tbody><tr><td>112064</td><td>&quot;Plot Against H…</td><td>[&quot;comedy&quot;]</td><td>2.5</td><td>1</td></tr><tr><td>92224</td><td>&quot;River Called T…</td><td>[&quot;drama&quot;]</td><td>3.25</td><td>2</td></tr><tr><td>52672</td><td>&quot;Confetti (2006…</td><td>[&quot;comedy&quot;]</td><td>2.916667</td><td>6</td></tr><tr><td>68480</td><td>&quot;Flatfoot on th…</td><td>[&quot;action&quot;, &quot;comedy&quot;, &quot;crime&quot;]</td><td>2.916667</td><td>6</td></tr><tr><td>123200</td><td>&quot;Jim Jefferies:…</td><td>[&quot;comedy&quot;]</td><td>3.5</td><td>1</td></tr><tr><td>27584</td><td>&quot;Dead End (2003…</td><td>[&quot;comedy&quot;, &quot;horror&quot;, … &quot;thriller&quot;]</td><td>3.243976</td><td>166</td></tr><tr><td>112448</td><td>&quot;Happy Birthday…</td><td>[&quot;documentary&quot;]</td><td>3.0</td><td>1</td></tr><tr><td>1280</td><td>&quot;Raise the Red …</td><td>[&quot;drama&quot;]</td><td>4.144328</td><td>3253</td></tr><tr><td>2880</td><td>&quot;Armour of God …</td><td>[&quot;action&quot;, &quot;adventure&quot;, &quot;comedy&quot;]</td><td>3.216129</td><td>465</td></tr><tr><td>73344</td><td>&quot;Prophet, A (Un…</td><td>[&quot;crime&quot;, &quot;drama&quot;]</td><td>3.952913</td><td>1030</td></tr><tr><td>108160</td><td>&quot;Breakaway (Spe…</td><td>[&quot;comedy&quot;, &quot;drama&quot;]</td><td>4.0</td><td>2</td></tr><tr><td>63808</td><td>&quot;Class, The (En…</td><td>[&quot;drama&quot;]</td><td>3.693452</td><td>336</td></tr><tr><td>&hellip;</td><td>&hellip;</td><td>&hellip;</td><td>&hellip;</td><td>&hellip;</td></tr><tr><td>96255</td><td>&quot;On Top of the …</td><td>[&quot;fantasy&quot;]</td><td>2.75</td><td>2</td></tr><tr><td>3327</td><td>&quot;Beyond the Mat…</td><td>[&quot;documentary&quot;]</td><td>3.565306</td><td>735</td></tr><tr><td>5119</td><td>&quot;Saturday Night…</td><td>[&quot;drama&quot;]</td><td>3.892105</td><td>190</td></tr><tr><td>121023</td><td>&quot;Viy (2014)&quot;</td><td>[&quot;adventure&quot;, &quot;fantasy&quot;, … &quot;thriller&quot;]</td><td>3.0</td><td>2</td></tr><tr><td>87103</td><td>&quot;Vieraalla maal…</td><td>[&quot;comedy&quot;, &quot;romance&quot;]</td><td>2.772727</td><td>11</td></tr><tr><td>112383</td><td>&quot;Russian Roulet…</td><td>[&quot;drama&quot;, &quot;thriller&quot;]</td><td>3.0</td><td>1</td></tr><tr><td>37375</td><td>&quot;Kitty Foyle (1…</td><td>[&quot;drama&quot;, &quot;romance&quot;]</td><td>3.411765</td><td>17</td></tr><tr><td>4479</td><td>&quot;Bird (1988)&quot;</td><td>[&quot;drama&quot;, &quot;musical&quot;]</td><td>3.612613</td><td>333</td></tr><tr><td>116415</td><td>&quot;Anatomy of a L…</td><td>[&quot;drama&quot;, &quot;romance&quot;]</td><td>2.5</td><td>2</td></tr><tr><td>67839</td><td>&quot;Lucky Ones, Th…</td><td>[&quot;comedy&quot;, &quot;drama&quot;, &quot;war&quot;]</td><td>3.420635</td><td>63</td></tr><tr><td>78335</td><td>&quot;Mermaid, The (…</td><td>[&quot;comedy&quot;, &quot;drama&quot;, &quot;fantasy&quot;]</td><td>3.394737</td><td>19</td></tr><tr><td>43391</td><td>&quot;Matti: Hell Is…</td><td>[&quot;comedy&quot;, &quot;drama&quot;]</td><td>2.523809</td><td>84</td></tr></tbody></table></div>"
      ],
      "text/plain": [
       "shape: (26_744, 5)\n",
       "┌─────────┬───────────────────────────┬──────────────────────────────────┬────────────┬────────────┐\n",
       "│ item_id ┆ title                     ┆ genres                           ┆ avg_rating ┆ popularity │\n",
       "│ ---     ┆ ---                       ┆ ---                              ┆ ---        ┆ ---        │\n",
       "│ i32     ┆ str                       ┆ list[str]                        ┆ f32        ┆ u32        │\n",
       "╞═════════╪═══════════════════════════╪══════════════════════════════════╪════════════╪════════════╡\n",
       "│ 112064  ┆ Plot Against Harry, The   ┆ [\"comedy\"]                       ┆ 2.5        ┆ 1          │\n",
       "│         ┆ (1989)                    ┆                                  ┆            ┆            │\n",
       "│ 92224   ┆ River Called Titas, A     ┆ [\"drama\"]                        ┆ 3.25       ┆ 2          │\n",
       "│         ┆ (Titash Ek…               ┆                                  ┆            ┆            │\n",
       "│ 52672   ┆ Confetti (2006)           ┆ [\"comedy\"]                       ┆ 2.916667   ┆ 6          │\n",
       "│ 68480   ┆ Flatfoot on the Nile      ┆ [\"action\", \"comedy\", \"crime\"]    ┆ 2.916667   ┆ 6          │\n",
       "│         ┆ (Piedone d'…              ┆                                  ┆            ┆            │\n",
       "│ …       ┆ …                         ┆ …                                ┆ …          ┆ …          │\n",
       "│ 116415  ┆ Anatomy of a Love Seen    ┆ [\"drama\", \"romance\"]             ┆ 2.5        ┆ 2          │\n",
       "│         ┆ (2014)                    ┆                                  ┆            ┆            │\n",
       "│ 67839   ┆ Lucky Ones, The (2008)    ┆ [\"comedy\", \"drama\", \"war\"]       ┆ 3.420635   ┆ 63         │\n",
       "│ 78335   ┆ Mermaid, The (Rusalka)    ┆ [\"comedy\", \"drama\", \"fantasy\"]   ┆ 3.394737   ┆ 19         │\n",
       "│         ┆ (2007)                    ┆                                  ┆            ┆            │\n",
       "│ 43391   ┆ Matti: Hell Is for Heroes ┆ [\"comedy\", \"drama\"]              ┆ 2.523809   ┆ 84         │\n",
       "│         ┆ (Matti…                   ┆                                  ┆            ┆            │\n",
       "└─────────┴───────────────────────────┴──────────────────────────────────┴────────────┴────────────┘"
      ]
     },
     "execution_count": 63,
     "metadata": {},
     "output_type": "execute_result"
    }
   ],
   "source": [
    "item_features_pl"
   ]
  },
  {
   "cell_type": "markdown",
   "metadata": {},
   "source": [
    "#### Обогащение информации о пользователях"
   ]
  },
  {
   "cell_type": "code",
   "execution_count": 64,
   "metadata": {},
   "outputs": [],
   "source": [
    "# создаем user_features из interactions\n",
    "user_features = interactions_pl.select('user_id').unique()"
   ]
  },
  {
   "cell_type": "code",
   "execution_count": 65,
   "metadata": {},
   "outputs": [
    {
     "data": {
      "text/html": [
       "<div><style>\n",
       ".dataframe > thead > tr > th,\n",
       ".dataframe > tbody > tr > td {\n",
       "  text-align: right;\n",
       "  white-space: pre-wrap;\n",
       "}\n",
       "</style>\n",
       "<small>shape: (138_493, 1)</small><table border=\"1\" class=\"dataframe\"><thead><tr><th>user_id</th></tr><tr><td>i32</td></tr></thead><tbody><tr><td>34688</td></tr><tr><td>115136</td></tr><tr><td>87040</td></tr><tr><td>132288</td></tr><tr><td>74048</td></tr><tr><td>136256</td></tr><tr><td>63424</td></tr><tr><td>79104</td></tr><tr><td>21440</td></tr><tr><td>30464</td></tr><tr><td>8704</td></tr><tr><td>44608</td></tr><tr><td>&hellip;</td></tr><tr><td>52863</td></tr><tr><td>108543</td></tr><tr><td>703</td></tr><tr><td>5055</td></tr><tr><td>97791</td></tr><tr><td>74495</td></tr><tr><td>32063</td></tr><tr><td>32255</td></tr><tr><td>67775</td></tr><tr><td>55231</td></tr><tr><td>42367</td></tr><tr><td>43135</td></tr></tbody></table></div>"
      ],
      "text/plain": [
       "shape: (138_493, 1)\n",
       "┌─────────┐\n",
       "│ user_id │\n",
       "│ ---     │\n",
       "│ i32     │\n",
       "╞═════════╡\n",
       "│ 34688   │\n",
       "│ 115136  │\n",
       "│ 87040   │\n",
       "│ 132288  │\n",
       "│ …       │\n",
       "│ 67775   │\n",
       "│ 55231   │\n",
       "│ 42367   │\n",
       "│ 43135   │\n",
       "└─────────┘"
      ]
     },
     "execution_count": 65,
     "metadata": {},
     "output_type": "execute_result"
    }
   ],
   "source": [
    "user_features"
   ]
  },
  {
   "cell_type": "code",
   "execution_count": 66,
   "metadata": {},
   "outputs": [],
   "source": [
    "## средний рейтинг пользователя\n",
    "avg_rating = interactions_pl.group_by('user_id').agg(pl.col('rating').mean().alias('avg_rating'))\n",
    "user_features = user_features.join(\n",
    "    avg_rating,\n",
    "    on='user_id',\n",
    "    how='inner'\n",
    ")\n",
    "\n",
    "#количество просмотренных фильмов\n",
    "count_seen_items = interactions_pl.group_by('user_id').agg(pl.col('item_id').count().alias('count_seen_items'))\n",
    "user_features = user_features.join(\n",
    "    count_seen_items,\n",
    "    on='user_id',\n",
    "    how='inner'\n",
    ")\n",
    "\n",
    "#количество интеракций за последний год\n",
    "users_by_last_year = interactions_pl.filter(pl.col('datetime').dt.year() == pl.col('datetime').dt.year().max())\n",
    "\n",
    "user_features = user_features.join(\n",
    "    users_by_last_year.group_by('user_id').agg(pl.col('item_id').count().alias('seen_last_year')),\n",
    "    on = 'user_id',\n",
    "    how = 'left'\n",
    ")\n",
    "\n",
    "user_features = user_features.with_columns(pl.col('seen_last_year').fill_null(0))"
   ]
  },
  {
   "cell_type": "code",
   "execution_count": 67,
   "metadata": {},
   "outputs": [
    {
     "data": {
      "text/html": [
       "<div><style>\n",
       ".dataframe > thead > tr > th,\n",
       ".dataframe > tbody > tr > td {\n",
       "  text-align: right;\n",
       "  white-space: pre-wrap;\n",
       "}\n",
       "</style>\n",
       "<small>shape: (138_493, 4)</small><table border=\"1\" class=\"dataframe\"><thead><tr><th>user_id</th><th>avg_rating</th><th>count_seen_items</th><th>seen_last_year</th></tr><tr><td>i32</td><td>f32</td><td>u32</td><td>u32</td></tr></thead><tbody><tr><td>135296</td><td>3.543689</td><td>103</td><td>0</td></tr><tr><td>70208</td><td>3.636364</td><td>22</td><td>0</td></tr><tr><td>43200</td><td>3.783784</td><td>37</td><td>0</td></tr><tr><td>576</td><td>3.791209</td><td>91</td><td>0</td></tr><tr><td>78080</td><td>3.972789</td><td>147</td><td>0</td></tr><tr><td>59136</td><td>4.068965</td><td>58</td><td>0</td></tr><tr><td>112256</td><td>3.890625</td><td>64</td><td>0</td></tr><tr><td>10304</td><td>3.964286</td><td>28</td><td>0</td></tr><tr><td>10624</td><td>3.490215</td><td>511</td><td>0</td></tr><tr><td>47424</td><td>3.575</td><td>20</td><td>0</td></tr><tr><td>134784</td><td>3.28</td><td>150</td><td>0</td></tr><tr><td>130176</td><td>3.6</td><td>45</td><td>0</td></tr><tr><td>&hellip;</td><td>&hellip;</td><td>&hellip;</td><td>&hellip;</td></tr><tr><td>20799</td><td>4.173077</td><td>26</td><td>0</td></tr><tr><td>88639</td><td>3.524194</td><td>124</td><td>0</td></tr><tr><td>123967</td><td>3.863636</td><td>66</td><td>0</td></tr><tr><td>95999</td><td>3.943396</td><td>53</td><td>0</td></tr><tr><td>98751</td><td>3.835227</td><td>88</td><td>0</td></tr><tr><td>27199</td><td>3.61324</td><td>287</td><td>0</td></tr><tr><td>115007</td><td>4.184564</td><td>298</td><td>0</td></tr><tr><td>65023</td><td>3.909091</td><td>22</td><td>0</td></tr><tr><td>5247</td><td>3.713115</td><td>122</td><td>0</td></tr><tr><td>17343</td><td>3.913793</td><td>29</td><td>0</td></tr><tr><td>46399</td><td>4.238095</td><td>42</td><td>0</td></tr><tr><td>59135</td><td>3.71875</td><td>32</td><td>0</td></tr></tbody></table></div>"
      ],
      "text/plain": [
       "shape: (138_493, 4)\n",
       "┌─────────┬────────────┬──────────────────┬────────────────┐\n",
       "│ user_id ┆ avg_rating ┆ count_seen_items ┆ seen_last_year │\n",
       "│ ---     ┆ ---        ┆ ---              ┆ ---            │\n",
       "│ i32     ┆ f32        ┆ u32              ┆ u32            │\n",
       "╞═════════╪════════════╪══════════════════╪════════════════╡\n",
       "│ 135296  ┆ 3.543689   ┆ 103              ┆ 0              │\n",
       "│ 70208   ┆ 3.636364   ┆ 22               ┆ 0              │\n",
       "│ 43200   ┆ 3.783784   ┆ 37               ┆ 0              │\n",
       "│ 576     ┆ 3.791209   ┆ 91               ┆ 0              │\n",
       "│ …       ┆ …          ┆ …                ┆ …              │\n",
       "│ 5247    ┆ 3.713115   ┆ 122              ┆ 0              │\n",
       "│ 17343   ┆ 3.913793   ┆ 29               ┆ 0              │\n",
       "│ 46399   ┆ 4.238095   ┆ 42               ┆ 0              │\n",
       "│ 59135   ┆ 3.71875    ┆ 32               ┆ 0              │\n",
       "└─────────┴────────────┴──────────────────┴────────────────┘"
      ]
     },
     "execution_count": 67,
     "metadata": {},
     "output_type": "execute_result"
    }
   ],
   "source": [
    "user_features"
   ]
  },
  {
   "cell_type": "markdown",
   "metadata": {},
   "source": [
    "##### Топ любителей детских фильмов"
   ]
  },
  {
   "cell_type": "code",
   "execution_count": 68,
   "metadata": {},
   "outputs": [
    {
     "data": {
      "text/html": [
       "<div><style>\n",
       ".dataframe > thead > tr > th,\n",
       ".dataframe > tbody > tr > td {\n",
       "  text-align: right;\n",
       "  white-space: pre-wrap;\n",
       "}\n",
       "</style>\n",
       "<small>shape: (50, 2)</small><table border=\"1\" class=\"dataframe\"><thead><tr><th>user_id</th><th>count</th></tr><tr><td>i32</td><td>u32</td></tr></thead><tbody><tr><td>131894</td><td>570</td></tr><tr><td>74142</td><td>477</td></tr><tr><td>8405</td><td>436</td></tr><tr><td>118205</td><td>419</td></tr><tr><td>54465</td><td>406</td></tr><tr><td>46470</td><td>361</td></tr><tr><td>71975</td><td>336</td></tr><tr><td>116317</td><td>329</td></tr><tr><td>83090</td><td>327</td></tr><tr><td>75810</td><td>326</td></tr><tr><td>128258</td><td>320</td></tr><tr><td>59477</td><td>310</td></tr><tr><td>&hellip;</td><td>&hellip;</td></tr><tr><td>7699</td><td>251</td></tr><tr><td>41267</td><td>251</td></tr><tr><td>111822</td><td>250</td></tr><tr><td>131275</td><td>249</td></tr><tr><td>41877</td><td>249</td></tr><tr><td>70201</td><td>248</td></tr><tr><td>123352</td><td>248</td></tr><tr><td>52260</td><td>248</td></tr><tr><td>25237</td><td>247</td></tr><tr><td>42929</td><td>247</td></tr><tr><td>2484</td><td>246</td></tr><tr><td>24661</td><td>246</td></tr></tbody></table></div>"
      ],
      "text/plain": [
       "shape: (50, 2)\n",
       "┌─────────┬───────┐\n",
       "│ user_id ┆ count │\n",
       "│ ---     ┆ ---   │\n",
       "│ i32     ┆ u32   │\n",
       "╞═════════╪═══════╡\n",
       "│ 131894  ┆ 570   │\n",
       "│ 74142   ┆ 477   │\n",
       "│ 8405    ┆ 436   │\n",
       "│ 118205  ┆ 419   │\n",
       "│ …       ┆ …     │\n",
       "│ 25237   ┆ 247   │\n",
       "│ 42929   ┆ 247   │\n",
       "│ 2484    ┆ 246   │\n",
       "│ 24661   ┆ 246   │\n",
       "└─────────┴───────┘"
      ]
     },
     "execution_count": 68,
     "metadata": {},
     "output_type": "execute_result"
    }
   ],
   "source": [
    "children_films = item_features_pl.filter(pl.col('genres').list.contains('children'))\n",
    "interactions_pl_with_child = interactions_pl.join(children_films, on='item_id', how='inner')\n",
    "interactions_pl_with_child.group_by('user_id').count().top_k(50, by='count')"
   ]
  },
  {
   "cell_type": "code",
   "execution_count": 72,
   "metadata": {},
   "outputs": [
    {
     "data": {
      "text/html": [
       "<div><style>\n",
       ".dataframe > thead > tr > th,\n",
       ".dataframe > tbody > tr > td {\n",
       "  text-align: right;\n",
       "  white-space: pre-wrap;\n",
       "}\n",
       "</style>\n",
       "<small>shape: (1_118, 5)</small><table border=\"1\" class=\"dataframe\"><thead><tr><th>item_id</th><th>title</th><th>genres</th><th>avg_rating</th><th>popularity</th></tr><tr><td>i32</td><td>str</td><td>list[str]</td><td>f32</td><td>u32</td></tr></thead><tbody><tr><td>2048</td><td>&quot;Great Mouse De…</td><td>[&quot;action&quot;, &quot;animation&quot;, … &quot;crime&quot;]</td><td>3.441779</td><td>1563</td></tr><tr><td>6464</td><td>&quot;Good Burger (1…</td><td>[&quot;children&quot;, &quot;comedy&quot;]</td><td>2.269663</td><td>445</td></tr><tr><td>121792</td><td>&quot;Snow Queen (20…</td><td>[&quot;adventure&quot;, &quot;children&quot;, &quot;fantasy&quot;]</td><td>2.5</td><td>2</td></tr><tr><td>5504</td><td>&quot;Spy Kids 2: Th…</td><td>[&quot;adventure&quot;, &quot;children&quot;]</td><td>2.504318</td><td>1158</td></tr><tr><td>106240</td><td>&quot;Free Birds (20…</td><td>[&quot;action&quot;, &quot;adventure&quot;, … &quot;sci-fi&quot;]</td><td>2.5</td><td>35</td></tr><tr><td>1024</td><td>&quot;Three Caballer…</td><td>[&quot;animation&quot;, &quot;children&quot;, &quot;musical&quot;]</td><td>3.183871</td><td>1085</td></tr><tr><td>34624</td><td>&quot;Summer Magic (…</td><td>[&quot;children&quot;, &quot;comedy&quot;, &quot;musical&quot;]</td><td>3.410714</td><td>28</td></tr><tr><td>66304</td><td>&quot;Hotel for Dogs…</td><td>[&quot;adventure&quot;, &quot;children&quot;, &quot;comedy&quot;]</td><td>2.797297</td><td>111</td></tr><tr><td>96960</td><td>&quot;Tobor the Grea…</td><td>[&quot;children&quot;, &quot;sci-fi&quot;]</td><td>1.5</td><td>1</td></tr><tr><td>3776</td><td>&quot;Melody Time (1…</td><td>[&quot;animation&quot;, &quot;children&quot;, &quot;musical&quot;]</td><td>3.222656</td><td>128</td></tr><tr><td>104000</td><td>&quot;And You Though…</td><td>[&quot;children&quot;, &quot;comedy&quot;, &quot;sci-fi&quot;]</td><td>1.5</td><td>1</td></tr><tr><td>125952</td><td>&quot;I Want a Dog f…</td><td>[&quot;animation&quot;, &quot;children&quot;, &quot;comedy&quot;]</td><td>2.5</td><td>1</td></tr><tr><td>&hellip;</td><td>&hellip;</td><td>&hellip;</td><td>&hellip;</td><td>&hellip;</td></tr><tr><td>1919</td><td>&quot;Madeline (1998…</td><td>[&quot;children&quot;, &quot;comedy&quot;]</td><td>3.127304</td><td>868</td></tr><tr><td>7743</td><td>&quot;Explorers (198…</td><td>[&quot;adventure&quot;, &quot;children&quot;, &quot;sci-fi&quot;]</td><td>3.455157</td><td>446</td></tr><tr><td>2559</td><td>&quot;King and I, Th…</td><td>[&quot;animation&quot;, &quot;children&quot;]</td><td>2.587912</td><td>364</td></tr><tr><td>575</td><td>&quot;Little Rascals…</td><td>[&quot;children&quot;, &quot;comedy&quot;]</td><td>2.993929</td><td>2553</td></tr><tr><td>52287</td><td>&quot;Meet the Robin…</td><td>[&quot;action&quot;, &quot;adventure&quot;, … &quot;sci-fi&quot;]</td><td>3.473684</td><td>817</td></tr><tr><td>2687</td><td>&quot;Tarzan (1999)&quot;</td><td>[&quot;adventure&quot;, &quot;animation&quot;, … &quot;drama&quot;]</td><td>3.463843</td><td>5158</td></tr><tr><td>55999</td><td>&quot;Mr. Magorium&#x27;s…</td><td>[&quot;children&quot;, &quot;comedy&quot;, &quot;fantasy&quot;]</td><td>3.273305</td><td>472</td></tr><tr><td>48895</td><td>&quot;Little Secrets…</td><td>[&quot;children&quot;, &quot;comedy&quot;, &quot;drama&quot;]</td><td>2.735294</td><td>17</td></tr><tr><td>1023</td><td>&quot;Winnie the Poo…</td><td>[&quot;animation&quot;, &quot;children&quot;, &quot;musical&quot;]</td><td>3.759586</td><td>3234</td></tr><tr><td>5311</td><td>&quot;Watcher in the…</td><td>[&quot;children&quot;, &quot;horror&quot;, … &quot;thriller&quot;]</td><td>3.232558</td><td>215</td></tr><tr><td>95167</td><td>&quot;Brave (2012)&quot;</td><td>[&quot;action&quot;, &quot;adventure&quot;, … &quot;children&quot;]</td><td>3.586601</td><td>1224</td></tr><tr><td>110655</td><td>&quot;Rio 2 (2014)&quot;</td><td>[&quot;adventure&quot;, &quot;animation&quot;, … &quot;comedy&quot;]</td><td>3.080882</td><td>68</td></tr></tbody></table></div>"
      ],
      "text/plain": [
       "shape: (1_118, 5)\n",
       "┌─────────┬───────────────────────────────┬──────────────────────────────┬────────────┬────────────┐\n",
       "│ item_id ┆ title                         ┆ genres                       ┆ avg_rating ┆ popularity │\n",
       "│ ---     ┆ ---                           ┆ ---                          ┆ ---        ┆ ---        │\n",
       "│ i32     ┆ str                           ┆ list[str]                    ┆ f32        ┆ u32        │\n",
       "╞═════════╪═══════════════════════════════╪══════════════════════════════╪════════════╪════════════╡\n",
       "│ 2048    ┆ Great Mouse Detective, The    ┆ [\"action\", \"animation\", …    ┆ 3.441779   ┆ 1563       │\n",
       "│         ┆ (1986…                        ┆ \"crime…                      ┆            ┆            │\n",
       "│ 6464    ┆ Good Burger (1997)            ┆ [\"children\", \"comedy\"]       ┆ 2.269663   ┆ 445        │\n",
       "│ 121792  ┆ Snow Queen (2002)             ┆ [\"adventure\", \"children\",    ┆ 2.5        ┆ 2          │\n",
       "│         ┆                               ┆ \"fanta…                      ┆            ┆            │\n",
       "│ 5504    ┆ Spy Kids 2: The Island of     ┆ [\"adventure\", \"children\"]    ┆ 2.504318   ┆ 1158       │\n",
       "│         ┆ Lost D…                       ┆                              ┆            ┆            │\n",
       "│ …       ┆ …                             ┆ …                            ┆ …          ┆ …          │\n",
       "│ 1023    ┆ Winnie the Pooh and the       ┆ [\"animation\", \"children\",    ┆ 3.759586   ┆ 3234       │\n",
       "│         ┆ Blustery…                     ┆ \"music…                      ┆            ┆            │\n",
       "│ 5311    ┆ Watcher in the Woods, The     ┆ [\"children\", \"horror\", …     ┆ 3.232558   ┆ 215        │\n",
       "│         ┆ (1980)                        ┆ \"thrill…                     ┆            ┆            │\n",
       "│ 95167   ┆ Brave (2012)                  ┆ [\"action\", \"adventure\", …    ┆ 3.586601   ┆ 1224       │\n",
       "│         ┆                               ┆ \"child…                      ┆            ┆            │\n",
       "│ 110655  ┆ Rio 2 (2014)                  ┆ [\"adventure\", \"animation\", … ┆ 3.080882   ┆ 68         │\n",
       "│         ┆                               ┆ \"co…                         ┆            ┆            │\n",
       "└─────────┴───────────────────────────────┴──────────────────────────────┴────────────┴────────────┘"
      ]
     },
     "execution_count": 72,
     "metadata": {},
     "output_type": "execute_result"
    }
   ],
   "source": [
    "children_films"
   ]
  },
  {
   "cell_type": "markdown",
   "metadata": {},
   "source": [
    "#### Количество детских фильмов"
   ]
  },
  {
   "cell_type": "code",
   "execution_count": 71,
   "metadata": {},
   "outputs": [
    {
     "data": {
      "text/html": [
       "<div><style>\n",
       ".dataframe > thead > tr > th,\n",
       ".dataframe > tbody > tr > td {\n",
       "  text-align: right;\n",
       "  white-space: pre-wrap;\n",
       "}\n",
       "</style>\n",
       "<small>shape: (1, 1)</small><table border=\"1\" class=\"dataframe\"><thead><tr><th>count</th></tr><tr><td>u32</td></tr></thead><tbody><tr><td>1118</td></tr></tbody></table></div>"
      ],
      "text/plain": [
       "shape: (1, 1)\n",
       "┌───────┐\n",
       "│ count │\n",
       "│ ---   │\n",
       "│ u32   │\n",
       "╞═══════╡\n",
       "│ 1118  │\n",
       "└───────┘"
      ]
     },
     "execution_count": 71,
     "metadata": {},
     "output_type": "execute_result"
    }
   ],
   "source": [
    "item_features_pl.filter(pl.col('genres').list.contains('children')).select(pl.count())"
   ]
  },
  {
   "cell_type": "markdown",
   "metadata": {},
   "source": [
    "#### Топ 10 детских фильмов по просмотрам"
   ]
  },
  {
   "cell_type": "code",
   "execution_count": 76,
   "metadata": {},
   "outputs": [
    {
     "data": {
      "text/html": [
       "<div><style>\n",
       ".dataframe > thead > tr > th,\n",
       ".dataframe > tbody > tr > td {\n",
       "  text-align: right;\n",
       "  white-space: pre-wrap;\n",
       "}\n",
       "</style>\n",
       "<small>shape: (10, 3)</small><table border=\"1\" class=\"dataframe\"><thead><tr><th>title</th><th>genres</th><th>count</th></tr><tr><td>str</td><td>list[str]</td><td>u32</td></tr></thead><tbody><tr><td>&quot;Toy Story (199…</td><td>[&quot;adventure&quot;, &quot;animation&quot;, … &quot;fantasy&quot;]</td><td>49695</td></tr><tr><td>&quot;Aladdin (1992)…</td><td>[&quot;adventure&quot;, &quot;animation&quot;, … &quot;musical&quot;]</td><td>41842</td></tr><tr><td>&quot;Lion King, The…</td><td>[&quot;adventure&quot;, &quot;animation&quot;, … &quot;imax&quot;]</td><td>38991</td></tr><tr><td>&quot;Beauty and the…</td><td>[&quot;animation&quot;, &quot;children&quot;, … &quot;imax&quot;]</td><td>35138</td></tr><tr><td>&quot;E.T. the Extra…</td><td>[&quot;children&quot;, &quot;drama&quot;, &quot;sci-fi&quot;]</td><td>32685</td></tr><tr><td>&quot;Babe (1995)&quot;</td><td>[&quot;children&quot;, &quot;drama&quot;]</td><td>32255</td></tr><tr><td>&quot;Shrek (2001)&quot;</td><td>[&quot;adventure&quot;, &quot;animation&quot;, … &quot;romance&quot;]</td><td>31972</td></tr><tr><td>&quot;Home Alone (19…</td><td>[&quot;children&quot;, &quot;comedy&quot;]</td><td>28348</td></tr><tr><td>&quot;Willy Wonka &amp; …</td><td>[&quot;children&quot;, &quot;comedy&quot;, … &quot;musical&quot;]</td><td>28335</td></tr><tr><td>&quot;Monsters, Inc.…</td><td>[&quot;adventure&quot;, &quot;animation&quot;, … &quot;fantasy&quot;]</td><td>23657</td></tr></tbody></table></div>"
      ],
      "text/plain": [
       "shape: (10, 3)\n",
       "┌───────────────────────────────────┬───────────────────────────────────┬───────┐\n",
       "│ title                             ┆ genres                            ┆ count │\n",
       "│ ---                               ┆ ---                               ┆ ---   │\n",
       "│ str                               ┆ list[str]                         ┆ u32   │\n",
       "╞═══════════════════════════════════╪═══════════════════════════════════╪═══════╡\n",
       "│ Toy Story (1995)                  ┆ [\"adventure\", \"animation\", … \"fa… ┆ 49695 │\n",
       "│ Aladdin (1992)                    ┆ [\"adventure\", \"animation\", … \"mu… ┆ 41842 │\n",
       "│ Lion King, The (1994)             ┆ [\"adventure\", \"animation\", … \"im… ┆ 38991 │\n",
       "│ Beauty and the Beast (1991)       ┆ [\"animation\", \"children\", … \"ima… ┆ 35138 │\n",
       "│ …                                 ┆ …                                 ┆ …     │\n",
       "│ Shrek (2001)                      ┆ [\"adventure\", \"animation\", … \"ro… ┆ 31972 │\n",
       "│ Home Alone (1990)                 ┆ [\"children\", \"comedy\"]            ┆ 28348 │\n",
       "│ Willy Wonka & the Chocolate Fact… ┆ [\"children\", \"comedy\", … \"musica… ┆ 28335 │\n",
       "│ Monsters, Inc. (2001)             ┆ [\"adventure\", \"animation\", … \"fa… ┆ 23657 │\n",
       "└───────────────────────────────────┴───────────────────────────────────┴───────┘"
      ]
     },
     "execution_count": 76,
     "metadata": {},
     "output_type": "execute_result"
    }
   ],
   "source": [
    "films_for_child = item_features_pl.filter(pl.col('genres').list.contains('children'))\n",
    "\n",
    "item_features_pl.join(\n",
    "    interactions_pl.join(films_for_child, on='item_id', how='inner').group_by('item_id').agg(pl.count()).top_k(10, by='count'),\n",
    "    on = 'item_id',\n",
    "    how = 'inner'\n",
    ").sort('count', descending=True).select([pl.col('title'), pl.col('genres'), pl.col('count')])"
   ]
  },
  {
   "cell_type": "code",
   "execution_count": 74,
   "metadata": {},
   "outputs": [
    {
     "data": {
      "text/plain": [
       "(shape: (10, 2)\n",
       " ┌─────────┬───────┐\n",
       " │ item_id ┆ count │\n",
       " │ ---     ┆ ---   │\n",
       " │ i32     ┆ u32   │\n",
       " ╞═════════╪═══════╡\n",
       " │ 1       ┆ 49695 │\n",
       " │ 588     ┆ 41842 │\n",
       " │ 364     ┆ 38991 │\n",
       " │ 595     ┆ 35138 │\n",
       " │ …       ┆ …     │\n",
       " │ 4306    ┆ 31972 │\n",
       " │ 586     ┆ 28348 │\n",
       " │ 1073    ┆ 28335 │\n",
       " │ 4886    ┆ 23657 │\n",
       " └─────────┴───────┘,)"
      ]
     },
     "execution_count": 74,
     "metadata": {},
     "output_type": "execute_result"
    }
   ],
   "source": [
    "interactions_with_child"
   ]
  }
 ],
 "metadata": {
  "interpreter": {
   "hash": "dbe098ba2cc1dc81ffa1597933bd3798760ff198f997a5c85cd1ceeb7e618041"
  },
  "kernelspec": {
   "display_name": "Python 3.9.16 ('mllib-dev')",
   "language": "python",
   "name": "python3"
  },
  "language_info": {
   "codemirror_mode": {
    "name": "ipython",
    "version": 3
   },
   "file_extension": ".py",
   "mimetype": "text/x-python",
   "name": "python",
   "nbconvert_exporter": "python",
   "pygments_lexer": "ipython3",
   "version": "3.9.16"
  }
 },
 "nbformat": 4,
 "nbformat_minor": 2
}
