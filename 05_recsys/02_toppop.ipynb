{
 "cells": [
  {
   "cell_type": "code",
   "execution_count": 1,
   "metadata": {},
   "outputs": [],
   "source": [
    "from pathlib import Path\n",
    "\n",
    "import polars as pl\n",
    "import numpy as np\n",
    "\n",
    "from my_recsys_metrics import compute_metrics\n",
    "from my_utils import make_submission\n"
   ]
  },
  {
   "cell_type": "code",
   "execution_count": 2,
   "metadata": {},
   "outputs": [],
   "source": [
    "data_path = Path(\"../data/music_recsys\")\n",
    "train_events = pl.read_parquet(data_path / \"train_events.parquet\")\n",
    "users_for_submission = pl.read_parquet(data_path / \"users_for_submission.parquet\")\n"
   ]
  },
  {
   "cell_type": "markdown",
   "metadata": {},
   "source": [
    "### Use TopPopular tracks for recommendations"
   ]
  },
  {
   "cell_type": "code",
   "execution_count": 3,
   "metadata": {},
   "outputs": [
    {
     "data": {
      "text/html": [
       "<div><style>\n",
       ".dataframe > thead > tr > th,\n",
       ".dataframe > tbody > tr > td {\n",
       "  text-align: right;\n",
       "  white-space: pre-wrap;\n",
       "}\n",
       "</style>\n",
       "<small>shape: (10, 2)</small><table border=\"1\" class=\"dataframe\"><thead><tr><th>track_id</th><th>score</th></tr><tr><td>i32</td><td>u32</td></tr></thead><tbody><tr><td>634651</td><td>18499</td></tr><tr><td>811300</td><td>16335</td></tr><tr><td>44204</td><td>14561</td></tr><tr><td>265134</td><td>13180</td></tr><tr><td>1355970</td><td>12791</td></tr><tr><td>1133665</td><td>12120</td></tr><tr><td>412548</td><td>11838</td></tr><tr><td>647096</td><td>11436</td></tr><tr><td>278845</td><td>11305</td></tr><tr><td>322362</td><td>10682</td></tr></tbody></table></div>"
      ],
      "text/plain": [
       "shape: (10, 2)\n",
       "┌──────────┬───────┐\n",
       "│ track_id ┆ score │\n",
       "│ ---      ┆ ---   │\n",
       "│ i32      ┆ u32   │\n",
       "╞══════════╪═══════╡\n",
       "│ 634651   ┆ 18499 │\n",
       "│ 811300   ┆ 16335 │\n",
       "│ 44204    ┆ 14561 │\n",
       "│ 265134   ┆ 13180 │\n",
       "│ …        ┆ …     │\n",
       "│ 412548   ┆ 11838 │\n",
       "│ 647096   ┆ 11436 │\n",
       "│ 278845   ┆ 11305 │\n",
       "│ 322362   ┆ 10682 │\n",
       "└──────────┴───────┘"
      ]
     },
     "execution_count": 3,
     "metadata": {},
     "output_type": "execute_result"
    }
   ],
   "source": [
    "top10_tracks = (\n",
    "    train_events\n",
    "    .group_by(\"track_id\")\n",
    "    .agg(pl.col(\"user_id\").count().alias(\"score\"))\n",
    "    .top_k(10, by=\"score\")\n",
    ")\n",
    "top10_tracks\n"
   ]
  },
  {
   "cell_type": "code",
   "execution_count": 4,
   "metadata": {},
   "outputs": [
    {
     "data": {
      "text/html": [
       "<div><style>\n",
       ".dataframe > thead > tr > th,\n",
       ".dataframe > tbody > tr > td {\n",
       "  text-align: right;\n",
       "  white-space: pre-wrap;\n",
       "}\n",
       "</style>\n",
       "<small>shape: (135_850, 3)</small><table border=\"1\" class=\"dataframe\"><thead><tr><th>user_id</th><th>track_id</th><th>score</th></tr><tr><td>i32</td><td>i32</td><td>u32</td></tr></thead><tbody><tr><td>1000736</td><td>634651</td><td>18499</td></tr><tr><td>1000736</td><td>811300</td><td>16335</td></tr><tr><td>1000736</td><td>44204</td><td>14561</td></tr><tr><td>1000736</td><td>265134</td><td>13180</td></tr><tr><td>1000736</td><td>1355970</td><td>12791</td></tr><tr><td>1000736</td><td>1133665</td><td>12120</td></tr><tr><td>1000736</td><td>412548</td><td>11838</td></tr><tr><td>1000736</td><td>647096</td><td>11436</td></tr><tr><td>1000736</td><td>278845</td><td>11305</td></tr><tr><td>1000736</td><td>322362</td><td>10682</td></tr><tr><td>1001038</td><td>634651</td><td>18499</td></tr><tr><td>1001038</td><td>811300</td><td>16335</td></tr><tr><td>&hellip;</td><td>&hellip;</td><td>&hellip;</td></tr><tr><td>9998543</td><td>278845</td><td>11305</td></tr><tr><td>9998543</td><td>322362</td><td>10682</td></tr><tr><td>9998948</td><td>634651</td><td>18499</td></tr><tr><td>9998948</td><td>811300</td><td>16335</td></tr><tr><td>9998948</td><td>44204</td><td>14561</td></tr><tr><td>9998948</td><td>265134</td><td>13180</td></tr><tr><td>9998948</td><td>1355970</td><td>12791</td></tr><tr><td>9998948</td><td>1133665</td><td>12120</td></tr><tr><td>9998948</td><td>412548</td><td>11838</td></tr><tr><td>9998948</td><td>647096</td><td>11436</td></tr><tr><td>9998948</td><td>278845</td><td>11305</td></tr><tr><td>9998948</td><td>322362</td><td>10682</td></tr></tbody></table></div>"
      ],
      "text/plain": [
       "shape: (135_850, 3)\n",
       "┌─────────┬──────────┬───────┐\n",
       "│ user_id ┆ track_id ┆ score │\n",
       "│ ---     ┆ ---      ┆ ---   │\n",
       "│ i32     ┆ i32      ┆ u32   │\n",
       "╞═════════╪══════════╪═══════╡\n",
       "│ 1000736 ┆ 634651   ┆ 18499 │\n",
       "│ 1000736 ┆ 811300   ┆ 16335 │\n",
       "│ 1000736 ┆ 44204    ┆ 14561 │\n",
       "│ 1000736 ┆ 265134   ┆ 13180 │\n",
       "│ …       ┆ …        ┆ …     │\n",
       "│ 9998948 ┆ 412548   ┆ 11838 │\n",
       "│ 9998948 ┆ 647096   ┆ 11436 │\n",
       "│ 9998948 ┆ 278845   ┆ 11305 │\n",
       "│ 9998948 ┆ 322362   ┆ 10682 │\n",
       "└─────────┴──────────┴───────┘"
      ]
     },
     "execution_count": 4,
     "metadata": {},
     "output_type": "execute_result"
    }
   ],
   "source": [
    "def populate_tracks_to_users(tracks: pl.DataFrame, users: pl.DataFrame) -> pl.DataFrame:\n",
    "    user_ids = users[\"user_id\"].unique().to_numpy()\n",
    "    track_ids = tracks[\"track_id\"].to_numpy()\n",
    "    scores = tracks[\"score\"].to_numpy()\n",
    "\n",
    "    result = pl.DataFrame({\n",
    "        \"user_id\": np.repeat(user_ids, len(tracks)),\n",
    "        \"track_id\": np.tile(track_ids, len(user_ids)),\n",
    "        \"score\": np.tile(scores, len(user_ids)),\n",
    "    })\n",
    "\n",
    "    return result\n",
    "\n",
    "toppop_recommendations = populate_tracks_to_users(top10_tracks, users_for_submission)\n",
    "toppop_recommendations\n"
   ]
  },
  {
   "cell_type": "code",
   "execution_count": 5,
   "metadata": {},
   "outputs": [
    {
     "data": {
      "text/html": [
       "<div><style>\n",
       ".dataframe > thead > tr > th,\n",
       ".dataframe > tbody > tr > td {\n",
       "  text-align: right;\n",
       "  white-space: pre-wrap;\n",
       "}\n",
       "</style>\n",
       "<small>shape: (13_585, 2)</small><table border=\"1\" class=\"dataframe\"><thead><tr><th>user_id</th><th>track_id</th></tr><tr><td>i32</td><td>str</td></tr></thead><tbody><tr><td>2160468</td><td>&quot;634651 811300 …</td></tr><tr><td>3248455</td><td>&quot;634651 811300 …</td></tr><tr><td>9282825</td><td>&quot;634651 811300 …</td></tr><tr><td>5137308</td><td>&quot;634651 811300 …</td></tr><tr><td>3631721</td><td>&quot;634651 811300 …</td></tr><tr><td>2554503</td><td>&quot;634651 811300 …</td></tr><tr><td>3509411</td><td>&quot;634651 811300 …</td></tr><tr><td>4793464</td><td>&quot;634651 811300 …</td></tr><tr><td>8338680</td><td>&quot;634651 811300 …</td></tr><tr><td>1814567</td><td>&quot;634651 811300 …</td></tr><tr><td>5617717</td><td>&quot;634651 811300 …</td></tr><tr><td>4374161</td><td>&quot;634651 811300 …</td></tr><tr><td>&hellip;</td><td>&hellip;</td></tr><tr><td>7440212</td><td>&quot;634651 811300 …</td></tr><tr><td>6801063</td><td>&quot;634651 811300 …</td></tr><tr><td>4640488</td><td>&quot;634651 811300 …</td></tr><tr><td>2759739</td><td>&quot;634651 811300 …</td></tr><tr><td>5930835</td><td>&quot;634651 811300 …</td></tr><tr><td>7641274</td><td>&quot;634651 811300 …</td></tr><tr><td>7857181</td><td>&quot;634651 811300 …</td></tr><tr><td>4631553</td><td>&quot;634651 811300 …</td></tr><tr><td>2168182</td><td>&quot;634651 811300 …</td></tr><tr><td>9896774</td><td>&quot;634651 811300 …</td></tr><tr><td>6697632</td><td>&quot;634651 811300 …</td></tr><tr><td>6114471</td><td>&quot;634651 811300 …</td></tr></tbody></table></div>"
      ],
      "text/plain": [
       "shape: (13_585, 2)\n",
       "┌─────────┬───────────────────────────────────┐\n",
       "│ user_id ┆ track_id                          │\n",
       "│ ---     ┆ ---                               │\n",
       "│ i32     ┆ str                               │\n",
       "╞═════════╪═══════════════════════════════════╡\n",
       "│ 2160468 ┆ 634651 811300 44204 265134 13559… │\n",
       "│ 3248455 ┆ 634651 811300 44204 265134 13559… │\n",
       "│ 9282825 ┆ 634651 811300 44204 265134 13559… │\n",
       "│ 5137308 ┆ 634651 811300 44204 265134 13559… │\n",
       "│ …       ┆ …                                 │\n",
       "│ 2168182 ┆ 634651 811300 44204 265134 13559… │\n",
       "│ 9896774 ┆ 634651 811300 44204 265134 13559… │\n",
       "│ 6697632 ┆ 634651 811300 44204 265134 13559… │\n",
       "│ 6114471 ┆ 634651 811300 44204 265134 13559… │\n",
       "└─────────┴───────────────────────────────────┘"
      ]
     },
     "execution_count": 5,
     "metadata": {},
     "output_type": "execute_result"
    }
   ],
   "source": [
    "toppop_submission = make_submission(toppop_recommendations)\n",
    "toppop_submission\n"
   ]
  },
  {
   "cell_type": "code",
   "execution_count": 6,
   "metadata": {},
   "outputs": [
    {
     "data": {
      "text/plain": [
       "{'ndcg@10': 0.005483177335739817, 'recall@10': 0.008520426941479572}"
      ]
     },
     "execution_count": 6,
     "metadata": {},
     "output_type": "execute_result"
    }
   ],
   "source": [
    "compute_metrics(toppop_submission, pl.read_parquet(data_path / \"ground_truth.parquet\"))\n"
   ]
  }
 ],
 "metadata": {
  "kernelspec": {
   "display_name": "base",
   "language": "python",
   "name": "python3"
  },
  "language_info": {
   "codemirror_mode": {
    "name": "ipython",
    "version": 3
   },
   "file_extension": ".py",
   "mimetype": "text/x-python",
   "name": "python",
   "nbconvert_exporter": "python",
   "pygments_lexer": "ipython3",
   "version": "3.9.5"
  }
 },
 "nbformat": 4,
 "nbformat_minor": 2
}
