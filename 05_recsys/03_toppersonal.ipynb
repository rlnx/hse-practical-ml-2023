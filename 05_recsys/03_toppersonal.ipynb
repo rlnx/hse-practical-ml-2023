{
 "cells": [
  {
   "cell_type": "code",
   "execution_count": 1,
   "metadata": {},
   "outputs": [],
   "source": [
    "from pathlib import Path\n",
    "\n",
    "import polars as pl\n",
    "import numpy as np\n",
    "\n",
    "from my_recsys_metrics import compute_metrics\n",
    "from my_utils import make_submission\n"
   ]
  },
  {
   "cell_type": "code",
   "execution_count": 2,
   "metadata": {},
   "outputs": [],
   "source": [
    "data_path = Path(\"../data/music_recsys\")\n",
    "train_events = pl.read_parquet(data_path / \"train_events.parquet\")\n",
    "users_for_submission = pl.read_parquet(data_path / \"users_for_submission.parquet\")\n"
   ]
  },
  {
   "cell_type": "code",
   "execution_count": 3,
   "metadata": {},
   "outputs": [
    {
     "data": {
      "text/html": [
       "<div><style>\n",
       ".dataframe > thead > tr > th,\n",
       ".dataframe > tbody > tr > td {\n",
       "  text-align: right;\n",
       "  white-space: pre-wrap;\n",
       "}\n",
       "</style>\n",
       "<small>shape: (122_270, 3)</small><table border=\"1\" class=\"dataframe\"><thead><tr><th>user_id</th><th>track_id</th><th>score</th></tr><tr><td>i32</td><td>i32</td><td>f64</td></tr></thead><tbody><tr><td>5797298</td><td>1118041</td><td>0.008785</td></tr><tr><td>5797298</td><td>211773</td><td>0.008785</td></tr><tr><td>5797298</td><td>884390</td><td>0.007321</td></tr><tr><td>5797298</td><td>996261</td><td>0.007321</td></tr><tr><td>5797298</td><td>715712</td><td>0.007321</td></tr><tr><td>5797298</td><td>1394130</td><td>0.007321</td></tr><tr><td>5797298</td><td>1174693</td><td>0.007321</td></tr><tr><td>5797298</td><td>683075</td><td>0.007321</td></tr><tr><td>5797298</td><td>523823</td><td>0.005857</td></tr><tr><td>5797298</td><td>304548</td><td>0.005857</td></tr><tr><td>7586513</td><td>184759</td><td>0.016736</td></tr><tr><td>7586513</td><td>499733</td><td>0.016736</td></tr><tr><td>&hellip;</td><td>&hellip;</td><td>&hellip;</td></tr><tr><td>5227850</td><td>375455</td><td>0.015209</td></tr><tr><td>5227850</td><td>1030590</td><td>0.011407</td></tr><tr><td>7809324</td><td>217326</td><td>0.042328</td></tr><tr><td>7809324</td><td>452767</td><td>0.029101</td></tr><tr><td>7809324</td><td>841055</td><td>0.026455</td></tr><tr><td>7809324</td><td>712603</td><td>0.02381</td></tr><tr><td>7809324</td><td>124470</td><td>0.021164</td></tr><tr><td>7809324</td><td>1150087</td><td>0.021164</td></tr><tr><td>7809324</td><td>982095</td><td>0.018519</td></tr><tr><td>7809324</td><td>46992</td><td>0.018519</td></tr><tr><td>7809324</td><td>537439</td><td>0.018519</td></tr><tr><td>7809324</td><td>377221</td><td>0.018519</td></tr></tbody></table></div>"
      ],
      "text/plain": [
       "shape: (122_270, 3)\n",
       "┌─────────┬──────────┬──────────┐\n",
       "│ user_id ┆ track_id ┆ score    │\n",
       "│ ---     ┆ ---      ┆ ---      │\n",
       "│ i32     ┆ i32      ┆ f64      │\n",
       "╞═════════╪══════════╪══════════╡\n",
       "│ 5797298 ┆ 1118041  ┆ 0.008785 │\n",
       "│ 5797298 ┆ 211773   ┆ 0.008785 │\n",
       "│ 5797298 ┆ 884390   ┆ 0.007321 │\n",
       "│ 5797298 ┆ 996261   ┆ 0.007321 │\n",
       "│ …       ┆ …        ┆ …        │\n",
       "│ 7809324 ┆ 982095   ┆ 0.018519 │\n",
       "│ 7809324 ┆ 46992    ┆ 0.018519 │\n",
       "│ 7809324 ┆ 537439   ┆ 0.018519 │\n",
       "│ 7809324 ┆ 377221   ┆ 0.018519 │\n",
       "└─────────┴──────────┴──────────┘"
      ]
     },
     "execution_count": 3,
     "metadata": {},
     "output_type": "execute_result"
    }
   ],
   "source": [
    "\n",
    "def top_personal(events: pl.DataFrame) -> pl.DataFrame:\n",
    "    user_track_scores = (\n",
    "        events\n",
    "        .group_by(\"user_id\", \"track_id\")\n",
    "        .agg(pl.col(\"datetime\").count().alias(\"n_track_listen\"))\n",
    "        .with_columns(pl.col(\"n_track_listen\").sum().over(\"user_id\").alias(\"n_listen\"))\n",
    "        .with_columns((pl.col(\"n_track_listen\") / pl.col(\"n_listen\")).alias(\"score\"))\n",
    "        .drop(\"n_track_listen\", \"n_listen\")\n",
    "    )\n",
    "\n",
    "    top_personal_tracks = (\n",
    "        user_track_scores\n",
    "        .group_by(\"user_id\")\n",
    "        .agg(pl.col(\"track_id\", \"score\").sort_by(\"score\", descending=True).head(10))\n",
    "        .explode(columns=[\"track_id\", \"score\"])\n",
    "    )\n",
    "\n",
    "    return top_personal_tracks\n",
    "\n",
    "\n",
    "top_personal_recommendations = top_personal(train_events)\n",
    "top_personal_recommendations\n"
   ]
  },
  {
   "cell_type": "code",
   "execution_count": 4,
   "metadata": {},
   "outputs": [
    {
     "data": {
      "text/html": [
       "<div><style>\n",
       ".dataframe > thead > tr > th,\n",
       ".dataframe > tbody > tr > td {\n",
       "  text-align: right;\n",
       "  white-space: pre-wrap;\n",
       "}\n",
       "</style>\n",
       "<small>shape: (135_850, 3)</small><table border=\"1\" class=\"dataframe\"><thead><tr><th>user_id</th><th>track_id</th><th>score</th></tr><tr><td>i32</td><td>i32</td><td>f64</td></tr></thead><tbody><tr><td>1000736</td><td>634651</td><td>0.002666</td></tr><tr><td>1000736</td><td>811300</td><td>0.002355</td></tr><tr><td>1000736</td><td>44204</td><td>0.002099</td></tr><tr><td>1000736</td><td>265134</td><td>0.0019</td></tr><tr><td>1000736</td><td>1355970</td><td>0.001844</td></tr><tr><td>1000736</td><td>1133665</td><td>0.001747</td></tr><tr><td>1000736</td><td>412548</td><td>0.001706</td></tr><tr><td>1000736</td><td>647096</td><td>0.001648</td></tr><tr><td>1000736</td><td>278845</td><td>0.001629</td></tr><tr><td>1000736</td><td>322362</td><td>0.00154</td></tr><tr><td>1001038</td><td>634651</td><td>0.002666</td></tr><tr><td>1001038</td><td>811300</td><td>0.002355</td></tr><tr><td>&hellip;</td><td>&hellip;</td><td>&hellip;</td></tr><tr><td>9998543</td><td>278845</td><td>0.001629</td></tr><tr><td>9998543</td><td>322362</td><td>0.00154</td></tr><tr><td>9998948</td><td>634651</td><td>0.002666</td></tr><tr><td>9998948</td><td>811300</td><td>0.002355</td></tr><tr><td>9998948</td><td>44204</td><td>0.002099</td></tr><tr><td>9998948</td><td>265134</td><td>0.0019</td></tr><tr><td>9998948</td><td>1355970</td><td>0.001844</td></tr><tr><td>9998948</td><td>1133665</td><td>0.001747</td></tr><tr><td>9998948</td><td>412548</td><td>0.001706</td></tr><tr><td>9998948</td><td>647096</td><td>0.001648</td></tr><tr><td>9998948</td><td>278845</td><td>0.001629</td></tr><tr><td>9998948</td><td>322362</td><td>0.00154</td></tr></tbody></table></div>"
      ],
      "text/plain": [
       "shape: (135_850, 3)\n",
       "┌─────────┬──────────┬──────────┐\n",
       "│ user_id ┆ track_id ┆ score    │\n",
       "│ ---     ┆ ---      ┆ ---      │\n",
       "│ i32     ┆ i32      ┆ f64      │\n",
       "╞═════════╪══════════╪══════════╡\n",
       "│ 1000736 ┆ 634651   ┆ 0.002666 │\n",
       "│ 1000736 ┆ 811300   ┆ 0.002355 │\n",
       "│ 1000736 ┆ 44204    ┆ 0.002099 │\n",
       "│ 1000736 ┆ 265134   ┆ 0.0019   │\n",
       "│ …       ┆ …        ┆ …        │\n",
       "│ 9998948 ┆ 412548   ┆ 0.001706 │\n",
       "│ 9998948 ┆ 647096   ┆ 0.001648 │\n",
       "│ 9998948 ┆ 278845   ┆ 0.001629 │\n",
       "│ 9998948 ┆ 322362   ┆ 0.00154  │\n",
       "└─────────┴──────────┴──────────┘"
      ]
     },
     "execution_count": 4,
     "metadata": {},
     "output_type": "execute_result"
    }
   ],
   "source": [
    "top10_tracks = (\n",
    "    train_events\n",
    "    .group_by(\"track_id\")\n",
    "    .agg(pl.col(\"user_id\").count().alias(\"score\"))\n",
    "    .top_k(10, by=\"score\")\n",
    "    .with_columns(pl.col(\"score\") / len(train_events))\n",
    ")\n",
    "\n",
    "def populate_tracks_to_users(tracks: pl.DataFrame, users: pl.DataFrame) -> pl.DataFrame:\n",
    "    user_ids = users[\"user_id\"].unique().to_numpy()\n",
    "    track_ids = tracks[\"track_id\"].to_numpy()\n",
    "    scores = tracks[\"score\"].to_numpy()\n",
    "\n",
    "    result = pl.DataFrame({\n",
    "        \"user_id\": np.repeat(user_ids, len(tracks)),\n",
    "        \"track_id\": np.tile(track_ids, len(user_ids)),\n",
    "        \"score\": np.tile(scores, len(user_ids)),\n",
    "    })\n",
    "\n",
    "    return result\n",
    "\n",
    "toppop_recommendations = populate_tracks_to_users(top10_tracks, users_for_submission)\n",
    "toppop_recommendations\n"
   ]
  },
  {
   "cell_type": "code",
   "execution_count": 5,
   "metadata": {},
   "outputs": [
    {
     "data": {
      "text/html": [
       "<div><style>\n",
       ".dataframe > thead > tr > th,\n",
       ".dataframe > tbody > tr > td {\n",
       "  text-align: right;\n",
       "  white-space: pre-wrap;\n",
       "}\n",
       "</style>\n",
       "<small>shape: (135_850, 3)</small><table border=\"1\" class=\"dataframe\"><thead><tr><th>user_id</th><th>track_id</th><th>score</th></tr><tr><td>i32</td><td>i32</td><td>f64</td></tr></thead><tbody><tr><td>8485853</td><td>691646</td><td>0.028736</td></tr><tr><td>8485853</td><td>634651</td><td>0.028736</td></tr><tr><td>8485853</td><td>593014</td><td>0.028736</td></tr><tr><td>8485853</td><td>1336314</td><td>0.017241</td></tr><tr><td>8485853</td><td>1027915</td><td>0.017241</td></tr><tr><td>8485853</td><td>562894</td><td>0.017241</td></tr><tr><td>8485853</td><td>168816</td><td>0.017241</td></tr><tr><td>8485853</td><td>186769</td><td>0.017241</td></tr><tr><td>8485853</td><td>540364</td><td>0.017241</td></tr><tr><td>8485853</td><td>1187897</td><td>0.017241</td></tr><tr><td>8304200</td><td>1471378</td><td>0.027237</td></tr><tr><td>8304200</td><td>463084</td><td>0.023346</td></tr><tr><td>&hellip;</td><td>&hellip;</td><td>&hellip;</td></tr><tr><td>9847101</td><td>989698</td><td>0.016807</td></tr><tr><td>9847101</td><td>649319</td><td>0.016807</td></tr><tr><td>6698165</td><td>665822</td><td>0.049793</td></tr><tr><td>6698165</td><td>429094</td><td>0.029046</td></tr><tr><td>6698165</td><td>305326</td><td>0.024896</td></tr><tr><td>6698165</td><td>1501329</td><td>0.017981</td></tr><tr><td>6698165</td><td>1026668</td><td>0.016598</td></tr><tr><td>6698165</td><td>753506</td><td>0.016598</td></tr><tr><td>6698165</td><td>881392</td><td>0.016598</td></tr><tr><td>6698165</td><td>1346133</td><td>0.015214</td></tr><tr><td>6698165</td><td>987411</td><td>0.015214</td></tr><tr><td>6698165</td><td>1281958</td><td>0.015214</td></tr></tbody></table></div>"
      ],
      "text/plain": [
       "shape: (135_850, 3)\n",
       "┌─────────┬──────────┬──────────┐\n",
       "│ user_id ┆ track_id ┆ score    │\n",
       "│ ---     ┆ ---      ┆ ---      │\n",
       "│ i32     ┆ i32      ┆ f64      │\n",
       "╞═════════╪══════════╪══════════╡\n",
       "│ 8485853 ┆ 691646   ┆ 0.028736 │\n",
       "│ 8485853 ┆ 634651   ┆ 0.028736 │\n",
       "│ 8485853 ┆ 593014   ┆ 0.028736 │\n",
       "│ 8485853 ┆ 1336314  ┆ 0.017241 │\n",
       "│ …       ┆ …        ┆ …        │\n",
       "│ 6698165 ┆ 881392   ┆ 0.016598 │\n",
       "│ 6698165 ┆ 1346133  ┆ 0.015214 │\n",
       "│ 6698165 ┆ 987411   ┆ 0.015214 │\n",
       "│ 6698165 ┆ 1281958  ┆ 0.015214 │\n",
       "└─────────┴──────────┴──────────┘"
      ]
     },
     "execution_count": 5,
     "metadata": {},
     "output_type": "execute_result"
    }
   ],
   "source": [
    "mixed_recommendations = pl.concat([\n",
    "    top_personal_recommendations,\n",
    "    toppop_recommendations,\n",
    "])\n",
    "\n",
    "final_recommendations = (\n",
    "    mixed_recommendations\n",
    "    .group_by(\"user_id\")\n",
    "    .agg(pl.col(\"track_id\", \"score\").sort_by(\"score\", descending=True).head(10))\n",
    "    .explode(columns=[\"track_id\", \"score\"])\n",
    ")\n",
    "\n",
    "final_recommendations\n"
   ]
  },
  {
   "cell_type": "code",
   "execution_count": 6,
   "metadata": {},
   "outputs": [
    {
     "data": {
      "text/plain": [
       "{'ndcg@10': 0.0038704079923490963, 'recall@10': 0.0072383756594282915}"
      ]
     },
     "execution_count": 6,
     "metadata": {},
     "output_type": "execute_result"
    }
   ],
   "source": [
    "toppersonal_submission = make_submission(final_recommendations)\n",
    "compute_metrics(toppersonal_submission, pl.read_parquet(data_path / \"ground_truth.parquet\"))\n"
   ]
  }
 ],
 "metadata": {
  "kernelspec": {
   "display_name": "base",
   "language": "python",
   "name": "python3"
  },
  "language_info": {
   "codemirror_mode": {
    "name": "ipython",
    "version": 3
   },
   "file_extension": ".py",
   "mimetype": "text/x-python",
   "name": "python",
   "nbconvert_exporter": "python",
   "pygments_lexer": "ipython3",
   "version": "3.9.5"
  }
 },
 "nbformat": 4,
 "nbformat_minor": 2
}
