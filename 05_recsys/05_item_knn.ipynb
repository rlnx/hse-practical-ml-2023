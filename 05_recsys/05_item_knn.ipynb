{
 "cells": [
  {
   "cell_type": "code",
   "execution_count": 24,
   "metadata": {},
   "outputs": [],
   "source": [
    "from pathlib import Path\n",
    "from typing import Any, Protocol, List, TypeVar, Generic\n",
    "\n",
    "import polars as pl\n",
    "import numpy as np\n",
    "from scipy.sparse import coo_matrix, csr_matrix\n",
    "from scipy.sparse.linalg import norm as sparse_norm\n",
    "from numba import njit, prange\n",
    "from implicit.nearest_neighbours import ItemItemRecommender\n",
    "\n",
    "from my_recsys_metrics import compute_metrics\n",
    "from my_utils import make_submission\n"
   ]
  },
  {
   "cell_type": "code",
   "execution_count": 21,
   "metadata": {},
   "outputs": [],
   "source": [
    "data_path = Path(\"../data/music_recsys\")\n",
    "train_events = pl.read_parquet(data_path / \"train_events.parquet\")\n",
    "users_for_submission = pl.read_parquet(data_path / \"users_for_submission.parquet\")\n"
   ]
  },
  {
   "cell_type": "code",
   "execution_count": 22,
   "metadata": {},
   "outputs": [],
   "source": [
    "_T = TypeVar(\"_T\")\n",
    "_U = TypeVar(\"_U\")\n",
    "\n",
    "class TransformerLike(Protocol):\n",
    "    def fit_transform(self, input: Any) -> Any: ...\n",
    "\n",
    "\n",
    "class Pipeline(Generic[_T, _U]):\n",
    "    def __init__(self, transformers: List[TransformerLike]) -> None:\n",
    "        self.transformers = transformers\n",
    "\n",
    "    def fit_transform(self, x: _T) -> _U:\n",
    "        y: Any = x\n",
    "        for t in self.transformers:\n",
    "            print(f\"Fit-transform with {t.__class__.__name__}\")\n",
    "            y = t.fit_transform(y)\n",
    "        return y\n",
    "\n",
    "class OrdinalEncoder:\n",
    "    def __init__(self, column: str) -> None:\n",
    "        self.column = column\n",
    "\n",
    "    def fit(self, df: pl.DataFrame) -> \"OrdinalEncoder\":\n",
    "        self._mapper = (\n",
    "            df[[self.column]].unique()\n",
    "            .sort(self.column)\n",
    "            .with_row_count(\"__index__\")\n",
    "            .with_columns(pl.col(\"__index__\").cast(pl.Int32))\n",
    "        )\n",
    "        return self\n",
    "\n",
    "    def transform(self, df: pl.DataFrame) -> pl.DataFrame:\n",
    "        df = (\n",
    "            df\n",
    "            .join(self._mapper, on=self.column, how=\"left\")\n",
    "            .drop(self.column)\n",
    "            .rename({\"__index__\": self.column})\n",
    "        )\n",
    "        return df\n",
    "\n",
    "    def inverse_transform(self, df: pl.DataFrame) -> pl.DataFrame:\n",
    "        df = (\n",
    "            df\n",
    "            .rename({self.column: \"__index__\"})\n",
    "            .join(\n",
    "                self._mapper,\n",
    "                on=\"__index__\",\n",
    "                how=\"left\",\n",
    "            )\n",
    "            .drop(f\"__index__\")\n",
    "        )\n",
    "        return df\n",
    "\n",
    "    def fit_transform(self, df: pl.DataFrame) -> pl.DataFrame:\n",
    "        return self.fit(df).transform(df)\n",
    "\n",
    "\n",
    "class FilterByPlayRatio:\n",
    "    def fit_transform(self, events: pl.DataFrame) -> pl.DataFrame:\n",
    "        return events.filter(pl.col(\"play_ratio\") > 0.3)\n",
    "\n",
    "\n",
    "class FrequencyEncoder:\n",
    "    def __init__(self, user_column: str, item_column: str, value_column: str) -> None:\n",
    "        self.user_column = user_column\n",
    "        self.item_column = item_column\n",
    "        self.value_column = value_column\n",
    "\n",
    "    def fit_transform(self, events: pl.DataFrame) -> pl.DataFrame:\n",
    "        frequency_scores = (\n",
    "            events\n",
    "            .group_by(self.user_column, self.item_column)\n",
    "            .agg(pl.col(self.item_column).count().alias(\"n_interactions_per_user\"))\n",
    "            .with_columns(\n",
    "                pl.col(\"n_interactions_per_user\").sum().over(self.user_column).alias(\"n_interactions_total\"),\n",
    "            )\n",
    "            .with_columns(\n",
    "                (pl.col(\"n_interactions_per_user\") / pl.col(\"n_interactions_total\")).alias(self.value_column),\n",
    "            )\n",
    "            .drop(\"n_interactions_per_user\", \"n_interactions_total\")\n",
    "        )\n",
    "        return frequency_scores\n",
    "\n",
    "\n",
    "class CSRConverter:\n",
    "    def __init__(self, user_column: str, item_column: str, value_column: str) -> None:\n",
    "        self.user_column = user_column\n",
    "        self.item_column = item_column\n",
    "        self.value_column = value_column\n",
    "\n",
    "    def fit_transform(self, coo: pl.DataFrame) -> csr_matrix:\n",
    "        user_idx = coo[self.user_column].to_numpy()\n",
    "        item_idx = coo[self.item_column].to_numpy()\n",
    "        values = coo[self.value_column].to_numpy()\n",
    "\n",
    "        n_users = user_idx.max() + 1\n",
    "        n_items = item_idx.max() + 1\n",
    "\n",
    "        user_item_coo = coo_matrix(\n",
    "            (\n",
    "                values.astype(np.float32),\n",
    "                (user_idx, item_idx),\n",
    "            ),\n",
    "            shape=(n_users, n_items),\n",
    "            dtype=np.float32,\n",
    "        )\n",
    "\n",
    "        user_item_coo.sum_duplicates()\n",
    "\n",
    "        user_item_csr = user_item_coo.tocsr()\n",
    "        return user_item_csr\n",
    "\n"
   ]
  },
  {
   "cell_type": "code",
   "execution_count": 23,
   "metadata": {},
   "outputs": [
    {
     "name": "stdout",
     "output_type": "stream",
     "text": [
      "Fit-transform with OrdinalEncoder\n",
      "Fit-transform with OrdinalEncoder\n",
      "Fit-transform with FilterByPlayRatio\n",
      "Fit-transform with FrequencyEncoder\n",
      "Fit-transform with CSRConverter\n"
     ]
    },
    {
     "data": {
      "text/plain": [
       "<12150x115648 sparse matrix of type '<class 'numpy.float32'>'\n",
       "\twith 2137443 stored elements in Compressed Sparse Row format>"
      ]
     },
     "execution_count": 23,
     "metadata": {},
     "output_type": "execute_result"
    }
   ],
   "source": [
    "events_preprocessing_pipeline: Pipeline[pl.DataFrame, csr_matrix] = Pipeline([\n",
    "    OrdinalEncoder(column=\"user_id\"),\n",
    "    OrdinalEncoder(column=\"track_id\"),\n",
    "    FilterByPlayRatio(),\n",
    "    FrequencyEncoder(user_column=\"user_id\", item_column=\"track_id\", value_column=\"freq\"),\n",
    "    CSRConverter(user_column=\"user_id\", item_column=\"track_id\", value_column=\"freq\"),\n",
    "])\n",
    "\n",
    "user_item_csr = events_preprocessing_pipeline.fit_transform(train_events)\n",
    "user_item_csr\n"
   ]
  },
  {
   "cell_type": "code",
   "execution_count": 25,
   "metadata": {},
   "outputs": [
    {
     "name": "stderr",
     "output_type": "stream",
     "text": [
      "100%|██████████| 115648/115648 [00:13<00:00, 8822.68it/s]\n"
     ]
    },
    {
     "data": {
      "text/html": [
       "<div><style>\n",
       ".dataframe > thead > tr > th,\n",
       ".dataframe > tbody > tr > td {\n",
       "  text-align: right;\n",
       "  white-space: pre-wrap;\n",
       "}\n",
       "</style>\n",
       "<small>shape: (121_500, 3)</small><table border=\"1\" class=\"dataframe\"><thead><tr><th>user_id</th><th>track_id</th><th>score</th></tr><tr><td>i32</td><td>i32</td><td>f32</td></tr></thead><tbody><tr><td>0</td><td>62190</td><td>0.002185</td></tr><tr><td>0</td><td>48507</td><td>0.001989</td></tr><tr><td>0</td><td>3334</td><td>0.001898</td></tr><tr><td>0</td><td>20212</td><td>0.001681</td></tr><tr><td>0</td><td>73919</td><td>0.001641</td></tr><tr><td>0</td><td>103784</td><td>0.001367</td></tr><tr><td>0</td><td>79053</td><td>0.001367</td></tr><tr><td>0</td><td>32233</td><td>0.001341</td></tr><tr><td>0</td><td>92283</td><td>0.001233</td></tr><tr><td>0</td><td>10471</td><td>0.001075</td></tr><tr><td>1</td><td>48507</td><td>0.01353</td></tr><tr><td>1</td><td>62190</td><td>0.009819</td></tr><tr><td>&hellip;</td><td>&hellip;</td><td>&hellip;</td></tr><tr><td>12148</td><td>103784</td><td>0.009657</td></tr><tr><td>12148</td><td>67018</td><td>0.009563</td></tr><tr><td>12149</td><td>3334</td><td>0.016675</td></tr><tr><td>12149</td><td>20212</td><td>0.014078</td></tr><tr><td>12149</td><td>72913</td><td>0.011639</td></tr><tr><td>12149</td><td>21286</td><td>0.011344</td></tr><tr><td>12149</td><td>96161</td><td>0.011004</td></tr><tr><td>12149</td><td>10471</td><td>0.009906</td></tr><tr><td>12149</td><td>103610</td><td>0.009736</td></tr><tr><td>12149</td><td>103784</td><td>0.009435</td></tr><tr><td>12149</td><td>32233</td><td>0.009187</td></tr><tr><td>12149</td><td>93840</td><td>0.009161</td></tr></tbody></table></div>"
      ],
      "text/plain": [
       "shape: (121_500, 3)\n",
       "┌─────────┬──────────┬──────────┐\n",
       "│ user_id ┆ track_id ┆ score    │\n",
       "│ ---     ┆ ---      ┆ ---      │\n",
       "│ i32     ┆ i32      ┆ f32      │\n",
       "╞═════════╪══════════╪══════════╡\n",
       "│ 0       ┆ 62190    ┆ 0.002185 │\n",
       "│ 0       ┆ 48507    ┆ 0.001989 │\n",
       "│ 0       ┆ 3334     ┆ 0.001898 │\n",
       "│ 0       ┆ 20212    ┆ 0.001681 │\n",
       "│ …       ┆ …        ┆ …        │\n",
       "│ 12149   ┆ 103610   ┆ 0.009736 │\n",
       "│ 12149   ┆ 103784   ┆ 0.009435 │\n",
       "│ 12149   ┆ 32233    ┆ 0.009187 │\n",
       "│ 12149   ┆ 93840    ┆ 0.009161 │\n",
       "└─────────┴──────────┴──────────┘"
      ]
     },
     "execution_count": 25,
     "metadata": {},
     "output_type": "execute_result"
    }
   ],
   "source": [
    "class ItemBasedKNN:\n",
    "    def __init__(\n",
    "        self,\n",
    "        user_column: str,\n",
    "        item_column: str,\n",
    "        score_column: str,\n",
    "        n_neighbor_items: int,\n",
    "        top_k: int,\n",
    "    ) -> None:\n",
    "        self.user_column = user_column\n",
    "        self.item_column = item_column\n",
    "        self.score_column = score_column\n",
    "        self.n_neighbor_items = n_neighbor_items\n",
    "        self.top_k = top_k\n",
    "\n",
    "    def fit_predict(self, user_item: csr_matrix) -> pl.DataFrame:\n",
    "        item_base_knn = ItemItemRecommender(K=self.n_neighbor_items)\n",
    "        item_base_knn.fit(user_item_csr.astype(dtype=np.float64))\n",
    "\n",
    "        user_ids = np.arange(user_item_csr.shape[0])\n",
    "        recommended_item_indices, recommended_scores = item_base_knn.recommend(\n",
    "            user_ids,\n",
    "            user_item,\n",
    "            N=self.top_k,\n",
    "            filter_already_liked_items=True,\n",
    "        )\n",
    "\n",
    "        scores_df = pl.DataFrame({\n",
    "            self.user_column: pl.Series(user_ids, dtype=pl.Int32),\n",
    "            self.item_column: pl.Series(recommended_item_indices, dtype=pl.List(pl.Int32)),\n",
    "            self.score_column: pl.Series(recommended_scores, dtype=pl.List(pl.Float32)),\n",
    "        })\n",
    "\n",
    "        scores_df = scores_df.explode(self.item_column, self.score_column)\n",
    "\n",
    "        return scores_df\n",
    "\n",
    "\n",
    "item_based_knn = ItemBasedKNN(\n",
    "    user_column=\"user_id\",\n",
    "    item_column=\"track_id\",\n",
    "    score_column=\"score\",\n",
    "    n_neighbor_items=100,\n",
    "    top_k=10,\n",
    ")\n",
    "itemknn_recommendations = item_based_knn.fit_predict(user_item_csr)\n",
    "itemknn_recommendations\n"
   ]
  },
  {
   "cell_type": "code",
   "execution_count": 26,
   "metadata": {},
   "outputs": [],
   "source": [
    "\n",
    "user_encoder: OrdinalEncoder = events_preprocessing_pipeline.transformers[0]\n",
    "item_encoder: OrdinalEncoder = events_preprocessing_pipeline.transformers[1]\n",
    "\n",
    "itemknn_recommendations_decoded = itemknn_recommendations\n",
    "itemknn_recommendations_decoded = user_encoder.inverse_transform(itemknn_recommendations_decoded)\n",
    "itemknn_recommendations_decoded = item_encoder.inverse_transform(itemknn_recommendations_decoded)\n"
   ]
  },
  {
   "cell_type": "code",
   "execution_count": 27,
   "metadata": {},
   "outputs": [
    {
     "data": {
      "text/plain": [
       "{'ndcg@10': 0.013148679533728032, 'recall@10': 0.01951851851851852}"
      ]
     },
     "execution_count": 27,
     "metadata": {},
     "output_type": "execute_result"
    }
   ],
   "source": [
    "itemknn_submission = make_submission(itemknn_recommendations_decoded)\n",
    "compute_metrics(itemknn_submission, pl.read_parquet(data_path / \"ground_truth.parquet\"))"
   ]
  }
 ],
 "metadata": {
  "kernelspec": {
   "display_name": "base",
   "language": "python",
   "name": "python3"
  },
  "language_info": {
   "codemirror_mode": {
    "name": "ipython",
    "version": 3
   },
   "file_extension": ".py",
   "mimetype": "text/x-python",
   "name": "python",
   "nbconvert_exporter": "python",
   "pygments_lexer": "ipython3",
   "version": "3.9.5"
  }
 },
 "nbformat": 4,
 "nbformat_minor": 2
}
